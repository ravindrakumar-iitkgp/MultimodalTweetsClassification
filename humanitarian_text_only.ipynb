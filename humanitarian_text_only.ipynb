{
 "cells": [
  {
   "cell_type": "code",
   "execution_count": 1,
   "metadata": {},
   "outputs": [],
   "source": [
    "# cd CrisisMMD_Dataset"
   ]
  },
  {
   "cell_type": "code",
   "execution_count": 2,
   "metadata": {},
   "outputs": [],
   "source": [
    "%reload_ext autoreload # ensuring that any edits to libraries you make are reloaded here automatically\n",
    "%autoreload 2\n",
    "%matplotlib inline #to ensuere charts or images displayed are shown in this notebook"
   ]
  },
  {
   "cell_type": "code",
   "execution_count": 3,
   "metadata": {},
   "outputs": [],
   "source": [
    "# importing necessary packages\n",
    "from fastai import *\n",
    "from fastai.text import *\n",
    "from fastai.callbacks import *\n",
    "from Precision_Module import Precision1"
   ]
  },
  {
   "cell_type": "code",
   "execution_count": 4,
   "metadata": {},
   "outputs": [],
   "source": [
    "import numpy as np\n",
    "import pandas as pd\n",
    "import matplotlib.pyplot as plt\n",
    "import pickle\n",
    "import aidrtokenize\n",
    "from sklearn.metrics import classification_report"
   ]
  },
  {
   "cell_type": "code",
   "execution_count": 5,
   "metadata": {},
   "outputs": [],
   "source": [
    "path = Path('/notebooks/CrisisMMD_Dataset')\n",
    "# path.ls()"
   ]
  },
  {
   "cell_type": "code",
   "execution_count": 6,
   "metadata": {},
   "outputs": [],
   "source": [
    "path_img = path/'data_image'"
   ]
  },
  {
   "cell_type": "code",
   "execution_count": 7,
   "metadata": {},
   "outputs": [],
   "source": [
    "def clean_ascii(text):\n",
    "    # function to remove non-ASCII chars from data\n",
    "    return ''.join(i for i in text if ord(i) < 128)"
   ]
  },
  {
   "cell_type": "code",
   "execution_count": 8,
   "metadata": {},
   "outputs": [],
   "source": [
    "data_human_text_file = 'new_task_humanitarian_text_img_agreed_lab_human_data.tsv'\n",
    "test_data_human_text_file = 'new_task_humanitarian_text_img_agreed_lab_test_data.tsv' "
   ]
  },
  {
   "cell_type": "code",
   "execution_count": 9,
   "metadata": {},
   "outputs": [],
   "source": [
    "# reading the required data from various file and saving it with necessary changes in order to avoid repetation \n",
    "\n",
    "if data_human_text_file and test_data_human_text_file in path.ls():\n",
    "    data_human_text_file = pd.read_csv('new_task_humanitarian_text_img_agreed_lab_human_data.tsv',delimiter='\\t',encoding='utf-8')\n",
    "    test_human_text_file = pd.read_csv('task_humanitarian_text_img_agreed_lab_test_data.tsv',delimiter='\\t',encoding='utf-8')\n",
    "else:\n",
    "    train_human_text=pd.read_csv('task_humanitarian_text_img_agreed_lab_train.tsv',delimiter='\\t',encoding='utf-8')\n",
    "    test_human_text=pd.read_csv('task_humanitarian_text_img_agreed_lab_test.tsv',delimiter='\\t',encoding='utf-8')\n",
    "    dev_human_text=pd.read_csv('task_humanitarian_text_img_agreed_lab_dev.tsv',delimiter='\\t',encoding='utf-8')\n",
    "    \n",
    "    train_human_text['tweet_text']=train_human_text['tweet_text'].apply(lambda x:aidrtokenize.tokenize(x))\n",
    "    dev_human_text['tweet_text']=dev_human_text['tweet_text'].apply(lambda x:aidrtokenize.tokenize(x))\n",
    "    test_human_text['tweet_text']=test_human_text['tweet_text'].apply(lambda x:aidrtokenize.tokenize(x))\n",
    "    \n",
    "    train_human_text['tweet_text'] = train_human_text['tweet_text'].apply(lambda x:clean_ascii(x))\n",
    "    dev_human_text['tweet_text'] = dev_human_text['tweet_text'].apply(lambda x:clean_ascii(x))\n",
    "    test_human_text['tweet_text'] = test_human_text['tweet_text'].apply(lambda x:clean_ascii(x))\n",
    "    \n",
    "    train_human_text['is_valid'] = False\n",
    "    dev_human_text['is_valid'] = True\n",
    "    test_human_text['is_valid'] = False \n",
    "\n",
    "    train_human_text['is_test'] = False\n",
    "    dev_human_text['is_test'] = False\n",
    "    test_human_text['is_test'] = True\n",
    "    \n",
    "    data_human_text = pd.concat([train_human_text,dev_human_text],axis=0).reset_index()\n",
    "    data_human_text = data_human_text.drop(['index'],axis=1)\n",
    "    \n",
    "    test_data_human_text = pd.concat([train_human_text,test_human_text],axis=0).reset_index()\n",
    "    test_data_human_text = test_data_human_text.drop(['index'],axis=1)\n",
    "    \n",
    "    data_human_text.to_csv('new_task_humanitarian_text_img_agreed_lab_human_data.tsv',encoding='utf-8')\n",
    "    test_data_human_text.to_csv('new_task_humanitarian_text_img_agreed_lab_test_data.tsv',encoding='utf-8')"
   ]
  },
  {
   "cell_type": "code",
   "execution_count": 10,
   "metadata": {},
   "outputs": [
    {
     "name": "stdout",
     "output_type": "stream",
     "text": [
      "shape of data: (7124, 11)\n",
      "\n",
      "False    6126\n",
      "True      998\n",
      "Name: is_valid, dtype: int64\n",
      "==================================================\n",
      "shape of test data: (7081, 11)\n",
      "\n",
      "False    6126\n",
      "True      955\n",
      "Name: is_test, dtype: int64\n"
     ]
    }
   ],
   "source": [
    "print(f\"shape of data: {data_human_text.shape}\\n\")\n",
    "print(data_human_text['is_valid'].value_counts())\n",
    "print(\"=\"*50)\n",
    "print(f\"shape of test data: {test_data_human_text.shape}\\n\")\n",
    "print(test_data_human_text['is_test'].value_counts())"
   ]
  },
  {
   "cell_type": "code",
   "execution_count": 11,
   "metadata": {},
   "outputs": [
    {
     "data": {
      "text/html": [
       "<div>\n",
       "<style scoped>\n",
       "    .dataframe tbody tr th:only-of-type {\n",
       "        vertical-align: middle;\n",
       "    }\n",
       "\n",
       "    .dataframe tbody tr th {\n",
       "        vertical-align: top;\n",
       "    }\n",
       "\n",
       "    .dataframe thead th {\n",
       "        text-align: right;\n",
       "    }\n",
       "</style>\n",
       "<table border=\"1\" class=\"dataframe\">\n",
       "  <thead>\n",
       "    <tr style=\"text-align: right;\">\n",
       "      <th></th>\n",
       "      <th>event_name</th>\n",
       "      <th>tweet_id</th>\n",
       "      <th>image_id</th>\n",
       "      <th>tweet_text</th>\n",
       "      <th>image</th>\n",
       "      <th>label</th>\n",
       "      <th>label_text</th>\n",
       "      <th>label_image</th>\n",
       "      <th>label_text_image</th>\n",
       "      <th>is_valid</th>\n",
       "      <th>is_test</th>\n",
       "    </tr>\n",
       "  </thead>\n",
       "  <tbody>\n",
       "    <tr>\n",
       "      <th>0</th>\n",
       "      <td>california_wildfires</td>\n",
       "      <td>917793137925459968</td>\n",
       "      <td>917793137925459968_0</td>\n",
       "      <td>california wildfires destroy more than structu...</td>\n",
       "      <td>data_image/california_wildfires/10_10_2017/917...</td>\n",
       "      <td>infrastructure_and_utility_damage</td>\n",
       "      <td>infrastructure_and_utility_damage</td>\n",
       "      <td>infrastructure_and_utility_damage</td>\n",
       "      <td>Positive</td>\n",
       "      <td>False</td>\n",
       "      <td>False</td>\n",
       "    </tr>\n",
       "    <tr>\n",
       "      <th>1</th>\n",
       "      <td>california_wildfires</td>\n",
       "      <td>917793137925459968</td>\n",
       "      <td>917793137925459968_1</td>\n",
       "      <td>california wildfires destroy more than structu...</td>\n",
       "      <td>data_image/california_wildfires/10_10_2017/917...</td>\n",
       "      <td>infrastructure_and_utility_damage</td>\n",
       "      <td>infrastructure_and_utility_damage</td>\n",
       "      <td>infrastructure_and_utility_damage</td>\n",
       "      <td>Positive</td>\n",
       "      <td>False</td>\n",
       "      <td>False</td>\n",
       "    </tr>\n",
       "    <tr>\n",
       "      <th>2</th>\n",
       "      <td>california_wildfires</td>\n",
       "      <td>917793137925459968</td>\n",
       "      <td>917793137925459968_2</td>\n",
       "      <td>california wildfires destroy more than structu...</td>\n",
       "      <td>data_image/california_wildfires/10_10_2017/917...</td>\n",
       "      <td>infrastructure_and_utility_damage</td>\n",
       "      <td>infrastructure_and_utility_damage</td>\n",
       "      <td>infrastructure_and_utility_damage</td>\n",
       "      <td>Positive</td>\n",
       "      <td>False</td>\n",
       "      <td>False</td>\n",
       "    </tr>\n",
       "    <tr>\n",
       "      <th>3</th>\n",
       "      <td>california_wildfires</td>\n",
       "      <td>917815040962695168</td>\n",
       "      <td>917815040962695168_2</td>\n",
       "      <td>photos of california destructive wildfires via</td>\n",
       "      <td>data_image/california_wildfires/10_10_2017/917...</td>\n",
       "      <td>infrastructure_and_utility_damage</td>\n",
       "      <td>infrastructure_and_utility_damage</td>\n",
       "      <td>infrastructure_and_utility_damage</td>\n",
       "      <td>Positive</td>\n",
       "      <td>False</td>\n",
       "      <td>False</td>\n",
       "    </tr>\n",
       "    <tr>\n",
       "      <th>4</th>\n",
       "      <td>california_wildfires</td>\n",
       "      <td>917828283047260161</td>\n",
       "      <td>917828283047260161_0</td>\n",
       "      <td>why california wildfires are worse in the fall</td>\n",
       "      <td>data_image/california_wildfires/10_10_2017/917...</td>\n",
       "      <td>other_relevant_information</td>\n",
       "      <td>other_relevant_information</td>\n",
       "      <td>other_relevant_information</td>\n",
       "      <td>Positive</td>\n",
       "      <td>False</td>\n",
       "      <td>False</td>\n",
       "    </tr>\n",
       "  </tbody>\n",
       "</table>\n",
       "</div>"
      ],
      "text/plain": [
       "             event_name            tweet_id              image_id  \\\n",
       "0  california_wildfires  917793137925459968  917793137925459968_0   \n",
       "1  california_wildfires  917793137925459968  917793137925459968_1   \n",
       "2  california_wildfires  917793137925459968  917793137925459968_2   \n",
       "3  california_wildfires  917815040962695168  917815040962695168_2   \n",
       "4  california_wildfires  917828283047260161  917828283047260161_0   \n",
       "\n",
       "                                          tweet_text  \\\n",
       "0  california wildfires destroy more than structu...   \n",
       "1  california wildfires destroy more than structu...   \n",
       "2  california wildfires destroy more than structu...   \n",
       "3     photos of california destructive wildfires via   \n",
       "4     why california wildfires are worse in the fall   \n",
       "\n",
       "                                               image  \\\n",
       "0  data_image/california_wildfires/10_10_2017/917...   \n",
       "1  data_image/california_wildfires/10_10_2017/917...   \n",
       "2  data_image/california_wildfires/10_10_2017/917...   \n",
       "3  data_image/california_wildfires/10_10_2017/917...   \n",
       "4  data_image/california_wildfires/10_10_2017/917...   \n",
       "\n",
       "                               label                         label_text  \\\n",
       "0  infrastructure_and_utility_damage  infrastructure_and_utility_damage   \n",
       "1  infrastructure_and_utility_damage  infrastructure_and_utility_damage   \n",
       "2  infrastructure_and_utility_damage  infrastructure_and_utility_damage   \n",
       "3  infrastructure_and_utility_damage  infrastructure_and_utility_damage   \n",
       "4         other_relevant_information         other_relevant_information   \n",
       "\n",
       "                         label_image label_text_image  is_valid  is_test  \n",
       "0  infrastructure_and_utility_damage         Positive     False    False  \n",
       "1  infrastructure_and_utility_damage         Positive     False    False  \n",
       "2  infrastructure_and_utility_damage         Positive     False    False  \n",
       "3  infrastructure_and_utility_damage         Positive     False    False  \n",
       "4         other_relevant_information         Positive     False    False  "
      ]
     },
     "execution_count": 11,
     "metadata": {},
     "output_type": "execute_result"
    }
   ],
   "source": [
    "data_human_text.head()"
   ]
  },
  {
   "cell_type": "code",
   "execution_count": 12,
   "metadata": {},
   "outputs": [
    {
     "data": {
      "text/html": [
       "<div>\n",
       "<style scoped>\n",
       "    .dataframe tbody tr th:only-of-type {\n",
       "        vertical-align: middle;\n",
       "    }\n",
       "\n",
       "    .dataframe tbody tr th {\n",
       "        vertical-align: top;\n",
       "    }\n",
       "\n",
       "    .dataframe thead th {\n",
       "        text-align: right;\n",
       "    }\n",
       "</style>\n",
       "<table border=\"1\" class=\"dataframe\">\n",
       "  <thead>\n",
       "    <tr style=\"text-align: right;\">\n",
       "      <th></th>\n",
       "      <th>event_name</th>\n",
       "      <th>tweet_id</th>\n",
       "      <th>image_id</th>\n",
       "      <th>tweet_text</th>\n",
       "      <th>image</th>\n",
       "      <th>label</th>\n",
       "      <th>label_text</th>\n",
       "      <th>label_image</th>\n",
       "      <th>label_text_image</th>\n",
       "      <th>is_valid</th>\n",
       "      <th>is_test</th>\n",
       "    </tr>\n",
       "  </thead>\n",
       "  <tbody>\n",
       "    <tr>\n",
       "      <th>0</th>\n",
       "      <td>california_wildfires</td>\n",
       "      <td>917793137925459968</td>\n",
       "      <td>917793137925459968_0</td>\n",
       "      <td>california wildfires destroy more than structu...</td>\n",
       "      <td>data_image/california_wildfires/10_10_2017/917...</td>\n",
       "      <td>infrastructure_and_utility_damage</td>\n",
       "      <td>infrastructure_and_utility_damage</td>\n",
       "      <td>infrastructure_and_utility_damage</td>\n",
       "      <td>Positive</td>\n",
       "      <td>False</td>\n",
       "      <td>False</td>\n",
       "    </tr>\n",
       "    <tr>\n",
       "      <th>1</th>\n",
       "      <td>california_wildfires</td>\n",
       "      <td>917793137925459968</td>\n",
       "      <td>917793137925459968_1</td>\n",
       "      <td>california wildfires destroy more than structu...</td>\n",
       "      <td>data_image/california_wildfires/10_10_2017/917...</td>\n",
       "      <td>infrastructure_and_utility_damage</td>\n",
       "      <td>infrastructure_and_utility_damage</td>\n",
       "      <td>infrastructure_and_utility_damage</td>\n",
       "      <td>Positive</td>\n",
       "      <td>False</td>\n",
       "      <td>False</td>\n",
       "    </tr>\n",
       "    <tr>\n",
       "      <th>2</th>\n",
       "      <td>california_wildfires</td>\n",
       "      <td>917793137925459968</td>\n",
       "      <td>917793137925459968_2</td>\n",
       "      <td>california wildfires destroy more than structu...</td>\n",
       "      <td>data_image/california_wildfires/10_10_2017/917...</td>\n",
       "      <td>infrastructure_and_utility_damage</td>\n",
       "      <td>infrastructure_and_utility_damage</td>\n",
       "      <td>infrastructure_and_utility_damage</td>\n",
       "      <td>Positive</td>\n",
       "      <td>False</td>\n",
       "      <td>False</td>\n",
       "    </tr>\n",
       "    <tr>\n",
       "      <th>3</th>\n",
       "      <td>california_wildfires</td>\n",
       "      <td>917815040962695168</td>\n",
       "      <td>917815040962695168_2</td>\n",
       "      <td>photos of california destructive wildfires via</td>\n",
       "      <td>data_image/california_wildfires/10_10_2017/917...</td>\n",
       "      <td>infrastructure_and_utility_damage</td>\n",
       "      <td>infrastructure_and_utility_damage</td>\n",
       "      <td>infrastructure_and_utility_damage</td>\n",
       "      <td>Positive</td>\n",
       "      <td>False</td>\n",
       "      <td>False</td>\n",
       "    </tr>\n",
       "    <tr>\n",
       "      <th>4</th>\n",
       "      <td>california_wildfires</td>\n",
       "      <td>917828283047260161</td>\n",
       "      <td>917828283047260161_0</td>\n",
       "      <td>why california wildfires are worse in the fall</td>\n",
       "      <td>data_image/california_wildfires/10_10_2017/917...</td>\n",
       "      <td>other_relevant_information</td>\n",
       "      <td>other_relevant_information</td>\n",
       "      <td>other_relevant_information</td>\n",
       "      <td>Positive</td>\n",
       "      <td>False</td>\n",
       "      <td>False</td>\n",
       "    </tr>\n",
       "  </tbody>\n",
       "</table>\n",
       "</div>"
      ],
      "text/plain": [
       "             event_name            tweet_id              image_id  \\\n",
       "0  california_wildfires  917793137925459968  917793137925459968_0   \n",
       "1  california_wildfires  917793137925459968  917793137925459968_1   \n",
       "2  california_wildfires  917793137925459968  917793137925459968_2   \n",
       "3  california_wildfires  917815040962695168  917815040962695168_2   \n",
       "4  california_wildfires  917828283047260161  917828283047260161_0   \n",
       "\n",
       "                                          tweet_text  \\\n",
       "0  california wildfires destroy more than structu...   \n",
       "1  california wildfires destroy more than structu...   \n",
       "2  california wildfires destroy more than structu...   \n",
       "3     photos of california destructive wildfires via   \n",
       "4     why california wildfires are worse in the fall   \n",
       "\n",
       "                                               image  \\\n",
       "0  data_image/california_wildfires/10_10_2017/917...   \n",
       "1  data_image/california_wildfires/10_10_2017/917...   \n",
       "2  data_image/california_wildfires/10_10_2017/917...   \n",
       "3  data_image/california_wildfires/10_10_2017/917...   \n",
       "4  data_image/california_wildfires/10_10_2017/917...   \n",
       "\n",
       "                               label                         label_text  \\\n",
       "0  infrastructure_and_utility_damage  infrastructure_and_utility_damage   \n",
       "1  infrastructure_and_utility_damage  infrastructure_and_utility_damage   \n",
       "2  infrastructure_and_utility_damage  infrastructure_and_utility_damage   \n",
       "3  infrastructure_and_utility_damage  infrastructure_and_utility_damage   \n",
       "4         other_relevant_information         other_relevant_information   \n",
       "\n",
       "                         label_image label_text_image  is_valid  is_test  \n",
       "0  infrastructure_and_utility_damage         Positive     False    False  \n",
       "1  infrastructure_and_utility_damage         Positive     False    False  \n",
       "2  infrastructure_and_utility_damage         Positive     False    False  \n",
       "3  infrastructure_and_utility_damage         Positive     False    False  \n",
       "4         other_relevant_information         Positive     False    False  "
      ]
     },
     "execution_count": 12,
     "metadata": {},
     "output_type": "execute_result"
    }
   ],
   "source": [
    "test_data_human_text.head()"
   ]
  },
  {
   "cell_type": "code",
   "execution_count": 13,
   "metadata": {},
   "outputs": [
    {
     "data": {
      "text/html": [],
      "text/plain": [
       "<IPython.core.display.HTML object>"
      ]
     },
     "metadata": {},
     "output_type": "display_data"
    },
    {
     "data": {
      "text/html": [],
      "text/plain": [
       "<IPython.core.display.HTML object>"
      ]
     },
     "metadata": {},
     "output_type": "display_data"
    }
   ],
   "source": [
    "# preparing data for language model in order to get encoder and word embedding vocab for text classification model\n",
    "\n",
    "data_lm = (TextList\n",
    "           .from_df(data_human_text,path, cols='tweet_text')\n",
    "           #Where are the text? Column 'text' of texts.csv\n",
    "           .split_from_df(col='is_valid')\n",
    "           #How to split it? Randomly with the default 20% in valid\n",
    "           .label_for_lm()\n",
    "           #Label it for a language model\n",
    "           .databunch())\n",
    "           #Finally we convert to a DataBunch"
   ]
  },
  {
   "cell_type": "code",
   "execution_count": 14,
   "metadata": {},
   "outputs": [
    {
     "data": {
      "text/plain": [
       "TextLMDataBunch;\n",
       "\n",
       "Train: LabelList (6126 items)\n",
       "x: LMTextList\n",
       "xxbos california wildfires destroy more than structures kakenews,xxbos california wildfires destroy more than structures kakenews,xxbos california wildfires destroy more than structures kakenews,xxbos photos of california destructive wildfires via,xxbos why california wildfires are worse in the fall\n",
       "y: LMLabelList\n",
       ",,,,\n",
       "Path: /notebooks/CrisisMMD_Dataset;\n",
       "\n",
       "Valid: LabelList (998 items)\n",
       "x: LMTextList\n",
       "xxbos family xxunk finds dog they lost when escaping california wildfires,xxbos hurricane irma on twitter,xxbos feel xxunk by xxunk in so many levels how xxunk can picture xxunk me so bad on the floor while preparing for,xxbos postirma can xxunk so true,xxbos hurricane maria remains severe threat sept utc\n",
       "y: LMLabelList\n",
       ",,,,\n",
       "Path: /notebooks/CrisisMMD_Dataset;\n",
       "\n",
       "Test: None"
      ]
     },
     "execution_count": 14,
     "metadata": {},
     "output_type": "execute_result"
    }
   ],
   "source": [
    "data_lm"
   ]
  },
  {
   "cell_type": "code",
   "execution_count": 15,
   "metadata": {},
   "outputs": [
    {
     "data": {
      "text/html": [
       "<table border=\"1\" class=\"dataframe\">\n",
       "  <thead>\n",
       "    <tr style=\"text-align: right;\">\n",
       "      <th>idx</th>\n",
       "      <th>text</th>\n",
       "    </tr>\n",
       "  </thead>\n",
       "  <tbody>\n",
       "    <tr>\n",
       "      <td>0</td>\n",
       "      <td>with us for few days her xxbos playing with my new friend chai she california fire evacuee starting with us for few days her xxbos playing with my new friend chai she california fire evacuee starting with us for few days her xxbos playing with my new friend chai she california fire evacuee starting with us for few days her xxbos xxunk fire tubbsfire xxunk xxunk xxunk fire california napa</td>\n",
       "    </tr>\n",
       "    <tr>\n",
       "      <td>1</td>\n",
       "      <td>in kalutura district today situation lka srilanka xxbos veyangalla village heavily affected by recent floodsl in kalutura district today situation lka srilanka xxbos chinese cargo plane delivers relief to floodhit srilanka xxbos chinese cargo plane delivers relief to floodhit srilanka xxbos xxunk xxunk mora xxunk xxunk and warning xxunk xxunk xxbos xxunk xxunk mora xxunk xxunk and warning xxunk xxunk xxbos xxunk xxunk xxunk over relief to those affected by</td>\n",
       "    </tr>\n",
       "    <tr>\n",
       "      <td>2</td>\n",
       "      <td>xxbos sadrith mora xxunk xxunk morrowind eso ps xxbos tried this place out today in finnieston mora enjoyed it xxbos tried this place out today in finnieston mora enjoyed it xxbos tried this place out today in finnieston mora enjoyed it xxbos tried this place out today in finnieston mora enjoyed it xxbos xxunk xxunk xxunk xxunk xxunk xxunk xxunk mora xxbos xxunk xxunk xxunk xxunk xxunk xxunk xxunk mora</td>\n",
       "    </tr>\n",
       "    <tr>\n",
       "      <td>3</td>\n",
       "      <td>those lost in mexico tragic earthquake fuerzamexico xxbos the lagalaxy donned black armbands during atlvla to honor those lost in mexico tragic earthquake fuerzamexico xxbos xxunk xxunk factory pray for the earthquake in mexico f f f xxbos xxunk xxunk factory pray for the earthquake in mexico f f f xxbos volunteers propel mexico city earthquake response xxbos volunteers propel mexico city earthquake response xxbos volunteers propel mexico city earthquake</td>\n",
       "    </tr>\n",
       "    <tr>\n",
       "      <td>4</td>\n",
       "      <td>iraq xxbos turkish red crescent cooperates with iraqi red crescent in order to alleviate needs of earthquake victims in iraq xxbos president dr xxunk xxunk in xxunk district of iraq which suffered the most from the earthquake xxbos hundred earthquake victim families in khanaqin city of iraq were received food support today xxbos hundred earthquake victim families in khanaqin city of iraq were received food support today xxbos hundred earthquake</td>\n",
       "    </tr>\n",
       "  </tbody>\n",
       "</table>"
      ],
      "text/plain": [
       "<IPython.core.display.HTML object>"
      ]
     },
     "metadata": {},
     "output_type": "display_data"
    }
   ],
   "source": [
    "# showing the data with corresponding annotations\n",
    "data_lm.show_batch()"
   ]
  },
  {
   "cell_type": "code",
   "execution_count": 16,
   "metadata": {},
   "outputs": [],
   "source": [
    "# importing pretrained AWD_LSTM model and making learner object consist of data,model for training\n",
    "learn_lm = language_model_learner(data_lm, AWD_LSTM, drop_mult=0.3)"
   ]
  },
  {
   "cell_type": "code",
   "execution_count": 17,
   "metadata": {},
   "outputs": [
    {
     "data": {
      "text/html": [
       "\n",
       "    <div>\n",
       "        <style>\n",
       "            /* Turns off some styling */\n",
       "            progress {\n",
       "                /* gets rid of default border in Firefox and Opera. */\n",
       "                border: none;\n",
       "                /* Needs to be in here for Safari polyfill so background images work as expected. */\n",
       "                background-size: auto;\n",
       "            }\n",
       "            .progress-bar-interrupted, .progress-bar-interrupted::-webkit-progress-bar {\n",
       "                background: #F44336;\n",
       "            }\n",
       "        </style>\n",
       "      <progress value='5' class='' max='6', style='width:300px; height:20px; vertical-align: middle;'></progress>\n",
       "      83.33% [5/6 00:07<00:01]\n",
       "    </div>\n",
       "    \n",
       "<table border=\"1\" class=\"dataframe\">\n",
       "  <thead>\n",
       "    <tr style=\"text-align: left;\">\n",
       "      <th>epoch</th>\n",
       "      <th>train_loss</th>\n",
       "      <th>valid_loss</th>\n",
       "      <th>accuracy</th>\n",
       "      <th>time</th>\n",
       "    </tr>\n",
       "  </thead>\n",
       "  <tbody>\n",
       "    <tr>\n",
       "      <td>0</td>\n",
       "      <td>7.466418</td>\n",
       "      <td>#na#</td>\n",
       "      <td>00:01</td>\n",
       "    </tr>\n",
       "    <tr>\n",
       "      <td>1</td>\n",
       "      <td>7.465436</td>\n",
       "      <td>#na#</td>\n",
       "      <td>00:01</td>\n",
       "    </tr>\n",
       "    <tr>\n",
       "      <td>2</td>\n",
       "      <td>7.435410</td>\n",
       "      <td>#na#</td>\n",
       "      <td>00:01</td>\n",
       "    </tr>\n",
       "    <tr>\n",
       "      <td>3</td>\n",
       "      <td>7.065864</td>\n",
       "      <td>#na#</td>\n",
       "      <td>00:01</td>\n",
       "    </tr>\n",
       "    <tr>\n",
       "      <td>4</td>\n",
       "      <td>6.384616</td>\n",
       "      <td>#na#</td>\n",
       "      <td>00:01</td>\n",
       "    </tr>\n",
       "  </tbody>\n",
       "</table><p>\n",
       "\n",
       "    <div>\n",
       "        <style>\n",
       "            /* Turns off some styling */\n",
       "            progress {\n",
       "                /* gets rid of default border in Firefox and Opera. */\n",
       "                border: none;\n",
       "                /* Needs to be in here for Safari polyfill so background images work as expected. */\n",
       "                background-size: auto;\n",
       "            }\n",
       "            .progress-bar-interrupted, .progress-bar-interrupted::-webkit-progress-bar {\n",
       "                background: #F44336;\n",
       "            }\n",
       "        </style>\n",
       "      <progress value='13' class='' max='17', style='width:300px; height:20px; vertical-align: middle;'></progress>\n",
       "      76.47% [13/17 00:01<00:00 8.4453]\n",
       "    </div>\n",
       "    "
      ],
      "text/plain": [
       "<IPython.core.display.HTML object>"
      ]
     },
     "metadata": {},
     "output_type": "display_data"
    },
    {
     "name": "stdout",
     "output_type": "stream",
     "text": [
      "LR Finder is complete, type {learner_name}.recorder.plot() to see the graph.\n"
     ]
    }
   ],
   "source": [
    "learn_lm.lr_find()"
   ]
  },
  {
   "cell_type": "code",
   "execution_count": 18,
   "metadata": {},
   "outputs": [
    {
     "data": {
      "image/png": "[encoded data removed]",
      "text/plain": [
       "<Figure size 432x288 with 1 Axes>"
      ]
     },
     "metadata": {
      "needs_background": "light"
     },
     "output_type": "display_data"
    }
   ],
   "source": [
    "learn_lm.recorder.plot(skip_end=15)"
   ]
  },
  {
   "cell_type": "code",
   "execution_count": 19,
   "metadata": {},
   "outputs": [
    {
     "data": {
      "text/html": [
       "<table border=\"1\" class=\"dataframe\">\n",
       "  <thead>\n",
       "    <tr style=\"text-align: left;\">\n",
       "      <th>epoch</th>\n",
       "      <th>train_loss</th>\n",
       "      <th>valid_loss</th>\n",
       "      <th>accuracy</th>\n",
       "      <th>time</th>\n",
       "    </tr>\n",
       "  </thead>\n",
       "  <tbody>\n",
       "    <tr>\n",
       "      <td>0</td>\n",
       "      <td>6.027356</td>\n",
       "      <td>4.727753</td>\n",
       "      <td>0.225893</td>\n",
       "      <td>00:01</td>\n",
       "    </tr>\n",
       "    <tr>\n",
       "      <td>1</td>\n",
       "      <td>5.099859</td>\n",
       "      <td>4.624011</td>\n",
       "      <td>0.234077</td>\n",
       "      <td>00:01</td>\n",
       "    </tr>\n",
       "  </tbody>\n",
       "</table>"
      ],
      "text/plain": [
       "<IPython.core.display.HTML object>"
      ]
     },
     "metadata": {},
     "output_type": "display_data"
    }
   ],
   "source": [
    "learn_lm.fit_one_cycle(2,3e-2,moms=(0.8,0.7))"
   ]
  },
  {
   "cell_type": "code",
   "execution_count": 20,
   "metadata": {},
   "outputs": [],
   "source": [
    "learn_lm.unfreeze()"
   ]
  },
  {
   "cell_type": "code",
   "execution_count": 21,
   "metadata": {},
   "outputs": [
    {
     "data": {
      "text/html": [
       "<table border=\"1\" class=\"dataframe\">\n",
       "  <thead>\n",
       "    <tr style=\"text-align: left;\">\n",
       "      <th>epoch</th>\n",
       "      <th>train_loss</th>\n",
       "      <th>valid_loss</th>\n",
       "      <th>accuracy</th>\n",
       "      <th>time</th>\n",
       "    </tr>\n",
       "  </thead>\n",
       "  <tbody>\n",
       "    <tr>\n",
       "      <td>0</td>\n",
       "      <td>5.233407</td>\n",
       "      <td>4.734713</td>\n",
       "      <td>0.240476</td>\n",
       "      <td>00:01</td>\n",
       "    </tr>\n",
       "  </tbody>\n",
       "</table>"
      ],
      "text/plain": [
       "<IPython.core.display.HTML object>"
      ]
     },
     "metadata": {},
     "output_type": "display_data"
    }
   ],
   "source": [
    "learn_lm.fit_one_cycle(1, 3e-2, moms=(0.8,0.7))"
   ]
  },
  {
   "cell_type": "code",
   "execution_count": 22,
   "metadata": {},
   "outputs": [],
   "source": [
    "# saving encoder for using it in classification model\n",
    "learn_lm.save_encoder('fine_tuned_enc_human')"
   ]
  },
  {
   "cell_type": "code",
   "execution_count": 23,
   "metadata": {},
   "outputs": [
    {
     "data": {
      "text/html": [],
      "text/plain": [
       "<IPython.core.display.HTML object>"
      ]
     },
     "metadata": {},
     "output_type": "display_data"
    },
    {
     "data": {
      "text/html": [],
      "text/plain": [
       "<IPython.core.display.HTML object>"
      ]
     },
     "metadata": {},
     "output_type": "display_data"
    }
   ],
   "source": [
    "# preprocessing and creating test data for classification\n",
    "test_data_clas = (TextList.from_df(test_data_human_text,path,cols='tweet_text',vocab=data_lm.vocab)\n",
    "                   .split_from_df(col='is_test')\n",
    "                   .label_from_df(cols='label_text')\n",
    "                   .databunch())"
   ]
  },
  {
   "cell_type": "code",
   "execution_count": 24,
   "metadata": {},
   "outputs": [
    {
     "data": {
      "text/html": [],
      "text/plain": [
       "<IPython.core.display.HTML object>"
      ]
     },
     "metadata": {},
     "output_type": "display_data"
    },
    {
     "data": {
      "text/html": [],
      "text/plain": [
       "<IPython.core.display.HTML object>"
      ]
     },
     "metadata": {},
     "output_type": "display_data"
    },
    {
     "data": {
      "text/html": [],
      "text/plain": [
       "<IPython.core.display.HTML object>"
      ]
     },
     "metadata": {},
     "output_type": "display_data"
    }
   ],
   "source": [
    "# preprocessing and creating data for classification\n",
    "data_clas = (TextList.from_df(data_human_text,path,cols='tweet_text',vocab=data_lm.vocab)\n",
    "                   .split_from_df(col='is_valid')\n",
    "                   .label_from_df(cols='label_text')\n",
    "                   .add_test(test_data_clas.valid_ds)\n",
    "                   .databunch())"
   ]
  },
  {
   "cell_type": "code",
   "execution_count": 25,
   "metadata": {},
   "outputs": [
    {
     "data": {
      "text/plain": [
       "TextClasDataBunch;\n",
       "\n",
       "Train: LabelList (6126 items)\n",
       "x: TextList\n",
       "xxbos california wildfires destroy more than structures kakenews,xxbos california wildfires destroy more than structures kakenews,xxbos california wildfires destroy more than structures kakenews,xxbos photos of california destructive wildfires via,xxbos why california wildfires are worse in the fall\n",
       "y: CategoryList\n",
       "infrastructure_and_utility_damage,infrastructure_and_utility_damage,infrastructure_and_utility_damage,infrastructure_and_utility_damage,other_relevant_information\n",
       "Path: /notebooks/CrisisMMD_Dataset;\n",
       "\n",
       "Valid: LabelList (998 items)\n",
       "x: TextList\n",
       "xxbos family xxunk finds dog they lost when escaping california wildfires,xxbos hurricane irma on twitter,xxbos feel xxunk by xxunk in so many levels how xxunk can picture xxunk me so bad on the floor while preparing for,xxbos postirma can xxunk so true,xxbos hurricane maria remains severe threat sept utc\n",
       "y: CategoryList\n",
       "not_humanitarian,other_relevant_information,not_humanitarian,not_humanitarian,other_relevant_information\n",
       "Path: /notebooks/CrisisMMD_Dataset;\n",
       "\n",
       "Test: LabelList (955 items)\n",
       "x: TextList\n",
       "xxbos xxbos has great event tomorrow for both xxunk and xxunk fans to support hurricane harvey relief xxunk,xxbos xxbos now also xxunk surf band at pm xxunk mexicoearthquake fund xxunk,xxbos xxbos xxunk resident xxunk xxunk stands by bridge washed out by rains xxunk debris from hurricane maria cnn xxunk,xxbos xxbos after harvey irma leaves its own trail of destruction xxunk xxunk,xxbos xxbos dawn just won and we re gon na match the amount for hurricane maria relief xxunk\n",
       "y: EmptyLabelList\n",
       ",,,,\n",
       "Path: /notebooks/CrisisMMD_Dataset"
      ]
     },
     "execution_count": 25,
     "metadata": {},
     "output_type": "execute_result"
    }
   ],
   "source": [
    "data_clas"
   ]
  },
  {
   "cell_type": "code",
   "execution_count": 26,
   "metadata": {},
   "outputs": [
    {
     "data": {
      "text/html": [
       "<table border=\"1\" class=\"dataframe\">\n",
       "  <thead>\n",
       "    <tr style=\"text-align: right;\">\n",
       "      <th>text</th>\n",
       "      <th>target</th>\n",
       "    </tr>\n",
       "  </thead>\n",
       "  <tbody>\n",
       "    <tr>\n",
       "      <td>xxbos to xxunk time lost to irma amp so we can raise as much money for xxunk xxunk as we like to we ll be raising</td>\n",
       "      <td>not_humanitarian</td>\n",
       "    </tr>\n",
       "    <tr>\n",
       "      <td>xxbos the best part was that it let me spend time with my family early and they got to meet my new kitten sam xxunk</td>\n",
       "      <td>not_humanitarian</td>\n",
       "    </tr>\n",
       "    <tr>\n",
       "      <td>xxbos update on my mom in dr and maria same path as irma eye bit to her north should be strong winds some rain but</td>\n",
       "      <td>not_humanitarian</td>\n",
       "    </tr>\n",
       "    <tr>\n",
       "      <td>xxbos last day to xxunk to help victims of hurricanes harvey and irma of all xxunk sales at both of our stores go to</td>\n",
       "      <td>rescue_volunteering_or_donation_effort</td>\n",
       "    </tr>\n",
       "    <tr>\n",
       "      <td>xxbos xxunk former london mayor is in my xxunk xxunk at mora rd xxunk station to vote for to be pm jeremy this morning</td>\n",
       "      <td>not_humanitarian</td>\n",
       "    </tr>\n",
       "  </tbody>\n",
       "</table>"
      ],
      "text/plain": [
       "<IPython.core.display.HTML object>"
      ]
     },
     "metadata": {},
     "output_type": "display_data"
    }
   ],
   "source": [
    "# showing data with labels\n",
    "data_clas.show_batch()"
   ]
  },
  {
   "cell_type": "code",
   "execution_count": 44,
   "metadata": {},
   "outputs": [],
   "source": [
    "# importing pretrained AWD-LSTM model and making learner object consist of data,model,metrics and callbacks for training\n",
    "\n",
    "learn_clas = text_classifier_learner(data_clas, AWD_LSTM, drop_mult=0.5,metrics=[accuracy,Precision1(average='macro'),\n",
    "                Precision1(average='weighted'),Recall(average='macro'),Recall(average='weighted'),\n",
    "               FBeta(average='macro',beta=1.),FBeta(average='weighted',beta=1.)],\n",
    "            callback_fns=[ShowGraph,partial(EarlyStoppingCallback, monitor='valid_loss', min_delta=0.01, patience=3),\n",
    "               partial(SaveModelCallback,every='improvement', monitor='accuracy', name='best'),\n",
    "               partial(ReduceLROnPlateauCallback,monitor='valid_loss', mode='auto', patience=0,\n",
    "                       factor=0.2, min_delta=0, min_lr=0.000001)]\n",
    "            )\n"
   ]
  },
  {
   "cell_type": "code",
   "execution_count": 45,
   "metadata": {},
   "outputs": [
    {
     "data": {
      "text/plain": [
       "RNNLearner(data=TextClasDataBunch;\n",
       "\n",
       "Train: LabelList (6126 items)\n",
       "x: TextList\n",
       "xxbos california wildfires destroy more than structures kakenews,xxbos california wildfires destroy more than structures kakenews,xxbos california wildfires destroy more than structures kakenews,xxbos photos of california destructive wildfires via,xxbos why california wildfires are worse in the fall\n",
       "y: CategoryList\n",
       "infrastructure_and_utility_damage,infrastructure_and_utility_damage,infrastructure_and_utility_damage,infrastructure_and_utility_damage,other_relevant_information\n",
       "Path: /notebooks/CrisisMMD_Dataset;\n",
       "\n",
       "Valid: LabelList (998 items)\n",
       "x: TextList\n",
       "xxbos family xxunk finds dog they lost when escaping california wildfires,xxbos hurricane irma on twitter,xxbos feel xxunk by xxunk in so many levels how xxunk can picture xxunk me so bad on the floor while preparing for,xxbos postirma can xxunk so true,xxbos hurricane maria remains severe threat sept utc\n",
       "y: CategoryList\n",
       "not_humanitarian,other_relevant_information,not_humanitarian,not_humanitarian,other_relevant_information\n",
       "Path: /notebooks/CrisisMMD_Dataset;\n",
       "\n",
       "Test: LabelList (955 items)\n",
       "x: TextList\n",
       "xxbos xxbos has great event tomorrow for both xxunk and xxunk fans to support hurricane harvey relief xxunk,xxbos xxbos now also xxunk surf band at pm xxunk mexicoearthquake fund xxunk,xxbos xxbos xxunk resident xxunk xxunk stands by bridge washed out by rains xxunk debris from hurricane maria cnn xxunk,xxbos xxbos after harvey irma leaves its own trail of destruction xxunk xxunk,xxbos xxbos dawn just won and we re gon na match the amount for hurricane maria relief xxunk\n",
       "y: EmptyLabelList\n",
       ",,,,\n",
       "Path: /notebooks/CrisisMMD_Dataset, model=SequentialRNN(\n",
       "  (0): MultiBatchEncoder(\n",
       "    (module): AWD_LSTM(\n",
       "      (encoder): Embedding(3312, 400, padding_idx=1)\n",
       "      (encoder_dp): EmbeddingDropout(\n",
       "        (emb): Embedding(3312, 400, padding_idx=1)\n",
       "      )\n",
       "      (rnns): ModuleList(\n",
       "        (0): WeightDropout(\n",
       "          (module): LSTM(400, 1152, batch_first=True)\n",
       "        )\n",
       "        (1): WeightDropout(\n",
       "          (module): LSTM(1152, 1152, batch_first=True)\n",
       "        )\n",
       "        (2): WeightDropout(\n",
       "          (module): LSTM(1152, 400, batch_first=True)\n",
       "        )\n",
       "      )\n",
       "      (input_dp): RNNDropout()\n",
       "      (hidden_dps): ModuleList(\n",
       "        (0): RNNDropout()\n",
       "        (1): RNNDropout()\n",
       "        (2): RNNDropout()\n",
       "      )\n",
       "    )\n",
       "  )\n",
       "  (1): PoolingLinearClassifier(\n",
       "    (layers): Sequential(\n",
       "      (0): BatchNorm1d(1200, eps=1e-05, momentum=0.1, affine=True, track_running_stats=True)\n",
       "      (1): Dropout(p=0.2, inplace=False)\n",
       "      (2): Linear(in_features=1200, out_features=50, bias=True)\n",
       "      (3): ReLU(inplace=True)\n",
       "      (4): BatchNorm1d(50, eps=1e-05, momentum=0.1, affine=True, track_running_stats=True)\n",
       "      (5): Dropout(p=0.1, inplace=False)\n",
       "      (6): Linear(in_features=50, out_features=5, bias=True)\n",
       "    )\n",
       "  )\n",
       "), opt_func=functools.partial(<class 'torch.optim.adam.Adam'>, betas=(0.9, 0.99)), loss_func=FlattenedLoss of CrossEntropyLoss(), metrics=[<function accuracy at 0x7fd21b995a70>, Precision1(average='macro', pos_label=1, eps=1e-09), Precision1(average='weighted', pos_label=1, eps=1e-09), Recall(average='macro', pos_label=1, eps=1e-09), Recall(average='weighted', pos_label=1, eps=1e-09), FBeta(average='macro', pos_label=1, eps=1e-09, beta=1.0), FBeta(average='weighted', pos_label=1, eps=1e-09, beta=1.0)], true_wd=True, bn_wd=True, wd=0.01, train_bn=True, path=PosixPath('/notebooks/CrisisMMD_Dataset'), model_dir='models', callback_fns=[functools.partial(<class 'fastai.basic_train.Recorder'>, add_time=True, silent=False), <class 'fastai.train.ShowGraph'>, functools.partial(<class 'fastai.callbacks.tracker.EarlyStoppingCallback'>, monitor='valid_loss', min_delta=0.01, patience=3), functools.partial(<class 'fastai.callbacks.tracker.SaveModelCallback'>, every='improvement', monitor='accuracy', name='best'), functools.partial(<class 'fastai.callbacks.tracker.ReduceLROnPlateauCallback'>, monitor='valid_loss', mode='auto', patience=0, factor=0.2, min_delta=0, min_lr=1e-06)], callbacks=[RNNTrainer\n",
       "learn: ...\n",
       "alpha: 2.0\n",
       "beta: 1.0], layer_groups=[Sequential(\n",
       "  (0): Embedding(3312, 400, padding_idx=1)\n",
       "  (1): EmbeddingDropout(\n",
       "    (emb): Embedding(3312, 400, padding_idx=1)\n",
       "  )\n",
       "), Sequential(\n",
       "  (0): WeightDropout(\n",
       "    (module): LSTM(400, 1152, batch_first=True)\n",
       "  )\n",
       "  (1): RNNDropout()\n",
       "), Sequential(\n",
       "  (0): WeightDropout(\n",
       "    (module): LSTM(1152, 1152, batch_first=True)\n",
       "  )\n",
       "  (1): RNNDropout()\n",
       "), Sequential(\n",
       "  (0): WeightDropout(\n",
       "    (module): LSTM(1152, 400, batch_first=True)\n",
       "  )\n",
       "  (1): RNNDropout()\n",
       "), Sequential(\n",
       "  (0): PoolingLinearClassifier(\n",
       "    (layers): Sequential(\n",
       "      (0): BatchNorm1d(1200, eps=1e-05, momentum=0.1, affine=True, track_running_stats=True)\n",
       "      (1): Dropout(p=0.2, inplace=False)\n",
       "      (2): Linear(in_features=1200, out_features=50, bias=True)\n",
       "      (3): ReLU(inplace=True)\n",
       "      (4): BatchNorm1d(50, eps=1e-05, momentum=0.1, affine=True, track_running_stats=True)\n",
       "      (5): Dropout(p=0.1, inplace=False)\n",
       "      (6): Linear(in_features=50, out_features=5, bias=True)\n",
       "    )\n",
       "  )\n",
       ")], add_time=True, silent=False)"
      ]
     },
     "execution_count": 45,
     "metadata": {},
     "output_type": "execute_result"
    }
   ],
   "source": [
    "# laoding encoder for classification\n",
    "learn_clas.load_encoder('fine_tuned_enc_human')"
   ]
  },
  {
   "cell_type": "code",
   "execution_count": 46,
   "metadata": {},
   "outputs": [],
   "source": [
    "# learn_clas.lr_find()"
   ]
  },
  {
   "cell_type": "code",
   "execution_count": 47,
   "metadata": {},
   "outputs": [],
   "source": [
    "# learn_clas.recorder.plot()"
   ]
  },
  {
   "cell_type": "code",
   "execution_count": 48,
   "metadata": {},
   "outputs": [
    {
     "data": {
      "text/html": [
       "<table border=\"1\" class=\"dataframe\">\n",
       "  <thead>\n",
       "    <tr style=\"text-align: left;\">\n",
       "      <th>epoch</th>\n",
       "      <th>train_loss</th>\n",
       "      <th>valid_loss</th>\n",
       "      <th>accuracy</th>\n",
       "      <th>precision1</th>\n",
       "      <th>precision1</th>\n",
       "      <th>recall</th>\n",
       "      <th>recall</th>\n",
       "      <th>f_beta</th>\n",
       "      <th>f_beta</th>\n",
       "      <th>time</th>\n",
       "    </tr>\n",
       "  </thead>\n",
       "  <tbody>\n",
       "    <tr>\n",
       "      <td>0</td>\n",
       "      <td>0.956873</td>\n",
       "      <td>0.830520</td>\n",
       "      <td>0.713427</td>\n",
       "      <td>0.531272</td>\n",
       "      <td>0.703423</td>\n",
       "      <td>0.482119</td>\n",
       "      <td>0.713427</td>\n",
       "      <td>0.499961</td>\n",
       "      <td>0.700185</td>\n",
       "      <td>00:02</td>\n",
       "    </tr>\n",
       "    <tr>\n",
       "      <td>1</td>\n",
       "      <td>0.760406</td>\n",
       "      <td>0.745188</td>\n",
       "      <td>0.723447</td>\n",
       "      <td>0.568721</td>\n",
       "      <td>0.717285</td>\n",
       "      <td>0.484960</td>\n",
       "      <td>0.723447</td>\n",
       "      <td>0.514299</td>\n",
       "      <td>0.707893</td>\n",
       "      <td>00:02</td>\n",
       "    </tr>\n",
       "    <tr>\n",
       "      <td>2</td>\n",
       "      <td>0.685703</td>\n",
       "      <td>0.708959</td>\n",
       "      <td>0.729459</td>\n",
       "      <td>0.561540</td>\n",
       "      <td>0.718881</td>\n",
       "      <td>0.504197</td>\n",
       "      <td>0.729459</td>\n",
       "      <td>0.526030</td>\n",
       "      <td>0.717916</td>\n",
       "      <td>00:02</td>\n",
       "    </tr>\n",
       "  </tbody>\n",
       "</table>"
      ],
      "text/plain": [
       "<IPython.core.display.HTML object>"
      ]
     },
     "metadata": {},
     "output_type": "display_data"
    },
    {
     "data": {
      "image/png": "[encoded data removed]",
      "text/plain": [
       "<Figure size 432x288 with 1 Axes>"
      ]
     },
     "metadata": {},
     "output_type": "display_data"
    },
    {
     "name": "stdout",
     "output_type": "stream",
     "text": [
      "Better model found at epoch 0 with accuracy value: 0.7134268283843994.\n",
      "Better model found at epoch 1 with accuracy value: 0.7234469056129456.\n",
      "Better model found at epoch 2 with accuracy value: 0.7294589281082153.\n"
     ]
    }
   ],
   "source": [
    "# training the model's top layer's keeping keep other layer's in freezing mode, all the metrics shown here, have been\n",
    "# evaluted on validation set\n",
    "learn_clas.fit_one_cycle(3,5e-3,moms=(0.8,0.7))"
   ]
  },
  {
   "cell_type": "code",
   "execution_count": 49,
   "metadata": {},
   "outputs": [
    {
     "data": {
      "text/html": [
       "<table border=\"1\" class=\"dataframe\">\n",
       "  <thead>\n",
       "    <tr style=\"text-align: left;\">\n",
       "      <th>epoch</th>\n",
       "      <th>train_loss</th>\n",
       "      <th>valid_loss</th>\n",
       "      <th>accuracy</th>\n",
       "      <th>precision1</th>\n",
       "      <th>precision1</th>\n",
       "      <th>recall</th>\n",
       "      <th>recall</th>\n",
       "      <th>f_beta</th>\n",
       "      <th>f_beta</th>\n",
       "      <th>time</th>\n",
       "    </tr>\n",
       "  </thead>\n",
       "  <tbody>\n",
       "    <tr>\n",
       "      <td>0</td>\n",
       "      <td>0.698528</td>\n",
       "      <td>0.671952</td>\n",
       "      <td>0.729459</td>\n",
       "      <td>0.555553</td>\n",
       "      <td>0.717063</td>\n",
       "      <td>0.507009</td>\n",
       "      <td>0.729459</td>\n",
       "      <td>0.525929</td>\n",
       "      <td>0.719162</td>\n",
       "      <td>00:02</td>\n",
       "    </tr>\n",
       "  </tbody>\n",
       "</table>"
      ],
      "text/plain": [
       "<IPython.core.display.HTML object>"
      ]
     },
     "metadata": {},
     "output_type": "display_data"
    },
    {
     "data": {
      "image/png": "[encoded data removed]",
      "text/plain": [
       "<Figure size 432x288 with 1 Axes>"
      ]
     },
     "metadata": {},
     "output_type": "display_data"
    },
    {
     "name": "stdout",
     "output_type": "stream",
     "text": [
      "Better model found at epoch 0 with accuracy value: 0.7294589281082153.\n"
     ]
    }
   ],
   "source": [
    "learn_clas.freeze_to(-2)\n",
    "learn_clas.fit_one_cycle(1, slice(1e-2/(2.6**4),1e-2), moms=(0.8,0.7))"
   ]
  },
  {
   "cell_type": "code",
   "execution_count": 50,
   "metadata": {},
   "outputs": [
    {
     "data": {
      "text/html": [
       "<table border=\"1\" class=\"dataframe\">\n",
       "  <thead>\n",
       "    <tr style=\"text-align: left;\">\n",
       "      <th>epoch</th>\n",
       "      <th>train_loss</th>\n",
       "      <th>valid_loss</th>\n",
       "      <th>accuracy</th>\n",
       "      <th>precision1</th>\n",
       "      <th>precision1</th>\n",
       "      <th>recall</th>\n",
       "      <th>recall</th>\n",
       "      <th>f_beta</th>\n",
       "      <th>f_beta</th>\n",
       "      <th>time</th>\n",
       "    </tr>\n",
       "  </thead>\n",
       "  <tbody>\n",
       "    <tr>\n",
       "      <td>0</td>\n",
       "      <td>0.591404</td>\n",
       "      <td>0.642755</td>\n",
       "      <td>0.750501</td>\n",
       "      <td>0.706744</td>\n",
       "      <td>0.747468</td>\n",
       "      <td>0.591545</td>\n",
       "      <td>0.750501</td>\n",
       "      <td>0.624835</td>\n",
       "      <td>0.746050</td>\n",
       "      <td>00:03</td>\n",
       "    </tr>\n",
       "  </tbody>\n",
       "</table>"
      ],
      "text/plain": [
       "<IPython.core.display.HTML object>"
      ]
     },
     "metadata": {},
     "output_type": "display_data"
    },
    {
     "data": {
      "image/png": "[encoded data removed]",
      "text/plain": [
       "<Figure size 432x288 with 1 Axes>"
      ]
     },
     "metadata": {},
     "output_type": "display_data"
    },
    {
     "name": "stdout",
     "output_type": "stream",
     "text": [
      "Better model found at epoch 0 with accuracy value: 0.7505009770393372.\n"
     ]
    }
   ],
   "source": [
    "learn_clas.freeze_to(-3)\n",
    "learn_clas.fit_one_cycle(1, slice(5e-3/(2.6**4),5e-3), moms=(0.8,0.7))"
   ]
  },
  {
   "cell_type": "code",
   "execution_count": 51,
   "metadata": {},
   "outputs": [
    {
     "data": {
      "text/html": [
       "\n",
       "    <div>\n",
       "        <style>\n",
       "            /* Turns off some styling */\n",
       "            progress {\n",
       "                /* gets rid of default border in Firefox and Opera. */\n",
       "                border: none;\n",
       "                /* Needs to be in here for Safari polyfill so background images work as expected. */\n",
       "                background-size: auto;\n",
       "            }\n",
       "            .progress-bar-interrupted, .progress-bar-interrupted::-webkit-progress-bar {\n",
       "                background: #F44336;\n",
       "            }\n",
       "        </style>\n",
       "      <progress value='6' class='' max='10', style='width:300px; height:20px; vertical-align: middle;'></progress>\n",
       "      60.00% [6/10 00:23<00:15]\n",
       "    </div>\n",
       "    \n",
       "<table border=\"1\" class=\"dataframe\">\n",
       "  <thead>\n",
       "    <tr style=\"text-align: left;\">\n",
       "      <th>epoch</th>\n",
       "      <th>train_loss</th>\n",
       "      <th>valid_loss</th>\n",
       "      <th>accuracy</th>\n",
       "      <th>precision1</th>\n",
       "      <th>precision1</th>\n",
       "      <th>recall</th>\n",
       "      <th>recall</th>\n",
       "      <th>f_beta</th>\n",
       "      <th>f_beta</th>\n",
       "      <th>time</th>\n",
       "    </tr>\n",
       "  </thead>\n",
       "  <tbody>\n",
       "    <tr>\n",
       "      <td>0</td>\n",
       "      <td>0.490413</td>\n",
       "      <td>0.634675</td>\n",
       "      <td>0.752505</td>\n",
       "      <td>0.677849</td>\n",
       "      <td>0.747789</td>\n",
       "      <td>0.574772</td>\n",
       "      <td>0.752505</td>\n",
       "      <td>0.600215</td>\n",
       "      <td>0.747646</td>\n",
       "      <td>00:03</td>\n",
       "    </tr>\n",
       "    <tr>\n",
       "      <td>1</td>\n",
       "      <td>0.495353</td>\n",
       "      <td>0.625780</td>\n",
       "      <td>0.757515</td>\n",
       "      <td>0.658088</td>\n",
       "      <td>0.754764</td>\n",
       "      <td>0.603117</td>\n",
       "      <td>0.757515</td>\n",
       "      <td>0.623290</td>\n",
       "      <td>0.753139</td>\n",
       "      <td>00:03</td>\n",
       "    </tr>\n",
       "    <tr>\n",
       "      <td>2</td>\n",
       "      <td>0.462070</td>\n",
       "      <td>0.620988</td>\n",
       "      <td>0.762525</td>\n",
       "      <td>0.663590</td>\n",
       "      <td>0.758370</td>\n",
       "      <td>0.601964</td>\n",
       "      <td>0.762525</td>\n",
       "      <td>0.625903</td>\n",
       "      <td>0.757823</td>\n",
       "      <td>00:03</td>\n",
       "    </tr>\n",
       "    <tr>\n",
       "      <td>3</td>\n",
       "      <td>0.429315</td>\n",
       "      <td>0.627357</td>\n",
       "      <td>0.767535</td>\n",
       "      <td>0.668860</td>\n",
       "      <td>0.763315</td>\n",
       "      <td>0.614868</td>\n",
       "      <td>0.767535</td>\n",
       "      <td>0.636060</td>\n",
       "      <td>0.764419</td>\n",
       "      <td>00:03</td>\n",
       "    </tr>\n",
       "    <tr>\n",
       "      <td>4</td>\n",
       "      <td>0.379017</td>\n",
       "      <td>0.630903</td>\n",
       "      <td>0.764529</td>\n",
       "      <td>0.630574</td>\n",
       "      <td>0.762682</td>\n",
       "      <td>0.612002</td>\n",
       "      <td>0.764529</td>\n",
       "      <td>0.620663</td>\n",
       "      <td>0.763106</td>\n",
       "      <td>00:03</td>\n",
       "    </tr>\n",
       "    <tr>\n",
       "      <td>5</td>\n",
       "      <td>0.358128</td>\n",
       "      <td>0.633150</td>\n",
       "      <td>0.768537</td>\n",
       "      <td>0.636890</td>\n",
       "      <td>0.766303</td>\n",
       "      <td>0.614094</td>\n",
       "      <td>0.768537</td>\n",
       "      <td>0.624559</td>\n",
       "      <td>0.766316</td>\n",
       "      <td>00:03</td>\n",
       "    </tr>\n",
       "  </tbody>\n",
       "</table><p>\n",
       "\n",
       "    <div>\n",
       "        <style>\n",
       "            /* Turns off some styling */\n",
       "            progress {\n",
       "                /* gets rid of default border in Firefox and Opera. */\n",
       "                border: none;\n",
       "                /* Needs to be in here for Safari polyfill so background images work as expected. */\n",
       "                background-size: auto;\n",
       "            }\n",
       "            .progress-bar-interrupted, .progress-bar-interrupted::-webkit-progress-bar {\n",
       "                background: #F44336;\n",
       "            }\n",
       "        </style>\n",
       "      <progress value='16' class='' max='16', style='width:300px; height:20px; vertical-align: middle;'></progress>\n",
       "      100.00% [16/16 00:00<00:00]\n",
       "    </div>\n",
       "    "
      ],
      "text/plain": [
       "<IPython.core.display.HTML object>"
      ]
     },
     "metadata": {},
     "output_type": "display_data"
    },
    {
     "data": {
      "image/png": "[encoded data removed]",
      "text/plain": [
       "<Figure size 432x288 with 1 Axes>"
      ]
     },
     "metadata": {},
     "output_type": "display_data"
    },
    {
     "name": "stdout",
     "output_type": "stream",
     "text": [
      "Better model found at epoch 0 with accuracy value: 0.7525050044059753.\n",
      "Better model found at epoch 1 with accuracy value: 0.757515013217926.\n",
      "Better model found at epoch 2 with accuracy value: 0.7625250220298767.\n",
      "Better model found at epoch 3 with accuracy value: 0.7675350904464722.\n",
      "Epoch 3: reducing lr to 0.00019009692640269474\n",
      "Epoch 4: reducing lr to 0.00016234913078995263\n",
      "Better model found at epoch 5 with accuracy value: 0.7685370445251465.\n",
      "Epoch 5: reducing lr to 0.00012225240438725783\n",
      "Epoch 6: early stopping\n",
      "Better model found at epoch 6 with accuracy value: 0.7715430855751038.\n",
      "Epoch 6: reducing lr to 7.774839561274215e-05\n"
     ]
    },
    {
     "data": {
      "image/png": "[encoded data removed]",
      "text/plain": [
       "<Figure size 432x288 with 1 Axes>"
      ]
     },
     "metadata": {
      "needs_background": "light"
     },
     "output_type": "display_data"
    }
   ],
   "source": [
    "\n",
    "learn_clas.unfreeze()\n",
    "learn_clas.fit_one_cycle(10, slice(1e-3/(2.6**4),1e-3), moms=(0.8,0.7))"
   ]
  },
  {
   "cell_type": "code",
   "execution_count": 52,
   "metadata": {},
   "outputs": [
    {
     "data": {
      "text/html": [],
      "text/plain": [
       "<IPython.core.display.HTML object>"
      ]
     },
     "metadata": {},
     "output_type": "display_data"
    }
   ],
   "source": [
    "interp = ClassificationInterpretation.from_learner(learn_clas)"
   ]
  },
  {
   "cell_type": "code",
   "execution_count": 53,
   "metadata": {},
   "outputs": [
    {
     "data": {
      "image/png": "[encoded data removed]",
      "text/plain": [
       "<Figure size 1000x1000 with 1 Axes>"
      ]
     },
     "metadata": {
      "needs_background": "light"
     },
     "output_type": "display_data"
    }
   ],
   "source": [
    "interp.plot_confusion_matrix(figsize=(10,10), dpi=100)"
   ]
  },
  {
   "cell_type": "code",
   "execution_count": 54,
   "metadata": {},
   "outputs": [
    {
     "data": {
      "text/html": [],
      "text/plain": [
       "<IPython.core.display.HTML object>"
      ]
     },
     "metadata": {},
     "output_type": "display_data"
    }
   ],
   "source": [
    "preds,y,losses = learn_clas.get_preds(ds_type = DatasetType.Valid,with_loss=True)"
   ]
  },
  {
   "cell_type": "code",
   "execution_count": 55,
   "metadata": {},
   "outputs": [],
   "source": [
    "y_preds = preds.argmax(1)"
   ]
  },
  {
   "cell_type": "code",
   "execution_count": 56,
   "metadata": {},
   "outputs": [],
   "source": [
    "target_names = ['affected_individuals',\n",
    " 'infrastructure_and_utility_damage',\n",
    " 'not_humanitarian',\n",
    " 'other_relevant_information',\n",
    " 'rescue_volunteering_or_donation_effort']"
   ]
  },
  {
   "cell_type": "code",
   "execution_count": 57,
   "metadata": {},
   "outputs": [
    {
     "name": "stdout",
     "output_type": "stream",
     "text": [
      "                                        precision    recall  f1-score   support\n",
      "\n",
      "                  affected_individuals       0.22      0.22      0.22         9\n",
      "     infrastructure_and_utility_damage       0.65      0.59      0.62        80\n",
      "                      not_humanitarian       0.81      0.87      0.84       521\n",
      "            other_relevant_information       0.73      0.69      0.71       239\n",
      "rescue_volunteering_or_donation_effort       0.78      0.70      0.74       149\n",
      "\n",
      "                              accuracy                           0.77       998\n",
      "                             macro avg       0.64      0.61      0.63       998\n",
      "                          weighted avg       0.77      0.77      0.77       998\n",
      "\n"
     ]
    }
   ],
   "source": [
    "print(classification_report(y, y_preds, target_names=target_names))"
   ]
  },
  {
   "cell_type": "code",
   "execution_count": 58,
   "metadata": {},
   "outputs": [
    {
     "data": {
      "text/html": [],
      "text/plain": [
       "<IPython.core.display.HTML object>"
      ]
     },
     "metadata": {},
     "output_type": "display_data"
    },
    {
     "data": {
      "text/plain": [
       "[0.6614636,\n",
       " tensor(0.7613),\n",
       " tensor(0.6382),\n",
       " tensor(0.7588),\n",
       " tensor(0.6150),\n",
       " tensor(0.7613),\n",
       " tensor(0.6253),\n",
       " tensor(0.7592)]"
      ]
     },
     "execution_count": 58,
     "metadata": {},
     "output_type": "execute_result"
    }
   ],
   "source": [
    "learn_clas.validate(test_data_clas.valid_dl,metrics=[accuracy,Precision1(average='macro'),Precision1(average='weighted'),\n",
    "                                                           Recall(average='macro'),Recall(average='weighted'),\n",
    "                                                           FBeta(average='macro',beta=1),FBeta(average='weighted',beta=1)])"
   ]
  },
  {
   "cell_type": "code",
   "execution_count": 59,
   "metadata": {},
   "outputs": [
    {
     "data": {
      "text/html": [],
      "text/plain": [
       "<IPython.core.display.HTML object>"
      ]
     },
     "metadata": {},
     "output_type": "display_data"
    },
    {
     "name": "stdout",
     "output_type": "stream",
     "text": [
      "                                        precision    recall  f1-score   support\n",
      "\n",
      "                  affected_individuals       0.25      0.22      0.24         9\n",
      "     infrastructure_and_utility_damage       0.70      0.63      0.66        81\n",
      "                      not_humanitarian       0.79      0.88      0.83       504\n",
      "            other_relevant_information       0.80      0.64      0.71       235\n",
      "rescue_volunteering_or_donation_effort       0.72      0.71      0.71       126\n",
      "\n",
      "                              accuracy                           0.77       955\n",
      "                             macro avg       0.65      0.62      0.63       955\n",
      "                          weighted avg       0.77      0.77      0.77       955\n",
      "\n"
     ]
    }
   ],
   "source": [
    "preds,y,losses = learn_clas.get_preds(ds_type = DatasetType.Test,with_loss=True)\n",
    "y_preds = preds.argmax(1)\n",
    "y = [test_data_clas.valid_ds[i][1].data for i in range(len(test_data_clas.valid_ds))]\n",
    "print(classification_report(y, y_preds, target_names=target_names))"
   ]
  },
  {
   "cell_type": "code",
   "execution_count": null,
   "metadata": {},
   "outputs": [],
   "source": []
  }
 ],
 "metadata": {
  "kernelspec": {
   "display_name": "Python 3",
   "language": "python",
   "name": "python3"
  },
  "language_info": {
   "codemirror_mode": {
    "name": "ipython",
    "version": 3
   },
   "file_extension": ".py",
   "mimetype": "text/x-python",
   "name": "python",
   "nbconvert_exporter": "python",
   "pygments_lexer": "ipython3",
   "version": "3.7.6"
  }
 },
 "nbformat": 4,
 "nbformat_minor": 4
}
