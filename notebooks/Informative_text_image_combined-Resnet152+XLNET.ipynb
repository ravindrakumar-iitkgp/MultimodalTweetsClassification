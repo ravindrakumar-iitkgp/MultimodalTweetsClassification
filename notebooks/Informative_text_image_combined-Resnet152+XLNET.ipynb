{
 "cells": [
  {
   "cell_type": "markdown",
   "metadata": {},
   "source": [
    "# Building Multimodal Model"
   ]
  },
  {
   "cell_type": "code",
   "execution_count": 1,
   "metadata": {},
   "outputs": [
    {
     "name": "stdout",
     "output_type": "stream",
     "text": [
      "/notebooks/MultimodalTweetsClassification\n"
     ]
    }
   ],
   "source": [
    "cd .."
   ]
  },
  {
   "cell_type": "code",
   "execution_count": 2,
   "metadata": {},
   "outputs": [],
   "source": [
    "#ensuring that any edits to libraries you make are reloaded here automatically\n",
    "#to ensuere charts or images displayed are shown in this notebook\n",
    "%reload_ext autoreload\n",
    "%autoreload 2\n",
    "%matplotlib inline "
   ]
  },
  {
   "cell_type": "code",
   "execution_count": 3,
   "metadata": {},
   "outputs": [],
   "source": [
    "#importing required modules\n",
    "from exp.Required_Modules_And_Packages import *\n",
    "from exp.Data_Reading_And_Preprocessing import *\n",
    "from exp.Required_Integration_Functionalities_For_Transformer_To_Fastai import *\n",
    "from exp.Required_Functionalities_To_Handal_Multimodal_Dataset import *\n",
    "from exp.Multimodal_Model_With_Intermediate_Or_EmbraceNet_Fusion import *"
   ]
  },
  {
   "cell_type": "code",
   "execution_count": 4,
   "metadata": {},
   "outputs": [],
   "source": [
    "from transformers import XLNetForSequenceClassification, XLNetTokenizer, XLNetConfig"
   ]
  },
  {
   "cell_type": "code",
   "execution_count": 5,
   "metadata": {},
   "outputs": [],
   "source": [
    "path = Path('/notebooks/MultimodalTweetsClassification')\n",
    "# path.ls()"
   ]
  },
  {
   "cell_type": "code",
   "execution_count": 6,
   "metadata": {},
   "outputs": [],
   "source": [
    "path_img = path/'data_image'"
   ]
  },
  {
   "cell_type": "code",
   "execution_count": 7,
   "metadata": {},
   "outputs": [],
   "source": [
    "# Uncomment the code if dataset and labels are in .tar.gz and .zip format respectively\n",
    "\n",
    "# data = \"CrisisMMD_v2.tar.gz\"\n",
    "# agreed_label = \"crisismmd_datasplit_agreed_label.zip\"\n",
    "# untar_data_and_unzip_label(data,agreed_label)"
   ]
  },
  {
   "cell_type": "code",
   "execution_count": 8,
   "metadata": {},
   "outputs": [
    {
     "name": "stdout",
     "output_type": "stream",
     "text": [
      "reading data and preprocessing it.....\n",
      "done!!\n"
     ]
    }
   ],
   "source": [
    "#reading csv files and doing initial necessary processing\n",
    "data_info_text_image,test_data_info_text_image = get_dataframe(*get_tsv_data_files('Informativeness_task_tsv_files'),path)"
   ]
  },
  {
   "cell_type": "code",
   "execution_count": 9,
   "metadata": {},
   "outputs": [
    {
     "name": "stdout",
     "output_type": "stream",
     "text": [
      "shape of data: (11173, 10)\n",
      "\n",
      "train set: 9600\n",
      "valid set: 1573\n",
      "==================================================\n",
      "shape of test data: (1534, 9)\n",
      "\n"
     ]
    }
   ],
   "source": [
    "print(f\"shape of data: {data_info_text_image.shape}\\n\")\n",
    "print(f\"train set: {data_info_text_image['is_valid'].value_counts()[0]}\")\n",
    "print(f\"valid set: {data_info_text_image['is_valid'].value_counts()[1]}\")      \n",
    "print(\"=\"*50)\n",
    "print(f\"shape of test data: {test_data_info_text_image.shape}\\n\")"
   ]
  },
  {
   "cell_type": "code",
   "execution_count": 10,
   "metadata": {},
   "outputs": [],
   "source": [
    "MODEL_CLASSES = {'xlnet': (XLNetForSequenceClassification, XLNetTokenizer, XLNetConfig)}"
   ]
  },
  {
   "cell_type": "code",
   "execution_count": 11,
   "metadata": {},
   "outputs": [],
   "source": [
    "model_type = 'xlnet'\n",
    "pretrained_model_name = 'xlnet-base-cased'"
   ]
  },
  {
   "cell_type": "code",
   "execution_count": 12,
   "metadata": {},
   "outputs": [],
   "source": [
    "model_class, tokenizer_class, config_class = MODEL_CLASSES[model_type]"
   ]
  },
  {
   "cell_type": "code",
   "execution_count": 13,
   "metadata": {},
   "outputs": [],
   "source": [
    "transformer_tokenizer = tokenizer_class.from_pretrained(pretrained_model_name)\n",
    "transformer_base_tokenizer = TransformersBaseTokenizer(pretrained_tokenizer = transformer_tokenizer, model_type = model_type)\n",
    "fastai_tokenizer = Tokenizer(tok_func = transformer_base_tokenizer, pre_rules=[], post_rules=[])"
   ]
  },
  {
   "cell_type": "code",
   "execution_count": 14,
   "metadata": {},
   "outputs": [],
   "source": [
    "transformer_vocab =  TransformersVocab(tokenizer = transformer_tokenizer)"
   ]
  },
  {
   "cell_type": "code",
   "execution_count": 15,
   "metadata": {},
   "outputs": [],
   "source": [
    "numericalize_processor = NumericalizeProcessor(vocab=transformer_vocab)\n",
    "tokenize_processor = TokenizeProcessor(tokenizer=fastai_tokenizer, include_bos=False, include_eos=False)\n",
    "\n",
    "transformer_processor = [tokenize_processor, numericalize_processor]"
   ]
  },
  {
   "cell_type": "code",
   "execution_count": 16,
   "metadata": {},
   "outputs": [],
   "source": [
    "pad_first = bool(model_type in ['xlnet'])\n",
    "pad_idx = transformer_tokenizer.pad_token_id"
   ]
  },
  {
   "cell_type": "code",
   "execution_count": 17,
   "metadata": {},
   "outputs": [
    {
     "data": {
      "text/html": [],
      "text/plain": [
       "<IPython.core.display.HTML object>"
      ]
     },
     "metadata": {},
     "output_type": "display_data"
    },
    {
     "data": {
      "text/html": [],
      "text/plain": [
       "<IPython.core.display.HTML object>"
      ]
     },
     "metadata": {},
     "output_type": "display_data"
    },
    {
     "data": {
      "text/html": [],
      "text/plain": [
       "<IPython.core.display.HTML object>"
      ]
     },
     "metadata": {},
     "output_type": "display_data"
    },
    {
     "data": {
      "text/html": [],
      "text/plain": [
       "<IPython.core.display.HTML object>"
      ]
     },
     "metadata": {},
     "output_type": "display_data"
    }
   ],
   "source": [
    "# preprocessing and creating text databunch object for data(train and dev split) and test data(test split)\n",
    "data_clas = get_text_data(data_info_text_image,path,pad_first,pad_idx,processor=transformer_processor)\n",
    "test_data_clas = get_test_text_data(test_data_info_text_image,path,pad_first,pad_idx,processor=transformer_processor)"
   ]
  },
  {
   "cell_type": "code",
   "execution_count": 18,
   "metadata": {},
   "outputs": [
    {
     "data": {
      "text/html": [],
      "text/plain": [
       "<IPython.core.display.HTML object>"
      ]
     },
     "metadata": {},
     "output_type": "display_data"
    }
   ],
   "source": [
    "# making single databunch object of data and test data\n",
    "data_clas.add_test(test_data_clas.train_ds)\n",
    "data_clas.test_ds.y = test_data_clas.train_ds.y"
   ]
  },
  {
   "cell_type": "code",
   "execution_count": 19,
   "metadata": {
    "scrolled": true
   },
   "outputs": [],
   "source": [
    "config = config_class.from_pretrained(pretrained_model_name)\n",
    "config.num_labels = 2\n",
    "config.use_bfloat16 = False\n",
    "# print(config)"
   ]
  },
  {
   "cell_type": "code",
   "execution_count": 20,
   "metadata": {},
   "outputs": [],
   "source": [
    "transformer_model = model_class.from_pretrained(pretrained_model_name, config = config)\n",
    "custom_transformer_model = CustomTransformerModel(pad_idx,transformer_model = transformer_model)"
   ]
  },
  {
   "cell_type": "code",
   "execution_count": 21,
   "metadata": {},
   "outputs": [],
   "source": [
    "CustomAdamW = partial(AdamW, correct_bias=False)\n",
    "\n",
    "learn_clas = Learner(data_clas, custom_transformer_model,loss_func=nn.CrossEntropyLoss(),opt_func = CustomAdamW, \n",
    "                  metrics=[accuracy,Precision1(average='macro'),\n",
    "                Precision1(average='weighted'),Recall(average='macro'),Recall(average='weighted'),\n",
    "               FBeta(average='macro',beta=1.),FBeta(average='weighted',beta=1.)])"
   ]
  },
  {
   "cell_type": "code",
   "execution_count": 22,
   "metadata": {
    "scrolled": true
   },
   "outputs": [],
   "source": [
    "# print(learn_clas.model)"
   ]
  },
  {
   "cell_type": "code",
   "execution_count": 23,
   "metadata": {
    "scrolled": true
   },
   "outputs": [],
   "source": [
    "learn_clas.model.transformer = learn_clas.model.transformer.transformer\n",
    "# print(learn_clas.model)"
   ]
  },
  {
   "cell_type": "code",
   "execution_count": 24,
   "metadata": {},
   "outputs": [],
   "source": [
    "#creating image databunch object for data(train and dev split) and test data(test split)\n",
    "data_img = get_image_data(data_info_text_image,path,224)\n",
    "test_data_img = get_test_image_data(test_data_info_text_image,path,224)"
   ]
  },
  {
   "cell_type": "code",
   "execution_count": 25,
   "metadata": {},
   "outputs": [],
   "source": [
    "# making single databunch object of data and test data\n",
    "data_img.add_test(test_data_img.x)\n",
    "data_img.test_ds.y = test_data_img.y"
   ]
  },
  {
   "cell_type": "code",
   "execution_count": 26,
   "metadata": {},
   "outputs": [],
   "source": [
    "# creating a learner object with image model to use it for concatenation \n",
    "arch = models.resnet152\n",
    "learn_img = cnn_learner(data_img, arch, metrics=[accuracy,Precision(average='macro'),Precision(average='weighted'),\n",
    "                                                 Recall(average='macro'),Recall(average='weighted'),\n",
    "                                                 FBeta(average='macro',beta=1.),FBeta(average='weighted',beta=1.)])"
   ]
  },
  {
   "cell_type": "code",
   "execution_count": 27,
   "metadata": {},
   "outputs": [],
   "source": [
    "# learn_img.model"
   ]
  },
  {
   "cell_type": "code",
   "execution_count": 28,
   "metadata": {},
   "outputs": [],
   "source": [
    "learn_img.model[-1] = learn_img.model[-1][:-3]\n",
    "# learn_img.model"
   ]
  },
  {
   "cell_type": "code",
   "execution_count": 29,
   "metadata": {},
   "outputs": [],
   "source": [
    "#creating dataset object of ConcatDataset Class\n",
    "train_ds = ConcatDataset(data_img.train_ds, data_clas.train_ds.x, data_clas.train_ds.y)\n",
    "valid_ds = ConcatDataset(data_img.valid_ds, data_clas.valid_ds.x, data_clas.valid_ds.y)\n",
    "test_ds = ConcatDataset(data_img.test_ds, data_clas.test_ds.x,data_clas.test_ds.y)"
   ]
  },
  {
   "cell_type": "code",
   "execution_count": 30,
   "metadata": {},
   "outputs": [],
   "source": [
    "# creating data sampler object\n",
    "bs = 16\n",
    "train_sampler = SortishSampler(data_clas.train_ds.x, key=lambda t: len(data_clas.train_ds[t][0].data), bs=bs//2)\n",
    "valid_sampler = SortSampler(data_clas.valid_ds.x, key=lambda t: len(data_clas.valid_ds[t][0].data))\n",
    "test_sampler = SortSampler(data_clas.test_ds.x, key=lambda t: len(data_clas.test_ds[t][0].data))"
   ]
  },
  {
   "cell_type": "code",
   "execution_count": 31,
   "metadata": {},
   "outputs": [],
   "source": [
    "# creating dataloader object for databuch\n",
    "train_dl = DataLoader(train_ds, bs, sampler=train_sampler)\n",
    "valid_dl = DataLoader(valid_ds, bs, sampler=valid_sampler)\n",
    "test_dl = DataLoader(test_ds, bs, sampler=test_sampler)"
   ]
  },
  {
   "cell_type": "code",
   "execution_count": 32,
   "metadata": {},
   "outputs": [],
   "source": [
    "#creating databuch object to use it in learner for training \n",
    "data = DataBunch(train_dl=train_dl,valid_dl=valid_dl,test_dl=test_dl, device=defaults.device, \n",
    "                 collate_fn=my_collate, path=path)"
   ]
  },
  {
   "cell_type": "code",
   "execution_count": 33,
   "metadata": {},
   "outputs": [
    {
     "name": "stdout",
     "output_type": "stream",
     "text": [
      "Shape image batch : torch.Size([16, 3, 224, 224])\n",
      "Shape text batch: torch.Size([16, 56])\n",
      "Shape dependent var: torch.Size([16])\n"
     ]
    }
   ],
   "source": [
    "(x1,x2),y = next(iter(data.test_dl))\n",
    "print(f'Shape image batch : {(x1.shape)}')\n",
    "print(f'Shape text batch: {x2.shape}')\n",
    "print(f'Shape dependent var: {y.shape}')"
   ]
  },
  {
   "cell_type": "code",
   "execution_count": 34,
   "metadata": {},
   "outputs": [],
   "source": [
    "lin_layers = [512+768, 2]\n",
    "ps = 0.1\n",
    "model = IntermediateConcatModel(learn_img.model, learn_clas.model, lin_layers, ps,with_transformer=True)"
   ]
  },
  {
   "cell_type": "code",
   "execution_count": 35,
   "metadata": {},
   "outputs": [],
   "source": [
    "#making layer groupes and creating learner object for training\n",
    "loss_func = nn.CrossEntropyLoss()\n",
    "\n",
    "layer_groups = [nn.Sequential(*(flatten_model(learn_clas.model.transformer.word_embedding)+\n",
    "                                flatten_model(learn_clas.model.transformer.layer[0])+\n",
    "                                flatten_model(learn_clas.model.transformer.layer[1])+\n",
    "                                flatten_model(learn_clas.model.transformer.layer[2])+\n",
    "                                flatten_model(learn_img.layer_groups[0]))),\n",
    "                \n",
    "                nn.Sequential(*(flatten_model(learn_clas.model.transformer.layer[3])+\n",
    "                                flatten_model(learn_clas.model.transformer.layer[4])+\n",
    "                                flatten_model(learn_clas.model.transformer.layer[5])+\n",
    "                                flatten_model(learn_clas.model.transformer.layer[6])+\n",
    "                                flatten_model(learn_img.layer_groups[1]))),\n",
    "                \n",
    "                nn.Sequential(*(flatten_model(learn_clas.model.transformer.layer[7])+\n",
    "                                flatten_model(learn_clas.model.transformer.layer[8])+\n",
    "                                flatten_model(learn_clas.model.transformer.layer[9])+\n",
    "                                flatten_model(learn_clas.model.transformer.layer[10])+\n",
    "                                flatten_model(learn_clas.model.transformer.layer[11])+ \n",
    "                                flatten_model(learn_img.layer_groups[2]))),\n",
    "               nn.Sequential(*(\n",
    "                   flatten_model(model.layers)))]"
   ]
  },
  {
   "cell_type": "code",
   "execution_count": 36,
   "metadata": {},
   "outputs": [],
   "source": [
    "# model.eval()\n",
    "learn = Learner(data, model, loss_func=loss_func, metrics=[accuracy,Precision1(average='macro'),\n",
    "                Precision1(average='weighted'),Recall(average='macro'),Recall(average='weighted'),\n",
    "               FBeta(average='macro',beta=1.),FBeta(average='weighted',beta=1.)],\n",
    "            callback_fns=[ShowGraph,partial(EarlyStoppingCallback, monitor='valid_loss', min_delta=0.01, patience=3),\n",
    "               partial(ReduceLROnPlateauCallback,monitor='valid_loss', mode='auto', patience=0,\n",
    "                       factor=0.2, min_delta=0, min_lr=0.000001)],layer_groups=layer_groups)"
   ]
  },
  {
   "cell_type": "code",
   "execution_count": 37,
   "metadata": {},
   "outputs": [
    {
     "data": {
      "text/plain": [
       "4"
      ]
     },
     "execution_count": 37,
     "metadata": {},
     "output_type": "execute_result"
    }
   ],
   "source": [
    "len(learn.layer_groups)"
   ]
  },
  {
   "cell_type": "code",
   "execution_count": 38,
   "metadata": {},
   "outputs": [],
   "source": [
    "# learn.model"
   ]
  },
  {
   "cell_type": "code",
   "execution_count": 57,
   "metadata": {},
   "outputs": [],
   "source": [
    "learn.freeze()"
   ]
  },
  {
   "cell_type": "code",
   "execution_count": 61,
   "metadata": {},
   "outputs": [
    {
     "data": {
      "text/html": [
       "\n",
       "    <div>\n",
       "        <style>\n",
       "            /* Turns off some styling */\n",
       "            progress {\n",
       "                /* gets rid of default border in Firefox and Opera. */\n",
       "                border: none;\n",
       "                /* Needs to be in here for Safari polyfill so background images work as expected. */\n",
       "                background-size: auto;\n",
       "            }\n",
       "            .progress-bar-interrupted, .progress-bar-interrupted::-webkit-progress-bar {\n",
       "                background: #F44336;\n",
       "            }\n",
       "        </style>\n",
       "      <progress value='0' class='' max='1', style='width:300px; height:20px; vertical-align: middle;'></progress>\n",
       "      0.00% [0/1 00:00<00:00]\n",
       "    </div>\n",
       "    \n",
       "<table border=\"1\" class=\"dataframe\">\n",
       "  <thead>\n",
       "    <tr style=\"text-align: left;\">\n",
       "      <th>epoch</th>\n",
       "      <th>train_loss</th>\n",
       "      <th>valid_loss</th>\n",
       "      <th>accuracy</th>\n",
       "      <th>precision1</th>\n",
       "      <th>precision1</th>\n",
       "      <th>recall</th>\n",
       "      <th>recall</th>\n",
       "      <th>f_beta</th>\n",
       "      <th>f_beta</th>\n",
       "      <th>time</th>\n",
       "    </tr>\n",
       "  </thead>\n",
       "  <tbody>\n",
       "  </tbody>\n",
       "</table><p>\n",
       "\n",
       "    <div>\n",
       "        <style>\n",
       "            /* Turns off some styling */\n",
       "            progress {\n",
       "                /* gets rid of default border in Firefox and Opera. */\n",
       "                border: none;\n",
       "                /* Needs to be in here for Safari polyfill so background images work as expected. */\n",
       "                background-size: auto;\n",
       "            }\n",
       "            .progress-bar-interrupted, .progress-bar-interrupted::-webkit-progress-bar {\n",
       "                background: #F44336;\n",
       "            }\n",
       "        </style>\n",
       "      <progress value='81' class='' max='600', style='width:300px; height:20px; vertical-align: middle;'></progress>\n",
       "      13.50% [81/600 00:31<03:22 2.1595]\n",
       "    </div>\n",
       "    "
      ],
      "text/plain": [
       "<IPython.core.display.HTML object>"
      ]
     },
     "metadata": {},
     "output_type": "display_data"
    },
    {
     "name": "stdout",
     "output_type": "stream",
     "text": [
      "LR Finder is complete, type {learner_name}.recorder.plot() to see the graph.\n"
     ]
    }
   ],
   "source": [
    "# training model using discriminative fine-tunnig and gradual unfreezing\n",
    "learn.lr_find()"
   ]
  },
  {
   "cell_type": "code",
   "execution_count": 62,
   "metadata": {},
   "outputs": [
    {
     "name": "stdout",
     "output_type": "stream",
     "text": [
      "Min numerical gradient: 4.37E-03\n",
      "Min loss divided by 10: 1.45E-04\n"
     ]
    },
    {
     "data": {
      "image/png": "[encoded data removed]",
      "text/plain": [
       "<Figure size 432x288 with 1 Axes>"
      ]
     },
     "metadata": {
      "needs_background": "light"
     },
     "output_type": "display_data"
    }
   ],
   "source": [
    "learn.recorder.plot(suggestion=True)"
   ]
  },
  {
   "cell_type": "code",
   "execution_count": 63,
   "metadata": {},
   "outputs": [
    {
     "data": {
      "text/html": [
       "<table border=\"1\" class=\"dataframe\">\n",
       "  <thead>\n",
       "    <tr style=\"text-align: left;\">\n",
       "      <th>epoch</th>\n",
       "      <th>train_loss</th>\n",
       "      <th>valid_loss</th>\n",
       "      <th>accuracy</th>\n",
       "      <th>precision1</th>\n",
       "      <th>precision1</th>\n",
       "      <th>recall</th>\n",
       "      <th>recall</th>\n",
       "      <th>f_beta</th>\n",
       "      <th>f_beta</th>\n",
       "      <th>time</th>\n",
       "    </tr>\n",
       "  </thead>\n",
       "  <tbody>\n",
       "    <tr>\n",
       "      <td>0</td>\n",
       "      <td>0.489921</td>\n",
       "      <td>0.479358</td>\n",
       "      <td>0.760331</td>\n",
       "      <td>0.742114</td>\n",
       "      <td>0.790009</td>\n",
       "      <td>0.769665</td>\n",
       "      <td>0.760331</td>\n",
       "      <td>0.746132</td>\n",
       "      <td>0.766704</td>\n",
       "      <td>03:55</td>\n",
       "    </tr>\n",
       "    <tr>\n",
       "      <td>1</td>\n",
       "      <td>0.442596</td>\n",
       "      <td>0.410108</td>\n",
       "      <td>0.815639</td>\n",
       "      <td>0.791034</td>\n",
       "      <td>0.824952</td>\n",
       "      <td>0.809377</td>\n",
       "      <td>0.815639</td>\n",
       "      <td>0.797985</td>\n",
       "      <td>0.818448</td>\n",
       "      <td>03:56</td>\n",
       "    </tr>\n",
       "    <tr>\n",
       "      <td>2</td>\n",
       "      <td>0.354395</td>\n",
       "      <td>0.388526</td>\n",
       "      <td>0.834075</td>\n",
       "      <td>0.818890</td>\n",
       "      <td>0.831124</td>\n",
       "      <td>0.795958</td>\n",
       "      <td>0.834075</td>\n",
       "      <td>0.805380</td>\n",
       "      <td>0.830987</td>\n",
       "      <td>03:56</td>\n",
       "    </tr>\n",
       "    <tr>\n",
       "      <td>3</td>\n",
       "      <td>0.324939</td>\n",
       "      <td>0.379481</td>\n",
       "      <td>0.836618</td>\n",
       "      <td>0.818403</td>\n",
       "      <td>0.834315</td>\n",
       "      <td>0.805257</td>\n",
       "      <td>0.836618</td>\n",
       "      <td>0.811115</td>\n",
       "      <td>0.834897</td>\n",
       "      <td>03:56</td>\n",
       "    </tr>\n",
       "    <tr>\n",
       "      <td>4</td>\n",
       "      <td>0.289933</td>\n",
       "      <td>0.378541</td>\n",
       "      <td>0.838525</td>\n",
       "      <td>0.820538</td>\n",
       "      <td>0.836302</td>\n",
       "      <td>0.807664</td>\n",
       "      <td>0.838525</td>\n",
       "      <td>0.813420</td>\n",
       "      <td>0.836872</td>\n",
       "      <td>03:56</td>\n",
       "    </tr>\n",
       "  </tbody>\n",
       "</table>"
      ],
      "text/plain": [
       "<IPython.core.display.HTML object>"
      ]
     },
     "metadata": {},
     "output_type": "display_data"
    },
    {
     "data": {
      "image/png": "[encoded data removed]",
      "text/plain": [
       "<Figure size 432x288 with 1 Axes>"
      ]
     },
     "metadata": {},
     "output_type": "display_data"
    },
    {
     "name": "stdout",
     "output_type": "stream",
     "text": [
      "Better model found at epoch 0 with accuracy value: 0.7603305578231812.\n",
      "Better model found at epoch 1 with accuracy value: 0.8156388998031616.\n",
      "Better model found at epoch 2 with accuracy value: 0.8340750336647034.\n",
      "Better model found at epoch 3 with accuracy value: 0.8366179466247559.\n",
      "Better model found at epoch 4 with accuracy value: 0.838525116443634.\n"
     ]
    }
   ],
   "source": [
    "# training the model's top layer's keeping keep other layer's in freezing mode, all the metrics shown here, have been\n",
    "# evaluted on validation set\n",
    "learn.fit_one_cycle(5,slice(1e-3), moms=(0.8, 0.7),wd=1e-1,\n",
    "                   callbacks=[SaveModelCallback(learn,every='improvement', monitor='accuracy', name='best')])"
   ]
  },
  {
   "cell_type": "code",
   "execution_count": 64,
   "metadata": {},
   "outputs": [
    {
     "data": {
      "text/html": [
       "<table border=\"1\" class=\"dataframe\">\n",
       "  <thead>\n",
       "    <tr style=\"text-align: left;\">\n",
       "      <th>epoch</th>\n",
       "      <th>train_loss</th>\n",
       "      <th>valid_loss</th>\n",
       "      <th>accuracy</th>\n",
       "      <th>precision1</th>\n",
       "      <th>precision1</th>\n",
       "      <th>recall</th>\n",
       "      <th>recall</th>\n",
       "      <th>f_beta</th>\n",
       "      <th>f_beta</th>\n",
       "      <th>time</th>\n",
       "    </tr>\n",
       "  </thead>\n",
       "  <tbody>\n",
       "    <tr>\n",
       "      <td>0</td>\n",
       "      <td>0.584419</td>\n",
       "      <td>0.521985</td>\n",
       "      <td>0.809917</td>\n",
       "      <td>0.802055</td>\n",
       "      <td>0.807267</td>\n",
       "      <td>0.750816</td>\n",
       "      <td>0.809917</td>\n",
       "      <td>0.766859</td>\n",
       "      <td>0.801191</td>\n",
       "      <td>03:28</td>\n",
       "    </tr>\n",
       "    <tr>\n",
       "      <td>1</td>\n",
       "      <td>0.384116</td>\n",
       "      <td>0.385713</td>\n",
       "      <td>0.839161</td>\n",
       "      <td>0.819274</td>\n",
       "      <td>0.837851</td>\n",
       "      <td>0.813074</td>\n",
       "      <td>0.839161</td>\n",
       "      <td>0.816008</td>\n",
       "      <td>0.838372</td>\n",
       "      <td>03:28</td>\n",
       "    </tr>\n",
       "  </tbody>\n",
       "</table>"
      ],
      "text/plain": [
       "<IPython.core.display.HTML object>"
      ]
     },
     "metadata": {},
     "output_type": "display_data"
    },
    {
     "data": {
      "image/png": "[encoded data removed]",
      "text/plain": [
       "<Figure size 432x288 with 1 Axes>"
      ]
     },
     "metadata": {},
     "output_type": "display_data"
    }
   ],
   "source": [
    "learn.freeze_to(-2)\n",
    "learn.fit_one_cycle(2, slice(5e-3/(2.6**4), 5e-3), moms=(0.8, 0.7))"
   ]
  },
  {
   "cell_type": "code",
   "execution_count": 65,
   "metadata": {},
   "outputs": [
    {
     "data": {
      "text/html": [
       "<table border=\"1\" class=\"dataframe\">\n",
       "  <thead>\n",
       "    <tr style=\"text-align: left;\">\n",
       "      <th>epoch</th>\n",
       "      <th>train_loss</th>\n",
       "      <th>valid_loss</th>\n",
       "      <th>accuracy</th>\n",
       "      <th>precision1</th>\n",
       "      <th>precision1</th>\n",
       "      <th>recall</th>\n",
       "      <th>recall</th>\n",
       "      <th>f_beta</th>\n",
       "      <th>f_beta</th>\n",
       "      <th>time</th>\n",
       "    </tr>\n",
       "  </thead>\n",
       "  <tbody>\n",
       "    <tr>\n",
       "      <td>0</td>\n",
       "      <td>0.542599</td>\n",
       "      <td>0.515850</td>\n",
       "      <td>0.789574</td>\n",
       "      <td>0.761517</td>\n",
       "      <td>0.790543</td>\n",
       "      <td>0.763802</td>\n",
       "      <td>0.789574</td>\n",
       "      <td>0.762626</td>\n",
       "      <td>0.790032</td>\n",
       "      <td>04:28</td>\n",
       "    </tr>\n",
       "    <tr>\n",
       "      <td>1</td>\n",
       "      <td>0.426090</td>\n",
       "      <td>0.412492</td>\n",
       "      <td>0.811189</td>\n",
       "      <td>0.799265</td>\n",
       "      <td>0.807579</td>\n",
       "      <td>0.757193</td>\n",
       "      <td>0.811189</td>\n",
       "      <td>0.771437</td>\n",
       "      <td>0.804099</td>\n",
       "      <td>04:27</td>\n",
       "    </tr>\n",
       "    <tr>\n",
       "      <td>2</td>\n",
       "      <td>0.295063</td>\n",
       "      <td>0.368272</td>\n",
       "      <td>0.827718</td>\n",
       "      <td>0.811129</td>\n",
       "      <td>0.824494</td>\n",
       "      <td>0.788755</td>\n",
       "      <td>0.827718</td>\n",
       "      <td>0.797924</td>\n",
       "      <td>0.824511</td>\n",
       "      <td>04:28</td>\n",
       "    </tr>\n",
       "  </tbody>\n",
       "</table>"
      ],
      "text/plain": [
       "<IPython.core.display.HTML object>"
      ]
     },
     "metadata": {},
     "output_type": "display_data"
    },
    {
     "data": {
      "image/png": "[encoded data removed]",
      "text/plain": [
       "<Figure size 432x288 with 1 Axes>"
      ]
     },
     "metadata": {},
     "output_type": "display_data"
    }
   ],
   "source": [
    "learn.freeze_to(-3)\n",
    "learn.fit_one_cycle(3, slice(2e-3/(2.6**4), 2e-3), moms=(0.8, 0.7))"
   ]
  },
  {
   "cell_type": "code",
   "execution_count": 66,
   "metadata": {},
   "outputs": [
    {
     "data": {
      "text/html": [
       "\n",
       "    <div>\n",
       "        <style>\n",
       "            /* Turns off some styling */\n",
       "            progress {\n",
       "                /* gets rid of default border in Firefox and Opera. */\n",
       "                border: none;\n",
       "                /* Needs to be in here for Safari polyfill so background images work as expected. */\n",
       "                background-size: auto;\n",
       "            }\n",
       "            .progress-bar-interrupted, .progress-bar-interrupted::-webkit-progress-bar {\n",
       "                background: #F44336;\n",
       "            }\n",
       "        </style>\n",
       "      <progress value='0' class='' max='1', style='width:300px; height:20px; vertical-align: middle;'></progress>\n",
       "      0.00% [0/1 00:00<00:00]\n",
       "    </div>\n",
       "    \n",
       "<table border=\"1\" class=\"dataframe\">\n",
       "  <thead>\n",
       "    <tr style=\"text-align: left;\">\n",
       "      <th>epoch</th>\n",
       "      <th>train_loss</th>\n",
       "      <th>valid_loss</th>\n",
       "      <th>accuracy</th>\n",
       "      <th>precision1</th>\n",
       "      <th>precision1</th>\n",
       "      <th>recall</th>\n",
       "      <th>recall</th>\n",
       "      <th>f_beta</th>\n",
       "      <th>f_beta</th>\n",
       "      <th>time</th>\n",
       "    </tr>\n",
       "  </thead>\n",
       "  <tbody>\n",
       "  </tbody>\n",
       "</table><p>\n",
       "\n",
       "    <div>\n",
       "        <style>\n",
       "            /* Turns off some styling */\n",
       "            progress {\n",
       "                /* gets rid of default border in Firefox and Opera. */\n",
       "                border: none;\n",
       "                /* Needs to be in here for Safari polyfill so background images work as expected. */\n",
       "                background-size: auto;\n",
       "            }\n",
       "            .progress-bar-interrupted, .progress-bar-interrupted::-webkit-progress-bar {\n",
       "                background: #F44336;\n",
       "            }\n",
       "        </style>\n",
       "      <progress value='75' class='' max='600', style='width:300px; height:20px; vertical-align: middle;'></progress>\n",
       "      12.50% [75/600 00:36<04:16 0.6090]\n",
       "    </div>\n",
       "    "
      ],
      "text/plain": [
       "<IPython.core.display.HTML object>"
      ]
     },
     "metadata": {},
     "output_type": "display_data"
    },
    {
     "name": "stdout",
     "output_type": "stream",
     "text": [
      "LR Finder is complete, type {learner_name}.recorder.plot() to see the graph.\n"
     ]
    },
    {
     "data": {
      "image/png": "[encoded data removed]",
      "text/plain": [
       "<Figure size 432x288 with 1 Axes>"
      ]
     },
     "metadata": {
      "needs_background": "light"
     },
     "output_type": "display_data"
    }
   ],
   "source": [
    "learn.unfreeze()\n",
    "learn.lr_find()\n",
    "learn.recorder.plot()"
   ]
  },
  {
   "cell_type": "code",
   "execution_count": 67,
   "metadata": {},
   "outputs": [
    {
     "data": {
      "text/html": [
       "<table border=\"1\" class=\"dataframe\">\n",
       "  <thead>\n",
       "    <tr style=\"text-align: left;\">\n",
       "      <th>epoch</th>\n",
       "      <th>train_loss</th>\n",
       "      <th>valid_loss</th>\n",
       "      <th>accuracy</th>\n",
       "      <th>precision1</th>\n",
       "      <th>precision1</th>\n",
       "      <th>recall</th>\n",
       "      <th>recall</th>\n",
       "      <th>f_beta</th>\n",
       "      <th>f_beta</th>\n",
       "      <th>time</th>\n",
       "    </tr>\n",
       "  </thead>\n",
       "  <tbody>\n",
       "    <tr>\n",
       "      <td>0</td>\n",
       "      <td>0.187930</td>\n",
       "      <td>0.373393</td>\n",
       "      <td>0.831532</td>\n",
       "      <td>0.814356</td>\n",
       "      <td>0.828621</td>\n",
       "      <td>0.795545</td>\n",
       "      <td>0.831532</td>\n",
       "      <td>0.803513</td>\n",
       "      <td>0.828938</td>\n",
       "      <td>05:03</td>\n",
       "    </tr>\n",
       "    <tr>\n",
       "      <td>1</td>\n",
       "      <td>0.187952</td>\n",
       "      <td>0.369830</td>\n",
       "      <td>0.830896</td>\n",
       "      <td>0.812690</td>\n",
       "      <td>0.828144</td>\n",
       "      <td>0.796553</td>\n",
       "      <td>0.830896</td>\n",
       "      <td>0.803537</td>\n",
       "      <td>0.828659</td>\n",
       "      <td>05:03</td>\n",
       "    </tr>\n",
       "  </tbody>\n",
       "</table>"
      ],
      "text/plain": [
       "<IPython.core.display.HTML object>"
      ]
     },
     "metadata": {},
     "output_type": "display_data"
    },
    {
     "data": {
      "image/png": "[encoded data removed]",
      "text/plain": [
       "<Figure size 432x288 with 1 Axes>"
      ]
     },
     "metadata": {},
     "output_type": "display_data"
    }
   ],
   "source": [
    "learn.fit_one_cycle(2, slice(5e-6/(2.6**4), 5e-6), moms=(0.8, 0.7))"
   ]
  },
  {
   "cell_type": "code",
   "execution_count": 68,
   "metadata": {
    "scrolled": false
   },
   "outputs": [
    {
     "data": {
      "text/html": [
       "\n",
       "    <div>\n",
       "        <style>\n",
       "            /* Turns off some styling */\n",
       "            progress {\n",
       "                /* gets rid of default border in Firefox and Opera. */\n",
       "                border: none;\n",
       "                /* Needs to be in here for Safari polyfill so background images work as expected. */\n",
       "                background-size: auto;\n",
       "            }\n",
       "            .progress-bar-interrupted, .progress-bar-interrupted::-webkit-progress-bar {\n",
       "                background: #F44336;\n",
       "            }\n",
       "        </style>\n",
       "      <progress value='4' class='' max='5', style='width:300px; height:20px; vertical-align: middle;'></progress>\n",
       "      80.00% [4/5 20:21<05:05]\n",
       "    </div>\n",
       "    \n",
       "<table border=\"1\" class=\"dataframe\">\n",
       "  <thead>\n",
       "    <tr style=\"text-align: left;\">\n",
       "      <th>epoch</th>\n",
       "      <th>train_loss</th>\n",
       "      <th>valid_loss</th>\n",
       "      <th>accuracy</th>\n",
       "      <th>precision1</th>\n",
       "      <th>precision1</th>\n",
       "      <th>recall</th>\n",
       "      <th>recall</th>\n",
       "      <th>f_beta</th>\n",
       "      <th>f_beta</th>\n",
       "      <th>time</th>\n",
       "    </tr>\n",
       "  </thead>\n",
       "  <tbody>\n",
       "    <tr>\n",
       "      <td>0</td>\n",
       "      <td>0.185233</td>\n",
       "      <td>0.377384</td>\n",
       "      <td>0.830896</td>\n",
       "      <td>0.817448</td>\n",
       "      <td>0.827818</td>\n",
       "      <td>0.788655</td>\n",
       "      <td>0.830896</td>\n",
       "      <td>0.799912</td>\n",
       "      <td>0.826892</td>\n",
       "      <td>05:04</td>\n",
       "    </tr>\n",
       "    <tr>\n",
       "      <td>1</td>\n",
       "      <td>0.174150</td>\n",
       "      <td>0.400754</td>\n",
       "      <td>0.824539</td>\n",
       "      <td>0.816632</td>\n",
       "      <td>0.822160</td>\n",
       "      <td>0.772566</td>\n",
       "      <td>0.824539</td>\n",
       "      <td>0.787734</td>\n",
       "      <td>0.818021</td>\n",
       "      <td>05:03</td>\n",
       "    </tr>\n",
       "    <tr>\n",
       "      <td>2</td>\n",
       "      <td>0.191391</td>\n",
       "      <td>0.405141</td>\n",
       "      <td>0.819453</td>\n",
       "      <td>0.811778</td>\n",
       "      <td>0.817035</td>\n",
       "      <td>0.764829</td>\n",
       "      <td>0.819453</td>\n",
       "      <td>0.780450</td>\n",
       "      <td>0.812158</td>\n",
       "      <td>05:04</td>\n",
       "    </tr>\n",
       "    <tr>\n",
       "      <td>3</td>\n",
       "      <td>0.205296</td>\n",
       "      <td>0.392852</td>\n",
       "      <td>0.833439</td>\n",
       "      <td>0.821351</td>\n",
       "      <td>0.830567</td>\n",
       "      <td>0.790548</td>\n",
       "      <td>0.833439</td>\n",
       "      <td>0.802451</td>\n",
       "      <td>0.829261</td>\n",
       "      <td>05:03</td>\n",
       "    </tr>\n",
       "  </tbody>\n",
       "</table><p>\n",
       "\n",
       "    <div>\n",
       "        <style>\n",
       "            /* Turns off some styling */\n",
       "            progress {\n",
       "                /* gets rid of default border in Firefox and Opera. */\n",
       "                border: none;\n",
       "                /* Needs to be in here for Safari polyfill so background images work as expected. */\n",
       "                background-size: auto;\n",
       "            }\n",
       "            .progress-bar-interrupted, .progress-bar-interrupted::-webkit-progress-bar {\n",
       "                background: #F44336;\n",
       "            }\n",
       "        </style>\n",
       "      <progress value='99' class='' max='99', style='width:300px; height:20px; vertical-align: middle;'></progress>\n",
       "      100.00% [99/99 00:13<00:00]\n",
       "    </div>\n",
       "    "
      ],
      "text/plain": [
       "<IPython.core.display.HTML object>"
      ]
     },
     "metadata": {},
     "output_type": "display_data"
    },
    {
     "data": {
      "image/png": "[encoded data removed]",
      "text/plain": [
       "<Figure size 432x288 with 1 Axes>"
      ]
     },
     "metadata": {},
     "output_type": "display_data"
    },
    {
     "name": "stdout",
     "output_type": "stream",
     "text": [
      "Better model found at epoch 0 with accuracy value: 0.8308963775634766.\n",
      "Epoch 1: reducing lr to 9.504846320134737e-07\n",
      "Epoch 2: reducing lr to 6.112620219362893e-07\n",
      "Better model found at epoch 3 with accuracy value: 0.833439290523529.\n",
      "Epoch 4: early stopping\n"
     ]
    },
    {
     "data": {
      "image/png": "[encoded data removed]",
      "text/plain": [
       "<Figure size 432x288 with 1 Axes>"
      ]
     },
     "metadata": {
      "needs_background": "light"
     },
     "output_type": "display_data"
    }
   ],
   "source": [
    "# training all layer's of the model and saving the best one \n",
    "learn.fit_one_cycle(5, slice(5e-6/(2.6**4), 5e-6), moms=(0.8, 0.7), wd=1e-1,\n",
    "                    callbacks=[SaveModelCallback(learn,every='improvement', monitor='accuracy', name='best')])"
   ]
  },
  {
   "cell_type": "code",
   "execution_count": 69,
   "metadata": {},
   "outputs": [
    {
     "data": {
      "text/html": [],
      "text/plain": [
       "<IPython.core.display.HTML object>"
      ]
     },
     "metadata": {},
     "output_type": "display_data"
    }
   ],
   "source": [
    "# making interpretation on dev split\n",
    "interp = ClassificationInterpretation.from_learner(learn)"
   ]
  },
  {
   "cell_type": "code",
   "execution_count": 70,
   "metadata": {},
   "outputs": [
    {
     "data": {
      "image/png": "[encoded data removed]",
      "text/plain": [
       "<Figure size 700x700 with 1 Axes>"
      ]
     },
     "metadata": {
      "needs_background": "light"
     },
     "output_type": "display_data"
    }
   ],
   "source": [
    "interp.plot_confusion_matrix(figsize=(7,7), dpi=100)"
   ]
  },
  {
   "cell_type": "code",
   "execution_count": 71,
   "metadata": {},
   "outputs": [
    {
     "data": {
      "text/html": [],
      "text/plain": [
       "<IPython.core.display.HTML object>"
      ]
     },
     "metadata": {},
     "output_type": "display_data"
    },
    {
     "data": {
      "text/plain": [
       "[0.3928523,\n",
       " tensor(0.8334),\n",
       " tensor(0.8214),\n",
       " tensor(0.8306),\n",
       " tensor(0.7905),\n",
       " tensor(0.8334),\n",
       " tensor(0.8025),\n",
       " tensor(0.8293)]"
      ]
     },
     "execution_count": 71,
     "metadata": {},
     "output_type": "execute_result"
    }
   ],
   "source": [
    "learn.validate(data.valid_dl,metrics=[accuracy,Precision1(average='macro'),Precision1(average='weighted'),\n",
    "                                                 Recall(average='macro'),Recall(average='weighted'),\n",
    "                                                 FBeta(average='macro',beta=1.),FBeta(average='weighted',beta=1.)])"
   ]
  },
  {
   "cell_type": "code",
   "execution_count": 72,
   "metadata": {},
   "outputs": [
    {
     "data": {
      "text/html": [],
      "text/plain": [
       "<IPython.core.display.HTML object>"
      ]
     },
     "metadata": {},
     "output_type": "display_data"
    },
    {
     "name": "stdout",
     "output_type": "stream",
     "text": [
      "                 precision    recall  f1-score   support\n",
      "\n",
      "    informative       0.85      0.92      0.88      1056\n",
      "not_informative       0.79      0.67      0.72       517\n",
      "\n",
      "       accuracy                           0.83      1573\n",
      "      macro avg       0.82      0.79      0.80      1573\n",
      "   weighted avg       0.83      0.83      0.83      1573\n",
      "\n"
     ]
    }
   ],
   "source": [
    "#making predictions on validation set to use it for classification report\n",
    "valid_preds,valid_y,losses = learn.get_preds(ds_type=DatasetType.Valid,with_loss=True)\n",
    "valid_y_preds = valid_preds.argmax(1)\n",
    "\n",
    "target_names = ['informative','not_informative']\n",
    "\n",
    "print(classification_report(valid_y, valid_y_preds, target_names=target_names))"
   ]
  },
  {
   "cell_type": "code",
   "execution_count": 73,
   "metadata": {},
   "outputs": [
    {
     "data": {
      "text/html": [],
      "text/plain": [
       "<IPython.core.display.HTML object>"
      ]
     },
     "metadata": {},
     "output_type": "display_data"
    },
    {
     "data": {
      "text/plain": [
       "[0.3695959,\n",
       " tensor(0.8475),\n",
       " tensor(0.8323),\n",
       " tensor(0.8452),\n",
       " tensor(0.8155),\n",
       " tensor(0.8475),\n",
       " tensor(0.8228),\n",
       " tensor(0.8455)]"
      ]
     },
     "execution_count": 73,
     "metadata": {},
     "output_type": "execute_result"
    }
   ],
   "source": [
    "learn.validate(data.test_dl,metrics=[accuracy,Precision1(average='macro'),Precision1(average='weighted'),\n",
    "                                                 Recall(average='macro'),Recall(average='weighted'),\n",
    "                                                 FBeta(average='macro',beta=1.),FBeta(average='weighted',beta=1.)])"
   ]
  },
  {
   "cell_type": "code",
   "execution_count": 74,
   "metadata": {},
   "outputs": [
    {
     "data": {
      "text/html": [],
      "text/plain": [
       "<IPython.core.display.HTML object>"
      ]
     },
     "metadata": {},
     "output_type": "display_data"
    },
    {
     "name": "stdout",
     "output_type": "stream",
     "text": [
      "                 precision    recall  f1-score   support\n",
      "\n",
      "    informative       0.87      0.91      0.89      1030\n",
      "not_informative       0.79      0.72      0.76       504\n",
      "\n",
      "       accuracy                           0.85      1534\n",
      "      macro avg       0.83      0.82      0.82      1534\n",
      "   weighted avg       0.85      0.85      0.85      1534\n",
      "\n"
     ]
    }
   ],
   "source": [
    "#making predictions  on test set to use it for classification report\n",
    "test_preds,test_y,losses = learn.get_preds(ds_type=DatasetType.Test,with_loss=True)\n",
    "test_y_preds = test_preds.argmax(1)\n",
    "\n",
    "target_names = ['informative','not_informative']\n",
    "\n",
    "print(classification_report(test_y, test_y_preds, target_names=target_names))"
   ]
  },
  {
   "cell_type": "code",
   "execution_count": null,
   "metadata": {},
   "outputs": [],
   "source": []
  }
 ],
 "metadata": {
  "kernelspec": {
   "display_name": "Python 3",
   "language": "python",
   "name": "python3"
  },
  "language_info": {
   "codemirror_mode": {
    "name": "ipython",
    "version": 3
   },
   "file_extension": ".py",
   "mimetype": "text/x-python",
   "name": "python",
   "nbconvert_exporter": "python",
   "pygments_lexer": "ipython3",
   "version": "3.7.6"
  }
 },
 "nbformat": 4,
 "nbformat_minor": 4
}
