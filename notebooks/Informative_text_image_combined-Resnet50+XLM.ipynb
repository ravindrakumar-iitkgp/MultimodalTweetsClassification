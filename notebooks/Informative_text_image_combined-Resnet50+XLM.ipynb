{
 "cells": [
  {
   "cell_type": "markdown",
   "metadata": {},
   "source": [
    "# Building Concatenated Model"
   ]
  },
  {
   "cell_type": "code",
   "execution_count": 1,
   "metadata": {},
   "outputs": [],
   "source": [
    "# cd CrisisMMD_Dataset"
   ]
  },
  {
   "cell_type": "code",
   "execution_count": 2,
   "metadata": {},
   "outputs": [],
   "source": [
    "#ensuring that any edits to libraries you make are reloaded here automatically\n",
    "#to ensuere charts or images displayed are shown in this notebook\n",
    "%reload_ext autoreload\n",
    "%autoreload 2\n",
    "%matplotlib inline "
   ]
  },
  {
   "cell_type": "code",
   "execution_count": 3,
   "metadata": {},
   "outputs": [],
   "source": [
    "#importing required modules\n",
    "from exp.Required_Modules_And_Packages import *\n",
    "from exp.Data_Reading_And_Preprocessing import *\n",
    "from exp.Required_Integration_Functionalities_For_Transformer_To_Fastai import *\n",
    "from exp.Required_Functionalities_To_Handal_Multimodal_Dataset import *\n",
    "from exp.Multimodal_Model_With_Intermediate_Or_EmbraceNet_Fusion import *"
   ]
  },
  {
   "cell_type": "code",
   "execution_count": 5,
   "metadata": {},
   "outputs": [],
   "source": [
    "from transformers import XLMForSequenceClassification, XLMTokenizer, XLMConfig"
   ]
  },
  {
   "cell_type": "code",
   "execution_count": 6,
   "metadata": {},
   "outputs": [],
   "source": [
    "path = Path('/notebooks/CrisisMMD_Dataset')\n",
    "# path.ls()"
   ]
  },
  {
   "cell_type": "code",
   "execution_count": 7,
   "metadata": {},
   "outputs": [],
   "source": [
    "path_img = path/'data_image'"
   ]
  },
  {
   "cell_type": "code",
   "execution_count": 8,
   "metadata": {},
   "outputs": [],
   "source": [
    "# Uncomment the code if dataset and labels are in .tar.gz and .zip format respectively\n",
    "\n",
    "# data = \"CrisisMMD_v2.tar.gz\"\n",
    "# agreed_label = \"crisismmd_datasplit_agreed_label.zip\"\n",
    "# untar_data_and_unzip_label(data,agreed_label)"
   ]
  },
  {
   "cell_type": "code",
   "execution_count": 11,
   "metadata": {},
   "outputs": [
    {
     "name": "stdout",
     "output_type": "stream",
     "text": [
      "reading already preprocessed data.....\n"
     ]
    }
   ],
   "source": [
    "#reading csv files and doing initial necessary processing\n",
    "data_info_text_image,test_data_info_text_image = get_dataframe(*get_tsv_data_files('Informativeness_task_tsv_files'),path)"
   ]
  },
  {
   "cell_type": "code",
   "execution_count": 12,
   "metadata": {},
   "outputs": [
    {
     "name": "stdout",
     "output_type": "stream",
     "text": [
      "shape of data: (11173, 10)\n",
      "\n",
      "train set: 9600\n",
      "valid set: 1573\n",
      "==================================================\n",
      "shape of test data: (1534, 9)\n",
      "\n"
     ]
    }
   ],
   "source": [
    "print(f\"shape of data: {data_info_text_image.shape}\\n\")\n",
    "print(f\"train set: {data_info_text_image['is_valid'].value_counts()[0]}\")\n",
    "print(f\"valid set: {data_info_text_image['is_valid'].value_counts()[1]}\")      \n",
    "print(\"=\"*50)\n",
    "print(f\"shape of test data: {test_data_info_text_image.shape}\\n\")"
   ]
  },
  {
   "cell_type": "code",
   "execution_count": 13,
   "metadata": {},
   "outputs": [],
   "source": [
    "MODEL_CLASSES = {'xlm': (XLMForSequenceClassification, XLMTokenizer, XLMConfig)}"
   ]
  },
  {
   "cell_type": "code",
   "execution_count": 14,
   "metadata": {},
   "outputs": [],
   "source": [
    "model_type = 'xlm'\n",
    "pretrained_model_name = 'xlm-clm-enfr-1024'"
   ]
  },
  {
   "cell_type": "code",
   "execution_count": 15,
   "metadata": {},
   "outputs": [],
   "source": [
    "model_class, tokenizer_class, config_class = MODEL_CLASSES[model_type]"
   ]
  },
  {
   "cell_type": "code",
   "execution_count": 17,
   "metadata": {},
   "outputs": [],
   "source": [
    "transformer_tokenizer = tokenizer_class.from_pretrained(pretrained_model_name)\n",
    "transformer_base_tokenizer = TransformersBaseTokenizer(pretrained_tokenizer = transformer_tokenizer, model_type = model_type)\n",
    "fastai_tokenizer = Tokenizer(tok_func = transformer_base_tokenizer, pre_rules=[], post_rules=[])"
   ]
  },
  {
   "cell_type": "code",
   "execution_count": 19,
   "metadata": {},
   "outputs": [],
   "source": [
    "transformer_vocab =  TransformersVocab(tokenizer = transformer_tokenizer)"
   ]
  },
  {
   "cell_type": "code",
   "execution_count": 20,
   "metadata": {},
   "outputs": [],
   "source": [
    "numericalize_processor = NumericalizeProcessor(vocab=transformer_vocab)\n",
    "tokenize_processor = TokenizeProcessor(tokenizer=fastai_tokenizer, include_bos=False, include_eos=False)\n",
    "\n",
    "transformer_processor = [tokenize_processor, numericalize_processor]"
   ]
  },
  {
   "cell_type": "code",
   "execution_count": 21,
   "metadata": {},
   "outputs": [],
   "source": [
    "pad_first = bool(model_type in ['xlnet'])\n",
    "pad_idx = transformer_tokenizer.pad_token_id"
   ]
  },
  {
   "cell_type": "code",
   "execution_count": 22,
   "metadata": {},
   "outputs": [
    {
     "data": {
      "text/html": [],
      "text/plain": [
       "<IPython.core.display.HTML object>"
      ]
     },
     "metadata": {},
     "output_type": "display_data"
    },
    {
     "data": {
      "text/html": [],
      "text/plain": [
       "<IPython.core.display.HTML object>"
      ]
     },
     "metadata": {},
     "output_type": "display_data"
    }
   ],
   "source": [
    "# preprocessing and creating databunch object for data(train and dev split) and test data(test split)\n",
    "data_clas = get_text_data(data_info_text_image,path,pad_first,pad_idx,processor=transformer_processor)\n",
    "test_data_clas = get_test_text_data(test_data_info_text_image,path,pad_first,pad_idx,processor=transformer_processor)\n",
    "\n",
    "# making single databunch object of data and test data\n",
    "data_clas.add_test(test_data_clas.train_ds)\n",
    "data_clas.test_ds.y = test_data_clas.train_ds.y"
   ]
  },
  {
   "cell_type": "code",
   "execution_count": 25,
   "metadata": {
    "scrolled": true
   },
   "outputs": [
    {
     "name": "stdout",
     "output_type": "stream",
     "text": [
      "XLMConfig {\n",
      "  \"architectures\": [\n",
      "    \"XLMWithLMHeadModel\"\n",
      "  ],\n",
      "  \"asm\": false,\n",
      "  \"attention_dropout\": 0.1,\n",
      "  \"bos_index\": 0,\n",
      "  \"bos_token_id\": 0,\n",
      "  \"causal\": false,\n",
      "  \"dropout\": 0.1,\n",
      "  \"emb_dim\": 1024,\n",
      "  \"embed_init_std\": 0.02209708691207961,\n",
      "  \"end_n_top\": 5,\n",
      "  \"eos_index\": 1,\n",
      "  \"gelu_activation\": true,\n",
      "  \"id2lang\": {\n",
      "    \"0\": \"en\",\n",
      "    \"1\": \"fr\"\n",
      "  },\n",
      "  \"init_std\": 0.02,\n",
      "  \"is_encoder\": true,\n",
      "  \"lang2id\": {\n",
      "    \"en\": 0,\n",
      "    \"fr\": 1\n",
      "  },\n",
      "  \"lang_id\": 0,\n",
      "  \"layer_norm_eps\": 1e-12,\n",
      "  \"mask_index\": 5,\n",
      "  \"mask_token_id\": 0,\n",
      "  \"max_position_embeddings\": 512,\n",
      "  \"max_vocab\": -1,\n",
      "  \"min_count\": 0,\n",
      "  \"model_type\": \"xlm\",\n",
      "  \"n_heads\": 8,\n",
      "  \"n_langs\": 2,\n",
      "  \"n_layers\": 6,\n",
      "  \"pad_index\": 2,\n",
      "  \"pad_token_id\": 2,\n",
      "  \"same_enc_dec\": true,\n",
      "  \"share_inout_emb\": true,\n",
      "  \"sinusoidal_embeddings\": false,\n",
      "  \"start_n_top\": 5,\n",
      "  \"summary_activation\": null,\n",
      "  \"summary_first_dropout\": 0.1,\n",
      "  \"summary_proj_to_labels\": true,\n",
      "  \"summary_type\": \"first\",\n",
      "  \"summary_use_proj\": true,\n",
      "  \"unk_index\": 3,\n",
      "  \"use_lang_emb\": true,\n",
      "  \"vocab_size\": 64139\n",
      "}\n",
      "\n"
     ]
    }
   ],
   "source": [
    "config = config_class.from_pretrained(pretrained_model_name)\n",
    "config.num_labels = 2\n",
    "config.use_bfloat16 = False\n",
    "print(config)"
   ]
  },
  {
   "cell_type": "code",
   "execution_count": 26,
   "metadata": {},
   "outputs": [],
   "source": [
    "transformer_model = model_class.from_pretrained(pretrained_model_name, config = config)\n",
    "custom_transformer_model = CustomTransformerModel(pad_idx,transformer_model = transformer_model)"
   ]
  },
  {
   "cell_type": "code",
   "execution_count": 27,
   "metadata": {},
   "outputs": [],
   "source": [
    "CustomAdamW = partial(AdamW, correct_bias=False)\n",
    "\n",
    "learn_clas = Learner(data_clas, custom_transformer_model,loss_func=nn.CrossEntropyLoss(),opt_func = CustomAdamW, \n",
    "                  metrics=[accuracy,Precision1(average='macro'),\n",
    "                Precision1(average='weighted'),Recall(average='macro'),Recall(average='weighted'),\n",
    "               FBeta(average='macro',beta=1.),FBeta(average='weighted',beta=1.)])"
   ]
  },
  {
   "cell_type": "code",
   "execution_count": 31,
   "metadata": {
    "scrolled": true
   },
   "outputs": [
    {
     "name": "stdout",
     "output_type": "stream",
     "text": [
      "CustomTransformerModel(\n",
      "  (transformer): XLMForSequenceClassification(\n",
      "    (transformer): XLMModel(\n",
      "      (position_embeddings): Embedding(512, 1024)\n",
      "      (lang_embeddings): Embedding(2, 1024)\n",
      "      (embeddings): Embedding(64139, 1024, padding_idx=2)\n",
      "      (layer_norm_emb): LayerNorm((1024,), eps=1e-12, elementwise_affine=True)\n",
      "      (attentions): ModuleList(\n",
      "        (0): MultiHeadAttention(\n",
      "          (q_lin): Linear(in_features=1024, out_features=1024, bias=True)\n",
      "          (k_lin): Linear(in_features=1024, out_features=1024, bias=True)\n",
      "          (v_lin): Linear(in_features=1024, out_features=1024, bias=True)\n",
      "          (out_lin): Linear(in_features=1024, out_features=1024, bias=True)\n",
      "        )\n",
      "        (1): MultiHeadAttention(\n",
      "          (q_lin): Linear(in_features=1024, out_features=1024, bias=True)\n",
      "          (k_lin): Linear(in_features=1024, out_features=1024, bias=True)\n",
      "          (v_lin): Linear(in_features=1024, out_features=1024, bias=True)\n",
      "          (out_lin): Linear(in_features=1024, out_features=1024, bias=True)\n",
      "        )\n",
      "        (2): MultiHeadAttention(\n",
      "          (q_lin): Linear(in_features=1024, out_features=1024, bias=True)\n",
      "          (k_lin): Linear(in_features=1024, out_features=1024, bias=True)\n",
      "          (v_lin): Linear(in_features=1024, out_features=1024, bias=True)\n",
      "          (out_lin): Linear(in_features=1024, out_features=1024, bias=True)\n",
      "        )\n",
      "        (3): MultiHeadAttention(\n",
      "          (q_lin): Linear(in_features=1024, out_features=1024, bias=True)\n",
      "          (k_lin): Linear(in_features=1024, out_features=1024, bias=True)\n",
      "          (v_lin): Linear(in_features=1024, out_features=1024, bias=True)\n",
      "          (out_lin): Linear(in_features=1024, out_features=1024, bias=True)\n",
      "        )\n",
      "        (4): MultiHeadAttention(\n",
      "          (q_lin): Linear(in_features=1024, out_features=1024, bias=True)\n",
      "          (k_lin): Linear(in_features=1024, out_features=1024, bias=True)\n",
      "          (v_lin): Linear(in_features=1024, out_features=1024, bias=True)\n",
      "          (out_lin): Linear(in_features=1024, out_features=1024, bias=True)\n",
      "        )\n",
      "        (5): MultiHeadAttention(\n",
      "          (q_lin): Linear(in_features=1024, out_features=1024, bias=True)\n",
      "          (k_lin): Linear(in_features=1024, out_features=1024, bias=True)\n",
      "          (v_lin): Linear(in_features=1024, out_features=1024, bias=True)\n",
      "          (out_lin): Linear(in_features=1024, out_features=1024, bias=True)\n",
      "        )\n",
      "      )\n",
      "      (layer_norm1): ModuleList(\n",
      "        (0): LayerNorm((1024,), eps=1e-12, elementwise_affine=True)\n",
      "        (1): LayerNorm((1024,), eps=1e-12, elementwise_affine=True)\n",
      "        (2): LayerNorm((1024,), eps=1e-12, elementwise_affine=True)\n",
      "        (3): LayerNorm((1024,), eps=1e-12, elementwise_affine=True)\n",
      "        (4): LayerNorm((1024,), eps=1e-12, elementwise_affine=True)\n",
      "        (5): LayerNorm((1024,), eps=1e-12, elementwise_affine=True)\n",
      "      )\n",
      "      (ffns): ModuleList(\n",
      "        (0): TransformerFFN(\n",
      "          (lin1): Linear(in_features=1024, out_features=4096, bias=True)\n",
      "          (lin2): Linear(in_features=4096, out_features=1024, bias=True)\n",
      "        )\n",
      "        (1): TransformerFFN(\n",
      "          (lin1): Linear(in_features=1024, out_features=4096, bias=True)\n",
      "          (lin2): Linear(in_features=4096, out_features=1024, bias=True)\n",
      "        )\n",
      "        (2): TransformerFFN(\n",
      "          (lin1): Linear(in_features=1024, out_features=4096, bias=True)\n",
      "          (lin2): Linear(in_features=4096, out_features=1024, bias=True)\n",
      "        )\n",
      "        (3): TransformerFFN(\n",
      "          (lin1): Linear(in_features=1024, out_features=4096, bias=True)\n",
      "          (lin2): Linear(in_features=4096, out_features=1024, bias=True)\n",
      "        )\n",
      "        (4): TransformerFFN(\n",
      "          (lin1): Linear(in_features=1024, out_features=4096, bias=True)\n",
      "          (lin2): Linear(in_features=4096, out_features=1024, bias=True)\n",
      "        )\n",
      "        (5): TransformerFFN(\n",
      "          (lin1): Linear(in_features=1024, out_features=4096, bias=True)\n",
      "          (lin2): Linear(in_features=4096, out_features=1024, bias=True)\n",
      "        )\n",
      "      )\n",
      "      (layer_norm2): ModuleList(\n",
      "        (0): LayerNorm((1024,), eps=1e-12, elementwise_affine=True)\n",
      "        (1): LayerNorm((1024,), eps=1e-12, elementwise_affine=True)\n",
      "        (2): LayerNorm((1024,), eps=1e-12, elementwise_affine=True)\n",
      "        (3): LayerNorm((1024,), eps=1e-12, elementwise_affine=True)\n",
      "        (4): LayerNorm((1024,), eps=1e-12, elementwise_affine=True)\n",
      "        (5): LayerNorm((1024,), eps=1e-12, elementwise_affine=True)\n",
      "      )\n",
      "    )\n",
      "    (sequence_summary): SequenceSummary(\n",
      "      (summary): Linear(in_features=1024, out_features=2, bias=True)\n",
      "      (activation): Identity()\n",
      "      (first_dropout): Dropout(p=0.1, inplace=False)\n",
      "      (last_dropout): Identity()\n",
      "    )\n",
      "  )\n",
      ")\n"
     ]
    }
   ],
   "source": [
    "print(learn_clas.model)"
   ]
  },
  {
   "cell_type": "code",
   "execution_count": 32,
   "metadata": {},
   "outputs": [],
   "source": [
    "learn_clas.model.transformer=learn_clas.model.transformer.transformer"
   ]
  },
  {
   "cell_type": "code",
   "execution_count": 33,
   "metadata": {
    "scrolled": true
   },
   "outputs": [
    {
     "name": "stdout",
     "output_type": "stream",
     "text": [
      "CustomTransformerModel(\n",
      "  (transformer): XLMModel(\n",
      "    (position_embeddings): Embedding(512, 1024)\n",
      "    (lang_embeddings): Embedding(2, 1024)\n",
      "    (embeddings): Embedding(64139, 1024, padding_idx=2)\n",
      "    (layer_norm_emb): LayerNorm((1024,), eps=1e-12, elementwise_affine=True)\n",
      "    (attentions): ModuleList(\n",
      "      (0): MultiHeadAttention(\n",
      "        (q_lin): Linear(in_features=1024, out_features=1024, bias=True)\n",
      "        (k_lin): Linear(in_features=1024, out_features=1024, bias=True)\n",
      "        (v_lin): Linear(in_features=1024, out_features=1024, bias=True)\n",
      "        (out_lin): Linear(in_features=1024, out_features=1024, bias=True)\n",
      "      )\n",
      "      (1): MultiHeadAttention(\n",
      "        (q_lin): Linear(in_features=1024, out_features=1024, bias=True)\n",
      "        (k_lin): Linear(in_features=1024, out_features=1024, bias=True)\n",
      "        (v_lin): Linear(in_features=1024, out_features=1024, bias=True)\n",
      "        (out_lin): Linear(in_features=1024, out_features=1024, bias=True)\n",
      "      )\n",
      "      (2): MultiHeadAttention(\n",
      "        (q_lin): Linear(in_features=1024, out_features=1024, bias=True)\n",
      "        (k_lin): Linear(in_features=1024, out_features=1024, bias=True)\n",
      "        (v_lin): Linear(in_features=1024, out_features=1024, bias=True)\n",
      "        (out_lin): Linear(in_features=1024, out_features=1024, bias=True)\n",
      "      )\n",
      "      (3): MultiHeadAttention(\n",
      "        (q_lin): Linear(in_features=1024, out_features=1024, bias=True)\n",
      "        (k_lin): Linear(in_features=1024, out_features=1024, bias=True)\n",
      "        (v_lin): Linear(in_features=1024, out_features=1024, bias=True)\n",
      "        (out_lin): Linear(in_features=1024, out_features=1024, bias=True)\n",
      "      )\n",
      "      (4): MultiHeadAttention(\n",
      "        (q_lin): Linear(in_features=1024, out_features=1024, bias=True)\n",
      "        (k_lin): Linear(in_features=1024, out_features=1024, bias=True)\n",
      "        (v_lin): Linear(in_features=1024, out_features=1024, bias=True)\n",
      "        (out_lin): Linear(in_features=1024, out_features=1024, bias=True)\n",
      "      )\n",
      "      (5): MultiHeadAttention(\n",
      "        (q_lin): Linear(in_features=1024, out_features=1024, bias=True)\n",
      "        (k_lin): Linear(in_features=1024, out_features=1024, bias=True)\n",
      "        (v_lin): Linear(in_features=1024, out_features=1024, bias=True)\n",
      "        (out_lin): Linear(in_features=1024, out_features=1024, bias=True)\n",
      "      )\n",
      "    )\n",
      "    (layer_norm1): ModuleList(\n",
      "      (0): LayerNorm((1024,), eps=1e-12, elementwise_affine=True)\n",
      "      (1): LayerNorm((1024,), eps=1e-12, elementwise_affine=True)\n",
      "      (2): LayerNorm((1024,), eps=1e-12, elementwise_affine=True)\n",
      "      (3): LayerNorm((1024,), eps=1e-12, elementwise_affine=True)\n",
      "      (4): LayerNorm((1024,), eps=1e-12, elementwise_affine=True)\n",
      "      (5): LayerNorm((1024,), eps=1e-12, elementwise_affine=True)\n",
      "    )\n",
      "    (ffns): ModuleList(\n",
      "      (0): TransformerFFN(\n",
      "        (lin1): Linear(in_features=1024, out_features=4096, bias=True)\n",
      "        (lin2): Linear(in_features=4096, out_features=1024, bias=True)\n",
      "      )\n",
      "      (1): TransformerFFN(\n",
      "        (lin1): Linear(in_features=1024, out_features=4096, bias=True)\n",
      "        (lin2): Linear(in_features=4096, out_features=1024, bias=True)\n",
      "      )\n",
      "      (2): TransformerFFN(\n",
      "        (lin1): Linear(in_features=1024, out_features=4096, bias=True)\n",
      "        (lin2): Linear(in_features=4096, out_features=1024, bias=True)\n",
      "      )\n",
      "      (3): TransformerFFN(\n",
      "        (lin1): Linear(in_features=1024, out_features=4096, bias=True)\n",
      "        (lin2): Linear(in_features=4096, out_features=1024, bias=True)\n",
      "      )\n",
      "      (4): TransformerFFN(\n",
      "        (lin1): Linear(in_features=1024, out_features=4096, bias=True)\n",
      "        (lin2): Linear(in_features=4096, out_features=1024, bias=True)\n",
      "      )\n",
      "      (5): TransformerFFN(\n",
      "        (lin1): Linear(in_features=1024, out_features=4096, bias=True)\n",
      "        (lin2): Linear(in_features=4096, out_features=1024, bias=True)\n",
      "      )\n",
      "    )\n",
      "    (layer_norm2): ModuleList(\n",
      "      (0): LayerNorm((1024,), eps=1e-12, elementwise_affine=True)\n",
      "      (1): LayerNorm((1024,), eps=1e-12, elementwise_affine=True)\n",
      "      (2): LayerNorm((1024,), eps=1e-12, elementwise_affine=True)\n",
      "      (3): LayerNorm((1024,), eps=1e-12, elementwise_affine=True)\n",
      "      (4): LayerNorm((1024,), eps=1e-12, elementwise_affine=True)\n",
      "      (5): LayerNorm((1024,), eps=1e-12, elementwise_affine=True)\n",
      "    )\n",
      "  )\n",
      ")\n"
     ]
    }
   ],
   "source": [
    "# learn_clas.model.transformer = learn_clas.model.transformer.roberta\n",
    "print(learn_clas.model)"
   ]
  },
  {
   "cell_type": "code",
   "execution_count": 35,
   "metadata": {},
   "outputs": [],
   "source": [
    "#creating databunch object for data(train and dev split) and test data(test split)\n",
    "data_img = get_image_data(data_info_text_image,path,224)\n",
    "test_data_img = get_test_image_data(test_data_info_text_image,path,224)\n",
    "\n",
    "# making single databunch object of data and test data\n",
    "data_img.add_test(test_data_img.x)\n",
    "data_img.test_ds.y = test_data_img.y"
   ]
  },
  {
   "cell_type": "code",
   "execution_count": 37,
   "metadata": {},
   "outputs": [],
   "source": [
    "# creating a learner object with image model to use it for concatenation \n",
    "arch = models.resnet50\n",
    "learn_img = cnn_learner(data_img, arch, metrics=[accuracy,Precision(average='macro'),Precision(average='weighted'),\n",
    "                                                 Recall(average='macro'),Recall(average='weighted'),\n",
    "                                                 FBeta(average='macro',beta=1.),FBeta(average='weighted',beta=1.)])"
   ]
  },
  {
   "cell_type": "code",
   "execution_count": 38,
   "metadata": {},
   "outputs": [],
   "source": [
    "# learn_img.model"
   ]
  },
  {
   "cell_type": "code",
   "execution_count": 39,
   "metadata": {},
   "outputs": [
    {
     "data": {
      "text/plain": [
       "Sequential(\n",
       "  (0): Sequential(\n",
       "    (0): Conv2d(3, 64, kernel_size=(7, 7), stride=(2, 2), padding=(3, 3), bias=False)\n",
       "    (1): BatchNorm2d(64, eps=1e-05, momentum=0.1, affine=True, track_running_stats=True)\n",
       "    (2): ReLU(inplace=True)\n",
       "    (3): MaxPool2d(kernel_size=3, stride=2, padding=1, dilation=1, ceil_mode=False)\n",
       "    (4): Sequential(\n",
       "      (0): Bottleneck(\n",
       "        (conv1): Conv2d(64, 64, kernel_size=(1, 1), stride=(1, 1), bias=False)\n",
       "        (bn1): BatchNorm2d(64, eps=1e-05, momentum=0.1, affine=True, track_running_stats=True)\n",
       "        (conv2): Conv2d(64, 64, kernel_size=(3, 3), stride=(1, 1), padding=(1, 1), bias=False)\n",
       "        (bn2): BatchNorm2d(64, eps=1e-05, momentum=0.1, affine=True, track_running_stats=True)\n",
       "        (conv3): Conv2d(64, 256, kernel_size=(1, 1), stride=(1, 1), bias=False)\n",
       "        (bn3): BatchNorm2d(256, eps=1e-05, momentum=0.1, affine=True, track_running_stats=True)\n",
       "        (relu): ReLU(inplace=True)\n",
       "        (downsample): Sequential(\n",
       "          (0): Conv2d(64, 256, kernel_size=(1, 1), stride=(1, 1), bias=False)\n",
       "          (1): BatchNorm2d(256, eps=1e-05, momentum=0.1, affine=True, track_running_stats=True)\n",
       "        )\n",
       "      )\n",
       "      (1): Bottleneck(\n",
       "        (conv1): Conv2d(256, 64, kernel_size=(1, 1), stride=(1, 1), bias=False)\n",
       "        (bn1): BatchNorm2d(64, eps=1e-05, momentum=0.1, affine=True, track_running_stats=True)\n",
       "        (conv2): Conv2d(64, 64, kernel_size=(3, 3), stride=(1, 1), padding=(1, 1), bias=False)\n",
       "        (bn2): BatchNorm2d(64, eps=1e-05, momentum=0.1, affine=True, track_running_stats=True)\n",
       "        (conv3): Conv2d(64, 256, kernel_size=(1, 1), stride=(1, 1), bias=False)\n",
       "        (bn3): BatchNorm2d(256, eps=1e-05, momentum=0.1, affine=True, track_running_stats=True)\n",
       "        (relu): ReLU(inplace=True)\n",
       "      )\n",
       "      (2): Bottleneck(\n",
       "        (conv1): Conv2d(256, 64, kernel_size=(1, 1), stride=(1, 1), bias=False)\n",
       "        (bn1): BatchNorm2d(64, eps=1e-05, momentum=0.1, affine=True, track_running_stats=True)\n",
       "        (conv2): Conv2d(64, 64, kernel_size=(3, 3), stride=(1, 1), padding=(1, 1), bias=False)\n",
       "        (bn2): BatchNorm2d(64, eps=1e-05, momentum=0.1, affine=True, track_running_stats=True)\n",
       "        (conv3): Conv2d(64, 256, kernel_size=(1, 1), stride=(1, 1), bias=False)\n",
       "        (bn3): BatchNorm2d(256, eps=1e-05, momentum=0.1, affine=True, track_running_stats=True)\n",
       "        (relu): ReLU(inplace=True)\n",
       "      )\n",
       "    )\n",
       "    (5): Sequential(\n",
       "      (0): Bottleneck(\n",
       "        (conv1): Conv2d(256, 128, kernel_size=(1, 1), stride=(1, 1), bias=False)\n",
       "        (bn1): BatchNorm2d(128, eps=1e-05, momentum=0.1, affine=True, track_running_stats=True)\n",
       "        (conv2): Conv2d(128, 128, kernel_size=(3, 3), stride=(2, 2), padding=(1, 1), bias=False)\n",
       "        (bn2): BatchNorm2d(128, eps=1e-05, momentum=0.1, affine=True, track_running_stats=True)\n",
       "        (conv3): Conv2d(128, 512, kernel_size=(1, 1), stride=(1, 1), bias=False)\n",
       "        (bn3): BatchNorm2d(512, eps=1e-05, momentum=0.1, affine=True, track_running_stats=True)\n",
       "        (relu): ReLU(inplace=True)\n",
       "        (downsample): Sequential(\n",
       "          (0): Conv2d(256, 512, kernel_size=(1, 1), stride=(2, 2), bias=False)\n",
       "          (1): BatchNorm2d(512, eps=1e-05, momentum=0.1, affine=True, track_running_stats=True)\n",
       "        )\n",
       "      )\n",
       "      (1): Bottleneck(\n",
       "        (conv1): Conv2d(512, 128, kernel_size=(1, 1), stride=(1, 1), bias=False)\n",
       "        (bn1): BatchNorm2d(128, eps=1e-05, momentum=0.1, affine=True, track_running_stats=True)\n",
       "        (conv2): Conv2d(128, 128, kernel_size=(3, 3), stride=(1, 1), padding=(1, 1), bias=False)\n",
       "        (bn2): BatchNorm2d(128, eps=1e-05, momentum=0.1, affine=True, track_running_stats=True)\n",
       "        (conv3): Conv2d(128, 512, kernel_size=(1, 1), stride=(1, 1), bias=False)\n",
       "        (bn3): BatchNorm2d(512, eps=1e-05, momentum=0.1, affine=True, track_running_stats=True)\n",
       "        (relu): ReLU(inplace=True)\n",
       "      )\n",
       "      (2): Bottleneck(\n",
       "        (conv1): Conv2d(512, 128, kernel_size=(1, 1), stride=(1, 1), bias=False)\n",
       "        (bn1): BatchNorm2d(128, eps=1e-05, momentum=0.1, affine=True, track_running_stats=True)\n",
       "        (conv2): Conv2d(128, 128, kernel_size=(3, 3), stride=(1, 1), padding=(1, 1), bias=False)\n",
       "        (bn2): BatchNorm2d(128, eps=1e-05, momentum=0.1, affine=True, track_running_stats=True)\n",
       "        (conv3): Conv2d(128, 512, kernel_size=(1, 1), stride=(1, 1), bias=False)\n",
       "        (bn3): BatchNorm2d(512, eps=1e-05, momentum=0.1, affine=True, track_running_stats=True)\n",
       "        (relu): ReLU(inplace=True)\n",
       "      )\n",
       "      (3): Bottleneck(\n",
       "        (conv1): Conv2d(512, 128, kernel_size=(1, 1), stride=(1, 1), bias=False)\n",
       "        (bn1): BatchNorm2d(128, eps=1e-05, momentum=0.1, affine=True, track_running_stats=True)\n",
       "        (conv2): Conv2d(128, 128, kernel_size=(3, 3), stride=(1, 1), padding=(1, 1), bias=False)\n",
       "        (bn2): BatchNorm2d(128, eps=1e-05, momentum=0.1, affine=True, track_running_stats=True)\n",
       "        (conv3): Conv2d(128, 512, kernel_size=(1, 1), stride=(1, 1), bias=False)\n",
       "        (bn3): BatchNorm2d(512, eps=1e-05, momentum=0.1, affine=True, track_running_stats=True)\n",
       "        (relu): ReLU(inplace=True)\n",
       "      )\n",
       "    )\n",
       "    (6): Sequential(\n",
       "      (0): Bottleneck(\n",
       "        (conv1): Conv2d(512, 256, kernel_size=(1, 1), stride=(1, 1), bias=False)\n",
       "        (bn1): BatchNorm2d(256, eps=1e-05, momentum=0.1, affine=True, track_running_stats=True)\n",
       "        (conv2): Conv2d(256, 256, kernel_size=(3, 3), stride=(2, 2), padding=(1, 1), bias=False)\n",
       "        (bn2): BatchNorm2d(256, eps=1e-05, momentum=0.1, affine=True, track_running_stats=True)\n",
       "        (conv3): Conv2d(256, 1024, kernel_size=(1, 1), stride=(1, 1), bias=False)\n",
       "        (bn3): BatchNorm2d(1024, eps=1e-05, momentum=0.1, affine=True, track_running_stats=True)\n",
       "        (relu): ReLU(inplace=True)\n",
       "        (downsample): Sequential(\n",
       "          (0): Conv2d(512, 1024, kernel_size=(1, 1), stride=(2, 2), bias=False)\n",
       "          (1): BatchNorm2d(1024, eps=1e-05, momentum=0.1, affine=True, track_running_stats=True)\n",
       "        )\n",
       "      )\n",
       "      (1): Bottleneck(\n",
       "        (conv1): Conv2d(1024, 256, kernel_size=(1, 1), stride=(1, 1), bias=False)\n",
       "        (bn1): BatchNorm2d(256, eps=1e-05, momentum=0.1, affine=True, track_running_stats=True)\n",
       "        (conv2): Conv2d(256, 256, kernel_size=(3, 3), stride=(1, 1), padding=(1, 1), bias=False)\n",
       "        (bn2): BatchNorm2d(256, eps=1e-05, momentum=0.1, affine=True, track_running_stats=True)\n",
       "        (conv3): Conv2d(256, 1024, kernel_size=(1, 1), stride=(1, 1), bias=False)\n",
       "        (bn3): BatchNorm2d(1024, eps=1e-05, momentum=0.1, affine=True, track_running_stats=True)\n",
       "        (relu): ReLU(inplace=True)\n",
       "      )\n",
       "      (2): Bottleneck(\n",
       "        (conv1): Conv2d(1024, 256, kernel_size=(1, 1), stride=(1, 1), bias=False)\n",
       "        (bn1): BatchNorm2d(256, eps=1e-05, momentum=0.1, affine=True, track_running_stats=True)\n",
       "        (conv2): Conv2d(256, 256, kernel_size=(3, 3), stride=(1, 1), padding=(1, 1), bias=False)\n",
       "        (bn2): BatchNorm2d(256, eps=1e-05, momentum=0.1, affine=True, track_running_stats=True)\n",
       "        (conv3): Conv2d(256, 1024, kernel_size=(1, 1), stride=(1, 1), bias=False)\n",
       "        (bn3): BatchNorm2d(1024, eps=1e-05, momentum=0.1, affine=True, track_running_stats=True)\n",
       "        (relu): ReLU(inplace=True)\n",
       "      )\n",
       "      (3): Bottleneck(\n",
       "        (conv1): Conv2d(1024, 256, kernel_size=(1, 1), stride=(1, 1), bias=False)\n",
       "        (bn1): BatchNorm2d(256, eps=1e-05, momentum=0.1, affine=True, track_running_stats=True)\n",
       "        (conv2): Conv2d(256, 256, kernel_size=(3, 3), stride=(1, 1), padding=(1, 1), bias=False)\n",
       "        (bn2): BatchNorm2d(256, eps=1e-05, momentum=0.1, affine=True, track_running_stats=True)\n",
       "        (conv3): Conv2d(256, 1024, kernel_size=(1, 1), stride=(1, 1), bias=False)\n",
       "        (bn3): BatchNorm2d(1024, eps=1e-05, momentum=0.1, affine=True, track_running_stats=True)\n",
       "        (relu): ReLU(inplace=True)\n",
       "      )\n",
       "      (4): Bottleneck(\n",
       "        (conv1): Conv2d(1024, 256, kernel_size=(1, 1), stride=(1, 1), bias=False)\n",
       "        (bn1): BatchNorm2d(256, eps=1e-05, momentum=0.1, affine=True, track_running_stats=True)\n",
       "        (conv2): Conv2d(256, 256, kernel_size=(3, 3), stride=(1, 1), padding=(1, 1), bias=False)\n",
       "        (bn2): BatchNorm2d(256, eps=1e-05, momentum=0.1, affine=True, track_running_stats=True)\n",
       "        (conv3): Conv2d(256, 1024, kernel_size=(1, 1), stride=(1, 1), bias=False)\n",
       "        (bn3): BatchNorm2d(1024, eps=1e-05, momentum=0.1, affine=True, track_running_stats=True)\n",
       "        (relu): ReLU(inplace=True)\n",
       "      )\n",
       "      (5): Bottleneck(\n",
       "        (conv1): Conv2d(1024, 256, kernel_size=(1, 1), stride=(1, 1), bias=False)\n",
       "        (bn1): BatchNorm2d(256, eps=1e-05, momentum=0.1, affine=True, track_running_stats=True)\n",
       "        (conv2): Conv2d(256, 256, kernel_size=(3, 3), stride=(1, 1), padding=(1, 1), bias=False)\n",
       "        (bn2): BatchNorm2d(256, eps=1e-05, momentum=0.1, affine=True, track_running_stats=True)\n",
       "        (conv3): Conv2d(256, 1024, kernel_size=(1, 1), stride=(1, 1), bias=False)\n",
       "        (bn3): BatchNorm2d(1024, eps=1e-05, momentum=0.1, affine=True, track_running_stats=True)\n",
       "        (relu): ReLU(inplace=True)\n",
       "      )\n",
       "    )\n",
       "    (7): Sequential(\n",
       "      (0): Bottleneck(\n",
       "        (conv1): Conv2d(1024, 512, kernel_size=(1, 1), stride=(1, 1), bias=False)\n",
       "        (bn1): BatchNorm2d(512, eps=1e-05, momentum=0.1, affine=True, track_running_stats=True)\n",
       "        (conv2): Conv2d(512, 512, kernel_size=(3, 3), stride=(2, 2), padding=(1, 1), bias=False)\n",
       "        (bn2): BatchNorm2d(512, eps=1e-05, momentum=0.1, affine=True, track_running_stats=True)\n",
       "        (conv3): Conv2d(512, 2048, kernel_size=(1, 1), stride=(1, 1), bias=False)\n",
       "        (bn3): BatchNorm2d(2048, eps=1e-05, momentum=0.1, affine=True, track_running_stats=True)\n",
       "        (relu): ReLU(inplace=True)\n",
       "        (downsample): Sequential(\n",
       "          (0): Conv2d(1024, 2048, kernel_size=(1, 1), stride=(2, 2), bias=False)\n",
       "          (1): BatchNorm2d(2048, eps=1e-05, momentum=0.1, affine=True, track_running_stats=True)\n",
       "        )\n",
       "      )\n",
       "      (1): Bottleneck(\n",
       "        (conv1): Conv2d(2048, 512, kernel_size=(1, 1), stride=(1, 1), bias=False)\n",
       "        (bn1): BatchNorm2d(512, eps=1e-05, momentum=0.1, affine=True, track_running_stats=True)\n",
       "        (conv2): Conv2d(512, 512, kernel_size=(3, 3), stride=(1, 1), padding=(1, 1), bias=False)\n",
       "        (bn2): BatchNorm2d(512, eps=1e-05, momentum=0.1, affine=True, track_running_stats=True)\n",
       "        (conv3): Conv2d(512, 2048, kernel_size=(1, 1), stride=(1, 1), bias=False)\n",
       "        (bn3): BatchNorm2d(2048, eps=1e-05, momentum=0.1, affine=True, track_running_stats=True)\n",
       "        (relu): ReLU(inplace=True)\n",
       "      )\n",
       "      (2): Bottleneck(\n",
       "        (conv1): Conv2d(2048, 512, kernel_size=(1, 1), stride=(1, 1), bias=False)\n",
       "        (bn1): BatchNorm2d(512, eps=1e-05, momentum=0.1, affine=True, track_running_stats=True)\n",
       "        (conv2): Conv2d(512, 512, kernel_size=(3, 3), stride=(1, 1), padding=(1, 1), bias=False)\n",
       "        (bn2): BatchNorm2d(512, eps=1e-05, momentum=0.1, affine=True, track_running_stats=True)\n",
       "        (conv3): Conv2d(512, 2048, kernel_size=(1, 1), stride=(1, 1), bias=False)\n",
       "        (bn3): BatchNorm2d(2048, eps=1e-05, momentum=0.1, affine=True, track_running_stats=True)\n",
       "        (relu): ReLU(inplace=True)\n",
       "      )\n",
       "    )\n",
       "  )\n",
       "  (1): Sequential(\n",
       "    (0): AdaptiveConcatPool2d(\n",
       "      (ap): AdaptiveAvgPool2d(output_size=1)\n",
       "      (mp): AdaptiveMaxPool2d(output_size=1)\n",
       "    )\n",
       "    (1): Flatten()\n",
       "    (2): BatchNorm1d(4096, eps=1e-05, momentum=0.1, affine=True, track_running_stats=True)\n",
       "    (3): Dropout(p=0.25, inplace=False)\n",
       "    (4): Linear(in_features=4096, out_features=512, bias=True)\n",
       "    (5): ReLU(inplace=True)\n",
       "  )\n",
       ")"
      ]
     },
     "execution_count": 39,
     "metadata": {},
     "output_type": "execute_result"
    }
   ],
   "source": [
    "learn_img.model[-1] = learn_img.model[-1][:-3]\n",
    "learn_img.model"
   ]
  },
  {
   "cell_type": "code",
   "execution_count": 44,
   "metadata": {},
   "outputs": [],
   "source": [
    "#creating dataset object of ConcatDataset Class\n",
    "train_ds = ConcatDataset(data_img.train_ds, data_clas.train_ds.x, data_clas.train_ds.y)\n",
    "valid_ds = ConcatDataset(data_img.valid_ds, data_clas.valid_ds.x, data_clas.valid_ds.y)\n",
    "test_ds = ConcatDataset(data_img.test_ds, data_clas.test_ds.x,data_clas.test_ds.y)\n",
    "\n",
    "# creating data sampler object\n",
    "bs = 16\n",
    "train_sampler = SortishSampler(data_clas.train_ds.x, key=lambda t: len(data_clas.train_ds[t][0].data), bs=bs//2)\n",
    "valid_sampler = SortSampler(data_clas.valid_ds.x, key=lambda t: len(data_clas.valid_ds[t][0].data))\n",
    "test_sampler = SortSampler(data_clas.test_ds.x, key=lambda t: len(data_clas.test_ds[t][0].data))"
   ]
  },
  {
   "cell_type": "code",
   "execution_count": 47,
   "metadata": {},
   "outputs": [],
   "source": [
    "# creating dataloader object of databuch\n",
    "train_dl = DataLoader(train_ds, bs, sampler=train_sampler)\n",
    "valid_dl = DataLoader(valid_ds, bs, sampler=valid_sampler)\n",
    "test_dl = DataLoader(test_ds, bs, sampler=test_sampler)"
   ]
  },
  {
   "cell_type": "code",
   "execution_count": 48,
   "metadata": {},
   "outputs": [],
   "source": [
    "#creating databuch object to use it in learner for training \n",
    "data = DataBunch(train_dl=train_dl,valid_dl=valid_dl,test_dl=test_dl, device=defaults.device, \n",
    "                 collate_fn=my_collate, path=path)"
   ]
  },
  {
   "cell_type": "code",
   "execution_count": 49,
   "metadata": {},
   "outputs": [
    {
     "name": "stdout",
     "output_type": "stream",
     "text": [
      "Shape image batch : torch.Size([32, 3, 224, 224])\n",
      "Shape text batch: torch.Size([32, 34])\n",
      "Shape dependent var: torch.Size([32])\n"
     ]
    }
   ],
   "source": [
    "(x1,x2),y = next(iter(data.test_dl))\n",
    "print(f'Shape image batch : {(x1.shape)}')\n",
    "print(f'Shape text batch: {x2.shape}')\n",
    "print(f'Shape dependent var: {y.shape}')"
   ]
  },
  {
   "cell_type": "code",
   "execution_count": 52,
   "metadata": {},
   "outputs": [],
   "source": [
    "lin_layers = [512+1024, 2]\n",
    "ps = 0.1\n",
    "model = IntermediateConcatModel(learn_img.model, learn_clas.model, lin_layers, ps,with_transformer=True)"
   ]
  },
  {
   "cell_type": "code",
   "execution_count": 53,
   "metadata": {
    "scrolled": true
   },
   "outputs": [
    {
     "data": {
      "text/plain": [
       "CustomTransformerModel(\n",
       "  (transformer): XLMModel(\n",
       "    (position_embeddings): Embedding(512, 1024)\n",
       "    (lang_embeddings): Embedding(2, 1024)\n",
       "    (embeddings): Embedding(64139, 1024, padding_idx=2)\n",
       "    (layer_norm_emb): LayerNorm((1024,), eps=1e-12, elementwise_affine=True)\n",
       "    (attentions): ModuleList(\n",
       "      (0): MultiHeadAttention(\n",
       "        (q_lin): Linear(in_features=1024, out_features=1024, bias=True)\n",
       "        (k_lin): Linear(in_features=1024, out_features=1024, bias=True)\n",
       "        (v_lin): Linear(in_features=1024, out_features=1024, bias=True)\n",
       "        (out_lin): Linear(in_features=1024, out_features=1024, bias=True)\n",
       "      )\n",
       "      (1): MultiHeadAttention(\n",
       "        (q_lin): Linear(in_features=1024, out_features=1024, bias=True)\n",
       "        (k_lin): Linear(in_features=1024, out_features=1024, bias=True)\n",
       "        (v_lin): Linear(in_features=1024, out_features=1024, bias=True)\n",
       "        (out_lin): Linear(in_features=1024, out_features=1024, bias=True)\n",
       "      )\n",
       "      (2): MultiHeadAttention(\n",
       "        (q_lin): Linear(in_features=1024, out_features=1024, bias=True)\n",
       "        (k_lin): Linear(in_features=1024, out_features=1024, bias=True)\n",
       "        (v_lin): Linear(in_features=1024, out_features=1024, bias=True)\n",
       "        (out_lin): Linear(in_features=1024, out_features=1024, bias=True)\n",
       "      )\n",
       "      (3): MultiHeadAttention(\n",
       "        (q_lin): Linear(in_features=1024, out_features=1024, bias=True)\n",
       "        (k_lin): Linear(in_features=1024, out_features=1024, bias=True)\n",
       "        (v_lin): Linear(in_features=1024, out_features=1024, bias=True)\n",
       "        (out_lin): Linear(in_features=1024, out_features=1024, bias=True)\n",
       "      )\n",
       "      (4): MultiHeadAttention(\n",
       "        (q_lin): Linear(in_features=1024, out_features=1024, bias=True)\n",
       "        (k_lin): Linear(in_features=1024, out_features=1024, bias=True)\n",
       "        (v_lin): Linear(in_features=1024, out_features=1024, bias=True)\n",
       "        (out_lin): Linear(in_features=1024, out_features=1024, bias=True)\n",
       "      )\n",
       "      (5): MultiHeadAttention(\n",
       "        (q_lin): Linear(in_features=1024, out_features=1024, bias=True)\n",
       "        (k_lin): Linear(in_features=1024, out_features=1024, bias=True)\n",
       "        (v_lin): Linear(in_features=1024, out_features=1024, bias=True)\n",
       "        (out_lin): Linear(in_features=1024, out_features=1024, bias=True)\n",
       "      )\n",
       "    )\n",
       "    (layer_norm1): ModuleList(\n",
       "      (0): LayerNorm((1024,), eps=1e-12, elementwise_affine=True)\n",
       "      (1): LayerNorm((1024,), eps=1e-12, elementwise_affine=True)\n",
       "      (2): LayerNorm((1024,), eps=1e-12, elementwise_affine=True)\n",
       "      (3): LayerNorm((1024,), eps=1e-12, elementwise_affine=True)\n",
       "      (4): LayerNorm((1024,), eps=1e-12, elementwise_affine=True)\n",
       "      (5): LayerNorm((1024,), eps=1e-12, elementwise_affine=True)\n",
       "    )\n",
       "    (ffns): ModuleList(\n",
       "      (0): TransformerFFN(\n",
       "        (lin1): Linear(in_features=1024, out_features=4096, bias=True)\n",
       "        (lin2): Linear(in_features=4096, out_features=1024, bias=True)\n",
       "      )\n",
       "      (1): TransformerFFN(\n",
       "        (lin1): Linear(in_features=1024, out_features=4096, bias=True)\n",
       "        (lin2): Linear(in_features=4096, out_features=1024, bias=True)\n",
       "      )\n",
       "      (2): TransformerFFN(\n",
       "        (lin1): Linear(in_features=1024, out_features=4096, bias=True)\n",
       "        (lin2): Linear(in_features=4096, out_features=1024, bias=True)\n",
       "      )\n",
       "      (3): TransformerFFN(\n",
       "        (lin1): Linear(in_features=1024, out_features=4096, bias=True)\n",
       "        (lin2): Linear(in_features=4096, out_features=1024, bias=True)\n",
       "      )\n",
       "      (4): TransformerFFN(\n",
       "        (lin1): Linear(in_features=1024, out_features=4096, bias=True)\n",
       "        (lin2): Linear(in_features=4096, out_features=1024, bias=True)\n",
       "      )\n",
       "      (5): TransformerFFN(\n",
       "        (lin1): Linear(in_features=1024, out_features=4096, bias=True)\n",
       "        (lin2): Linear(in_features=4096, out_features=1024, bias=True)\n",
       "      )\n",
       "    )\n",
       "    (layer_norm2): ModuleList(\n",
       "      (0): LayerNorm((1024,), eps=1e-12, elementwise_affine=True)\n",
       "      (1): LayerNorm((1024,), eps=1e-12, elementwise_affine=True)\n",
       "      (2): LayerNorm((1024,), eps=1e-12, elementwise_affine=True)\n",
       "      (3): LayerNorm((1024,), eps=1e-12, elementwise_affine=True)\n",
       "      (4): LayerNorm((1024,), eps=1e-12, elementwise_affine=True)\n",
       "      (5): LayerNorm((1024,), eps=1e-12, elementwise_affine=True)\n",
       "    )\n",
       "  )\n",
       ")"
      ]
     },
     "execution_count": 53,
     "metadata": {},
     "output_type": "execute_result"
    }
   ],
   "source": [
    "learn_clas.model"
   ]
  },
  {
   "cell_type": "code",
   "execution_count": 54,
   "metadata": {},
   "outputs": [],
   "source": [
    "#making layer groupes and creating learner object for training\n",
    "loss_func = nn.CrossEntropyLoss()\n",
    "\n",
    "layer_groups = [nn.Sequential(*(flatten_model(learn_clas.model.transformer.position_embeddings)+\n",
    "                                flatten_model(learn_clas.model.transformer.lang_embeddings)+\n",
    "                                flatten_model(learn_clas.model.transformer.embeddings)+\n",
    "                                flatten_model(learn_clas.model.transformer.layer_norm_emb)+\n",
    "                                flatten_model(learn_img.layer_groups[0]))),\n",
    "                \n",
    "                nn.Sequential(*(flatten_model(learn_clas.model.transformer.attentions)+\n",
    "                                flatten_model(learn_img.layer_groups[1]))),\n",
    "                \n",
    "                nn.Sequential(*(flatten_model(learn_clas.model.transformer.layer_norm1)+\n",
    "                                flatten_model(learn_img.layer_groups[2]))),\n",
    "               nn.Sequential(*(flatten_model(learn_clas.model.transformer.ffns)+\n",
    "                               flatten_model(learn_clas.model.transformer.layer_norm2)+\n",
    "                   flatten_model(model.layers)))]"
   ]
  },
  {
   "cell_type": "code",
   "execution_count": 55,
   "metadata": {},
   "outputs": [],
   "source": [
    "# model.eval()\n",
    "learn = Learner(data, model, loss_func=loss_func, metrics=[accuracy,Precision1(average='macro'),\n",
    "                Precision1(average='weighted'),Recall(average='macro'),Recall(average='weighted'),\n",
    "               FBeta(average='macro',beta=1.),FBeta(average='weighted',beta=1.)],\n",
    "            callback_fns=[ShowGraph,partial(EarlyStoppingCallback, monitor='valid_loss', min_delta=0.01, patience=3),\n",
    "               partial(ReduceLROnPlateauCallback,monitor='valid_loss', mode='auto', patience=0,\n",
    "                       factor=0.2, min_delta=0, min_lr=0.000001)],layer_groups=layer_groups)"
   ]
  },
  {
   "cell_type": "code",
   "execution_count": 56,
   "metadata": {},
   "outputs": [
    {
     "data": {
      "text/plain": [
       "4"
      ]
     },
     "execution_count": 56,
     "metadata": {},
     "output_type": "execute_result"
    }
   ],
   "source": [
    "len(learn.layer_groups)"
   ]
  },
  {
   "cell_type": "code",
   "execution_count": 57,
   "metadata": {},
   "outputs": [],
   "source": [
    "learn.freeze()"
   ]
  },
  {
   "cell_type": "code",
   "execution_count": 58,
   "metadata": {},
   "outputs": [],
   "source": [
    "# print(learn.summary())"
   ]
  },
  {
   "cell_type": "code",
   "execution_count": 59,
   "metadata": {},
   "outputs": [
    {
     "data": {
      "text/html": [
       "\n",
       "    <div>\n",
       "        <style>\n",
       "            /* Turns off some styling */\n",
       "            progress {\n",
       "                /* gets rid of default border in Firefox and Opera. */\n",
       "                border: none;\n",
       "                /* Needs to be in here for Safari polyfill so background images work as expected. */\n",
       "                background-size: auto;\n",
       "            }\n",
       "            .progress-bar-interrupted, .progress-bar-interrupted::-webkit-progress-bar {\n",
       "                background: #F44336;\n",
       "            }\n",
       "        </style>\n",
       "      <progress value='0' class='' max='1', style='width:300px; height:20px; vertical-align: middle;'></progress>\n",
       "      0.00% [0/1 00:00<00:00]\n",
       "    </div>\n",
       "    \n",
       "<table border=\"1\" class=\"dataframe\">\n",
       "  <thead>\n",
       "    <tr style=\"text-align: left;\">\n",
       "      <th>epoch</th>\n",
       "      <th>train_loss</th>\n",
       "      <th>valid_loss</th>\n",
       "      <th>accuracy</th>\n",
       "      <th>precision1</th>\n",
       "      <th>precision1</th>\n",
       "      <th>recall</th>\n",
       "      <th>recall</th>\n",
       "      <th>f_beta</th>\n",
       "      <th>f_beta</th>\n",
       "      <th>time</th>\n",
       "    </tr>\n",
       "  </thead>\n",
       "  <tbody>\n",
       "  </tbody>\n",
       "</table><p>\n",
       "\n",
       "    <div>\n",
       "        <style>\n",
       "            /* Turns off some styling */\n",
       "            progress {\n",
       "                /* gets rid of default border in Firefox and Opera. */\n",
       "                border: none;\n",
       "                /* Needs to be in here for Safari polyfill so background images work as expected. */\n",
       "                background-size: auto;\n",
       "            }\n",
       "            .progress-bar-interrupted, .progress-bar-interrupted::-webkit-progress-bar {\n",
       "                background: #F44336;\n",
       "            }\n",
       "        </style>\n",
       "      <progress value='82' class='' max='300', style='width:300px; height:20px; vertical-align: middle;'></progress>\n",
       "      27.33% [82/300 00:24<01:04 2.7485]\n",
       "    </div>\n",
       "    "
      ],
      "text/plain": [
       "<IPython.core.display.HTML object>"
      ]
     },
     "metadata": {},
     "output_type": "display_data"
    },
    {
     "name": "stdout",
     "output_type": "stream",
     "text": [
      "LR Finder is complete, type {learner_name}.recorder.plot() to see the graph.\n"
     ]
    }
   ],
   "source": [
    "# training model using discriminative fine-tunnig and gradual unfreezing\n",
    "learn.lr_find()"
   ]
  },
  {
   "cell_type": "code",
   "execution_count": 60,
   "metadata": {},
   "outputs": [
    {
     "name": "stdout",
     "output_type": "stream",
     "text": [
      "Min numerical gradient: 9.12E-03\n",
      "Min loss divided by 10: 1.10E-03\n"
     ]
    },
    {
     "data": {
      "image/png": "[encoded data removed]",
      "text/plain": [
       "<Figure size 432x288 with 1 Axes>"
      ]
     },
     "metadata": {
      "needs_background": "light"
     },
     "output_type": "display_data"
    }
   ],
   "source": [
    "learn.recorder.plot(suggestion=True)"
   ]
  },
  {
   "cell_type": "code",
   "execution_count": 61,
   "metadata": {},
   "outputs": [
    {
     "data": {
      "text/html": [
       "<table border=\"1\" class=\"dataframe\">\n",
       "  <thead>\n",
       "    <tr style=\"text-align: left;\">\n",
       "      <th>epoch</th>\n",
       "      <th>train_loss</th>\n",
       "      <th>valid_loss</th>\n",
       "      <th>accuracy</th>\n",
       "      <th>precision1</th>\n",
       "      <th>precision1</th>\n",
       "      <th>recall</th>\n",
       "      <th>recall</th>\n",
       "      <th>f_beta</th>\n",
       "      <th>f_beta</th>\n",
       "      <th>time</th>\n",
       "    </tr>\n",
       "  </thead>\n",
       "  <tbody>\n",
       "    <tr>\n",
       "      <td>0</td>\n",
       "      <td>0.701521</td>\n",
       "      <td>0.850843</td>\n",
       "      <td>0.684679</td>\n",
       "      <td>0.712356</td>\n",
       "      <td>0.781101</td>\n",
       "      <td>0.736027</td>\n",
       "      <td>0.684679</td>\n",
       "      <td>0.681341</td>\n",
       "      <td>0.692517</td>\n",
       "      <td>01:25</td>\n",
       "    </tr>\n",
       "    <tr>\n",
       "      <td>1</td>\n",
       "      <td>0.732795</td>\n",
       "      <td>0.695307</td>\n",
       "      <td>0.761602</td>\n",
       "      <td>0.817449</td>\n",
       "      <td>0.792551</td>\n",
       "      <td>0.647203</td>\n",
       "      <td>0.761602</td>\n",
       "      <td>0.655135</td>\n",
       "      <td>0.720794</td>\n",
       "      <td>01:25</td>\n",
       "    </tr>\n",
       "    <tr>\n",
       "      <td>2</td>\n",
       "      <td>0.487114</td>\n",
       "      <td>0.401048</td>\n",
       "      <td>0.818182</td>\n",
       "      <td>0.793156</td>\n",
       "      <td>0.822040</td>\n",
       "      <td>0.802879</td>\n",
       "      <td>0.818182</td>\n",
       "      <td>0.797473</td>\n",
       "      <td>0.819664</td>\n",
       "      <td>01:26</td>\n",
       "    </tr>\n",
       "    <tr>\n",
       "      <td>3</td>\n",
       "      <td>0.381785</td>\n",
       "      <td>0.372757</td>\n",
       "      <td>0.835982</td>\n",
       "      <td>0.819301</td>\n",
       "      <td>0.833284</td>\n",
       "      <td>0.801328</td>\n",
       "      <td>0.835982</td>\n",
       "      <td>0.809024</td>\n",
       "      <td>0.833610</td>\n",
       "      <td>01:26</td>\n",
       "    </tr>\n",
       "    <tr>\n",
       "      <td>4</td>\n",
       "      <td>0.287594</td>\n",
       "      <td>0.372258</td>\n",
       "      <td>0.840432</td>\n",
       "      <td>0.822668</td>\n",
       "      <td>0.838288</td>\n",
       "      <td>0.810072</td>\n",
       "      <td>0.840432</td>\n",
       "      <td>0.815723</td>\n",
       "      <td>0.838845</td>\n",
       "      <td>01:26</td>\n",
       "    </tr>\n",
       "  </tbody>\n",
       "</table>"
      ],
      "text/plain": [
       "<IPython.core.display.HTML object>"
      ]
     },
     "metadata": {},
     "output_type": "display_data"
    },
    {
     "data": {
      "image/png": "[encoded data removed]",
      "text/plain": [
       "<Figure size 432x288 with 1 Axes>"
      ]
     },
     "metadata": {},
     "output_type": "display_data"
    },
    {
     "name": "stdout",
     "output_type": "stream",
     "text": [
      "Better model found at epoch 0 with accuracy value: 0.6846789717674255.\n",
      "Better model found at epoch 1 with accuracy value: 0.7616020441055298.\n",
      "Better model found at epoch 2 with accuracy value: 0.8181818127632141.\n",
      "Better model found at epoch 3 with accuracy value: 0.8359822034835815.\n",
      "Better model found at epoch 4 with accuracy value: 0.8404322862625122.\n"
     ]
    }
   ],
   "source": [
    "# training the model's top layer's keeping keep other layer's in freezing mode, all the metrics shown here, have been\n",
    "# evaluted on validation set\n",
    "learn.fit_one_cycle(5,slice(1e-2), moms=(0.8, 0.7),wd=1e-1,\n",
    "                   callbacks=[SaveModelCallback(learn,every='improvement', monitor='accuracy', name='best')])"
   ]
  },
  {
   "cell_type": "code",
   "execution_count": 62,
   "metadata": {},
   "outputs": [
    {
     "data": {
      "text/html": [
       "<table border=\"1\" class=\"dataframe\">\n",
       "  <thead>\n",
       "    <tr style=\"text-align: left;\">\n",
       "      <th>epoch</th>\n",
       "      <th>train_loss</th>\n",
       "      <th>valid_loss</th>\n",
       "      <th>accuracy</th>\n",
       "      <th>precision1</th>\n",
       "      <th>precision1</th>\n",
       "      <th>recall</th>\n",
       "      <th>recall</th>\n",
       "      <th>f_beta</th>\n",
       "      <th>f_beta</th>\n",
       "      <th>time</th>\n",
       "    </tr>\n",
       "  </thead>\n",
       "  <tbody>\n",
       "    <tr>\n",
       "      <td>0</td>\n",
       "      <td>0.378602</td>\n",
       "      <td>0.393381</td>\n",
       "      <td>0.825175</td>\n",
       "      <td>0.801351</td>\n",
       "      <td>0.826382</td>\n",
       "      <td>0.805126</td>\n",
       "      <td>0.825175</td>\n",
       "      <td>0.803165</td>\n",
       "      <td>0.825719</td>\n",
       "      <td>01:27</td>\n",
       "    </tr>\n",
       "    <tr>\n",
       "      <td>1</td>\n",
       "      <td>0.256334</td>\n",
       "      <td>0.397457</td>\n",
       "      <td>0.828989</td>\n",
       "      <td>0.807683</td>\n",
       "      <td>0.827449</td>\n",
       "      <td>0.801056</td>\n",
       "      <td>0.828989</td>\n",
       "      <td>0.804169</td>\n",
       "      <td>0.828058</td>\n",
       "      <td>01:27</td>\n",
       "    </tr>\n",
       "  </tbody>\n",
       "</table>"
      ],
      "text/plain": [
       "<IPython.core.display.HTML object>"
      ]
     },
     "metadata": {},
     "output_type": "display_data"
    },
    {
     "data": {
      "image/png": "[encoded data removed]",
      "text/plain": [
       "<Figure size 432x288 with 1 Axes>"
      ]
     },
     "metadata": {},
     "output_type": "display_data"
    }
   ],
   "source": [
    "learn.freeze_to(-2)\n",
    "learn.fit_one_cycle(2, slice(5e-3/(2.6**4), 5e-3), moms=(0.8, 0.7))"
   ]
  },
  {
   "cell_type": "code",
   "execution_count": 63,
   "metadata": {},
   "outputs": [
    {
     "data": {
      "text/html": [
       "<table border=\"1\" class=\"dataframe\">\n",
       "  <thead>\n",
       "    <tr style=\"text-align: left;\">\n",
       "      <th>epoch</th>\n",
       "      <th>train_loss</th>\n",
       "      <th>valid_loss</th>\n",
       "      <th>accuracy</th>\n",
       "      <th>precision1</th>\n",
       "      <th>precision1</th>\n",
       "      <th>recall</th>\n",
       "      <th>recall</th>\n",
       "      <th>f_beta</th>\n",
       "      <th>f_beta</th>\n",
       "      <th>time</th>\n",
       "    </tr>\n",
       "  </thead>\n",
       "  <tbody>\n",
       "    <tr>\n",
       "      <td>0</td>\n",
       "      <td>0.392646</td>\n",
       "      <td>0.386015</td>\n",
       "      <td>0.820089</td>\n",
       "      <td>0.799887</td>\n",
       "      <td>0.816981</td>\n",
       "      <td>0.784061</td>\n",
       "      <td>0.820089</td>\n",
       "      <td>0.790866</td>\n",
       "      <td>0.817654</td>\n",
       "      <td>01:44</td>\n",
       "    </tr>\n",
       "    <tr>\n",
       "      <td>1</td>\n",
       "      <td>0.324070</td>\n",
       "      <td>0.387095</td>\n",
       "      <td>0.817546</td>\n",
       "      <td>0.805953</td>\n",
       "      <td>0.814207</td>\n",
       "      <td>0.766370</td>\n",
       "      <td>0.817546</td>\n",
       "      <td>0.780254</td>\n",
       "      <td>0.811273</td>\n",
       "      <td>01:44</td>\n",
       "    </tr>\n",
       "    <tr>\n",
       "      <td>2</td>\n",
       "      <td>0.110232</td>\n",
       "      <td>0.428716</td>\n",
       "      <td>0.845518</td>\n",
       "      <td>0.835870</td>\n",
       "      <td>0.843288</td>\n",
       "      <td>0.804975</td>\n",
       "      <td>0.845518</td>\n",
       "      <td>0.817104</td>\n",
       "      <td>0.841806</td>\n",
       "      <td>01:43</td>\n",
       "    </tr>\n",
       "  </tbody>\n",
       "</table>"
      ],
      "text/plain": [
       "<IPython.core.display.HTML object>"
      ]
     },
     "metadata": {},
     "output_type": "display_data"
    },
    {
     "data": {
      "image/png": "[encoded data removed]",
      "text/plain": [
       "<Figure size 432x288 with 1 Axes>"
      ]
     },
     "metadata": {},
     "output_type": "display_data"
    },
    {
     "name": "stdout",
     "output_type": "stream",
     "text": [
      "Epoch 1: reducing lr to 0.00018505484106678998\n"
     ]
    }
   ],
   "source": [
    "learn.freeze_to(-3)\n",
    "learn.fit_one_cycle(3, slice(2e-3/(2.6**4), 2e-3), moms=(0.8, 0.7))"
   ]
  },
  {
   "cell_type": "code",
   "execution_count": 64,
   "metadata": {},
   "outputs": [
    {
     "data": {
      "text/html": [
       "\n",
       "    <div>\n",
       "        <style>\n",
       "            /* Turns off some styling */\n",
       "            progress {\n",
       "                /* gets rid of default border in Firefox and Opera. */\n",
       "                border: none;\n",
       "                /* Needs to be in here for Safari polyfill so background images work as expected. */\n",
       "                background-size: auto;\n",
       "            }\n",
       "            .progress-bar-interrupted, .progress-bar-interrupted::-webkit-progress-bar {\n",
       "                background: #F44336;\n",
       "            }\n",
       "        </style>\n",
       "      <progress value='0' class='' max='1', style='width:300px; height:20px; vertical-align: middle;'></progress>\n",
       "      0.00% [0/1 00:00<00:00]\n",
       "    </div>\n",
       "    \n",
       "<table border=\"1\" class=\"dataframe\">\n",
       "  <thead>\n",
       "    <tr style=\"text-align: left;\">\n",
       "      <th>epoch</th>\n",
       "      <th>train_loss</th>\n",
       "      <th>valid_loss</th>\n",
       "      <th>accuracy</th>\n",
       "      <th>precision1</th>\n",
       "      <th>precision1</th>\n",
       "      <th>recall</th>\n",
       "      <th>recall</th>\n",
       "      <th>f_beta</th>\n",
       "      <th>f_beta</th>\n",
       "      <th>time</th>\n",
       "    </tr>\n",
       "  </thead>\n",
       "  <tbody>\n",
       "  </tbody>\n",
       "</table><p>\n",
       "\n",
       "    <div>\n",
       "        <style>\n",
       "            /* Turns off some styling */\n",
       "            progress {\n",
       "                /* gets rid of default border in Firefox and Opera. */\n",
       "                border: none;\n",
       "                /* Needs to be in here for Safari polyfill so background images work as expected. */\n",
       "                background-size: auto;\n",
       "            }\n",
       "            .progress-bar-interrupted, .progress-bar-interrupted::-webkit-progress-bar {\n",
       "                background: #F44336;\n",
       "            }\n",
       "        </style>\n",
       "      <progress value='49' class='' max='300', style='width:300px; height:20px; vertical-align: middle;'></progress>\n",
       "      16.33% [49/300 00:20<01:43 0.0706]\n",
       "    </div>\n",
       "    "
      ],
      "text/plain": [
       "<IPython.core.display.HTML object>"
      ]
     },
     "metadata": {},
     "output_type": "display_data"
    },
    {
     "name": "stdout",
     "output_type": "stream",
     "text": [
      "LR Finder is complete, type {learner_name}.recorder.plot() to see the graph.\n"
     ]
    },
    {
     "data": {
      "image/png": "[encoded data removed]",
      "text/plain": [
       "<Figure size 432x288 with 1 Axes>"
      ]
     },
     "metadata": {
      "needs_background": "light"
     },
     "output_type": "display_data"
    }
   ],
   "source": [
    "learn.unfreeze()\n",
    "learn.lr_find()\n",
    "learn.recorder.plot()"
   ]
  },
  {
   "cell_type": "code",
   "execution_count": 65,
   "metadata": {},
   "outputs": [
    {
     "data": {
      "text/html": [
       "<table border=\"1\" class=\"dataframe\">\n",
       "  <thead>\n",
       "    <tr style=\"text-align: left;\">\n",
       "      <th>epoch</th>\n",
       "      <th>train_loss</th>\n",
       "      <th>valid_loss</th>\n",
       "      <th>accuracy</th>\n",
       "      <th>precision1</th>\n",
       "      <th>precision1</th>\n",
       "      <th>recall</th>\n",
       "      <th>recall</th>\n",
       "      <th>f_beta</th>\n",
       "      <th>f_beta</th>\n",
       "      <th>time</th>\n",
       "    </tr>\n",
       "  </thead>\n",
       "  <tbody>\n",
       "    <tr>\n",
       "      <td>0</td>\n",
       "      <td>0.100042</td>\n",
       "      <td>0.500751</td>\n",
       "      <td>0.842975</td>\n",
       "      <td>0.832697</td>\n",
       "      <td>0.840600</td>\n",
       "      <td>0.802093</td>\n",
       "      <td>0.842975</td>\n",
       "      <td>0.814094</td>\n",
       "      <td>0.839202</td>\n",
       "      <td>02:04</td>\n",
       "    </tr>\n",
       "    <tr>\n",
       "      <td>1</td>\n",
       "      <td>0.043276</td>\n",
       "      <td>0.539489</td>\n",
       "      <td>0.837254</td>\n",
       "      <td>0.815476</td>\n",
       "      <td>0.837416</td>\n",
       "      <td>0.816096</td>\n",
       "      <td>0.837254</td>\n",
       "      <td>0.815784</td>\n",
       "      <td>0.837334</td>\n",
       "      <td>02:04</td>\n",
       "    </tr>\n",
       "  </tbody>\n",
       "</table>"
      ],
      "text/plain": [
       "<IPython.core.display.HTML object>"
      ]
     },
     "metadata": {},
     "output_type": "display_data"
    },
    {
     "data": {
      "image/png": "[encoded data removed]",
      "text/plain": [
       "<Figure size 432x288 with 1 Axes>"
      ]
     },
     "metadata": {},
     "output_type": "display_data"
    }
   ],
   "source": [
    "learn.fit_one_cycle(2, slice(5e-4/(2.6**4), 5e-4), moms=(0.8, 0.7))"
   ]
  },
  {
   "cell_type": "code",
   "execution_count": 66,
   "metadata": {
    "scrolled": false
   },
   "outputs": [
    {
     "data": {
      "text/html": [
       "\n",
       "    <div>\n",
       "        <style>\n",
       "            /* Turns off some styling */\n",
       "            progress {\n",
       "                /* gets rid of default border in Firefox and Opera. */\n",
       "                border: none;\n",
       "                /* Needs to be in here for Safari polyfill so background images work as expected. */\n",
       "                background-size: auto;\n",
       "            }\n",
       "            .progress-bar-interrupted, .progress-bar-interrupted::-webkit-progress-bar {\n",
       "                background: #F44336;\n",
       "            }\n",
       "        </style>\n",
       "      <progress value='4' class='' max='5', style='width:300px; height:20px; vertical-align: middle;'></progress>\n",
       "      80.00% [4/5 08:27<02:06]\n",
       "    </div>\n",
       "    \n",
       "<table border=\"1\" class=\"dataframe\">\n",
       "  <thead>\n",
       "    <tr style=\"text-align: left;\">\n",
       "      <th>epoch</th>\n",
       "      <th>train_loss</th>\n",
       "      <th>valid_loss</th>\n",
       "      <th>accuracy</th>\n",
       "      <th>precision1</th>\n",
       "      <th>precision1</th>\n",
       "      <th>recall</th>\n",
       "      <th>recall</th>\n",
       "      <th>f_beta</th>\n",
       "      <th>f_beta</th>\n",
       "      <th>time</th>\n",
       "    </tr>\n",
       "  </thead>\n",
       "  <tbody>\n",
       "    <tr>\n",
       "      <td>0</td>\n",
       "      <td>0.036246</td>\n",
       "      <td>0.604343</td>\n",
       "      <td>0.837254</td>\n",
       "      <td>0.823593</td>\n",
       "      <td>0.834437</td>\n",
       "      <td>0.798326</td>\n",
       "      <td>0.837254</td>\n",
       "      <td>0.808558</td>\n",
       "      <td>0.833955</td>\n",
       "      <td>02:04</td>\n",
       "    </tr>\n",
       "    <tr>\n",
       "      <td>1</td>\n",
       "      <td>0.048722</td>\n",
       "      <td>0.650718</td>\n",
       "      <td>0.837889</td>\n",
       "      <td>0.822018</td>\n",
       "      <td>0.835199</td>\n",
       "      <td>0.802748</td>\n",
       "      <td>0.837889</td>\n",
       "      <td>0.810928</td>\n",
       "      <td>0.835393</td>\n",
       "      <td>02:04</td>\n",
       "    </tr>\n",
       "    <tr>\n",
       "      <td>2</td>\n",
       "      <td>0.022422</td>\n",
       "      <td>0.634023</td>\n",
       "      <td>0.845518</td>\n",
       "      <td>0.835870</td>\n",
       "      <td>0.843288</td>\n",
       "      <td>0.804975</td>\n",
       "      <td>0.845518</td>\n",
       "      <td>0.817104</td>\n",
       "      <td>0.841806</td>\n",
       "      <td>02:04</td>\n",
       "    </tr>\n",
       "    <tr>\n",
       "      <td>3</td>\n",
       "      <td>0.016616</td>\n",
       "      <td>0.637786</td>\n",
       "      <td>0.842339</td>\n",
       "      <td>0.827230</td>\n",
       "      <td>0.839817</td>\n",
       "      <td>0.808037</td>\n",
       "      <td>0.842340</td>\n",
       "      <td>0.816221</td>\n",
       "      <td>0.839961</td>\n",
       "      <td>02:04</td>\n",
       "    </tr>\n",
       "  </tbody>\n",
       "</table><p>\n",
       "\n",
       "    <div>\n",
       "        <style>\n",
       "            /* Turns off some styling */\n",
       "            progress {\n",
       "                /* gets rid of default border in Firefox and Opera. */\n",
       "                border: none;\n",
       "                /* Needs to be in here for Safari polyfill so background images work as expected. */\n",
       "                background-size: auto;\n",
       "            }\n",
       "            .progress-bar-interrupted, .progress-bar-interrupted::-webkit-progress-bar {\n",
       "                background: #F44336;\n",
       "            }\n",
       "        </style>\n",
       "      <progress value='50' class='' max='50', style='width:300px; height:20px; vertical-align: middle;'></progress>\n",
       "      100.00% [50/50 00:05<00:00]\n",
       "    </div>\n",
       "    "
      ],
      "text/plain": [
       "<IPython.core.display.HTML object>"
      ]
     },
     "metadata": {},
     "output_type": "display_data"
    },
    {
     "data": {
      "image/png": "[encoded data removed]",
      "text/plain": [
       "<Figure size 432x288 with 1 Axes>"
      ]
     },
     "metadata": {},
     "output_type": "display_data"
    },
    {
     "name": "stdout",
     "output_type": "stream",
     "text": [
      "Better model found at epoch 0 with accuracy value: 0.8372536301612854.\n",
      "Epoch 1: reducing lr to 9.504846320134734e-05\n",
      "Better model found at epoch 1 with accuracy value: 0.8378893733024597.\n",
      "Epoch 2: reducing lr to 6.11262021936289e-05\n",
      "Better model found at epoch 2 with accuracy value: 0.8455181121826172.\n",
      "Epoch 3: reducing lr to 1.8825834605023693e-05\n",
      "Epoch 4: early stopping\n",
      "Better model found at epoch 4 with accuracy value: 0.8461538553237915.\n"
     ]
    },
    {
     "data": {
      "image/png": "[encoded data removed]",
      "text/plain": [
       "<Figure size 432x288 with 1 Axes>"
      ]
     },
     "metadata": {
      "needs_background": "light"
     },
     "output_type": "display_data"
    }
   ],
   "source": [
    "# training all layer's of the model and saving the best one \n",
    "learn.fit_one_cycle(5, slice(5e-4/(2.6**4), 5e-4), moms=(0.8, 0.7), wd=1e-1,\n",
    "                    callbacks=[SaveModelCallback(learn,every='improvement', monitor='accuracy', name='best')])"
   ]
  },
  {
   "cell_type": "code",
   "execution_count": 67,
   "metadata": {},
   "outputs": [
    {
     "data": {
      "text/html": [],
      "text/plain": [
       "<IPython.core.display.HTML object>"
      ]
     },
     "metadata": {},
     "output_type": "display_data"
    }
   ],
   "source": [
    "# making interpretation on test split\n",
    "interp = ClassificationInterpretation.from_learner(learn)"
   ]
  },
  {
   "cell_type": "code",
   "execution_count": 68,
   "metadata": {},
   "outputs": [
    {
     "data": {
      "image/png": "[encoded data removed]",
      "text/plain": [
       "<Figure size 700x700 with 1 Axes>"
      ]
     },
     "metadata": {
      "needs_background": "light"
     },
     "output_type": "display_data"
    }
   ],
   "source": [
    "interp.plot_confusion_matrix(figsize=(7,7), dpi=100)"
   ]
  },
  {
   "cell_type": "code",
   "execution_count": 69,
   "metadata": {},
   "outputs": [
    {
     "data": {
      "text/html": [],
      "text/plain": [
       "<IPython.core.display.HTML object>"
      ]
     },
     "metadata": {},
     "output_type": "display_data"
    },
    {
     "data": {
      "text/plain": [
       "[0.6483032,\n",
       " tensor(0.8462),\n",
       " tensor(0.8345),\n",
       " tensor(0.8438),\n",
       " tensor(0.8084),\n",
       " tensor(0.8462),\n",
       " tensor(0.8190),\n",
       " tensor(0.8430)]"
      ]
     },
     "execution_count": 69,
     "metadata": {},
     "output_type": "execute_result"
    }
   ],
   "source": [
    "learn.validate(data.valid_dl,metrics=[accuracy,Precision1(average='macro'),Precision1(average='weighted'),\n",
    "                                                 Recall(average='macro'),Recall(average='weighted'),\n",
    "                                                 FBeta(average='macro',beta=1.),FBeta(average='weighted',beta=1.)])"
   ]
  },
  {
   "cell_type": "code",
   "execution_count": 70,
   "metadata": {},
   "outputs": [
    {
     "data": {
      "text/html": [],
      "text/plain": [
       "<IPython.core.display.HTML object>"
      ]
     },
     "metadata": {},
     "output_type": "display_data"
    },
    {
     "name": "stdout",
     "output_type": "stream",
     "text": [
      "                 precision    recall  f1-score   support\n",
      "\n",
      "    informative       0.86      0.92      0.89      1056\n",
      "not_informative       0.81      0.70      0.75       517\n",
      "\n",
      "       accuracy                           0.85      1573\n",
      "      macro avg       0.83      0.81      0.82      1573\n",
      "   weighted avg       0.84      0.85      0.84      1573\n",
      "\n"
     ]
    }
   ],
   "source": [
    "#making predictions on validation set to use it for classification report\n",
    "valid_preds,valid_y,losses = learn.get_preds(ds_type=DatasetType.Valid,with_loss=True)\n",
    "valid_y_preds = valid_preds.argmax(1)\n",
    "\n",
    "target_names = ['informative','not_informative']\n",
    "\n",
    "print(classification_report(valid_y, valid_y_preds, target_names=target_names))"
   ]
  },
  {
   "cell_type": "code",
   "execution_count": 71,
   "metadata": {},
   "outputs": [
    {
     "data": {
      "text/html": [],
      "text/plain": [
       "<IPython.core.display.HTML object>"
      ]
     },
     "metadata": {},
     "output_type": "display_data"
    },
    {
     "data": {
      "text/plain": [
       "[0.63045436,\n",
       " tensor(0.8553),\n",
       " tensor(0.8407),\n",
       " tensor(0.8534),\n",
       " tensor(0.8259),\n",
       " tensor(0.8553),\n",
       " tensor(0.8325),\n",
       " tensor(0.8537)]"
      ]
     },
     "execution_count": 71,
     "metadata": {},
     "output_type": "execute_result"
    }
   ],
   "source": [
    "learn.validate(data.test_dl,metrics=[accuracy,Precision1(average='macro'),Precision1(average='weighted'),\n",
    "                                                 Recall(average='macro'),Recall(average='weighted'),\n",
    "                                                 FBeta(average='macro',beta=1.),FBeta(average='weighted',beta=1.)])"
   ]
  },
  {
   "cell_type": "code",
   "execution_count": 72,
   "metadata": {},
   "outputs": [
    {
     "data": {
      "text/html": [],
      "text/plain": [
       "<IPython.core.display.HTML object>"
      ]
     },
     "metadata": {},
     "output_type": "display_data"
    },
    {
     "name": "stdout",
     "output_type": "stream",
     "text": [
      "                 precision    recall  f1-score   support\n",
      "\n",
      "    informative       0.88      0.91      0.89      1030\n",
      "not_informative       0.80      0.74      0.77       504\n",
      "\n",
      "       accuracy                           0.86      1534\n",
      "      macro avg       0.84      0.83      0.83      1534\n",
      "   weighted avg       0.85      0.86      0.85      1534\n",
      "\n"
     ]
    }
   ],
   "source": [
    "#making predictions on test set to use it for classification report\n",
    "test_preds,test_y,losses = learn.get_preds(ds_type=DatasetType.Test,with_loss=True)\n",
    "test_y_preds = test_preds.argmax(1)\n",
    "\n",
    "target_names = ['informative','not_informative']\n",
    "print(classification_report(test_y, test_y_preds, target_names=target_names))"
   ]
  },
  {
   "cell_type": "code",
   "execution_count": null,
   "metadata": {},
   "outputs": [],
   "source": []
  }
 ],
 "metadata": {
  "kernelspec": {
   "display_name": "Python 3",
   "language": "python",
   "name": "python3"
  },
  "language_info": {
   "codemirror_mode": {
    "name": "ipython",
    "version": 3
   },
   "file_extension": ".py",
   "mimetype": "text/x-python",
   "name": "python",
   "nbconvert_exporter": "python",
   "pygments_lexer": "ipython3",
   "version": "3.7.6"
  }
 },
 "nbformat": 4,
 "nbformat_minor": 4
}
