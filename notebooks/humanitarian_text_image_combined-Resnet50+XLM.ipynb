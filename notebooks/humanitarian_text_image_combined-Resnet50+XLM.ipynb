{
 "cells": [
  {
   "cell_type": "markdown",
   "metadata": {},
   "source": [
    "# Building Concatenated Model"
   ]
  },
  {
   "cell_type": "code",
   "execution_count": 1,
   "metadata": {},
   "outputs": [],
   "source": [
    "# cd CrisisMMD_Dataset"
   ]
  },
  {
   "cell_type": "code",
   "execution_count": 2,
   "metadata": {},
   "outputs": [],
   "source": [
    "#ensuring that any edits to libraries you make are reloaded here automatically\n",
    "#to ensuere charts or images displayed are shown in this notebook\n",
    "%reload_ext autoreload\n",
    "%autoreload 2\n",
    "%matplotlib inline "
   ]
  },
  {
   "cell_type": "code",
   "execution_count": 3,
   "metadata": {},
   "outputs": [],
   "source": [
    "#importing required modules\n",
    "from exp.Required_Modules_And_Packages import *\n",
    "from exp.Data_Reading_And_Preprocessing import *\n",
    "from exp.Required_Integration_Functionalities_For_Transformer_To_Fastai import *\n",
    "from exp.Required_Functionalities_To_Handal_Multimodal_Dataset import *\n",
    "from exp.Multimodal_Model_With_Intermediate_Or_EmbraceNet_Fusion import *"
   ]
  },
  {
   "cell_type": "code",
   "execution_count": 5,
   "metadata": {},
   "outputs": [],
   "source": [
    "from transformers import XLMForSequenceClassification, XLMTokenizer, XLMConfig"
   ]
  },
  {
   "cell_type": "code",
   "execution_count": 6,
   "metadata": {},
   "outputs": [],
   "source": [
    "path = Path('/notebooks/CrisisMMD_Dataset')\n",
    "# path.ls()"
   ]
  },
  {
   "cell_type": "code",
   "execution_count": 7,
   "metadata": {},
   "outputs": [],
   "source": [
    "path_img = path/'data_image'"
   ]
  },
  {
   "cell_type": "code",
   "execution_count": 8,
   "metadata": {},
   "outputs": [],
   "source": [
    "# Uncomment the code if dataset and labels are in .tar.gz and .zip format respectively\n",
    "\n",
    "# data = \"CrisisMMD_v2.tar.gz\"\n",
    "# agreed_label = \"crisismmd_datasplit_agreed_label.zip\"\n",
    "# untar_data_and_unzip_label(data,agreed_label)"
   ]
  },
  {
   "cell_type": "code",
   "execution_count": 11,
   "metadata": {},
   "outputs": [
    {
     "name": "stdout",
     "output_type": "stream",
     "text": [
      "reading already preprocessed data.....\n"
     ]
    }
   ],
   "source": [
    "#reading csv files and doing initial necessary processing\n",
    "data_human_text_image,test_data_human_text_image = get_dataframe(*get_tsv_data_files('humanitarian_task_tsv_files'),path)"
   ]
  },
  {
   "cell_type": "code",
   "execution_count": 12,
   "metadata": {},
   "outputs": [
    {
     "name": "stdout",
     "output_type": "stream",
     "text": [
      "shape of data: (7123, 10)\n",
      "\n",
      "train set: 6125\n",
      "valid set: 998\n",
      "==================================================\n",
      "shape of test data: (955, 9)\n",
      "\n"
     ]
    }
   ],
   "source": [
    "print(f\"shape of data: {data_human_text_image.shape}\\n\")\n",
    "print(f\"train set: {data_human_text_image['is_valid'].value_counts()[0]}\")\n",
    "print(f\"valid set: {data_human_text_image['is_valid'].value_counts()[1]}\")      \n",
    "print(\"=\"*50)\n",
    "print(f\"shape of test data: {test_data_human_text_image.shape}\\n\")"
   ]
  },
  {
   "cell_type": "code",
   "execution_count": 13,
   "metadata": {},
   "outputs": [],
   "source": [
    "MODEL_CLASSES = {'xlm': (XLMForSequenceClassification, XLMTokenizer, XLMConfig)}"
   ]
  },
  {
   "cell_type": "code",
   "execution_count": 14,
   "metadata": {},
   "outputs": [],
   "source": [
    "model_type = 'xlm'\n",
    "pretrained_model_name = 'xlm-clm-enfr-1024'"
   ]
  },
  {
   "cell_type": "code",
   "execution_count": 15,
   "metadata": {},
   "outputs": [],
   "source": [
    "model_class, tokenizer_class, config_class = MODEL_CLASSES[model_type]"
   ]
  },
  {
   "cell_type": "code",
   "execution_count": 17,
   "metadata": {},
   "outputs": [],
   "source": [
    "transformer_tokenizer = tokenizer_class.from_pretrained(pretrained_model_name)\n",
    "transformer_base_tokenizer = TransformersBaseTokenizer(pretrained_tokenizer = transformer_tokenizer, model_type = model_type)\n",
    "fastai_tokenizer = Tokenizer(tok_func = transformer_base_tokenizer, pre_rules=[], post_rules=[])"
   ]
  },
  {
   "cell_type": "code",
   "execution_count": 19,
   "metadata": {},
   "outputs": [],
   "source": [
    "transformer_vocab =  TransformersVocab(tokenizer = transformer_tokenizer)"
   ]
  },
  {
   "cell_type": "code",
   "execution_count": 20,
   "metadata": {},
   "outputs": [],
   "source": [
    "numericalize_processor = NumericalizeProcessor(vocab=transformer_vocab)\n",
    "tokenize_processor = TokenizeProcessor(tokenizer=fastai_tokenizer, include_bos=False, include_eos=False)\n",
    "\n",
    "transformer_processor = [tokenize_processor, numericalize_processor]"
   ]
  },
  {
   "cell_type": "code",
   "execution_count": 21,
   "metadata": {},
   "outputs": [],
   "source": [
    "pad_first = bool(model_type in ['xlnet'])\n",
    "pad_idx = transformer_tokenizer.pad_token_id"
   ]
  },
  {
   "cell_type": "code",
   "execution_count": 22,
   "metadata": {},
   "outputs": [
    {
     "data": {
      "text/html": [],
      "text/plain": [
       "<IPython.core.display.HTML object>"
      ]
     },
     "metadata": {},
     "output_type": "display_data"
    },
    {
     "data": {
      "text/html": [],
      "text/plain": [
       "<IPython.core.display.HTML object>"
      ]
     },
     "metadata": {},
     "output_type": "display_data"
    }
   ],
   "source": [
    "# preprocessing and creating databunch object for data(train and dev split) and test data(test split)\n",
    "data_clas = get_text_data(data_human_text_image,path,pad_first,pad_idx,processor=transformer_processor)\n",
    "test_data_clas = get_test_text_data(test_data_human_text_image,path,pad_first,pad_idx,processor=transformer_processor)\n",
    "\n",
    "# making single databunch object of data and test data\n",
    "data_clas.add_test(test_data_clas.train_ds)\n",
    "data_clas.test_ds.y = test_data_clas.train_ds.y"
   ]
  },
  {
   "cell_type": "code",
   "execution_count": 25,
   "metadata": {
    "scrolled": true
   },
   "outputs": [
    {
     "name": "stdout",
     "output_type": "stream",
     "text": [
      "XLMConfig {\n",
      "  \"architectures\": [\n",
      "    \"XLMWithLMHeadModel\"\n",
      "  ],\n",
      "  \"asm\": false,\n",
      "  \"attention_dropout\": 0.1,\n",
      "  \"bos_index\": 0,\n",
      "  \"bos_token_id\": 0,\n",
      "  \"causal\": false,\n",
      "  \"dropout\": 0.1,\n",
      "  \"emb_dim\": 1024,\n",
      "  \"embed_init_std\": 0.02209708691207961,\n",
      "  \"end_n_top\": 5,\n",
      "  \"eos_index\": 1,\n",
      "  \"gelu_activation\": true,\n",
      "  \"id2label\": {\n",
      "    \"0\": \"LABEL_0\",\n",
      "    \"1\": \"LABEL_1\",\n",
      "    \"2\": \"LABEL_2\",\n",
      "    \"3\": \"LABEL_3\",\n",
      "    \"4\": \"LABEL_4\"\n",
      "  },\n",
      "  \"id2lang\": {\n",
      "    \"0\": \"en\",\n",
      "    \"1\": \"fr\"\n",
      "  },\n",
      "  \"init_std\": 0.02,\n",
      "  \"is_encoder\": true,\n",
      "  \"label2id\": {\n",
      "    \"LABEL_0\": 0,\n",
      "    \"LABEL_1\": 1,\n",
      "    \"LABEL_2\": 2,\n",
      "    \"LABEL_3\": 3,\n",
      "    \"LABEL_4\": 4\n",
      "  },\n",
      "  \"lang2id\": {\n",
      "    \"en\": 0,\n",
      "    \"fr\": 1\n",
      "  },\n",
      "  \"lang_id\": 0,\n",
      "  \"layer_norm_eps\": 1e-12,\n",
      "  \"mask_index\": 5,\n",
      "  \"mask_token_id\": 0,\n",
      "  \"max_position_embeddings\": 512,\n",
      "  \"max_vocab\": -1,\n",
      "  \"min_count\": 0,\n",
      "  \"model_type\": \"xlm\",\n",
      "  \"n_heads\": 8,\n",
      "  \"n_langs\": 2,\n",
      "  \"n_layers\": 6,\n",
      "  \"pad_index\": 2,\n",
      "  \"pad_token_id\": 2,\n",
      "  \"same_enc_dec\": true,\n",
      "  \"share_inout_emb\": true,\n",
      "  \"sinusoidal_embeddings\": false,\n",
      "  \"start_n_top\": 5,\n",
      "  \"summary_activation\": null,\n",
      "  \"summary_first_dropout\": 0.1,\n",
      "  \"summary_proj_to_labels\": true,\n",
      "  \"summary_type\": \"first\",\n",
      "  \"summary_use_proj\": true,\n",
      "  \"unk_index\": 3,\n",
      "  \"use_lang_emb\": true,\n",
      "  \"vocab_size\": 64139\n",
      "}\n",
      "\n"
     ]
    }
   ],
   "source": [
    "config = config_class.from_pretrained(pretrained_model_name)\n",
    "config.num_labels = 5\n",
    "config.use_bfloat16 = True\n",
    "print(config)"
   ]
  },
  {
   "cell_type": "code",
   "execution_count": 26,
   "metadata": {},
   "outputs": [],
   "source": [
    "transformer_model = model_class.from_pretrained(pretrained_model_name, config = config)\n",
    "custom_transformer_model = CustomTransformerModel(pad_idx,transformer_model = transformer_model)"
   ]
  },
  {
   "cell_type": "code",
   "execution_count": 27,
   "metadata": {},
   "outputs": [],
   "source": [
    "CustomAdamW = partial(AdamW, correct_bias=False)\n",
    "\n",
    "learn_clas = Learner(data_clas, custom_transformer_model,opt_func = CustomAdamW, \n",
    "                  metrics=[accuracy,Precision1(average='macro'),\n",
    "                Precision1(average='weighted'),Recall(average='macro'),Recall(average='weighted'),\n",
    "               FBeta(average='macro',beta=1.),FBeta(average='weighted',beta=1.)])"
   ]
  },
  {
   "cell_type": "code",
   "execution_count": 31,
   "metadata": {
    "scrolled": true
   },
   "outputs": [
    {
     "name": "stdout",
     "output_type": "stream",
     "text": [
      "CustomTransformerModel(\n",
      "  (transformer): XLMForSequenceClassification(\n",
      "    (transformer): XLMModel(\n",
      "      (position_embeddings): Embedding(512, 1024)\n",
      "      (lang_embeddings): Embedding(2, 1024)\n",
      "      (embeddings): Embedding(64139, 1024, padding_idx=2)\n",
      "      (layer_norm_emb): LayerNorm((1024,), eps=1e-12, elementwise_affine=True)\n",
      "      (attentions): ModuleList(\n",
      "        (0): MultiHeadAttention(\n",
      "          (q_lin): Linear(in_features=1024, out_features=1024, bias=True)\n",
      "          (k_lin): Linear(in_features=1024, out_features=1024, bias=True)\n",
      "          (v_lin): Linear(in_features=1024, out_features=1024, bias=True)\n",
      "          (out_lin): Linear(in_features=1024, out_features=1024, bias=True)\n",
      "        )\n",
      "        (1): MultiHeadAttention(\n",
      "          (q_lin): Linear(in_features=1024, out_features=1024, bias=True)\n",
      "          (k_lin): Linear(in_features=1024, out_features=1024, bias=True)\n",
      "          (v_lin): Linear(in_features=1024, out_features=1024, bias=True)\n",
      "          (out_lin): Linear(in_features=1024, out_features=1024, bias=True)\n",
      "        )\n",
      "        (2): MultiHeadAttention(\n",
      "          (q_lin): Linear(in_features=1024, out_features=1024, bias=True)\n",
      "          (k_lin): Linear(in_features=1024, out_features=1024, bias=True)\n",
      "          (v_lin): Linear(in_features=1024, out_features=1024, bias=True)\n",
      "          (out_lin): Linear(in_features=1024, out_features=1024, bias=True)\n",
      "        )\n",
      "        (3): MultiHeadAttention(\n",
      "          (q_lin): Linear(in_features=1024, out_features=1024, bias=True)\n",
      "          (k_lin): Linear(in_features=1024, out_features=1024, bias=True)\n",
      "          (v_lin): Linear(in_features=1024, out_features=1024, bias=True)\n",
      "          (out_lin): Linear(in_features=1024, out_features=1024, bias=True)\n",
      "        )\n",
      "        (4): MultiHeadAttention(\n",
      "          (q_lin): Linear(in_features=1024, out_features=1024, bias=True)\n",
      "          (k_lin): Linear(in_features=1024, out_features=1024, bias=True)\n",
      "          (v_lin): Linear(in_features=1024, out_features=1024, bias=True)\n",
      "          (out_lin): Linear(in_features=1024, out_features=1024, bias=True)\n",
      "        )\n",
      "        (5): MultiHeadAttention(\n",
      "          (q_lin): Linear(in_features=1024, out_features=1024, bias=True)\n",
      "          (k_lin): Linear(in_features=1024, out_features=1024, bias=True)\n",
      "          (v_lin): Linear(in_features=1024, out_features=1024, bias=True)\n",
      "          (out_lin): Linear(in_features=1024, out_features=1024, bias=True)\n",
      "        )\n",
      "      )\n",
      "      (layer_norm1): ModuleList(\n",
      "        (0): LayerNorm((1024,), eps=1e-12, elementwise_affine=True)\n",
      "        (1): LayerNorm((1024,), eps=1e-12, elementwise_affine=True)\n",
      "        (2): LayerNorm((1024,), eps=1e-12, elementwise_affine=True)\n",
      "        (3): LayerNorm((1024,), eps=1e-12, elementwise_affine=True)\n",
      "        (4): LayerNorm((1024,), eps=1e-12, elementwise_affine=True)\n",
      "        (5): LayerNorm((1024,), eps=1e-12, elementwise_affine=True)\n",
      "      )\n",
      "      (ffns): ModuleList(\n",
      "        (0): TransformerFFN(\n",
      "          (lin1): Linear(in_features=1024, out_features=4096, bias=True)\n",
      "          (lin2): Linear(in_features=4096, out_features=1024, bias=True)\n",
      "        )\n",
      "        (1): TransformerFFN(\n",
      "          (lin1): Linear(in_features=1024, out_features=4096, bias=True)\n",
      "          (lin2): Linear(in_features=4096, out_features=1024, bias=True)\n",
      "        )\n",
      "        (2): TransformerFFN(\n",
      "          (lin1): Linear(in_features=1024, out_features=4096, bias=True)\n",
      "          (lin2): Linear(in_features=4096, out_features=1024, bias=True)\n",
      "        )\n",
      "        (3): TransformerFFN(\n",
      "          (lin1): Linear(in_features=1024, out_features=4096, bias=True)\n",
      "          (lin2): Linear(in_features=4096, out_features=1024, bias=True)\n",
      "        )\n",
      "        (4): TransformerFFN(\n",
      "          (lin1): Linear(in_features=1024, out_features=4096, bias=True)\n",
      "          (lin2): Linear(in_features=4096, out_features=1024, bias=True)\n",
      "        )\n",
      "        (5): TransformerFFN(\n",
      "          (lin1): Linear(in_features=1024, out_features=4096, bias=True)\n",
      "          (lin2): Linear(in_features=4096, out_features=1024, bias=True)\n",
      "        )\n",
      "      )\n",
      "      (layer_norm2): ModuleList(\n",
      "        (0): LayerNorm((1024,), eps=1e-12, elementwise_affine=True)\n",
      "        (1): LayerNorm((1024,), eps=1e-12, elementwise_affine=True)\n",
      "        (2): LayerNorm((1024,), eps=1e-12, elementwise_affine=True)\n",
      "        (3): LayerNorm((1024,), eps=1e-12, elementwise_affine=True)\n",
      "        (4): LayerNorm((1024,), eps=1e-12, elementwise_affine=True)\n",
      "        (5): LayerNorm((1024,), eps=1e-12, elementwise_affine=True)\n",
      "      )\n",
      "    )\n",
      "    (sequence_summary): SequenceSummary(\n",
      "      (summary): Linear(in_features=1024, out_features=5, bias=True)\n",
      "      (activation): Identity()\n",
      "      (first_dropout): Dropout(p=0.1, inplace=False)\n",
      "      (last_dropout): Identity()\n",
      "    )\n",
      "  )\n",
      ")\n"
     ]
    }
   ],
   "source": [
    "print(learn_clas.model)"
   ]
  },
  {
   "cell_type": "code",
   "execution_count": 33,
   "metadata": {},
   "outputs": [],
   "source": [
    "learn_clas.model.transformer=learn_clas.model.transformer.transformer"
   ]
  },
  {
   "cell_type": "code",
   "execution_count": 34,
   "metadata": {
    "scrolled": true
   },
   "outputs": [
    {
     "name": "stdout",
     "output_type": "stream",
     "text": [
      "CustomTransformerModel(\n",
      "  (transformer): XLMModel(\n",
      "    (position_embeddings): Embedding(512, 1024)\n",
      "    (lang_embeddings): Embedding(2, 1024)\n",
      "    (embeddings): Embedding(64139, 1024, padding_idx=2)\n",
      "    (layer_norm_emb): LayerNorm((1024,), eps=1e-12, elementwise_affine=True)\n",
      "    (attentions): ModuleList(\n",
      "      (0): MultiHeadAttention(\n",
      "        (q_lin): Linear(in_features=1024, out_features=1024, bias=True)\n",
      "        (k_lin): Linear(in_features=1024, out_features=1024, bias=True)\n",
      "        (v_lin): Linear(in_features=1024, out_features=1024, bias=True)\n",
      "        (out_lin): Linear(in_features=1024, out_features=1024, bias=True)\n",
      "      )\n",
      "      (1): MultiHeadAttention(\n",
      "        (q_lin): Linear(in_features=1024, out_features=1024, bias=True)\n",
      "        (k_lin): Linear(in_features=1024, out_features=1024, bias=True)\n",
      "        (v_lin): Linear(in_features=1024, out_features=1024, bias=True)\n",
      "        (out_lin): Linear(in_features=1024, out_features=1024, bias=True)\n",
      "      )\n",
      "      (2): MultiHeadAttention(\n",
      "        (q_lin): Linear(in_features=1024, out_features=1024, bias=True)\n",
      "        (k_lin): Linear(in_features=1024, out_features=1024, bias=True)\n",
      "        (v_lin): Linear(in_features=1024, out_features=1024, bias=True)\n",
      "        (out_lin): Linear(in_features=1024, out_features=1024, bias=True)\n",
      "      )\n",
      "      (3): MultiHeadAttention(\n",
      "        (q_lin): Linear(in_features=1024, out_features=1024, bias=True)\n",
      "        (k_lin): Linear(in_features=1024, out_features=1024, bias=True)\n",
      "        (v_lin): Linear(in_features=1024, out_features=1024, bias=True)\n",
      "        (out_lin): Linear(in_features=1024, out_features=1024, bias=True)\n",
      "      )\n",
      "      (4): MultiHeadAttention(\n",
      "        (q_lin): Linear(in_features=1024, out_features=1024, bias=True)\n",
      "        (k_lin): Linear(in_features=1024, out_features=1024, bias=True)\n",
      "        (v_lin): Linear(in_features=1024, out_features=1024, bias=True)\n",
      "        (out_lin): Linear(in_features=1024, out_features=1024, bias=True)\n",
      "      )\n",
      "      (5): MultiHeadAttention(\n",
      "        (q_lin): Linear(in_features=1024, out_features=1024, bias=True)\n",
      "        (k_lin): Linear(in_features=1024, out_features=1024, bias=True)\n",
      "        (v_lin): Linear(in_features=1024, out_features=1024, bias=True)\n",
      "        (out_lin): Linear(in_features=1024, out_features=1024, bias=True)\n",
      "      )\n",
      "    )\n",
      "    (layer_norm1): ModuleList(\n",
      "      (0): LayerNorm((1024,), eps=1e-12, elementwise_affine=True)\n",
      "      (1): LayerNorm((1024,), eps=1e-12, elementwise_affine=True)\n",
      "      (2): LayerNorm((1024,), eps=1e-12, elementwise_affine=True)\n",
      "      (3): LayerNorm((1024,), eps=1e-12, elementwise_affine=True)\n",
      "      (4): LayerNorm((1024,), eps=1e-12, elementwise_affine=True)\n",
      "      (5): LayerNorm((1024,), eps=1e-12, elementwise_affine=True)\n",
      "    )\n",
      "    (ffns): ModuleList(\n",
      "      (0): TransformerFFN(\n",
      "        (lin1): Linear(in_features=1024, out_features=4096, bias=True)\n",
      "        (lin2): Linear(in_features=4096, out_features=1024, bias=True)\n",
      "      )\n",
      "      (1): TransformerFFN(\n",
      "        (lin1): Linear(in_features=1024, out_features=4096, bias=True)\n",
      "        (lin2): Linear(in_features=4096, out_features=1024, bias=True)\n",
      "      )\n",
      "      (2): TransformerFFN(\n",
      "        (lin1): Linear(in_features=1024, out_features=4096, bias=True)\n",
      "        (lin2): Linear(in_features=4096, out_features=1024, bias=True)\n",
      "      )\n",
      "      (3): TransformerFFN(\n",
      "        (lin1): Linear(in_features=1024, out_features=4096, bias=True)\n",
      "        (lin2): Linear(in_features=4096, out_features=1024, bias=True)\n",
      "      )\n",
      "      (4): TransformerFFN(\n",
      "        (lin1): Linear(in_features=1024, out_features=4096, bias=True)\n",
      "        (lin2): Linear(in_features=4096, out_features=1024, bias=True)\n",
      "      )\n",
      "      (5): TransformerFFN(\n",
      "        (lin1): Linear(in_features=1024, out_features=4096, bias=True)\n",
      "        (lin2): Linear(in_features=4096, out_features=1024, bias=True)\n",
      "      )\n",
      "    )\n",
      "    (layer_norm2): ModuleList(\n",
      "      (0): LayerNorm((1024,), eps=1e-12, elementwise_affine=True)\n",
      "      (1): LayerNorm((1024,), eps=1e-12, elementwise_affine=True)\n",
      "      (2): LayerNorm((1024,), eps=1e-12, elementwise_affine=True)\n",
      "      (3): LayerNorm((1024,), eps=1e-12, elementwise_affine=True)\n",
      "      (4): LayerNorm((1024,), eps=1e-12, elementwise_affine=True)\n",
      "      (5): LayerNorm((1024,), eps=1e-12, elementwise_affine=True)\n",
      "    )\n",
      "  )\n",
      ")\n"
     ]
    }
   ],
   "source": [
    "# learn_clas.model.transformer = learn_clas.model.transformer.roberta\n",
    "print(learn_clas.model)"
   ]
  },
  {
   "cell_type": "code",
   "execution_count": 37,
   "metadata": {},
   "outputs": [],
   "source": [
    "#creating databunch object for data(train and dev split) and test data(test split)\n",
    "data_img = get_image_data(data_human_text_image,path,224)\n",
    "test_data_img = get_test_image_data(test_data_human_text_image,path,224)\n",
    "\n",
    "# making single databunch object of data and test data\n",
    "data_img.add_test(test_data_img.x)\n",
    "data_img.test_ds.y = test_data_img.y"
   ]
  },
  {
   "cell_type": "code",
   "execution_count": 39,
   "metadata": {},
   "outputs": [],
   "source": [
    "# creating a learner object with image model to use it for concatenation \n",
    "arch = models.resnet50\n",
    "learn_img = cnn_learner(data_img, arch, metrics=[accuracy,Precision(average='macro'),Precision(average='weighted'),\n",
    "                                                 Recall(average='macro'),Recall(average='weighted'),\n",
    "                                                 FBeta(average='macro',beta=1.),FBeta(average='weighted',beta=1.)])"
   ]
  },
  {
   "cell_type": "code",
   "execution_count": 40,
   "metadata": {},
   "outputs": [],
   "source": [
    "# learn_img.model"
   ]
  },
  {
   "cell_type": "code",
   "execution_count": 41,
   "metadata": {},
   "outputs": [
    {
     "data": {
      "text/plain": [
       "Sequential(\n",
       "  (0): Sequential(\n",
       "    (0): Conv2d(3, 64, kernel_size=(7, 7), stride=(2, 2), padding=(3, 3), bias=False)\n",
       "    (1): BatchNorm2d(64, eps=1e-05, momentum=0.1, affine=True, track_running_stats=True)\n",
       "    (2): ReLU(inplace=True)\n",
       "    (3): MaxPool2d(kernel_size=3, stride=2, padding=1, dilation=1, ceil_mode=False)\n",
       "    (4): Sequential(\n",
       "      (0): Bottleneck(\n",
       "        (conv1): Conv2d(64, 64, kernel_size=(1, 1), stride=(1, 1), bias=False)\n",
       "        (bn1): BatchNorm2d(64, eps=1e-05, momentum=0.1, affine=True, track_running_stats=True)\n",
       "        (conv2): Conv2d(64, 64, kernel_size=(3, 3), stride=(1, 1), padding=(1, 1), bias=False)\n",
       "        (bn2): BatchNorm2d(64, eps=1e-05, momentum=0.1, affine=True, track_running_stats=True)\n",
       "        (conv3): Conv2d(64, 256, kernel_size=(1, 1), stride=(1, 1), bias=False)\n",
       "        (bn3): BatchNorm2d(256, eps=1e-05, momentum=0.1, affine=True, track_running_stats=True)\n",
       "        (relu): ReLU(inplace=True)\n",
       "        (downsample): Sequential(\n",
       "          (0): Conv2d(64, 256, kernel_size=(1, 1), stride=(1, 1), bias=False)\n",
       "          (1): BatchNorm2d(256, eps=1e-05, momentum=0.1, affine=True, track_running_stats=True)\n",
       "        )\n",
       "      )\n",
       "      (1): Bottleneck(\n",
       "        (conv1): Conv2d(256, 64, kernel_size=(1, 1), stride=(1, 1), bias=False)\n",
       "        (bn1): BatchNorm2d(64, eps=1e-05, momentum=0.1, affine=True, track_running_stats=True)\n",
       "        (conv2): Conv2d(64, 64, kernel_size=(3, 3), stride=(1, 1), padding=(1, 1), bias=False)\n",
       "        (bn2): BatchNorm2d(64, eps=1e-05, momentum=0.1, affine=True, track_running_stats=True)\n",
       "        (conv3): Conv2d(64, 256, kernel_size=(1, 1), stride=(1, 1), bias=False)\n",
       "        (bn3): BatchNorm2d(256, eps=1e-05, momentum=0.1, affine=True, track_running_stats=True)\n",
       "        (relu): ReLU(inplace=True)\n",
       "      )\n",
       "      (2): Bottleneck(\n",
       "        (conv1): Conv2d(256, 64, kernel_size=(1, 1), stride=(1, 1), bias=False)\n",
       "        (bn1): BatchNorm2d(64, eps=1e-05, momentum=0.1, affine=True, track_running_stats=True)\n",
       "        (conv2): Conv2d(64, 64, kernel_size=(3, 3), stride=(1, 1), padding=(1, 1), bias=False)\n",
       "        (bn2): BatchNorm2d(64, eps=1e-05, momentum=0.1, affine=True, track_running_stats=True)\n",
       "        (conv3): Conv2d(64, 256, kernel_size=(1, 1), stride=(1, 1), bias=False)\n",
       "        (bn3): BatchNorm2d(256, eps=1e-05, momentum=0.1, affine=True, track_running_stats=True)\n",
       "        (relu): ReLU(inplace=True)\n",
       "      )\n",
       "    )\n",
       "    (5): Sequential(\n",
       "      (0): Bottleneck(\n",
       "        (conv1): Conv2d(256, 128, kernel_size=(1, 1), stride=(1, 1), bias=False)\n",
       "        (bn1): BatchNorm2d(128, eps=1e-05, momentum=0.1, affine=True, track_running_stats=True)\n",
       "        (conv2): Conv2d(128, 128, kernel_size=(3, 3), stride=(2, 2), padding=(1, 1), bias=False)\n",
       "        (bn2): BatchNorm2d(128, eps=1e-05, momentum=0.1, affine=True, track_running_stats=True)\n",
       "        (conv3): Conv2d(128, 512, kernel_size=(1, 1), stride=(1, 1), bias=False)\n",
       "        (bn3): BatchNorm2d(512, eps=1e-05, momentum=0.1, affine=True, track_running_stats=True)\n",
       "        (relu): ReLU(inplace=True)\n",
       "        (downsample): Sequential(\n",
       "          (0): Conv2d(256, 512, kernel_size=(1, 1), stride=(2, 2), bias=False)\n",
       "          (1): BatchNorm2d(512, eps=1e-05, momentum=0.1, affine=True, track_running_stats=True)\n",
       "        )\n",
       "      )\n",
       "      (1): Bottleneck(\n",
       "        (conv1): Conv2d(512, 128, kernel_size=(1, 1), stride=(1, 1), bias=False)\n",
       "        (bn1): BatchNorm2d(128, eps=1e-05, momentum=0.1, affine=True, track_running_stats=True)\n",
       "        (conv2): Conv2d(128, 128, kernel_size=(3, 3), stride=(1, 1), padding=(1, 1), bias=False)\n",
       "        (bn2): BatchNorm2d(128, eps=1e-05, momentum=0.1, affine=True, track_running_stats=True)\n",
       "        (conv3): Conv2d(128, 512, kernel_size=(1, 1), stride=(1, 1), bias=False)\n",
       "        (bn3): BatchNorm2d(512, eps=1e-05, momentum=0.1, affine=True, track_running_stats=True)\n",
       "        (relu): ReLU(inplace=True)\n",
       "      )\n",
       "      (2): Bottleneck(\n",
       "        (conv1): Conv2d(512, 128, kernel_size=(1, 1), stride=(1, 1), bias=False)\n",
       "        (bn1): BatchNorm2d(128, eps=1e-05, momentum=0.1, affine=True, track_running_stats=True)\n",
       "        (conv2): Conv2d(128, 128, kernel_size=(3, 3), stride=(1, 1), padding=(1, 1), bias=False)\n",
       "        (bn2): BatchNorm2d(128, eps=1e-05, momentum=0.1, affine=True, track_running_stats=True)\n",
       "        (conv3): Conv2d(128, 512, kernel_size=(1, 1), stride=(1, 1), bias=False)\n",
       "        (bn3): BatchNorm2d(512, eps=1e-05, momentum=0.1, affine=True, track_running_stats=True)\n",
       "        (relu): ReLU(inplace=True)\n",
       "      )\n",
       "      (3): Bottleneck(\n",
       "        (conv1): Conv2d(512, 128, kernel_size=(1, 1), stride=(1, 1), bias=False)\n",
       "        (bn1): BatchNorm2d(128, eps=1e-05, momentum=0.1, affine=True, track_running_stats=True)\n",
       "        (conv2): Conv2d(128, 128, kernel_size=(3, 3), stride=(1, 1), padding=(1, 1), bias=False)\n",
       "        (bn2): BatchNorm2d(128, eps=1e-05, momentum=0.1, affine=True, track_running_stats=True)\n",
       "        (conv3): Conv2d(128, 512, kernel_size=(1, 1), stride=(1, 1), bias=False)\n",
       "        (bn3): BatchNorm2d(512, eps=1e-05, momentum=0.1, affine=True, track_running_stats=True)\n",
       "        (relu): ReLU(inplace=True)\n",
       "      )\n",
       "    )\n",
       "    (6): Sequential(\n",
       "      (0): Bottleneck(\n",
       "        (conv1): Conv2d(512, 256, kernel_size=(1, 1), stride=(1, 1), bias=False)\n",
       "        (bn1): BatchNorm2d(256, eps=1e-05, momentum=0.1, affine=True, track_running_stats=True)\n",
       "        (conv2): Conv2d(256, 256, kernel_size=(3, 3), stride=(2, 2), padding=(1, 1), bias=False)\n",
       "        (bn2): BatchNorm2d(256, eps=1e-05, momentum=0.1, affine=True, track_running_stats=True)\n",
       "        (conv3): Conv2d(256, 1024, kernel_size=(1, 1), stride=(1, 1), bias=False)\n",
       "        (bn3): BatchNorm2d(1024, eps=1e-05, momentum=0.1, affine=True, track_running_stats=True)\n",
       "        (relu): ReLU(inplace=True)\n",
       "        (downsample): Sequential(\n",
       "          (0): Conv2d(512, 1024, kernel_size=(1, 1), stride=(2, 2), bias=False)\n",
       "          (1): BatchNorm2d(1024, eps=1e-05, momentum=0.1, affine=True, track_running_stats=True)\n",
       "        )\n",
       "      )\n",
       "      (1): Bottleneck(\n",
       "        (conv1): Conv2d(1024, 256, kernel_size=(1, 1), stride=(1, 1), bias=False)\n",
       "        (bn1): BatchNorm2d(256, eps=1e-05, momentum=0.1, affine=True, track_running_stats=True)\n",
       "        (conv2): Conv2d(256, 256, kernel_size=(3, 3), stride=(1, 1), padding=(1, 1), bias=False)\n",
       "        (bn2): BatchNorm2d(256, eps=1e-05, momentum=0.1, affine=True, track_running_stats=True)\n",
       "        (conv3): Conv2d(256, 1024, kernel_size=(1, 1), stride=(1, 1), bias=False)\n",
       "        (bn3): BatchNorm2d(1024, eps=1e-05, momentum=0.1, affine=True, track_running_stats=True)\n",
       "        (relu): ReLU(inplace=True)\n",
       "      )\n",
       "      (2): Bottleneck(\n",
       "        (conv1): Conv2d(1024, 256, kernel_size=(1, 1), stride=(1, 1), bias=False)\n",
       "        (bn1): BatchNorm2d(256, eps=1e-05, momentum=0.1, affine=True, track_running_stats=True)\n",
       "        (conv2): Conv2d(256, 256, kernel_size=(3, 3), stride=(1, 1), padding=(1, 1), bias=False)\n",
       "        (bn2): BatchNorm2d(256, eps=1e-05, momentum=0.1, affine=True, track_running_stats=True)\n",
       "        (conv3): Conv2d(256, 1024, kernel_size=(1, 1), stride=(1, 1), bias=False)\n",
       "        (bn3): BatchNorm2d(1024, eps=1e-05, momentum=0.1, affine=True, track_running_stats=True)\n",
       "        (relu): ReLU(inplace=True)\n",
       "      )\n",
       "      (3): Bottleneck(\n",
       "        (conv1): Conv2d(1024, 256, kernel_size=(1, 1), stride=(1, 1), bias=False)\n",
       "        (bn1): BatchNorm2d(256, eps=1e-05, momentum=0.1, affine=True, track_running_stats=True)\n",
       "        (conv2): Conv2d(256, 256, kernel_size=(3, 3), stride=(1, 1), padding=(1, 1), bias=False)\n",
       "        (bn2): BatchNorm2d(256, eps=1e-05, momentum=0.1, affine=True, track_running_stats=True)\n",
       "        (conv3): Conv2d(256, 1024, kernel_size=(1, 1), stride=(1, 1), bias=False)\n",
       "        (bn3): BatchNorm2d(1024, eps=1e-05, momentum=0.1, affine=True, track_running_stats=True)\n",
       "        (relu): ReLU(inplace=True)\n",
       "      )\n",
       "      (4): Bottleneck(\n",
       "        (conv1): Conv2d(1024, 256, kernel_size=(1, 1), stride=(1, 1), bias=False)\n",
       "        (bn1): BatchNorm2d(256, eps=1e-05, momentum=0.1, affine=True, track_running_stats=True)\n",
       "        (conv2): Conv2d(256, 256, kernel_size=(3, 3), stride=(1, 1), padding=(1, 1), bias=False)\n",
       "        (bn2): BatchNorm2d(256, eps=1e-05, momentum=0.1, affine=True, track_running_stats=True)\n",
       "        (conv3): Conv2d(256, 1024, kernel_size=(1, 1), stride=(1, 1), bias=False)\n",
       "        (bn3): BatchNorm2d(1024, eps=1e-05, momentum=0.1, affine=True, track_running_stats=True)\n",
       "        (relu): ReLU(inplace=True)\n",
       "      )\n",
       "      (5): Bottleneck(\n",
       "        (conv1): Conv2d(1024, 256, kernel_size=(1, 1), stride=(1, 1), bias=False)\n",
       "        (bn1): BatchNorm2d(256, eps=1e-05, momentum=0.1, affine=True, track_running_stats=True)\n",
       "        (conv2): Conv2d(256, 256, kernel_size=(3, 3), stride=(1, 1), padding=(1, 1), bias=False)\n",
       "        (bn2): BatchNorm2d(256, eps=1e-05, momentum=0.1, affine=True, track_running_stats=True)\n",
       "        (conv3): Conv2d(256, 1024, kernel_size=(1, 1), stride=(1, 1), bias=False)\n",
       "        (bn3): BatchNorm2d(1024, eps=1e-05, momentum=0.1, affine=True, track_running_stats=True)\n",
       "        (relu): ReLU(inplace=True)\n",
       "      )\n",
       "    )\n",
       "    (7): Sequential(\n",
       "      (0): Bottleneck(\n",
       "        (conv1): Conv2d(1024, 512, kernel_size=(1, 1), stride=(1, 1), bias=False)\n",
       "        (bn1): BatchNorm2d(512, eps=1e-05, momentum=0.1, affine=True, track_running_stats=True)\n",
       "        (conv2): Conv2d(512, 512, kernel_size=(3, 3), stride=(2, 2), padding=(1, 1), bias=False)\n",
       "        (bn2): BatchNorm2d(512, eps=1e-05, momentum=0.1, affine=True, track_running_stats=True)\n",
       "        (conv3): Conv2d(512, 2048, kernel_size=(1, 1), stride=(1, 1), bias=False)\n",
       "        (bn3): BatchNorm2d(2048, eps=1e-05, momentum=0.1, affine=True, track_running_stats=True)\n",
       "        (relu): ReLU(inplace=True)\n",
       "        (downsample): Sequential(\n",
       "          (0): Conv2d(1024, 2048, kernel_size=(1, 1), stride=(2, 2), bias=False)\n",
       "          (1): BatchNorm2d(2048, eps=1e-05, momentum=0.1, affine=True, track_running_stats=True)\n",
       "        )\n",
       "      )\n",
       "      (1): Bottleneck(\n",
       "        (conv1): Conv2d(2048, 512, kernel_size=(1, 1), stride=(1, 1), bias=False)\n",
       "        (bn1): BatchNorm2d(512, eps=1e-05, momentum=0.1, affine=True, track_running_stats=True)\n",
       "        (conv2): Conv2d(512, 512, kernel_size=(3, 3), stride=(1, 1), padding=(1, 1), bias=False)\n",
       "        (bn2): BatchNorm2d(512, eps=1e-05, momentum=0.1, affine=True, track_running_stats=True)\n",
       "        (conv3): Conv2d(512, 2048, kernel_size=(1, 1), stride=(1, 1), bias=False)\n",
       "        (bn3): BatchNorm2d(2048, eps=1e-05, momentum=0.1, affine=True, track_running_stats=True)\n",
       "        (relu): ReLU(inplace=True)\n",
       "      )\n",
       "      (2): Bottleneck(\n",
       "        (conv1): Conv2d(2048, 512, kernel_size=(1, 1), stride=(1, 1), bias=False)\n",
       "        (bn1): BatchNorm2d(512, eps=1e-05, momentum=0.1, affine=True, track_running_stats=True)\n",
       "        (conv2): Conv2d(512, 512, kernel_size=(3, 3), stride=(1, 1), padding=(1, 1), bias=False)\n",
       "        (bn2): BatchNorm2d(512, eps=1e-05, momentum=0.1, affine=True, track_running_stats=True)\n",
       "        (conv3): Conv2d(512, 2048, kernel_size=(1, 1), stride=(1, 1), bias=False)\n",
       "        (bn3): BatchNorm2d(2048, eps=1e-05, momentum=0.1, affine=True, track_running_stats=True)\n",
       "        (relu): ReLU(inplace=True)\n",
       "      )\n",
       "    )\n",
       "  )\n",
       "  (1): Sequential(\n",
       "    (0): AdaptiveConcatPool2d(\n",
       "      (ap): AdaptiveAvgPool2d(output_size=1)\n",
       "      (mp): AdaptiveMaxPool2d(output_size=1)\n",
       "    )\n",
       "    (1): Flatten()\n",
       "    (2): BatchNorm1d(4096, eps=1e-05, momentum=0.1, affine=True, track_running_stats=True)\n",
       "    (3): Dropout(p=0.25, inplace=False)\n",
       "    (4): Linear(in_features=4096, out_features=512, bias=True)\n",
       "    (5): ReLU(inplace=True)\n",
       "  )\n",
       ")"
      ]
     },
     "execution_count": 41,
     "metadata": {},
     "output_type": "execute_result"
    }
   ],
   "source": [
    "learn_img.model[-1] = learn_img.model[-1][:-3]\n",
    "learn_img.model"
   ]
  },
  {
   "cell_type": "code",
   "execution_count": 46,
   "metadata": {},
   "outputs": [],
   "source": [
    "#creating dataset object of ConcatDataset Class\n",
    "train_ds = ConcatDataset(data_img.train_ds, data_clas.train_ds.x, data_clas.train_ds.y)\n",
    "valid_ds = ConcatDataset(data_img.valid_ds, data_clas.valid_ds.x, data_clas.valid_ds.y)\n",
    "test_ds = ConcatDataset(data_img.test_ds, data_clas.test_ds.x,data_clas.test_ds.y)\n",
    "\n",
    "# creating data sampler object\n",
    "bs = 16\n",
    "train_sampler = SortishSampler(data_clas.train_ds.x, key=lambda t: len(data_clas.train_ds[t][0].data), bs=bs//2)\n",
    "valid_sampler = SortSampler(data_clas.valid_ds.x, key=lambda t: len(data_clas.valid_ds[t][0].data))\n",
    "test_sampler = SortSampler(data_clas.test_ds.x, key=lambda t: len(data_clas.test_ds[t][0].data))"
   ]
  },
  {
   "cell_type": "code",
   "execution_count": 49,
   "metadata": {},
   "outputs": [],
   "source": [
    "# creating dataloader object of databuch\n",
    "train_dl = DataLoader(train_ds, bs, sampler=train_sampler)\n",
    "valid_dl = DataLoader(valid_ds, bs, sampler=valid_sampler)\n",
    "test_dl = DataLoader(test_ds, bs, sampler=test_sampler)"
   ]
  },
  {
   "cell_type": "code",
   "execution_count": 50,
   "metadata": {},
   "outputs": [],
   "source": [
    "#creating databuch object to use it in learner for training \n",
    "data = DataBunch(train_dl=train_dl,valid_dl=valid_dl,test_dl=test_dl, device=defaults.device, \n",
    "                 collate_fn=my_collate, path=path)"
   ]
  },
  {
   "cell_type": "code",
   "execution_count": 51,
   "metadata": {},
   "outputs": [
    {
     "name": "stdout",
     "output_type": "stream",
     "text": [
      "Shape image batch : torch.Size([32, 3, 224, 224])\n",
      "Shape text batch: torch.Size([32, 39])\n",
      "Shape dependent var: torch.Size([32])\n"
     ]
    }
   ],
   "source": [
    "(x1,x2),y = next(iter(data.test_dl))\n",
    "print(f'Shape image batch : {(x1.shape)}')\n",
    "print(f'Shape text batch: {x2.shape}')\n",
    "print(f'Shape dependent var: {y.shape}')"
   ]
  },
  {
   "cell_type": "code",
   "execution_count": 55,
   "metadata": {},
   "outputs": [],
   "source": [
    "lin_layers = [512+1024, 5]\n",
    "ps = 0.1\n",
    "model = IntermediateConcatModel(learn_img.model, learn_clas.model, lin_layers, ps,with_transformer)"
   ]
  },
  {
   "cell_type": "code",
   "execution_count": 57,
   "metadata": {
    "scrolled": true
   },
   "outputs": [
    {
     "data": {
      "text/plain": [
       "CustomTransformerModel(\n",
       "  (transformer): XLMModel(\n",
       "    (position_embeddings): Embedding(512, 1024)\n",
       "    (lang_embeddings): Embedding(2, 1024)\n",
       "    (embeddings): Embedding(64139, 1024, padding_idx=2)\n",
       "    (layer_norm_emb): LayerNorm((1024,), eps=1e-12, elementwise_affine=True)\n",
       "    (attentions): ModuleList(\n",
       "      (0): MultiHeadAttention(\n",
       "        (q_lin): Linear(in_features=1024, out_features=1024, bias=True)\n",
       "        (k_lin): Linear(in_features=1024, out_features=1024, bias=True)\n",
       "        (v_lin): Linear(in_features=1024, out_features=1024, bias=True)\n",
       "        (out_lin): Linear(in_features=1024, out_features=1024, bias=True)\n",
       "      )\n",
       "      (1): MultiHeadAttention(\n",
       "        (q_lin): Linear(in_features=1024, out_features=1024, bias=True)\n",
       "        (k_lin): Linear(in_features=1024, out_features=1024, bias=True)\n",
       "        (v_lin): Linear(in_features=1024, out_features=1024, bias=True)\n",
       "        (out_lin): Linear(in_features=1024, out_features=1024, bias=True)\n",
       "      )\n",
       "      (2): MultiHeadAttention(\n",
       "        (q_lin): Linear(in_features=1024, out_features=1024, bias=True)\n",
       "        (k_lin): Linear(in_features=1024, out_features=1024, bias=True)\n",
       "        (v_lin): Linear(in_features=1024, out_features=1024, bias=True)\n",
       "        (out_lin): Linear(in_features=1024, out_features=1024, bias=True)\n",
       "      )\n",
       "      (3): MultiHeadAttention(\n",
       "        (q_lin): Linear(in_features=1024, out_features=1024, bias=True)\n",
       "        (k_lin): Linear(in_features=1024, out_features=1024, bias=True)\n",
       "        (v_lin): Linear(in_features=1024, out_features=1024, bias=True)\n",
       "        (out_lin): Linear(in_features=1024, out_features=1024, bias=True)\n",
       "      )\n",
       "      (4): MultiHeadAttention(\n",
       "        (q_lin): Linear(in_features=1024, out_features=1024, bias=True)\n",
       "        (k_lin): Linear(in_features=1024, out_features=1024, bias=True)\n",
       "        (v_lin): Linear(in_features=1024, out_features=1024, bias=True)\n",
       "        (out_lin): Linear(in_features=1024, out_features=1024, bias=True)\n",
       "      )\n",
       "      (5): MultiHeadAttention(\n",
       "        (q_lin): Linear(in_features=1024, out_features=1024, bias=True)\n",
       "        (k_lin): Linear(in_features=1024, out_features=1024, bias=True)\n",
       "        (v_lin): Linear(in_features=1024, out_features=1024, bias=True)\n",
       "        (out_lin): Linear(in_features=1024, out_features=1024, bias=True)\n",
       "      )\n",
       "    )\n",
       "    (layer_norm1): ModuleList(\n",
       "      (0): LayerNorm((1024,), eps=1e-12, elementwise_affine=True)\n",
       "      (1): LayerNorm((1024,), eps=1e-12, elementwise_affine=True)\n",
       "      (2): LayerNorm((1024,), eps=1e-12, elementwise_affine=True)\n",
       "      (3): LayerNorm((1024,), eps=1e-12, elementwise_affine=True)\n",
       "      (4): LayerNorm((1024,), eps=1e-12, elementwise_affine=True)\n",
       "      (5): LayerNorm((1024,), eps=1e-12, elementwise_affine=True)\n",
       "    )\n",
       "    (ffns): ModuleList(\n",
       "      (0): TransformerFFN(\n",
       "        (lin1): Linear(in_features=1024, out_features=4096, bias=True)\n",
       "        (lin2): Linear(in_features=4096, out_features=1024, bias=True)\n",
       "      )\n",
       "      (1): TransformerFFN(\n",
       "        (lin1): Linear(in_features=1024, out_features=4096, bias=True)\n",
       "        (lin2): Linear(in_features=4096, out_features=1024, bias=True)\n",
       "      )\n",
       "      (2): TransformerFFN(\n",
       "        (lin1): Linear(in_features=1024, out_features=4096, bias=True)\n",
       "        (lin2): Linear(in_features=4096, out_features=1024, bias=True)\n",
       "      )\n",
       "      (3): TransformerFFN(\n",
       "        (lin1): Linear(in_features=1024, out_features=4096, bias=True)\n",
       "        (lin2): Linear(in_features=4096, out_features=1024, bias=True)\n",
       "      )\n",
       "      (4): TransformerFFN(\n",
       "        (lin1): Linear(in_features=1024, out_features=4096, bias=True)\n",
       "        (lin2): Linear(in_features=4096, out_features=1024, bias=True)\n",
       "      )\n",
       "      (5): TransformerFFN(\n",
       "        (lin1): Linear(in_features=1024, out_features=4096, bias=True)\n",
       "        (lin2): Linear(in_features=4096, out_features=1024, bias=True)\n",
       "      )\n",
       "    )\n",
       "    (layer_norm2): ModuleList(\n",
       "      (0): LayerNorm((1024,), eps=1e-12, elementwise_affine=True)\n",
       "      (1): LayerNorm((1024,), eps=1e-12, elementwise_affine=True)\n",
       "      (2): LayerNorm((1024,), eps=1e-12, elementwise_affine=True)\n",
       "      (3): LayerNorm((1024,), eps=1e-12, elementwise_affine=True)\n",
       "      (4): LayerNorm((1024,), eps=1e-12, elementwise_affine=True)\n",
       "      (5): LayerNorm((1024,), eps=1e-12, elementwise_affine=True)\n",
       "    )\n",
       "  )\n",
       ")"
      ]
     },
     "execution_count": 57,
     "metadata": {},
     "output_type": "execute_result"
    }
   ],
   "source": [
    "learn_clas.model"
   ]
  },
  {
   "cell_type": "code",
   "execution_count": 59,
   "metadata": {},
   "outputs": [],
   "source": [
    "#making layer groupes and creating learner object for training\n",
    "loss_func = nn.CrossEntropyLoss()\n",
    "\n",
    "layer_groups = [nn.Sequential(*(flatten_model(learn_clas.model.transformer.position_embeddings)+\n",
    "                                flatten_model(learn_clas.model.transformer.lang_embeddings)+\n",
    "                                flatten_model(learn_clas.model.transformer.embeddings)+\n",
    "                                flatten_model(learn_clas.model.transformer.layer_norm_emb)+\n",
    "                                flatten_model(learn_img.layer_groups[0]))),\n",
    "                \n",
    "                nn.Sequential(*(flatten_model(learn_clas.model.transformer.attentions)+\n",
    "                                flatten_model(learn_img.layer_groups[1]))),\n",
    "                \n",
    "                nn.Sequential(*(flatten_model(learn_clas.model.transformer.layer_norm1)+\n",
    "                                flatten_model(learn_img.layer_groups[2]))),\n",
    "               nn.Sequential(*(flatten_model(learn_clas.model.transformer.ffns)+\n",
    "                               flatten_model(learn_clas.model.transformer.layer_norm2)+\n",
    "                   flatten_model(model.layers)))]"
   ]
  },
  {
   "cell_type": "code",
   "execution_count": 60,
   "metadata": {},
   "outputs": [],
   "source": [
    "# model.eval()\n",
    "learn = Learner(data, model, loss_func=loss_func, metrics=[accuracy,Precision1(average='macro'),\n",
    "                Precision1(average='weighted'),Recall(average='macro'),Recall(average='weighted'),\n",
    "               FBeta(average='macro',beta=1.),FBeta(average='weighted',beta=1.)],\n",
    "            callback_fns=[ShowGraph,partial(EarlyStoppingCallback, monitor='valid_loss', min_delta=0.01, patience=3),\n",
    "               partial(ReduceLROnPlateauCallback,monitor='valid_loss', mode='auto', patience=0,\n",
    "                       factor=0.2, min_delta=0, min_lr=0.000001)],layer_groups=layer_groups)"
   ]
  },
  {
   "cell_type": "code",
   "execution_count": 61,
   "metadata": {},
   "outputs": [
    {
     "data": {
      "text/plain": [
       "4"
      ]
     },
     "execution_count": 61,
     "metadata": {},
     "output_type": "execute_result"
    }
   ],
   "source": [
    "len(learn.layer_groups)"
   ]
  },
  {
   "cell_type": "code",
   "execution_count": 62,
   "metadata": {},
   "outputs": [],
   "source": [
    "learn.freeze()"
   ]
  },
  {
   "cell_type": "code",
   "execution_count": 63,
   "metadata": {},
   "outputs": [],
   "source": [
    "# print(learn.summary())"
   ]
  },
  {
   "cell_type": "code",
   "execution_count": 64,
   "metadata": {},
   "outputs": [
    {
     "data": {
      "text/html": [
       "\n",
       "    <div>\n",
       "        <style>\n",
       "            /* Turns off some styling */\n",
       "            progress {\n",
       "                /* gets rid of default border in Firefox and Opera. */\n",
       "                border: none;\n",
       "                /* Needs to be in here for Safari polyfill so background images work as expected. */\n",
       "                background-size: auto;\n",
       "            }\n",
       "            .progress-bar-interrupted, .progress-bar-interrupted::-webkit-progress-bar {\n",
       "                background: #F44336;\n",
       "            }\n",
       "        </style>\n",
       "      <progress value='0' class='' max='1', style='width:300px; height:20px; vertical-align: middle;'></progress>\n",
       "      0.00% [0/1 00:00<00:00]\n",
       "    </div>\n",
       "    \n",
       "<table border=\"1\" class=\"dataframe\">\n",
       "  <thead>\n",
       "    <tr style=\"text-align: left;\">\n",
       "      <th>epoch</th>\n",
       "      <th>train_loss</th>\n",
       "      <th>valid_loss</th>\n",
       "      <th>accuracy</th>\n",
       "      <th>precision1</th>\n",
       "      <th>precision1</th>\n",
       "      <th>recall</th>\n",
       "      <th>recall</th>\n",
       "      <th>f_beta</th>\n",
       "      <th>f_beta</th>\n",
       "      <th>time</th>\n",
       "    </tr>\n",
       "  </thead>\n",
       "  <tbody>\n",
       "  </tbody>\n",
       "</table><p>\n",
       "\n",
       "    <div>\n",
       "        <style>\n",
       "            /* Turns off some styling */\n",
       "            progress {\n",
       "                /* gets rid of default border in Firefox and Opera. */\n",
       "                border: none;\n",
       "                /* Needs to be in here for Safari polyfill so background images work as expected. */\n",
       "                background-size: auto;\n",
       "            }\n",
       "            .progress-bar-interrupted, .progress-bar-interrupted::-webkit-progress-bar {\n",
       "                background: #F44336;\n",
       "            }\n",
       "        </style>\n",
       "      <progress value='85' class='' max='192', style='width:300px; height:20px; vertical-align: middle;'></progress>\n",
       "      44.27% [85/192 00:18<00:23 5.2785]\n",
       "    </div>\n",
       "    "
      ],
      "text/plain": [
       "<IPython.core.display.HTML object>"
      ]
     },
     "metadata": {},
     "output_type": "display_data"
    },
    {
     "name": "stdout",
     "output_type": "stream",
     "text": [
      "LR Finder is complete, type {learner_name}.recorder.plot() to see the graph.\n"
     ]
    }
   ],
   "source": [
    "# training model using discriminative fine-tunnig and gradual unfreezing\n",
    "learn.lr_find()"
   ]
  },
  {
   "cell_type": "code",
   "execution_count": 65,
   "metadata": {},
   "outputs": [
    {
     "name": "stdout",
     "output_type": "stream",
     "text": [
      "Min numerical gradient: 1.58E-02\n",
      "Min loss divided by 10: 3.31E-03\n"
     ]
    },
    {
     "data": {
      "image/png": "[encoded data removed]",
      "text/plain": [
       "<Figure size 432x288 with 1 Axes>"
      ]
     },
     "metadata": {
      "needs_background": "light"
     },
     "output_type": "display_data"
    }
   ],
   "source": [
    "learn.recorder.plot(suggestion=True)"
   ]
  },
  {
   "cell_type": "code",
   "execution_count": 66,
   "metadata": {},
   "outputs": [
    {
     "data": {
      "text/html": [
       "<table border=\"1\" class=\"dataframe\">\n",
       "  <thead>\n",
       "    <tr style=\"text-align: left;\">\n",
       "      <th>epoch</th>\n",
       "      <th>train_loss</th>\n",
       "      <th>valid_loss</th>\n",
       "      <th>accuracy</th>\n",
       "      <th>precision1</th>\n",
       "      <th>precision1</th>\n",
       "      <th>recall</th>\n",
       "      <th>recall</th>\n",
       "      <th>f_beta</th>\n",
       "      <th>f_beta</th>\n",
       "      <th>time</th>\n",
       "    </tr>\n",
       "  </thead>\n",
       "  <tbody>\n",
       "    <tr>\n",
       "      <td>0</td>\n",
       "      <td>0.982987</td>\n",
       "      <td>1.588262</td>\n",
       "      <td>0.635271</td>\n",
       "      <td>0.599874</td>\n",
       "      <td>0.672232</td>\n",
       "      <td>0.358493</td>\n",
       "      <td>0.635270</td>\n",
       "      <td>0.333277</td>\n",
       "      <td>0.567070</td>\n",
       "      <td>00:42</td>\n",
       "    </tr>\n",
       "    <tr>\n",
       "      <td>1</td>\n",
       "      <td>1.160185</td>\n",
       "      <td>1.049422</td>\n",
       "      <td>0.686373</td>\n",
       "      <td>0.510628</td>\n",
       "      <td>0.726992</td>\n",
       "      <td>0.579285</td>\n",
       "      <td>0.686373</td>\n",
       "      <td>0.528744</td>\n",
       "      <td>0.694866</td>\n",
       "      <td>00:41</td>\n",
       "    </tr>\n",
       "    <tr>\n",
       "      <td>2</td>\n",
       "      <td>0.853633</td>\n",
       "      <td>0.764836</td>\n",
       "      <td>0.740481</td>\n",
       "      <td>0.568304</td>\n",
       "      <td>0.731227</td>\n",
       "      <td>0.549980</td>\n",
       "      <td>0.740481</td>\n",
       "      <td>0.558315</td>\n",
       "      <td>0.735042</td>\n",
       "      <td>00:41</td>\n",
       "    </tr>\n",
       "    <tr>\n",
       "      <td>3</td>\n",
       "      <td>0.646618</td>\n",
       "      <td>0.704710</td>\n",
       "      <td>0.743487</td>\n",
       "      <td>0.554708</td>\n",
       "      <td>0.742371</td>\n",
       "      <td>0.584393</td>\n",
       "      <td>0.743487</td>\n",
       "      <td>0.567386</td>\n",
       "      <td>0.741901</td>\n",
       "      <td>00:41</td>\n",
       "    </tr>\n",
       "    <tr>\n",
       "      <td>4</td>\n",
       "      <td>0.500238</td>\n",
       "      <td>0.693149</td>\n",
       "      <td>0.758517</td>\n",
       "      <td>0.576440</td>\n",
       "      <td>0.752562</td>\n",
       "      <td>0.577402</td>\n",
       "      <td>0.758517</td>\n",
       "      <td>0.576772</td>\n",
       "      <td>0.755355</td>\n",
       "      <td>00:41</td>\n",
       "    </tr>\n",
       "  </tbody>\n",
       "</table>"
      ],
      "text/plain": [
       "<IPython.core.display.HTML object>"
      ]
     },
     "metadata": {},
     "output_type": "display_data"
    },
    {
     "data": {
      "image/png": "[encoded data removed]",
      "text/plain": [
       "<Figure size 432x288 with 1 Axes>"
      ]
     },
     "metadata": {},
     "output_type": "display_data"
    },
    {
     "name": "stdout",
     "output_type": "stream",
     "text": [
      "Better model found at epoch 0 with accuracy value: 0.6352705359458923.\n",
      "Better model found at epoch 1 with accuracy value: 0.6863727569580078.\n",
      "Better model found at epoch 2 with accuracy value: 0.7404809594154358.\n",
      "Better model found at epoch 3 with accuracy value: 0.7434870004653931.\n",
      "Better model found at epoch 4 with accuracy value: 0.7585170269012451.\n"
     ]
    }
   ],
   "source": [
    "# training the model's top layer's keeping keep other layer's in freezing mode, all the metrics shown here, have been\n",
    "# evaluted on validation set\n",
    "learn.fit_one_cycle(5,slice(1e-2), moms=(0.8, 0.7),wd=1e-1,\n",
    "                   callbacks=[SaveModelCallback(learn,every='improvement', monitor='accuracy', name='best')])"
   ]
  },
  {
   "cell_type": "code",
   "execution_count": 67,
   "metadata": {},
   "outputs": [
    {
     "data": {
      "text/html": [
       "<table border=\"1\" class=\"dataframe\">\n",
       "  <thead>\n",
       "    <tr style=\"text-align: left;\">\n",
       "      <th>epoch</th>\n",
       "      <th>train_loss</th>\n",
       "      <th>valid_loss</th>\n",
       "      <th>accuracy</th>\n",
       "      <th>precision1</th>\n",
       "      <th>precision1</th>\n",
       "      <th>recall</th>\n",
       "      <th>recall</th>\n",
       "      <th>f_beta</th>\n",
       "      <th>f_beta</th>\n",
       "      <th>time</th>\n",
       "    </tr>\n",
       "  </thead>\n",
       "  <tbody>\n",
       "    <tr>\n",
       "      <td>0</td>\n",
       "      <td>0.689796</td>\n",
       "      <td>0.729741</td>\n",
       "      <td>0.756513</td>\n",
       "      <td>0.588793</td>\n",
       "      <td>0.753345</td>\n",
       "      <td>0.548411</td>\n",
       "      <td>0.756513</td>\n",
       "      <td>0.563918</td>\n",
       "      <td>0.748776</td>\n",
       "      <td>00:41</td>\n",
       "    </tr>\n",
       "    <tr>\n",
       "      <td>1</td>\n",
       "      <td>0.473402</td>\n",
       "      <td>0.730889</td>\n",
       "      <td>0.751503</td>\n",
       "      <td>0.583885</td>\n",
       "      <td>0.750871</td>\n",
       "      <td>0.560603</td>\n",
       "      <td>0.751503</td>\n",
       "      <td>0.571319</td>\n",
       "      <td>0.750055</td>\n",
       "      <td>00:41</td>\n",
       "    </tr>\n",
       "  </tbody>\n",
       "</table>"
      ],
      "text/plain": [
       "<IPython.core.display.HTML object>"
      ]
     },
     "metadata": {},
     "output_type": "display_data"
    },
    {
     "data": {
      "image/png": "[encoded data removed]",
      "text/plain": [
       "<Figure size 432x288 with 1 Axes>"
      ]
     },
     "metadata": {},
     "output_type": "display_data"
    }
   ],
   "source": [
    "learn.freeze_to(-2)\n",
    "learn.fit_one_cycle(2, slice(5e-3/(2.6**4), 5e-3), moms=(0.8, 0.7))"
   ]
  },
  {
   "cell_type": "code",
   "execution_count": 69,
   "metadata": {},
   "outputs": [
    {
     "data": {
      "text/html": [
       "<table border=\"1\" class=\"dataframe\">\n",
       "  <thead>\n",
       "    <tr style=\"text-align: left;\">\n",
       "      <th>epoch</th>\n",
       "      <th>train_loss</th>\n",
       "      <th>valid_loss</th>\n",
       "      <th>accuracy</th>\n",
       "      <th>precision1</th>\n",
       "      <th>precision1</th>\n",
       "      <th>recall</th>\n",
       "      <th>recall</th>\n",
       "      <th>f_beta</th>\n",
       "      <th>f_beta</th>\n",
       "      <th>time</th>\n",
       "    </tr>\n",
       "  </thead>\n",
       "  <tbody>\n",
       "    <tr>\n",
       "      <td>0</td>\n",
       "      <td>0.345277</td>\n",
       "      <td>1.204205</td>\n",
       "      <td>0.710421</td>\n",
       "      <td>0.606817</td>\n",
       "      <td>0.737195</td>\n",
       "      <td>0.442162</td>\n",
       "      <td>0.710421</td>\n",
       "      <td>0.470641</td>\n",
       "      <td>0.678706</td>\n",
       "      <td>00:47</td>\n",
       "    </tr>\n",
       "    <tr>\n",
       "      <td>1</td>\n",
       "      <td>0.267167</td>\n",
       "      <td>0.844212</td>\n",
       "      <td>0.771543</td>\n",
       "      <td>0.608545</td>\n",
       "      <td>0.778695</td>\n",
       "      <td>0.613358</td>\n",
       "      <td>0.771543</td>\n",
       "      <td>0.607893</td>\n",
       "      <td>0.773020</td>\n",
       "      <td>00:47</td>\n",
       "    </tr>\n",
       "    <tr>\n",
       "      <td>2</td>\n",
       "      <td>0.077090</td>\n",
       "      <td>0.858999</td>\n",
       "      <td>0.776553</td>\n",
       "      <td>0.622415</td>\n",
       "      <td>0.782084</td>\n",
       "      <td>0.602958</td>\n",
       "      <td>0.776553</td>\n",
       "      <td>0.607816</td>\n",
       "      <td>0.775913</td>\n",
       "      <td>00:47</td>\n",
       "    </tr>\n",
       "  </tbody>\n",
       "</table>"
      ],
      "text/plain": [
       "<IPython.core.display.HTML object>"
      ]
     },
     "metadata": {},
     "output_type": "display_data"
    },
    {
     "data": {
      "image/png": "[encoded data removed]",
      "text/plain": [
       "<Figure size 432x288 with 1 Axes>"
      ]
     },
     "metadata": {},
     "output_type": "display_data"
    }
   ],
   "source": [
    "learn.freeze_to(-3)\n",
    "learn.fit_one_cycle(3, slice(2e-3/(2.6**4), 2e-3), moms=(0.8, 0.7))"
   ]
  },
  {
   "cell_type": "code",
   "execution_count": 70,
   "metadata": {},
   "outputs": [
    {
     "data": {
      "text/html": [
       "\n",
       "    <div>\n",
       "        <style>\n",
       "            /* Turns off some styling */\n",
       "            progress {\n",
       "                /* gets rid of default border in Firefox and Opera. */\n",
       "                border: none;\n",
       "                /* Needs to be in here for Safari polyfill so background images work as expected. */\n",
       "                background-size: auto;\n",
       "            }\n",
       "            .progress-bar-interrupted, .progress-bar-interrupted::-webkit-progress-bar {\n",
       "                background: #F44336;\n",
       "            }\n",
       "        </style>\n",
       "      <progress value='0' class='' max='1', style='width:300px; height:20px; vertical-align: middle;'></progress>\n",
       "      0.00% [0/1 00:00<00:00]\n",
       "    </div>\n",
       "    \n",
       "<table border=\"1\" class=\"dataframe\">\n",
       "  <thead>\n",
       "    <tr style=\"text-align: left;\">\n",
       "      <th>epoch</th>\n",
       "      <th>train_loss</th>\n",
       "      <th>valid_loss</th>\n",
       "      <th>accuracy</th>\n",
       "      <th>precision1</th>\n",
       "      <th>precision1</th>\n",
       "      <th>recall</th>\n",
       "      <th>recall</th>\n",
       "      <th>f_beta</th>\n",
       "      <th>f_beta</th>\n",
       "      <th>time</th>\n",
       "    </tr>\n",
       "  </thead>\n",
       "  <tbody>\n",
       "  </tbody>\n",
       "</table><p>\n",
       "\n",
       "    <div>\n",
       "        <style>\n",
       "            /* Turns off some styling */\n",
       "            progress {\n",
       "                /* gets rid of default border in Firefox and Opera. */\n",
       "                border: none;\n",
       "                /* Needs to be in here for Safari polyfill so background images work as expected. */\n",
       "                background-size: auto;\n",
       "            }\n",
       "            .progress-bar-interrupted, .progress-bar-interrupted::-webkit-progress-bar {\n",
       "                background: #F44336;\n",
       "            }\n",
       "        </style>\n",
       "      <progress value='50' class='' max='192', style='width:300px; height:20px; vertical-align: middle;'></progress>\n",
       "      26.04% [50/192 00:14<00:41 0.0987]\n",
       "    </div>\n",
       "    "
      ],
      "text/plain": [
       "<IPython.core.display.HTML object>"
      ]
     },
     "metadata": {},
     "output_type": "display_data"
    },
    {
     "name": "stdout",
     "output_type": "stream",
     "text": [
      "LR Finder is complete, type {learner_name}.recorder.plot() to see the graph.\n"
     ]
    },
    {
     "data": {
      "image/png": "[encoded data removed]",
      "text/plain": [
       "<Figure size 432x288 with 1 Axes>"
      ]
     },
     "metadata": {
      "needs_background": "light"
     },
     "output_type": "display_data"
    }
   ],
   "source": [
    "learn.unfreeze()\n",
    "learn.lr_find()\n",
    "learn.recorder.plot()"
   ]
  },
  {
   "cell_type": "code",
   "execution_count": 71,
   "metadata": {},
   "outputs": [
    {
     "data": {
      "text/html": [
       "<table border=\"1\" class=\"dataframe\">\n",
       "  <thead>\n",
       "    <tr style=\"text-align: left;\">\n",
       "      <th>epoch</th>\n",
       "      <th>train_loss</th>\n",
       "      <th>valid_loss</th>\n",
       "      <th>accuracy</th>\n",
       "      <th>precision1</th>\n",
       "      <th>precision1</th>\n",
       "      <th>recall</th>\n",
       "      <th>recall</th>\n",
       "      <th>f_beta</th>\n",
       "      <th>f_beta</th>\n",
       "      <th>time</th>\n",
       "    </tr>\n",
       "  </thead>\n",
       "  <tbody>\n",
       "    <tr>\n",
       "      <td>0</td>\n",
       "      <td>0.057345</td>\n",
       "      <td>1.062632</td>\n",
       "      <td>0.764529</td>\n",
       "      <td>0.587051</td>\n",
       "      <td>0.767301</td>\n",
       "      <td>0.602325</td>\n",
       "      <td>0.764529</td>\n",
       "      <td>0.594290</td>\n",
       "      <td>0.765491</td>\n",
       "      <td>00:56</td>\n",
       "    </tr>\n",
       "    <tr>\n",
       "      <td>1</td>\n",
       "      <td>0.024099</td>\n",
       "      <td>1.073358</td>\n",
       "      <td>0.777555</td>\n",
       "      <td>0.621982</td>\n",
       "      <td>0.783484</td>\n",
       "      <td>0.577570</td>\n",
       "      <td>0.777555</td>\n",
       "      <td>0.590820</td>\n",
       "      <td>0.772019</td>\n",
       "      <td>00:56</td>\n",
       "    </tr>\n",
       "  </tbody>\n",
       "</table>"
      ],
      "text/plain": [
       "<IPython.core.display.HTML object>"
      ]
     },
     "metadata": {},
     "output_type": "display_data"
    },
    {
     "data": {
      "image/png": "[encoded data removed]",
      "text/plain": [
       "<Figure size 432x288 with 1 Axes>"
      ]
     },
     "metadata": {},
     "output_type": "display_data"
    }
   ],
   "source": [
    "learn.fit_one_cycle(2, slice(5e-4/(2.6**4), 5e-4), moms=(0.8, 0.7))"
   ]
  },
  {
   "cell_type": "code",
   "execution_count": 73,
   "metadata": {
    "scrolled": false
   },
   "outputs": [
    {
     "data": {
      "text/html": [
       "\n",
       "    <div>\n",
       "        <style>\n",
       "            /* Turns off some styling */\n",
       "            progress {\n",
       "                /* gets rid of default border in Firefox and Opera. */\n",
       "                border: none;\n",
       "                /* Needs to be in here for Safari polyfill so background images work as expected. */\n",
       "                background-size: auto;\n",
       "            }\n",
       "            .progress-bar-interrupted, .progress-bar-interrupted::-webkit-progress-bar {\n",
       "                background: #F44336;\n",
       "            }\n",
       "        </style>\n",
       "      <progress value='4' class='' max='5', style='width:300px; height:20px; vertical-align: middle;'></progress>\n",
       "      80.00% [4/5 04:02<01:00]\n",
       "    </div>\n",
       "    \n",
       "<table border=\"1\" class=\"dataframe\">\n",
       "  <thead>\n",
       "    <tr style=\"text-align: left;\">\n",
       "      <th>epoch</th>\n",
       "      <th>train_loss</th>\n",
       "      <th>valid_loss</th>\n",
       "      <th>accuracy</th>\n",
       "      <th>precision1</th>\n",
       "      <th>precision1</th>\n",
       "      <th>recall</th>\n",
       "      <th>recall</th>\n",
       "      <th>f_beta</th>\n",
       "      <th>f_beta</th>\n",
       "      <th>time</th>\n",
       "    </tr>\n",
       "  </thead>\n",
       "  <tbody>\n",
       "    <tr>\n",
       "      <td>0</td>\n",
       "      <td>0.058389</td>\n",
       "      <td>1.119201</td>\n",
       "      <td>0.776553</td>\n",
       "      <td>0.605733</td>\n",
       "      <td>0.778848</td>\n",
       "      <td>0.591561</td>\n",
       "      <td>0.776553</td>\n",
       "      <td>0.593025</td>\n",
       "      <td>0.772425</td>\n",
       "      <td>00:56</td>\n",
       "    </tr>\n",
       "    <tr>\n",
       "      <td>1</td>\n",
       "      <td>0.026350</td>\n",
       "      <td>1.142082</td>\n",
       "      <td>0.771543</td>\n",
       "      <td>0.598429</td>\n",
       "      <td>0.776699</td>\n",
       "      <td>0.583639</td>\n",
       "      <td>0.771543</td>\n",
       "      <td>0.583980</td>\n",
       "      <td>0.768218</td>\n",
       "      <td>00:56</td>\n",
       "    </tr>\n",
       "    <tr>\n",
       "      <td>2</td>\n",
       "      <td>0.019236</td>\n",
       "      <td>1.165920</td>\n",
       "      <td>0.775551</td>\n",
       "      <td>0.593308</td>\n",
       "      <td>0.770873</td>\n",
       "      <td>0.587854</td>\n",
       "      <td>0.775551</td>\n",
       "      <td>0.589027</td>\n",
       "      <td>0.771670</td>\n",
       "      <td>00:56</td>\n",
       "    </tr>\n",
       "    <tr>\n",
       "      <td>3</td>\n",
       "      <td>0.008146</td>\n",
       "      <td>1.174506</td>\n",
       "      <td>0.779559</td>\n",
       "      <td>0.594576</td>\n",
       "      <td>0.779394</td>\n",
       "      <td>0.594232</td>\n",
       "      <td>0.779559</td>\n",
       "      <td>0.590990</td>\n",
       "      <td>0.776505</td>\n",
       "      <td>00:56</td>\n",
       "    </tr>\n",
       "  </tbody>\n",
       "</table><p>\n",
       "\n",
       "    <div>\n",
       "        <style>\n",
       "            /* Turns off some styling */\n",
       "            progress {\n",
       "                /* gets rid of default border in Firefox and Opera. */\n",
       "                border: none;\n",
       "                /* Needs to be in here for Safari polyfill so background images work as expected. */\n",
       "                background-size: auto;\n",
       "            }\n",
       "            .progress-bar-interrupted, .progress-bar-interrupted::-webkit-progress-bar {\n",
       "                background: #F44336;\n",
       "            }\n",
       "        </style>\n",
       "      <progress value='32' class='' max='32', style='width:300px; height:20px; vertical-align: middle;'></progress>\n",
       "      100.00% [32/32 00:02<00:00]\n",
       "    </div>\n",
       "    "
      ],
      "text/plain": [
       "<IPython.core.display.HTML object>"
      ]
     },
     "metadata": {},
     "output_type": "display_data"
    },
    {
     "data": {
      "image/png": "[encoded data removed]",
      "text/plain": [
       "<Figure size 432x288 with 1 Axes>"
      ]
     },
     "metadata": {},
     "output_type": "display_data"
    },
    {
     "name": "stdout",
     "output_type": "stream",
     "text": [
      "Better model found at epoch 0 with accuracy value: 0.7765530943870544.\n",
      "Epoch 1: reducing lr to 9.504846320134734e-05\n",
      "Epoch 2: reducing lr to 6.11262021936289e-05\n",
      "Epoch 3: reducing lr to 1.8825834605023693e-05\n",
      "Better model found at epoch 3 with accuracy value: 0.7795591354370117.\n",
      "Epoch 4: early stopping\n"
     ]
    },
    {
     "data": {
      "image/png": "[encoded data removed]",
      "text/plain": [
       "<Figure size 432x288 with 1 Axes>"
      ]
     },
     "metadata": {
      "needs_background": "light"
     },
     "output_type": "display_data"
    }
   ],
   "source": [
    "# training all layer's of the model and saving the best one \n",
    "learn.fit_one_cycle(5, slice(5e-4/(2.6**4), 5e-4), moms=(0.8, 0.7), wd=1e-1,\n",
    "                    callbacks=[SaveModelCallback(learn,every='improvement', monitor='accuracy', name='best')])"
   ]
  },
  {
   "cell_type": "code",
   "execution_count": 74,
   "metadata": {},
   "outputs": [
    {
     "data": {
      "text/html": [],
      "text/plain": [
       "<IPython.core.display.HTML object>"
      ]
     },
     "metadata": {},
     "output_type": "display_data"
    }
   ],
   "source": [
    "# making interpretation on dev split\n",
    "interp = ClassificationInterpretation.from_learner(learn)"
   ]
  },
  {
   "cell_type": "code",
   "execution_count": 75,
   "metadata": {},
   "outputs": [
    {
     "data": {
      "image/png": "[encoded data removed]",
      "text/plain": [
       "<Figure size 700x700 with 1 Axes>"
      ]
     },
     "metadata": {
      "needs_background": "light"
     },
     "output_type": "display_data"
    }
   ],
   "source": [
    "interp.plot_confusion_matrix(figsize=(7,7), dpi=100)"
   ]
  },
  {
   "cell_type": "code",
   "execution_count": 76,
   "metadata": {},
   "outputs": [
    {
     "data": {
      "text/html": [],
      "text/plain": [
       "<IPython.core.display.HTML object>"
      ]
     },
     "metadata": {},
     "output_type": "display_data"
    },
    {
     "data": {
      "text/plain": [
       "[1.1745062,\n",
       " tensor(0.7796),\n",
       " tensor(0.5946),\n",
       " tensor(0.7794),\n",
       " tensor(0.5942),\n",
       " tensor(0.7796),\n",
       " tensor(0.5910),\n",
       " tensor(0.7765)]"
      ]
     },
     "execution_count": 76,
     "metadata": {},
     "output_type": "execute_result"
    }
   ],
   "source": [
    "learn.validate(data.valid_dl,metrics=[accuracy,Precision1(average='macro'),Precision1(average='weighted'),\n",
    "                                                 Recall(average='macro'),Recall(average='weighted'),\n",
    "                                                 FBeta(average='macro',beta=1.),FBeta(average='weighted',beta=1.)])"
   ]
  },
  {
   "cell_type": "code",
   "execution_count": 77,
   "metadata": {},
   "outputs": [
    {
     "data": {
      "text/html": [],
      "text/plain": [
       "<IPython.core.display.HTML object>"
      ]
     },
     "metadata": {},
     "output_type": "display_data"
    },
    {
     "name": "stdout",
     "output_type": "stream",
     "text": [
      "                                        precision    recall  f1-score   support\n",
      "\n",
      "                  affected_individuals       0.00      0.00      0.00         9\n",
      "     infrastructure_and_utility_damage       0.58      0.72      0.64        80\n",
      "                      not_humanitarian       0.80      0.86      0.83       521\n",
      "            other_relevant_information       0.85      0.71      0.77       239\n",
      "rescue_volunteering_or_donation_effort       0.74      0.67      0.70       149\n",
      "\n",
      "                              accuracy                           0.78       998\n",
      "                             macro avg       0.59      0.59      0.59       998\n",
      "                          weighted avg       0.78      0.78      0.78       998\n",
      "\n"
     ]
    }
   ],
   "source": [
    "#making predictions on validation set to use it for classification report\n",
    "valid_preds,valid_y,losses = learn.get_preds(ds_type=DatasetType.Valid,with_loss=True)\n",
    "valid_y_preds = valid_preds.argmax(1)\n",
    "\n",
    "target_names = ['affected_individuals',\n",
    " 'infrastructure_and_utility_damage',\n",
    " 'not_humanitarian',\n",
    " 'other_relevant_information',\n",
    " 'rescue_volunteering_or_donation_effort']\n",
    "\n",
    "print(classification_report(valid_y, valid_y_preds, target_names=target_names))"
   ]
  },
  {
   "cell_type": "code",
   "execution_count": 78,
   "metadata": {},
   "outputs": [
    {
     "data": {
      "text/html": [],
      "text/plain": [
       "<IPython.core.display.HTML object>"
      ]
     },
     "metadata": {},
     "output_type": "display_data"
    },
    {
     "data": {
      "text/plain": [
       "[0.99269766,\n",
       " tensor(0.8084),\n",
       " tensor(0.7323),\n",
       " tensor(0.8069),\n",
       " tensor(0.6760),\n",
       " tensor(0.8084),\n",
       " tensor(0.6985),\n",
       " tensor(0.8045)]"
      ]
     },
     "execution_count": 78,
     "metadata": {},
     "output_type": "execute_result"
    }
   ],
   "source": [
    "learn.validate(data.test_dl,metrics=[accuracy,Precision1(average='macro'),Precision1(average='weighted'),\n",
    "                                                 Recall(average='macro'),Recall(average='weighted'),\n",
    "                                                 FBeta(average='macro',beta=1.),FBeta(average='weighted',beta=1.)])"
   ]
  },
  {
   "cell_type": "code",
   "execution_count": 79,
   "metadata": {},
   "outputs": [
    {
     "data": {
      "text/html": [],
      "text/plain": [
       "<IPython.core.display.HTML object>"
      ]
     },
     "metadata": {},
     "output_type": "display_data"
    },
    {
     "name": "stdout",
     "output_type": "stream",
     "text": [
      "                                        precision    recall  f1-score   support\n",
      "\n",
      "                  affected_individuals       0.50      0.33      0.40         9\n",
      "     infrastructure_and_utility_damage       0.79      0.81      0.80        81\n",
      "                      not_humanitarian       0.82      0.90      0.86       504\n",
      "            other_relevant_information       0.86      0.73      0.79       235\n",
      "rescue_volunteering_or_donation_effort       0.69      0.60      0.64       126\n",
      "\n",
      "                              accuracy                           0.81       955\n",
      "                             macro avg       0.73      0.68      0.70       955\n",
      "                          weighted avg       0.81      0.81      0.80       955\n",
      "\n"
     ]
    }
   ],
   "source": [
    "#making predictions on test set to use it for classification report\n",
    "test_preds,test_y,losses = learn.get_preds(ds_type=DatasetType.Test,with_loss=True)\n",
    "test_y_preds = test_preds.argmax(1)\n",
    "\n",
    "target_names = ['affected_individuals',\n",
    " 'infrastructure_and_utility_damage',\n",
    " 'not_humanitarian',\n",
    " 'other_relevant_information',\n",
    " 'rescue_volunteering_or_donation_effort']\n",
    "\n",
    "print(classification_report(test_y, test_y_preds, target_names=target_names))"
   ]
  },
  {
   "cell_type": "code",
   "execution_count": null,
   "metadata": {},
   "outputs": [],
   "source": []
  }
 ],
 "metadata": {
  "kernelspec": {
   "display_name": "Python 3",
   "language": "python",
   "name": "python3"
  },
  "language_info": {
   "codemirror_mode": {
    "name": "ipython",
    "version": 3
   },
   "file_extension": ".py",
   "mimetype": "text/x-python",
   "name": "python",
   "nbconvert_exporter": "python",
   "pygments_lexer": "ipython3",
   "version": "3.7.6"
  }
 },
 "nbformat": 4,
 "nbformat_minor": 4
}
