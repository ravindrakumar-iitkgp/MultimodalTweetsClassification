{
 "cells": [
  {
   "cell_type": "markdown",
   "metadata": {},
   "source": [
    "# Building Concatenated Model"
   ]
  },
  {
   "cell_type": "code",
   "execution_count": 1,
   "metadata": {},
   "outputs": [
    {
     "name": "stdout",
     "output_type": "stream",
     "text": [
      "[Errno 2] No such file or directory: 'CrisisMMD_Dataset'\n",
      "/notebooks/CrisisMMD_Dataset\n"
     ]
    }
   ],
   "source": [
    "cd CrisisMMD_Dataset"
   ]
  },
  {
   "cell_type": "code",
   "execution_count": 2,
   "metadata": {},
   "outputs": [],
   "source": [
    "%reload_ext autoreload\n",
    "%autoreload 2\n",
    "%matplotlib inline"
   ]
  },
  {
   "cell_type": "code",
   "execution_count": 3,
   "metadata": {},
   "outputs": [],
   "source": [
    "from fastai import *\n",
    "from fastai.vision import *\n",
    "from fastai.text import *\n",
    "from fastai.callbacks import *\n",
    "from Precision_Module import Precision1"
   ]
  },
  {
   "cell_type": "code",
   "execution_count": 4,
   "metadata": {},
   "outputs": [],
   "source": [
    "import numpy as np\n",
    "import pandas as pd\n",
    "import matplotlib.pyplot as plt\n",
    "import pickle\n",
    "import aidrtokenize\n",
    "from sklearn.metrics import classification_report"
   ]
  },
  {
   "cell_type": "code",
   "execution_count": 5,
   "metadata": {},
   "outputs": [],
   "source": [
    "path = Path('/notebooks/CrisisMMD_Dataset')\n",
    "# path.ls()"
   ]
  },
  {
   "cell_type": "code",
   "execution_count": 6,
   "metadata": {},
   "outputs": [],
   "source": [
    "path_img = path/'data_image'"
   ]
  },
  {
   "cell_type": "code",
   "execution_count": 7,
   "metadata": {},
   "outputs": [],
   "source": [
    "# import tarfile\n",
    "# zf = tarfile.open(\"CrisisMMD_v2.tar.gz\")\n",
    "# zf.extractall()"
   ]
  },
  {
   "cell_type": "code",
   "execution_count": 8,
   "metadata": {},
   "outputs": [],
   "source": [
    "def clean_ascii(text):\n",
    "    # function to remove non-ASCII chars from data\n",
    "    return ''.join(i for i in text if ord(i) < 128)"
   ]
  },
  {
   "cell_type": "code",
   "execution_count": 9,
   "metadata": {},
   "outputs": [],
   "source": [
    "data_human_text_image_file = 'new_task_humanitarian_text_img_agreed_lab_human_data.tsv'\n",
    "test_data_human_text_image_file = 'new_task_humanitarian_text_img_agreed_lab_test_data.tsv' "
   ]
  },
  {
   "cell_type": "code",
   "execution_count": 11,
   "metadata": {},
   "outputs": [],
   "source": [
    "if data_human_text_image_file and test_data_human_text_image_file in path.ls():\n",
    "    data_human_text_image_file = pd.read_csv('new_task_humanitarian_text_img_agreed_lab_human_data.tsv',delimiter='\\t',encoding='utf-8')\n",
    "    test_human_text_image_file = pd.read_csv('task_humanitarian_text_img_agreed_lab_test_data.tsv',delimiter='\\t',encoding='utf-8')\n",
    "else:\n",
    "    train_human_text_image=pd.read_csv('task_humanitarian_text_img_agreed_lab_train.tsv',delimiter='\\t',encoding='utf-8')\n",
    "    train_human_text_image = train_human_text_image.drop(0,axis=0)\n",
    "    test_human_text_image=pd.read_csv('task_humanitarian_text_img_agreed_lab_test.tsv',delimiter='\\t',encoding='utf-8')\n",
    "    dev_human_text_image=pd.read_csv('task_humanitarian_text_img_agreed_lab_dev.tsv',delimiter='\\t',encoding='utf-8')\n",
    "    \n",
    "    train_human_text_image['tweet_text']=train_human_text_image['tweet_text'].apply(lambda x:aidrtokenize.tokenize(x))\n",
    "    dev_human_text_image['tweet_text']=dev_human_text_image['tweet_text'].apply(lambda x:aidrtokenize.tokenize(x))\n",
    "    test_human_text_image['tweet_text']=test_human_text_image['tweet_text'].apply(lambda x:aidrtokenize.tokenize(x))\n",
    "    \n",
    "    train_human_text_image['tweet_text'] = train_human_text_image['tweet_text'].apply(lambda x:clean_ascii(x))\n",
    "    dev_human_text_image['tweet_text'] = dev_human_text_image['tweet_text'].apply(lambda x:clean_ascii(x))\n",
    "    test_human_text_image['tweet_text'] = test_human_text_image['tweet_text'].apply(lambda x:clean_ascii(x))\n",
    "    \n",
    "    train_human_text_image['is_valid'] = False\n",
    "    dev_human_text_image['is_valid'] = True\n",
    "    test_human_text_image['is_valid'] = False \n",
    "\n",
    "    train_human_text_image['is_test'] = False\n",
    "    dev_human_text_image['is_test'] = False\n",
    "    test_human_text_image['is_test'] = True\n",
    "    \n",
    "    data_human_text_image = pd.concat([train_human_text_image,dev_human_text_image],axis=0).reset_index()\n",
    "    data_human_text_image = data_human_text_image.drop(['index'],axis=1)\n",
    "    \n",
    "    test_data_human_text_image = pd.concat([train_human_text_image,test_human_text_image],axis=0).reset_index()\n",
    "    test_data_human_text_image = test_data_human_text_image.drop(['index'],axis=1)\n",
    "    \n",
    "    data_human_text_image.to_csv('new_task_humanitarian_text_img_agreed_lab_human_data.tsv',encoding='utf-8')\n",
    "    test_data_human_text_image.to_csv('new_task_humanitarian_text_img_agreed_lab_test_data.tsv',encoding='utf-8')"
   ]
  },
  {
   "cell_type": "code",
   "execution_count": 12,
   "metadata": {},
   "outputs": [
    {
     "name": "stdout",
     "output_type": "stream",
     "text": [
      "shape of data: (7123, 11)\n",
      "\n",
      "False    6125\n",
      "True      998\n",
      "Name: is_valid, dtype: int64\n",
      "==================================================\n",
      "shape of test data: (7080, 11)\n",
      "\n",
      "False    6125\n",
      "True      955\n",
      "Name: is_test, dtype: int64\n"
     ]
    }
   ],
   "source": [
    "print(f\"shape of data: {data_human_text_image.shape}\\n\")\n",
    "print(data_human_text_image['is_valid'].value_counts())\n",
    "print(\"=\"*50)\n",
    "print(f\"shape of test data: {test_data_human_text_image.shape}\\n\")\n",
    "print(test_data_human_text_image['is_test'].value_counts())"
   ]
  },
  {
   "cell_type": "code",
   "execution_count": 13,
   "metadata": {},
   "outputs": [
    {
     "data": {
      "text/html": [],
      "text/plain": [
       "<IPython.core.display.HTML object>"
      ]
     },
     "metadata": {},
     "output_type": "display_data"
    },
    {
     "data": {
      "text/html": [],
      "text/plain": [
       "<IPython.core.display.HTML object>"
      ]
     },
     "metadata": {},
     "output_type": "display_data"
    }
   ],
   "source": [
    "data_lm = (TextList\n",
    "           .from_df(data_human_text_image,path, cols='tweet_text')\n",
    "           #Where are the text? Column 'text' of texts.csv\n",
    "           .split_from_df(col='is_valid')\n",
    "           #How to split it? Randomly with the default 20% in valid\n",
    "           .label_for_lm()\n",
    "           #Label it for a language model\n",
    "           .databunch())\n",
    "           #Finally we convert to a DataBunch"
   ]
  },
  {
   "cell_type": "code",
   "execution_count": 14,
   "metadata": {},
   "outputs": [],
   "source": [
    "learn_lm = language_model_learner(data_lm, AWD_LSTM, drop_mult=0.3)"
   ]
  },
  {
   "cell_type": "code",
   "execution_count": 15,
   "metadata": {},
   "outputs": [
    {
     "data": {
      "text/html": [],
      "text/plain": [
       "<IPython.core.display.HTML object>"
      ]
     },
     "metadata": {},
     "output_type": "display_data"
    },
    {
     "data": {
      "text/html": [],
      "text/plain": [
       "<IPython.core.display.HTML object>"
      ]
     },
     "metadata": {},
     "output_type": "display_data"
    }
   ],
   "source": [
    "data_clas = (TextList.from_df(data_human_text_image,path,cols='tweet_text',vocab=data_lm.vocab)\n",
    "                   .split_from_df(col='is_valid')\n",
    "                   .label_from_df(cols='label_text')\n",
    "                   .databunch())"
   ]
  },
  {
   "cell_type": "code",
   "execution_count": 16,
   "metadata": {},
   "outputs": [
    {
     "data": {
      "text/html": [],
      "text/plain": [
       "<IPython.core.display.HTML object>"
      ]
     },
     "metadata": {},
     "output_type": "display_data"
    },
    {
     "data": {
      "text/html": [],
      "text/plain": [
       "<IPython.core.display.HTML object>"
      ]
     },
     "metadata": {},
     "output_type": "display_data"
    }
   ],
   "source": [
    "test_data_clas = (TextList.from_df(test_data_human_text_image,path,cols='tweet_text',vocab=data_lm.vocab)\n",
    "                   .split_from_df(col='is_test')\n",
    "                   .label_from_df(cols='label_text')\n",
    "                   .databunch())"
   ]
  },
  {
   "cell_type": "code",
   "execution_count": 17,
   "metadata": {},
   "outputs": [],
   "source": [
    "learn_clas = text_classifier_learner(data_clas, AWD_LSTM, drop_mult=0.5,metrics=[accuracy,\n",
    "                                                                                Precision(average='macro'),Precision(average='weighted'),\n",
    "                                                                                Recall(average='macro'),Recall(average='weighted'),\n",
    "                                                                                FBeta(average='macro',beta=1),FBeta(average='weighted',beta=1)])"
   ]
  },
  {
   "cell_type": "code",
   "execution_count": 18,
   "metadata": {},
   "outputs": [
    {
     "data": {
      "text/plain": [
       "RNNLearner(data=TextClasDataBunch;\n",
       "\n",
       "Train: LabelList (6125 items)\n",
       "x: TextList\n",
       "xxbos california wildfires destroy more than structures xxunk,xxbos california wildfires destroy more than structures xxunk,xxbos photos of california destructive wildfires via,xxbos why california wildfires are worse in the fall,xxbos why california wildfires are worse in the fall\n",
       "y: CategoryList\n",
       "infrastructure_and_utility_damage,infrastructure_and_utility_damage,infrastructure_and_utility_damage,other_relevant_information,other_relevant_information\n",
       "Path: /notebooks/CrisisMMD_Dataset;\n",
       "\n",
       "Valid: LabelList (998 items)\n",
       "x: TextList\n",
       "xxbos family xxunk finds dog they lost when escaping california wildfires,xxbos hurricane irma on twitter,xxbos feel xxunk by xxunk in so many levels how xxunk can picture xxunk me so bad on the floor while preparing for,xxbos postirma can xxunk so true,xxbos hurricane maria remains severe threat sept utc\n",
       "y: CategoryList\n",
       "not_humanitarian,other_relevant_information,not_humanitarian,not_humanitarian,other_relevant_information\n",
       "Path: /notebooks/CrisisMMD_Dataset;\n",
       "\n",
       "Test: None, model=SequentialRNN(\n",
       "  (0): MultiBatchEncoder(\n",
       "    (module): AWD_LSTM(\n",
       "      (encoder): Embedding(3312, 400, padding_idx=1)\n",
       "      (encoder_dp): EmbeddingDropout(\n",
       "        (emb): Embedding(3312, 400, padding_idx=1)\n",
       "      )\n",
       "      (rnns): ModuleList(\n",
       "        (0): WeightDropout(\n",
       "          (module): LSTM(400, 1152, batch_first=True)\n",
       "        )\n",
       "        (1): WeightDropout(\n",
       "          (module): LSTM(1152, 1152, batch_first=True)\n",
       "        )\n",
       "        (2): WeightDropout(\n",
       "          (module): LSTM(1152, 400, batch_first=True)\n",
       "        )\n",
       "      )\n",
       "      (input_dp): RNNDropout()\n",
       "      (hidden_dps): ModuleList(\n",
       "        (0): RNNDropout()\n",
       "        (1): RNNDropout()\n",
       "        (2): RNNDropout()\n",
       "      )\n",
       "    )\n",
       "  )\n",
       "  (1): PoolingLinearClassifier(\n",
       "    (layers): Sequential(\n",
       "      (0): BatchNorm1d(1200, eps=1e-05, momentum=0.1, affine=True, track_running_stats=True)\n",
       "      (1): Dropout(p=0.2, inplace=False)\n",
       "      (2): Linear(in_features=1200, out_features=50, bias=True)\n",
       "      (3): ReLU(inplace=True)\n",
       "      (4): BatchNorm1d(50, eps=1e-05, momentum=0.1, affine=True, track_running_stats=True)\n",
       "      (5): Dropout(p=0.1, inplace=False)\n",
       "      (6): Linear(in_features=50, out_features=5, bias=True)\n",
       "    )\n",
       "  )\n",
       "), opt_func=functools.partial(<class 'torch.optim.adam.Adam'>, betas=(0.9, 0.99)), loss_func=FlattenedLoss of CrossEntropyLoss(), metrics=[<function accuracy at 0x7ff2fd18db00>, Precision(average='macro', pos_label=1, eps=1e-09), Precision(average='weighted', pos_label=1, eps=1e-09), Recall(average='macro', pos_label=1, eps=1e-09), Recall(average='weighted', pos_label=1, eps=1e-09), FBeta(average='macro', pos_label=1, eps=1e-09, beta=1), FBeta(average='weighted', pos_label=1, eps=1e-09, beta=1)], true_wd=True, bn_wd=True, wd=0.01, train_bn=True, path=PosixPath('/notebooks/CrisisMMD_Dataset'), model_dir='models', callback_fns=[functools.partial(<class 'fastai.basic_train.Recorder'>, add_time=True, silent=False)], callbacks=[RNNTrainer\n",
       "learn: ...\n",
       "alpha: 2.0\n",
       "beta: 1.0], layer_groups=[Sequential(\n",
       "  (0): Embedding(3312, 400, padding_idx=1)\n",
       "  (1): EmbeddingDropout(\n",
       "    (emb): Embedding(3312, 400, padding_idx=1)\n",
       "  )\n",
       "), Sequential(\n",
       "  (0): WeightDropout(\n",
       "    (module): LSTM(400, 1152, batch_first=True)\n",
       "  )\n",
       "  (1): RNNDropout()\n",
       "), Sequential(\n",
       "  (0): WeightDropout(\n",
       "    (module): LSTM(1152, 1152, batch_first=True)\n",
       "  )\n",
       "  (1): RNNDropout()\n",
       "), Sequential(\n",
       "  (0): WeightDropout(\n",
       "    (module): LSTM(1152, 400, batch_first=True)\n",
       "  )\n",
       "  (1): RNNDropout()\n",
       "), Sequential(\n",
       "  (0): PoolingLinearClassifier(\n",
       "    (layers): Sequential(\n",
       "      (0): BatchNorm1d(1200, eps=1e-05, momentum=0.1, affine=True, track_running_stats=True)\n",
       "      (1): Dropout(p=0.2, inplace=False)\n",
       "      (2): Linear(in_features=1200, out_features=50, bias=True)\n",
       "      (3): ReLU(inplace=True)\n",
       "      (4): BatchNorm1d(50, eps=1e-05, momentum=0.1, affine=True, track_running_stats=True)\n",
       "      (5): Dropout(p=0.1, inplace=False)\n",
       "      (6): Linear(in_features=50, out_features=5, bias=True)\n",
       "    )\n",
       "  )\n",
       ")], add_time=True, silent=False)"
      ]
     },
     "execution_count": 18,
     "metadata": {},
     "output_type": "execute_result"
    }
   ],
   "source": [
    "learn_clas.load_encoder('fine_tuned_enc_human')"
   ]
  },
  {
   "cell_type": "code",
   "execution_count": 19,
   "metadata": {},
   "outputs": [],
   "source": [
    "tfms = get_transforms()\n",
    "\n",
    "data_img = (ImageList.from_df(data_human_text_image,path,cols='image')\n",
    "        #Where to find the data? -> in planet 'train' folder\n",
    "        .split_from_df(col='is_valid')\n",
    "        #How to split in train/valid? -> randomly with the default 20% in valid\n",
    "        .label_from_df(cols='label_image')\n",
    "        #How to label? -> use the second column of the csv file and split the tags by ' '\n",
    "        .transform(tfms, size=224)\n",
    "        #Data augmentation? -> use tfms with a size of 128\n",
    "        .databunch()\n",
    "        .normalize(imagenet_stats))                          \n",
    "        #Finally -> use the defaults for conversion to databunch"
   ]
  },
  {
   "cell_type": "code",
   "execution_count": 20,
   "metadata": {},
   "outputs": [],
   "source": [
    "test_data_img = (ImageList.from_df(test_data_human_text_image,path,cols='image')\n",
    "        #Where to find the data? -> in planet 'train' folder\n",
    "        .split_from_df(col='is_test')\n",
    "        #How to split in train/valid? -> randomly with the default 20% in valid\n",
    "        .label_from_df(cols='label_image')\n",
    "        #How to label? -> use the second column of the csv file and split the tags by ' '\n",
    "        .transform(tfms, size=224)\n",
    "        #Data augmentation? -> use tfms with a size of 128\n",
    "        .databunch()\n",
    "        .normalize(imagenet_stats))                          \n",
    "        #Finally -> use the defaults for conversion to databunch"
   ]
  },
  {
   "cell_type": "code",
   "execution_count": 21,
   "metadata": {},
   "outputs": [],
   "source": [
    "arch = models.resnet50\n",
    "learn_img = cnn_learner(data_img, arch, metrics=[accuracy,Precision(average='macro'),Precision(average='weighted'),\n",
    "                                                 Recall(average='macro'),Recall(average='weighted'),\n",
    "                                                 FBeta(average='macro',beta=1.),FBeta(average='weighted',beta=1.)])"
   ]
  },
  {
   "cell_type": "code",
   "execution_count": 22,
   "metadata": {},
   "outputs": [],
   "source": [
    "# learn_img.model"
   ]
  },
  {
   "cell_type": "code",
   "execution_count": 23,
   "metadata": {},
   "outputs": [],
   "source": [
    "learn_img.model[-1] = learn_img.model[-1][:-3]\n",
    "# learn_img.model"
   ]
  },
  {
   "cell_type": "code",
   "execution_count": 24,
   "metadata": {},
   "outputs": [],
   "source": [
    "# learn_clas.model"
   ]
  },
  {
   "cell_type": "code",
   "execution_count": 25,
   "metadata": {},
   "outputs": [],
   "source": [
    "learn_clas.model[-1].layers = learn_clas.model[-1].layers[:-3]\n",
    "# learn_clas.model"
   ]
  },
  {
   "cell_type": "code",
   "execution_count": 26,
   "metadata": {},
   "outputs": [],
   "source": [
    "train_img_file = path/'train_img_human.pkl'\n",
    "valid_img_file = path/'valid_img_human.pkl'"
   ]
  },
  {
   "cell_type": "code",
   "execution_count": 27,
   "metadata": {},
   "outputs": [],
   "source": [
    "if train_img_file and valid_img_file in path.ls():\n",
    "    with open('train_img_human.pkl','rb') as f:\n",
    "        train_img=pickle.load(f)\n",
    "    with open('valid_img_human.pkl','rb') as f:\n",
    "        valid_img=pickle.load(f)\n",
    "else:\n",
    "    train_img=[data_img.train_ds[i][0].data for i in range(len(data_img.train_ds))]\n",
    "    valid_img = [data_img.valid_ds[i][0].data for i in range(len(data_img.valid_ds))]\n",
    "    with open('train_img_human.pkl','wb') as f:\n",
    "        pickle.dump(train_img,f)\n",
    "    with open('valid_img_human.pkl','wb') as f:\n",
    "        pickle.dump(valid_img,f)"
   ]
  },
  {
   "cell_type": "code",
   "execution_count": 28,
   "metadata": {},
   "outputs": [],
   "source": [
    "test_img_file = path/'test_img_human.pkl'\n",
    "\n",
    "if test_img_file in path.ls():\n",
    "    with open('test_img_human.pkl','rb') as f:\n",
    "        test_img=pickle.load(f)\n",
    "else:\n",
    "    test_img=[test_data_img.valid_ds[i][0].data for i in range(len(test_data_img.valid_ds))]\n",
    "    with open('test_img_human.pkl','wb') as f:\n",
    "        pickle.dump(test_img,f)"
   ]
  },
  {
   "cell_type": "code",
   "execution_count": 29,
   "metadata": {},
   "outputs": [],
   "source": [
    "# train_img=[data_img.train_ds[i][0].data for i in range(len(data_img.train_ds))]"
   ]
  },
  {
   "cell_type": "code",
   "execution_count": 30,
   "metadata": {},
   "outputs": [],
   "source": [
    "# valid_img = [data_img.valid_ds[i][0].data for i in range(len(data_img.valid_ds))]"
   ]
  },
  {
   "cell_type": "code",
   "execution_count": 31,
   "metadata": {},
   "outputs": [],
   "source": [
    "class ConcatDataset(Dataset):\n",
    "    def __init__(self, x1, x2, y): \n",
    "        self.x1,self.x2,self.y,self.c = x1,x2,y,len(y.classes)\n",
    "        \n",
    "    def __len__(self): \n",
    "        return len(self.y)\n",
    "    \n",
    "    def __getitem__(self, i): \n",
    "        return (self.x1[i], self.x2[i]), self.y[i]"
   ]
  },
  {
   "cell_type": "code",
   "execution_count": 32,
   "metadata": {},
   "outputs": [],
   "source": [
    "train_ds = ConcatDataset(train_img, data_clas.train_ds.x, data_clas.train_ds.y)\n",
    "valid_ds = ConcatDataset(valid_img, data_clas.valid_ds.x, data_clas.valid_ds.y)"
   ]
  },
  {
   "cell_type": "code",
   "execution_count": 33,
   "metadata": {},
   "outputs": [],
   "source": [
    "test_train_ds = ConcatDataset(train_img, test_data_clas.train_ds.x, test_data_clas.train_ds.y)\n",
    "test_ds = ConcatDataset(test_img, test_data_clas.valid_ds.x, test_data_clas.valid_ds.y)"
   ]
  },
  {
   "cell_type": "code",
   "execution_count": 34,
   "metadata": {},
   "outputs": [],
   "source": [
    "def my_collate(batch):    \n",
    "    x,y = list(zip(*batch))\n",
    "    x1,x2 = list(zip(*x))\n",
    "    bs=len(x1)\n",
    "    x1 =[x1[i].unsqueeze(dim=0) for i in range(bs)]\n",
    "    x1 = torch.cat(x1,dim=0)\n",
    "    x1 = x1.unsqueeze(dim=0)\n",
    "    x2, y = pad_collate(list(zip(x2, y)), pad_idx=1, pad_first=True)\n",
    "    return (x1,x2),y"
   ]
  },
  {
   "cell_type": "code",
   "execution_count": 35,
   "metadata": {},
   "outputs": [],
   "source": [
    "bs = 32\n",
    "train_sampler = SortishSampler(data_clas.train_ds.x, key=lambda t: len(data_clas.train_ds[t][0].data), bs=bs//2)\n",
    "valid_sampler = SortSampler(data_clas.valid_ds.x, key=lambda t: len(data_clas.valid_ds[t][0].data))"
   ]
  },
  {
   "cell_type": "code",
   "execution_count": 36,
   "metadata": {},
   "outputs": [],
   "source": [
    "bs = 32\n",
    "test_train_sampler = SortishSampler(test_data_clas.train_ds.x, key=lambda t: len(test_data_clas.train_ds[t][0].data), bs=bs//2)\n",
    "test_sampler = SortSampler(test_data_clas.valid_ds.x, key=lambda t: len(test_data_clas.valid_ds[t][0].data))"
   ]
  },
  {
   "cell_type": "code",
   "execution_count": 37,
   "metadata": {},
   "outputs": [],
   "source": [
    "train_dl = DataLoader(train_ds, bs, sampler=train_sampler)\n",
    "valid_dl = DataLoader(valid_ds, bs, sampler=valid_sampler)"
   ]
  },
  {
   "cell_type": "code",
   "execution_count": 38,
   "metadata": {},
   "outputs": [],
   "source": [
    "test_train_dl = DataLoader(test_train_ds, bs, sampler=test_train_sampler)\n",
    "test_dl = DataLoader(test_ds, bs, sampler=test_sampler)"
   ]
  },
  {
   "cell_type": "code",
   "execution_count": 39,
   "metadata": {},
   "outputs": [],
   "source": [
    "data = DataBunch(train_dl=train_dl,valid_dl=valid_dl,test_dl=test_dl, device=defaults.device, \n",
    "                 collate_fn=my_collate, path=path)"
   ]
  },
  {
   "cell_type": "code",
   "execution_count": 40,
   "metadata": {},
   "outputs": [
    {
     "name": "stdout",
     "output_type": "stream",
     "text": [
      "Shape image batch : torch.Size([1, 32, 3, 224, 224])\n",
      "Shape text batch: torch.Size([32, 24])\n",
      "Shape dependent var: torch.Size([32])\n"
     ]
    }
   ],
   "source": [
    "(x1,x2),y = next(iter(data.valid_dl))\n",
    "print(f'Shape image batch : {(x1.shape)}')\n",
    "print(f'Shape text batch: {x2.shape}')\n",
    "print(f'Shape dependent var: {y.shape}')"
   ]
  },
  {
   "cell_type": "code",
   "execution_count": 41,
   "metadata": {},
   "outputs": [],
   "source": [
    "class ConcatModel(nn.Module):\n",
    "    def __init__(self, mod_img, mod_clas, layers, drops): \n",
    "        super().__init__()\n",
    "        self.mod_img = mod_img\n",
    "        self.mod_clas = mod_clas\n",
    "        lst_layers = []\n",
    "        activs = [nn.ReLU(inplace=True),] * (len(layers)-2) + [None]\n",
    "        for n_in,n_out,p,actn in zip(layers[:-1], layers[1:], drops, activs):\n",
    "            lst_layers += bn_drop_lin(n_in, n_out, p=p, actn=actn)\n",
    "        self.layers = nn.Sequential(*lst_layers)\n",
    "\n",
    "    def forward(self,*x):\n",
    "        x[0][0].view(-1,3,224,224)\n",
    "        x_img = self.mod_img(x[0][0])\n",
    "        x_clas = self.mod_clas(x[1])[0]\n",
    "        x = torch.cat([x_img, x_clas], dim=1)\n",
    "        x = self.layers(x)\n",
    "        return x "
   ]
  },
  {
   "cell_type": "code",
   "execution_count": 42,
   "metadata": {},
   "outputs": [],
   "source": [
    "lin_layers = [512+50, 5]\n",
    "ps = [0.8]\n",
    "model = ConcatModel(learn_img.model, learn_clas.model, lin_layers, ps)"
   ]
  },
  {
   "cell_type": "code",
   "execution_count": 44,
   "metadata": {},
   "outputs": [],
   "source": [
    "loss_func = nn.CrossEntropyLoss()\n",
    "layer_groups = [nn.Sequential(*flatten_model(learn_clas.layer_groups[0])),\n",
    "                nn.Sequential(*flatten_model(learn_clas.layer_groups[1])),\n",
    "                nn.Sequential(*flatten_model(learn_clas.layer_groups[2])),\n",
    "                nn.Sequential(*flatten_model(learn_clas.layer_groups[3])),\n",
    "                nn.Sequential(*(flatten_model(learn_clas.layer_groups[4]) + \n",
    "                                flatten_model(model.mod_img) +\n",
    "                                flatten_model(model.layers)))]\n",
    "# layer_groups=layer_groups\n",
    "\n",
    "\n",
    "model.eval()\n",
    "learn = Learner(data, model, loss_func=loss_func, metrics=[accuracy,Precision1(average='macro'),\n",
    "                Precision1(average='weighted'),Recall(average='macro'),Recall(average='weighted'),\n",
    "               FBeta(average='macro',beta=1.),FBeta(average='weighted',beta=1.)],\n",
    "            callback_fns=[ShowGraph,partial(EarlyStoppingCallback, monitor='valid_loss', min_delta=0.01, patience=3),\n",
    "               partial(SaveModelCallback,every='improvement', monitor='valid_loss', name='best'),\n",
    "               partial(ReduceLROnPlateauCallback,monitor='valid_loss', mode='auto', patience=0,\n",
    "                       factor=0.2, min_delta=0, min_lr=0.000001)],layer_groups=layer_groups)"
   ]
  },
  {
   "cell_type": "code",
   "execution_count": 45,
   "metadata": {},
   "outputs": [],
   "source": [
    "learn.freeze()"
   ]
  },
  {
   "cell_type": "code",
   "execution_count": 46,
   "metadata": {},
   "outputs": [],
   "source": [
    "# learn.lr_find()"
   ]
  },
  {
   "cell_type": "code",
   "execution_count": 47,
   "metadata": {},
   "outputs": [],
   "source": [
    "# learn.recorder.plot()"
   ]
  },
  {
   "cell_type": "code",
   "execution_count": 48,
   "metadata": {},
   "outputs": [
    {
     "data": {
      "text/html": [
       "<table border=\"1\" class=\"dataframe\">\n",
       "  <thead>\n",
       "    <tr style=\"text-align: left;\">\n",
       "      <th>epoch</th>\n",
       "      <th>train_loss</th>\n",
       "      <th>valid_loss</th>\n",
       "      <th>accuracy</th>\n",
       "      <th>precision1</th>\n",
       "      <th>precision1</th>\n",
       "      <th>recall</th>\n",
       "      <th>recall</th>\n",
       "      <th>f_beta</th>\n",
       "      <th>f_beta</th>\n",
       "      <th>time</th>\n",
       "    </tr>\n",
       "  </thead>\n",
       "  <tbody>\n",
       "    <tr>\n",
       "      <td>0</td>\n",
       "      <td>1.265441</td>\n",
       "      <td>0.915811</td>\n",
       "      <td>0.736473</td>\n",
       "      <td>0.544965</td>\n",
       "      <td>0.761393</td>\n",
       "      <td>0.607117</td>\n",
       "      <td>0.736473</td>\n",
       "      <td>0.564960</td>\n",
       "      <td>0.740681</td>\n",
       "      <td>00:59</td>\n",
       "    </tr>\n",
       "    <tr>\n",
       "      <td>1</td>\n",
       "      <td>0.870201</td>\n",
       "      <td>0.738715</td>\n",
       "      <td>0.786573</td>\n",
       "      <td>0.599453</td>\n",
       "      <td>0.780894</td>\n",
       "      <td>0.601713</td>\n",
       "      <td>0.786573</td>\n",
       "      <td>0.599572</td>\n",
       "      <td>0.782541</td>\n",
       "      <td>00:55</td>\n",
       "    </tr>\n",
       "    <tr>\n",
       "      <td>2</td>\n",
       "      <td>0.547151</td>\n",
       "      <td>0.807294</td>\n",
       "      <td>0.789579</td>\n",
       "      <td>0.599201</td>\n",
       "      <td>0.786318</td>\n",
       "      <td>0.625693</td>\n",
       "      <td>0.789579</td>\n",
       "      <td>0.610477</td>\n",
       "      <td>0.786926</td>\n",
       "      <td>00:55</td>\n",
       "    </tr>\n",
       "  </tbody>\n",
       "</table>"
      ],
      "text/plain": [
       "<IPython.core.display.HTML object>"
      ]
     },
     "metadata": {},
     "output_type": "display_data"
    },
    {
     "data": {
      "image/png": "[encoded data removed]",
      "text/plain": [
       "<Figure size 432x288 with 1 Axes>"
      ]
     },
     "metadata": {},
     "output_type": "display_data"
    },
    {
     "name": "stdout",
     "output_type": "stream",
     "text": [
      "Better model found at epoch 0 with valid_loss value: 0.9158108830451965.\n",
      "Better model found at epoch 1 with valid_loss value: 0.7387149930000305.\n"
     ]
    }
   ],
   "source": [
    "learn.fit_one_cycle(3,8e-5, moms=(0.8, 0.7),wd=1e-1)"
   ]
  },
  {
   "cell_type": "code",
   "execution_count": 49,
   "metadata": {},
   "outputs": [
    {
     "data": {
      "text/html": [
       "<table border=\"1\" class=\"dataframe\">\n",
       "  <thead>\n",
       "    <tr style=\"text-align: left;\">\n",
       "      <th>epoch</th>\n",
       "      <th>train_loss</th>\n",
       "      <th>valid_loss</th>\n",
       "      <th>accuracy</th>\n",
       "      <th>precision1</th>\n",
       "      <th>precision1</th>\n",
       "      <th>recall</th>\n",
       "      <th>recall</th>\n",
       "      <th>f_beta</th>\n",
       "      <th>f_beta</th>\n",
       "      <th>time</th>\n",
       "    </tr>\n",
       "  </thead>\n",
       "  <tbody>\n",
       "    <tr>\n",
       "      <td>0</td>\n",
       "      <td>1.223734</td>\n",
       "      <td>2.088800</td>\n",
       "      <td>0.701403</td>\n",
       "      <td>0.553111</td>\n",
       "      <td>0.697213</td>\n",
       "      <td>0.434458</td>\n",
       "      <td>0.701403</td>\n",
       "      <td>0.442194</td>\n",
       "      <td>0.672837</td>\n",
       "      <td>00:56</td>\n",
       "    </tr>\n",
       "    <tr>\n",
       "      <td>1</td>\n",
       "      <td>1.000921</td>\n",
       "      <td>1.062436</td>\n",
       "      <td>0.737475</td>\n",
       "      <td>0.581282</td>\n",
       "      <td>0.728436</td>\n",
       "      <td>0.498248</td>\n",
       "      <td>0.737475</td>\n",
       "      <td>0.525545</td>\n",
       "      <td>0.723475</td>\n",
       "      <td>00:56</td>\n",
       "    </tr>\n",
       "  </tbody>\n",
       "</table>"
      ],
      "text/plain": [
       "<IPython.core.display.HTML object>"
      ]
     },
     "metadata": {},
     "output_type": "display_data"
    },
    {
     "data": {
      "image/png": "[encoded data removed]",
      "text/plain": [
       "<Figure size 432x288 with 1 Axes>"
      ]
     },
     "metadata": {},
     "output_type": "display_data"
    },
    {
     "name": "stdout",
     "output_type": "stream",
     "text": [
      "Better model found at epoch 0 with valid_loss value: 2.0888001918792725.\n",
      "Better model found at epoch 1 with valid_loss value: 1.0624359846115112.\n"
     ]
    }
   ],
   "source": [
    "learn.freeze_to(-2)\n",
    "learn.fit_one_cycle(2, slice(5e-3/(2.6**4), 5e-3), moms=(0.8, 0.7))"
   ]
  },
  {
   "cell_type": "code",
   "execution_count": 50,
   "metadata": {},
   "outputs": [
    {
     "data": {
      "text/html": [
       "<table border=\"1\" class=\"dataframe\">\n",
       "  <thead>\n",
       "    <tr style=\"text-align: left;\">\n",
       "      <th>epoch</th>\n",
       "      <th>train_loss</th>\n",
       "      <th>valid_loss</th>\n",
       "      <th>accuracy</th>\n",
       "      <th>precision1</th>\n",
       "      <th>precision1</th>\n",
       "      <th>recall</th>\n",
       "      <th>recall</th>\n",
       "      <th>f_beta</th>\n",
       "      <th>f_beta</th>\n",
       "      <th>time</th>\n",
       "    </tr>\n",
       "  </thead>\n",
       "  <tbody>\n",
       "    <tr>\n",
       "      <td>0</td>\n",
       "      <td>0.954839</td>\n",
       "      <td>0.772644</td>\n",
       "      <td>0.709419</td>\n",
       "      <td>0.557637</td>\n",
       "      <td>0.699115</td>\n",
       "      <td>0.459942</td>\n",
       "      <td>0.709419</td>\n",
       "      <td>0.485745</td>\n",
       "      <td>0.690098</td>\n",
       "      <td>00:57</td>\n",
       "    </tr>\n",
       "    <tr>\n",
       "      <td>1</td>\n",
       "      <td>0.875024</td>\n",
       "      <td>0.626302</td>\n",
       "      <td>0.779559</td>\n",
       "      <td>0.610522</td>\n",
       "      <td>0.773453</td>\n",
       "      <td>0.565083</td>\n",
       "      <td>0.779559</td>\n",
       "      <td>0.580958</td>\n",
       "      <td>0.770848</td>\n",
       "      <td>00:57</td>\n",
       "    </tr>\n",
       "    <tr>\n",
       "      <td>2</td>\n",
       "      <td>0.707445</td>\n",
       "      <td>0.604084</td>\n",
       "      <td>0.779559</td>\n",
       "      <td>0.604783</td>\n",
       "      <td>0.772575</td>\n",
       "      <td>0.572975</td>\n",
       "      <td>0.779559</td>\n",
       "      <td>0.586324</td>\n",
       "      <td>0.772415</td>\n",
       "      <td>00:57</td>\n",
       "    </tr>\n",
       "  </tbody>\n",
       "</table>"
      ],
      "text/plain": [
       "<IPython.core.display.HTML object>"
      ]
     },
     "metadata": {},
     "output_type": "display_data"
    },
    {
     "data": {
      "image/png": "[encoded data removed]",
      "text/plain": [
       "<Figure size 432x288 with 1 Axes>"
      ]
     },
     "metadata": {},
     "output_type": "display_data"
    },
    {
     "name": "stdout",
     "output_type": "stream",
     "text": [
      "Better model found at epoch 0 with valid_loss value: 0.7726439237594604.\n",
      "Better model found at epoch 1 with valid_loss value: 0.6263018250465393.\n",
      "Better model found at epoch 2 with valid_loss value: 0.6040844917297363.\n"
     ]
    }
   ],
   "source": [
    "learn.freeze_to(-3)\n",
    "learn.fit_one_cycle(3, slice(2e-3/(2.6**4), 2e-3), moms=(0.8, 0.7))"
   ]
  },
  {
   "cell_type": "code",
   "execution_count": 51,
   "metadata": {},
   "outputs": [],
   "source": [
    "learn.unfreeze()\n",
    "# learn.lr_find()\n",
    "# learn.recorder.plot_lr()"
   ]
  },
  {
   "cell_type": "code",
   "execution_count": 52,
   "metadata": {},
   "outputs": [
    {
     "data": {
      "image/png": "[encoded data removed]",
      "text/plain": [
       "<Figure size 432x288 with 1 Axes>"
      ]
     },
     "metadata": {
      "needs_background": "light"
     },
     "output_type": "display_data"
    }
   ],
   "source": [
    "learn.recorder.plot()"
   ]
  },
  {
   "cell_type": "code",
   "execution_count": 53,
   "metadata": {},
   "outputs": [
    {
     "data": {
      "text/html": [
       "<table border=\"1\" class=\"dataframe\">\n",
       "  <thead>\n",
       "    <tr style=\"text-align: left;\">\n",
       "      <th>epoch</th>\n",
       "      <th>train_loss</th>\n",
       "      <th>valid_loss</th>\n",
       "      <th>accuracy</th>\n",
       "      <th>precision1</th>\n",
       "      <th>precision1</th>\n",
       "      <th>recall</th>\n",
       "      <th>recall</th>\n",
       "      <th>f_beta</th>\n",
       "      <th>f_beta</th>\n",
       "      <th>time</th>\n",
       "    </tr>\n",
       "  </thead>\n",
       "  <tbody>\n",
       "    <tr>\n",
       "      <td>0</td>\n",
       "      <td>0.682242</td>\n",
       "      <td>0.574134</td>\n",
       "      <td>0.785571</td>\n",
       "      <td>0.606861</td>\n",
       "      <td>0.777340</td>\n",
       "      <td>0.575586</td>\n",
       "      <td>0.785571</td>\n",
       "      <td>0.588747</td>\n",
       "      <td>0.778388</td>\n",
       "      <td>00:59</td>\n",
       "    </tr>\n",
       "    <tr>\n",
       "      <td>1</td>\n",
       "      <td>0.641058</td>\n",
       "      <td>0.620711</td>\n",
       "      <td>0.786573</td>\n",
       "      <td>0.604252</td>\n",
       "      <td>0.778368</td>\n",
       "      <td>0.592238</td>\n",
       "      <td>0.786573</td>\n",
       "      <td>0.597621</td>\n",
       "      <td>0.781515</td>\n",
       "      <td>00:59</td>\n",
       "    </tr>\n",
       "  </tbody>\n",
       "</table>"
      ],
      "text/plain": [
       "<IPython.core.display.HTML object>"
      ]
     },
     "metadata": {},
     "output_type": "display_data"
    },
    {
     "data": {
      "image/png": "[encoded data removed]",
      "text/plain": [
       "<Figure size 432x288 with 1 Axes>"
      ]
     },
     "metadata": {},
     "output_type": "display_data"
    },
    {
     "name": "stdout",
     "output_type": "stream",
     "text": [
      "Better model found at epoch 0 with valid_loss value: 0.5741336345672607.\n"
     ]
    }
   ],
   "source": [
    "learn.fit_one_cycle(2, slice(5e-4/(2.6**4), 5e-4), moms=(0.8, 0.7))"
   ]
  },
  {
   "cell_type": "code",
   "execution_count": 54,
   "metadata": {},
   "outputs": [
    {
     "data": {
      "text/html": [
       "<table border=\"1\" class=\"dataframe\">\n",
       "  <thead>\n",
       "    <tr style=\"text-align: left;\">\n",
       "      <th>epoch</th>\n",
       "      <th>train_loss</th>\n",
       "      <th>valid_loss</th>\n",
       "      <th>accuracy</th>\n",
       "      <th>precision1</th>\n",
       "      <th>precision1</th>\n",
       "      <th>recall</th>\n",
       "      <th>recall</th>\n",
       "      <th>f_beta</th>\n",
       "      <th>f_beta</th>\n",
       "      <th>time</th>\n",
       "    </tr>\n",
       "  </thead>\n",
       "  <tbody>\n",
       "    <tr>\n",
       "      <td>0</td>\n",
       "      <td>0.633883</td>\n",
       "      <td>0.663774</td>\n",
       "      <td>0.770541</td>\n",
       "      <td>0.603973</td>\n",
       "      <td>0.765848</td>\n",
       "      <td>0.558695</td>\n",
       "      <td>0.770541</td>\n",
       "      <td>0.576551</td>\n",
       "      <td>0.761642</td>\n",
       "      <td>00:59</td>\n",
       "    </tr>\n",
       "    <tr>\n",
       "      <td>1</td>\n",
       "      <td>0.668065</td>\n",
       "      <td>1.945915</td>\n",
       "      <td>0.766533</td>\n",
       "      <td>0.614857</td>\n",
       "      <td>0.760174</td>\n",
       "      <td>0.548284</td>\n",
       "      <td>0.766533</td>\n",
       "      <td>0.574548</td>\n",
       "      <td>0.756914</td>\n",
       "      <td>00:59</td>\n",
       "    </tr>\n",
       "    <tr>\n",
       "      <td>2</td>\n",
       "      <td>0.576718</td>\n",
       "      <td>0.638479</td>\n",
       "      <td>0.788577</td>\n",
       "      <td>0.610865</td>\n",
       "      <td>0.781893</td>\n",
       "      <td>0.590034</td>\n",
       "      <td>0.788577</td>\n",
       "      <td>0.598672</td>\n",
       "      <td>0.782605</td>\n",
       "      <td>00:59</td>\n",
       "    </tr>\n",
       "    <tr>\n",
       "      <td>3</td>\n",
       "      <td>0.536377</td>\n",
       "      <td>0.649134</td>\n",
       "      <td>0.791583</td>\n",
       "      <td>0.612584</td>\n",
       "      <td>0.786147</td>\n",
       "      <td>0.591891</td>\n",
       "      <td>0.791583</td>\n",
       "      <td>0.599946</td>\n",
       "      <td>0.785519</td>\n",
       "      <td>00:59</td>\n",
       "    </tr>\n",
       "    <tr>\n",
       "      <td>4</td>\n",
       "      <td>0.528201</td>\n",
       "      <td>0.643614</td>\n",
       "      <td>0.790581</td>\n",
       "      <td>0.609807</td>\n",
       "      <td>0.783636</td>\n",
       "      <td>0.593824</td>\n",
       "      <td>0.790581</td>\n",
       "      <td>0.600320</td>\n",
       "      <td>0.784932</td>\n",
       "      <td>00:59</td>\n",
       "    </tr>\n",
       "  </tbody>\n",
       "</table>"
      ],
      "text/plain": [
       "<IPython.core.display.HTML object>"
      ]
     },
     "metadata": {},
     "output_type": "display_data"
    },
    {
     "data": {
      "image/png": "[encoded data removed]",
      "text/plain": [
       "<Figure size 432x288 with 1 Axes>"
      ]
     },
     "metadata": {},
     "output_type": "display_data"
    },
    {
     "name": "stdout",
     "output_type": "stream",
     "text": [
      "Better model found at epoch 0 with valid_loss value: 0.6637739539146423.\n",
      "Epoch 1: reducing lr to 9.504846320134737e-05\n",
      "Better model found at epoch 2 with valid_loss value: 0.6384791135787964.\n",
      "Epoch 3: reducing lr to 1.88258346050237e-05\n"
     ]
    }
   ],
   "source": [
    "learn.fit_one_cycle(5, slice(5e-4/(2.6**4), 5e-4), moms=(0.8, 0.7), wd=1e-1)"
   ]
  },
  {
   "cell_type": "code",
   "execution_count": 55,
   "metadata": {},
   "outputs": [
    {
     "data": {
      "image/png": "[encoded data removed]",
      "text/plain": [
       "<Figure size 432x288 with 1 Axes>"
      ]
     },
     "metadata": {
      "needs_background": "light"
     },
     "output_type": "display_data"
    }
   ],
   "source": [
    "learn.recorder.plot_losses()"
   ]
  },
  {
   "cell_type": "code",
   "execution_count": 56,
   "metadata": {},
   "outputs": [
    {
     "data": {
      "text/html": [],
      "text/plain": [
       "<IPython.core.display.HTML object>"
      ]
     },
     "metadata": {},
     "output_type": "display_data"
    }
   ],
   "source": [
    "interp = ClassificationInterpretation.from_learner(learn)"
   ]
  },
  {
   "cell_type": "code",
   "execution_count": 57,
   "metadata": {},
   "outputs": [
    {
     "data": {
      "image/png": "[encoded data removed]",
      "text/plain": [
       "<Figure size 1000x1000 with 1 Axes>"
      ]
     },
     "metadata": {
      "needs_background": "light"
     },
     "output_type": "display_data"
    }
   ],
   "source": [
    "interp.plot_confusion_matrix(figsize=(10,10), dpi=100)"
   ]
  },
  {
   "cell_type": "code",
   "execution_count": 59,
   "metadata": {},
   "outputs": [
    {
     "data": {
      "text/html": [],
      "text/plain": [
       "<IPython.core.display.HTML object>"
      ]
     },
     "metadata": {},
     "output_type": "display_data"
    },
    {
     "data": {
      "text/plain": [
       "[0.6384791,\n",
       " tensor(0.7886),\n",
       " tensor(0.6109),\n",
       " tensor(0.7819),\n",
       " tensor(0.5900),\n",
       " tensor(0.7886),\n",
       " tensor(0.5987),\n",
       " tensor(0.7826)]"
      ]
     },
     "execution_count": 59,
     "metadata": {},
     "output_type": "execute_result"
    }
   ],
   "source": [
    "learn.validate(data.valid_dl,metrics=[accuracy,Precision1(average='macro'),Precision1(average='weighted'),\n",
    "                                                 Recall(average='macro'),Recall(average='weighted'),\n",
    "                                                 FBeta(average='macro',beta=1.),FBeta(average='weighted',beta=1.)])"
   ]
  },
  {
   "cell_type": "code",
   "execution_count": 60,
   "metadata": {},
   "outputs": [
    {
     "data": {
      "text/html": [],
      "text/plain": [
       "<IPython.core.display.HTML object>"
      ]
     },
     "metadata": {},
     "output_type": "display_data"
    },
    {
     "name": "stdout",
     "output_type": "stream",
     "text": [
      "                                        precision    recall  f1-score   support\n",
      "\n",
      "                  affected_individuals       0.00      0.00      0.00         9\n",
      "     infrastructure_and_utility_damage       0.66      0.66      0.66        80\n",
      "                      not_humanitarian       0.80      0.89      0.84       521\n",
      "            other_relevant_information       0.82      0.70      0.76       239\n",
      "rescue_volunteering_or_donation_effort       0.77      0.70      0.73       149\n",
      "\n",
      "                              accuracy                           0.79       998\n",
      "                             macro avg       0.61      0.59      0.60       998\n",
      "                          weighted avg       0.78      0.79      0.78       998\n",
      "\n"
     ]
    },
    {
     "name": "stderr",
     "output_type": "stream",
     "text": [
      "/opt/conda/envs/fastai/lib/python3.7/site-packages/sklearn/metrics/_classification.py:1272: UndefinedMetricWarning: Precision and F-score are ill-defined and being set to 0.0 in labels with no predicted samples. Use `zero_division` parameter to control this behavior.\n",
      "  _warn_prf(average, modifier, msg_start, len(result))\n"
     ]
    }
   ],
   "source": [
    "valid_preds,valid_y,losses = learn.get_preds(ds_type=DatasetType.Valid,with_loss=True)\n",
    "valid_y_preds = valid_preds.argmax(1)\n",
    "\n",
    "target_names = ['affected_individuals',\n",
    " 'infrastructure_and_utility_damage',\n",
    " 'not_humanitarian',\n",
    " 'other_relevant_information',\n",
    " 'rescue_volunteering_or_donation_effort']\n",
    "\n",
    "print(classification_report(valid_y, valid_y_preds, target_names=target_names))"
   ]
  },
  {
   "cell_type": "code",
   "execution_count": 61,
   "metadata": {},
   "outputs": [
    {
     "data": {
      "text/html": [],
      "text/plain": [
       "<IPython.core.display.HTML object>"
      ]
     },
     "metadata": {},
     "output_type": "display_data"
    },
    {
     "data": {
      "text/plain": [
       "[0.6384791,\n",
       " tensor(0.7886),\n",
       " tensor(0.6109),\n",
       " tensor(0.7819),\n",
       " tensor(0.5900),\n",
       " tensor(0.7886),\n",
       " tensor(0.5987),\n",
       " tensor(0.7826)]"
      ]
     },
     "execution_count": 61,
     "metadata": {},
     "output_type": "execute_result"
    }
   ],
   "source": [
    "learn.validate(data.valid_dl,metrics=[accuracy,Precision1(average='macro'),Precision1(average='weighted'),\n",
    "                                                 Recall(average='macro'),Recall(average='weighted'),\n",
    "                                                 FBeta(average='macro',beta=1.),FBeta(average='weighted',beta=1.)])"
   ]
  },
  {
   "cell_type": "code",
   "execution_count": 62,
   "metadata": {},
   "outputs": [
    {
     "data": {
      "text/html": [],
      "text/plain": [
       "<IPython.core.display.HTML object>"
      ]
     },
     "metadata": {},
     "output_type": "display_data"
    },
    {
     "name": "stdout",
     "output_type": "stream",
     "text": [
      "                                        precision    recall  f1-score   support\n",
      "\n",
      "                  affected_individuals       0.00      0.00      0.00         9\n",
      "     infrastructure_and_utility_damage       0.76      0.70      0.73        81\n",
      "                      not_humanitarian       0.80      0.86      0.83       504\n",
      "            other_relevant_information       0.80      0.74      0.77       235\n",
      "rescue_volunteering_or_donation_effort       0.70      0.67      0.69       126\n",
      "\n",
      "                              accuracy                           0.79       955\n",
      "                             macro avg       0.61      0.60      0.60       955\n",
      "                          weighted avg       0.78      0.79      0.78       955\n",
      "\n"
     ]
    },
    {
     "name": "stderr",
     "output_type": "stream",
     "text": [
      "/opt/conda/envs/fastai/lib/python3.7/site-packages/sklearn/metrics/_classification.py:1272: UndefinedMetricWarning: Precision and F-score are ill-defined and being set to 0.0 in labels with no predicted samples. Use `zero_division` parameter to control this behavior.\n",
      "  _warn_prf(average, modifier, msg_start, len(result))\n"
     ]
    }
   ],
   "source": [
    "test_preds,test_y,losses = learn.get_preds(ds_type=DatasetType.Test,with_loss=True)\n",
    "test_y_preds = test_preds.argmax(1)\n",
    "\n",
    "target_names = ['affected_individuals',\n",
    " 'infrastructure_and_utility_damage',\n",
    " 'not_humanitarian',\n",
    " 'other_relevant_information',\n",
    " 'rescue_volunteering_or_donation_effort']\n",
    "\n",
    "print(classification_report(test_y, test_y_preds, target_names=target_names))"
   ]
  },
  {
   "cell_type": "code",
   "execution_count": null,
   "metadata": {},
   "outputs": [],
   "source": []
  }
 ],
 "metadata": {
  "kernelspec": {
   "display_name": "Python 3",
   "language": "python",
   "name": "python3"
  }
 },
 "nbformat": 4,
 "nbformat_minor": 4
}
