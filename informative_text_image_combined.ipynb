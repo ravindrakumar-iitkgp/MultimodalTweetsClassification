{
 "cells": [
  {
   "cell_type": "markdown",
   "metadata": {},
   "source": [
    "# Building Concatenated Model"
   ]
  },
  {
   "cell_type": "code",
   "execution_count": 1,
   "metadata": {
    "collapsed": true
   },
   "outputs": [
    {
     "name": "stdout",
     "output_type": "stream",
     "text": [
      "[Errno 2] No such file or directory: 'CrisisMMD_Dataset'\n",
      "/notebooks/CrisisMMD_Dataset\n"
     ]
    }
   ],
   "source": [
    "cd CrisisMMD_Dataset"
   ]
  },
  {
   "cell_type": "code",
   "execution_count": 2,
   "metadata": {},
   "outputs": [],
   "source": [
    "%reload_ext autoreload # ensuring that any edits to libraries you make are reloaded here automatically\n",
    "%autoreload 2\n",
    "%matplotlib inline #to ensuere charts or images displayed are shown in this notebook"
   ]
  },
  {
   "cell_type": "code",
   "execution_count": 3,
   "metadata": {},
   "outputs": [],
   "source": [
    "# importing necessary packages\n",
    "from fastai import *\n",
    "from fastai.vision import *\n",
    "from fastai.text import *\n",
    "from fastai.callbacks import *\n",
    "from Precision_Module import Precision1"
   ]
  },
  {
   "cell_type": "code",
   "execution_count": 4,
   "metadata": {},
   "outputs": [],
   "source": [
    "import numpy as np\n",
    "import pandas as pd\n",
    "import matplotlib.pyplot as plt\n",
    "import pickle\n",
    "import aidrtokenize\n",
    "from sklearn.metrics import classification_report"
   ]
  },
  {
   "cell_type": "code",
   "execution_count": 5,
   "metadata": {},
   "outputs": [],
   "source": [
    "path = Path('/notebooks/CrisisMMD_Dataset')\n",
    "# path.ls()"
   ]
  },
  {
   "cell_type": "code",
   "execution_count": 6,
   "metadata": {},
   "outputs": [],
   "source": [
    "path_img = path/'data_image'"
   ]
  },
  {
   "cell_type": "code",
   "execution_count": 7,
   "metadata": {},
   "outputs": [],
   "source": [
    "# import tarfile\n",
    "# zf = tarfile.open(\"CrisisMMD_v2.tar.gz\")\n",
    "# zf.extractall()"
   ]
  },
  {
   "cell_type": "code",
   "execution_count": 8,
   "metadata": {},
   "outputs": [],
   "source": [
    "def clean_ascii(text):\n",
    "    # function to remove non-ASCII chars from data\n",
    "    return ''.join(i for i in text if ord(i) < 128)"
   ]
  },
  {
   "cell_type": "code",
   "execution_count": 9,
   "metadata": {},
   "outputs": [],
   "source": [
    "data_info_text_image_file = 'new_task_informative_text_img_agreed_lab_info_data.tsv'\n",
    "test_data_info_text_image_file = 'new_task_informative_text_img_agreed_lab_test_data.tsv' "
   ]
  },
  {
   "cell_type": "code",
   "execution_count": 11,
   "metadata": {},
   "outputs": [],
   "source": [
    "# reading the required data from various file and saving it with necessary changes in order to avoid repetition \n",
    "\n",
    "if data_info_text_image_file and test_data_info_text_image_file in path.ls():\n",
    "    data_info_text_image_file = pd.read_csv('new_task_informative_text_img_agreed_lab_info_data.tsv',delimiter='\\t',encoding='utf-8')\n",
    "    test_info_text_image_file = pd.read_csv('task_informative_text_img_agreed_lab_test_data.tsv',delimiter='\\t',encoding='utf-8')\n",
    "else:\n",
    "    train_info_text_image=pd.read_csv('task_informative_text_img_agreed_lab_train.tsv',delimiter='\\t',encoding='utf-8')\n",
    "    train_info_text_image = train_info_text_image.drop(0,axis=0)\n",
    "    test_info_text_image=pd.read_csv('task_informative_text_img_agreed_lab_test.tsv',delimiter='\\t',encoding='utf-8')\n",
    "    dev_info_text_image=pd.read_csv('task_informative_text_img_agreed_lab_dev.tsv',delimiter='\\t',encoding='utf-8')\n",
    "    \n",
    "    train_info_text_image['tweet_text']=train_info_text_image['tweet_text'].apply(lambda x:aidrtokenize.tokenize(x))\n",
    "    dev_info_text_image['tweet_text']=dev_info_text_image['tweet_text'].apply(lambda x:aidrtokenize.tokenize(x))\n",
    "    test_info_text_image['tweet_text']=test_info_text_image['tweet_text'].apply(lambda x:aidrtokenize.tokenize(x))\n",
    "    \n",
    "    train_info_text_image['tweet_text'] = train_info_text_image['tweet_text'].apply(lambda x:clean_ascii(x))\n",
    "    dev_info_text_image['tweet_text'] = dev_info_text_image['tweet_text'].apply(lambda x:clean_ascii(x))\n",
    "    test_info_text_image['tweet_text'] = test_info_text_image['tweet_text'].apply(lambda x:clean_ascii(x))\n",
    "    \n",
    "    train_info_text_image['is_valid'] = False\n",
    "    dev_info_text_image['is_valid'] = True\n",
    "    test_info_text_image['is_valid'] = False \n",
    "\n",
    "    train_info_text_image['is_test'] = False\n",
    "    dev_info_text_image['is_test'] = False\n",
    "    test_info_text_image['is_test'] = True\n",
    "    \n",
    "    data_info_text_image = pd.concat([train_info_text_image,dev_info_text_image],axis=0).reset_index()\n",
    "    data_info_text_image = data_info_text_image.drop(['index'],axis=1)\n",
    "    \n",
    "    test_data_info_text_image = pd.concat([train_info_text_image,test_info_text_image],axis=0).reset_index()\n",
    "    test_data_info_text_image = test_data_info_text_image.drop(['index'],axis=1)\n",
    "    \n",
    "    data_info_text_image.to_csv('new_task_informative_text_img_agreed_lab_info_data.tsv',encoding='utf-8')\n",
    "    test_data_info_text_image.to_csv('new_task_informative_text_img_agreed_lab_test_data.tsv',encoding='utf-8')"
   ]
  },
  {
   "cell_type": "code",
   "execution_count": 12,
   "metadata": {},
   "outputs": [
    {
     "name": "stdout",
     "output_type": "stream",
     "text": [
      "shape of data: (11173, 11)\n",
      "\n",
      "False    9600\n",
      "True     1573\n",
      "Name: is_valid, dtype: int64\n",
      "==================================================\n",
      "shape of test data: (11134, 11)\n",
      "\n",
      "False    9600\n",
      "True     1534\n",
      "Name: is_test, dtype: int64\n"
     ]
    }
   ],
   "source": [
    "print(f\"shape of data: {data_info_text_image.shape}\\n\")\n",
    "print(data_info_text_image['is_valid'].value_counts())\n",
    "print(\"=\"*50)\n",
    "print(f\"shape of test data: {test_data_info_text_image.shape}\\n\")\n",
    "print(test_data_info_text_image['is_test'].value_counts())"
   ]
  },
  {
   "cell_type": "code",
   "execution_count": 13,
   "metadata": {},
   "outputs": [
    {
     "data": {
      "text/html": [],
      "text/plain": [
       "<IPython.core.display.HTML object>"
      ]
     },
     "metadata": {},
     "output_type": "display_data"
    },
    {
     "data": {
      "text/html": [],
      "text/plain": [
       "<IPython.core.display.HTML object>"
      ]
     },
     "metadata": {},
     "output_type": "display_data"
    }
   ],
   "source": [
    "data_lm = (TextList\n",
    "           .from_df(data_info_text_image,path, cols='tweet_text')\n",
    "           #Where are the text? Column tweet_text of data_info_text_image dataframe\n",
    "           .split_from_df(col='is_valid')\n",
    "           #How to split it? using column is_valid of dataframe\n",
    "           .label_for_lm()\n",
    "           #Label it for a language model\n",
    "           .databunch())\n",
    "           #Finally we convert to a DataBunch"
   ]
  },
  {
   "cell_type": "code",
   "execution_count": 14,
   "metadata": {},
   "outputs": [],
   "source": [
    "# importing pretrained AWD_LSTM model and making learner object consist of data,model for training\n",
    "learn_lm = language_model_learner(data_lm, AWD_LSTM, drop_mult=0.3)"
   ]
  },
  {
   "cell_type": "code",
   "execution_count": 15,
   "metadata": {},
   "outputs": [
    {
     "data": {
      "text/html": [],
      "text/plain": [
       "<IPython.core.display.HTML object>"
      ]
     },
     "metadata": {},
     "output_type": "display_data"
    },
    {
     "data": {
      "text/html": [],
      "text/plain": [
       "<IPython.core.display.HTML object>"
      ]
     },
     "metadata": {},
     "output_type": "display_data"
    }
   ],
   "source": [
    "#preprocessing and creating data for classification\n",
    "data_clas = (TextList.from_df(data_info_text_image,path,cols='tweet_text',vocab=data_lm.vocab)\n",
    "                   .split_from_df(col='is_valid')\n",
    "                   .label_from_df(cols='label_text')\n",
    "                   .databunch())"
   ]
  },
  {
   "cell_type": "code",
   "execution_count": 16,
   "metadata": {},
   "outputs": [
    {
     "data": {
      "text/html": [],
      "text/plain": [
       "<IPython.core.display.HTML object>"
      ]
     },
     "metadata": {},
     "output_type": "display_data"
    },
    {
     "data": {
      "text/html": [],
      "text/plain": [
       "<IPython.core.display.HTML object>"
      ]
     },
     "metadata": {},
     "output_type": "display_data"
    }
   ],
   "source": [
    "#preprocessing and creating test data for classification\n",
    "test_data_clas = (TextList.from_df(test_data_info_text_image,path,cols='tweet_text',vocab=data_lm.vocab)\n",
    "                   .split_from_df(col='is_test')\n",
    "                   .label_from_df(cols='label_text')\n",
    "                   .databunch())"
   ]
  },
  {
   "cell_type": "code",
   "execution_count": 17,
   "metadata": {},
   "outputs": [],
   "source": [
    "#importing pretrained AWD-LSTM model and making learner object consist of data,model,metrics and callbacks for training\n",
    "learn_clas = text_classifier_learner(data_clas, AWD_LSTM,\n",
    "                                     drop_mult=0.5,metrics=[accuracy,\n",
    "                                                    Precision(average='macro'),Precision(average='weighted'),\n",
    "                                                    Recall(average='macro'),Recall(average='weighted'),\n",
    "                                                    FBeta(average='macro',beta=1),FBeta(average='weighted',beta=1)])"
   ]
  },
  {
   "cell_type": "code",
   "execution_count": 18,
   "metadata": {},
   "outputs": [
    {
     "data": {
      "text/plain": [
       "RNNLearner(data=TextClasDataBunch;\n",
       "\n",
       "Train: LabelList (9600 items)\n",
       "x: TextList\n",
       "xxbos california wildfires destroy more than structures kakenews,xxbos california wildfires destroy more than structures kakenews,xxbos california wildfires destroy more than structures kakenews,xxbos photos of california destructive wildfires via,xxbos photos of california destructive wildfires via\n",
       "y: CategoryList\n",
       "informative,informative,informative,informative,informative\n",
       "Path: /notebooks/CrisisMMD_Dataset;\n",
       "\n",
       "Valid: LabelList (1573 items)\n",
       "x: TextList\n",
       "xxbos we ve lost track of how many xxunk teams have helped so proud of our church harvey,xxbos the xxunk above xxunk got destroyed the xxunk wall got blown out hurricanemaria,xxbos californias xxunk fire in xxunk captured in pictures and videos xxunk,xxbos one of the first solar storage tesla energy projects in puerto rico has come online,xxbos tornado warning including xxunk wa xxunk river wa deep river wa until pm xxunk\n",
       "y: CategoryList\n",
       "informative,informative,informative,not_informative,informative\n",
       "Path: /notebooks/CrisisMMD_Dataset;\n",
       "\n",
       "Test: None, model=SequentialRNN(\n",
       "  (0): MultiBatchEncoder(\n",
       "    (module): AWD_LSTM(\n",
       "      (encoder): Embedding(4392, 400, padding_idx=1)\n",
       "      (encoder_dp): EmbeddingDropout(\n",
       "        (emb): Embedding(4392, 400, padding_idx=1)\n",
       "      )\n",
       "      (rnns): ModuleList(\n",
       "        (0): WeightDropout(\n",
       "          (module): LSTM(400, 1152, batch_first=True)\n",
       "        )\n",
       "        (1): WeightDropout(\n",
       "          (module): LSTM(1152, 1152, batch_first=True)\n",
       "        )\n",
       "        (2): WeightDropout(\n",
       "          (module): LSTM(1152, 400, batch_first=True)\n",
       "        )\n",
       "      )\n",
       "      (input_dp): RNNDropout()\n",
       "      (hidden_dps): ModuleList(\n",
       "        (0): RNNDropout()\n",
       "        (1): RNNDropout()\n",
       "        (2): RNNDropout()\n",
       "      )\n",
       "    )\n",
       "  )\n",
       "  (1): PoolingLinearClassifier(\n",
       "    (layers): Sequential(\n",
       "      (0): BatchNorm1d(1200, eps=1e-05, momentum=0.1, affine=True, track_running_stats=True)\n",
       "      (1): Dropout(p=0.2, inplace=False)\n",
       "      (2): Linear(in_features=1200, out_features=50, bias=True)\n",
       "      (3): ReLU(inplace=True)\n",
       "      (4): BatchNorm1d(50, eps=1e-05, momentum=0.1, affine=True, track_running_stats=True)\n",
       "      (5): Dropout(p=0.1, inplace=False)\n",
       "      (6): Linear(in_features=50, out_features=2, bias=True)\n",
       "    )\n",
       "  )\n",
       "), opt_func=functools.partial(<class 'torch.optim.adam.Adam'>, betas=(0.9, 0.99)), loss_func=FlattenedLoss of CrossEntropyLoss(), metrics=[<function accuracy at 0x7f4633818b00>, Precision(average='macro', pos_label=1, eps=1e-09), Precision(average='weighted', pos_label=1, eps=1e-09), Recall(average='macro', pos_label=1, eps=1e-09), Recall(average='weighted', pos_label=1, eps=1e-09), FBeta(average='macro', pos_label=1, eps=1e-09, beta=1), FBeta(average='weighted', pos_label=1, eps=1e-09, beta=1)], true_wd=True, bn_wd=True, wd=0.01, train_bn=True, path=PosixPath('/notebooks/CrisisMMD_Dataset'), model_dir='models', callback_fns=[functools.partial(<class 'fastai.basic_train.Recorder'>, add_time=True, silent=False)], callbacks=[RNNTrainer\n",
       "learn: ...\n",
       "alpha: 2.0\n",
       "beta: 1.0], layer_groups=[Sequential(\n",
       "  (0): Embedding(4392, 400, padding_idx=1)\n",
       "  (1): EmbeddingDropout(\n",
       "    (emb): Embedding(4392, 400, padding_idx=1)\n",
       "  )\n",
       "), Sequential(\n",
       "  (0): WeightDropout(\n",
       "    (module): LSTM(400, 1152, batch_first=True)\n",
       "  )\n",
       "  (1): RNNDropout()\n",
       "), Sequential(\n",
       "  (0): WeightDropout(\n",
       "    (module): LSTM(1152, 1152, batch_first=True)\n",
       "  )\n",
       "  (1): RNNDropout()\n",
       "), Sequential(\n",
       "  (0): WeightDropout(\n",
       "    (module): LSTM(1152, 400, batch_first=True)\n",
       "  )\n",
       "  (1): RNNDropout()\n",
       "), Sequential(\n",
       "  (0): PoolingLinearClassifier(\n",
       "    (layers): Sequential(\n",
       "      (0): BatchNorm1d(1200, eps=1e-05, momentum=0.1, affine=True, track_running_stats=True)\n",
       "      (1): Dropout(p=0.2, inplace=False)\n",
       "      (2): Linear(in_features=1200, out_features=50, bias=True)\n",
       "      (3): ReLU(inplace=True)\n",
       "      (4): BatchNorm1d(50, eps=1e-05, momentum=0.1, affine=True, track_running_stats=True)\n",
       "      (5): Dropout(p=0.1, inplace=False)\n",
       "      (6): Linear(in_features=50, out_features=2, bias=True)\n",
       "    )\n",
       "  )\n",
       ")], add_time=True, silent=False)"
      ]
     },
     "execution_count": 18,
     "metadata": {},
     "output_type": "execute_result"
    }
   ],
   "source": [
    "# laoding encoder for classification\n",
    "learn_clas.load_encoder('fine_tuned_enc_info')"
   ]
  },
  {
   "cell_type": "code",
   "execution_count": 19,
   "metadata": {},
   "outputs": [],
   "source": [
    "# prepreprocessing and creating image data for classification\n",
    "tfms = get_transforms()\n",
    "\n",
    "data_img = (ImageList.from_df(data_info_text_image,path,cols='image')\n",
    "        #Where to find the data? -> from data_info_text_image dataframe\n",
    "        .split_from_df(col='is_valid')\n",
    "        #How to split in train/valid? -> using is_valid column of dataframe\n",
    "        .label_from_df(cols='label_image')\n",
    "        #How to label? -> use the label_image column of the csv file and split\n",
    "        .transform(tfms, size=224)\n",
    "        #Data augmentation? -> use tfms with a size of 224\n",
    "        .databunch()\n",
    "        .normalize(imagenet_stats))                          \n",
    "        #Finally -> use the defaults for conversion to databunch"
   ]
  },
  {
   "cell_type": "code",
   "execution_count": 20,
   "metadata": {},
   "outputs": [],
   "source": [
    "# prepreprocessing and creating image test data for classification\n",
    "test_data_img = (ImageList.from_df(test_data_info_text_image,path,cols='image')\n",
    "        #Where to find the data? -> from test_data_info_text_image dataframe\n",
    "        .split_from_df(col='is_test')\n",
    "        #How to split in train/valid? -> using is_valid column of dataframe\n",
    "        .label_from_df(cols='label_image')\n",
    "        #How to label? -> use the label_image column of the csv file and split\n",
    "        .transform(tfms, size=224)\n",
    "        #Data augmentation? -> use tfms with a size of 224\n",
    "        .databunch()\n",
    "        .normalize(imagenet_stats))                          \n",
    "        #Finally -> use the defaults for conversion to databunch"
   ]
  },
  {
   "cell_type": "code",
   "execution_count": 21,
   "metadata": {},
   "outputs": [],
   "source": [
    "# creating a learner object with image model to use it for concatenation \n",
    "arch = models.resnet50\n",
    "learn_img = cnn_learner(data_img, arch, metrics=[accuracy,Precision(average='macro'),Precision(average='weighted'),\n",
    "                                                 Recall(average='macro'),Recall(average='weighted'),\n",
    "                                                 FBeta(average='macro',beta=1.),FBeta(average='weighted',beta=1.)])"
   ]
  },
  {
   "cell_type": "code",
   "execution_count": 22,
   "metadata": {},
   "outputs": [],
   "source": [
    "# learn_img.model"
   ]
  },
  {
   "cell_type": "code",
   "execution_count": 23,
   "metadata": {},
   "outputs": [],
   "source": [
    "learn_img.model[-1] = learn_img.model[-1][:-3]\n",
    "# learn_img.model"
   ]
  },
  {
   "cell_type": "code",
   "execution_count": 24,
   "metadata": {},
   "outputs": [],
   "source": [
    "# learn_clas.model"
   ]
  },
  {
   "cell_type": "code",
   "execution_count": 25,
   "metadata": {},
   "outputs": [],
   "source": [
    "learn_clas.model[-1].layers = learn_clas.model[-1].layers[:-3]\n",
    "# learn_clas.model"
   ]
  },
  {
   "cell_type": "code",
   "execution_count": 26,
   "metadata": {},
   "outputs": [],
   "source": [
    "train_img_file = path/'train_img_info.pkl'\n",
    "valid_img_file = path/'valid_img_info.pkl'"
   ]
  },
  {
   "cell_type": "code",
   "execution_count": 27,
   "metadata": {},
   "outputs": [],
   "source": [
    "# creating image tensor of size 224 and saving it to avoid repetition\n",
    "if train_img_file and valid_img_file in path.ls():\n",
    "    with open('train_img_info.pkl','rb') as f:\n",
    "        train_img=pickle.load(f)\n",
    "    with open('valid_img_info.pkl','rb') as f:\n",
    "        valid_img=pickle.load(f)\n",
    "else:\n",
    "    train_img=[data_img.train_ds[i][0].data for i in range(len(data_img.train_ds))]\n",
    "    valid_img = [data_img.valid_ds[i][0].data for i in range(len(data_img.valid_ds))]\n",
    "    with open('train_img_info.pkl','wb') as f:\n",
    "        pickle.dump(train_img,f)\n",
    "    with open('valid_img_info.pkl','wb') as f:\n",
    "        pickle.dump(valid_img,f)"
   ]
  },
  {
   "cell_type": "code",
   "execution_count": 28,
   "metadata": {},
   "outputs": [],
   "source": [
    "test_img_file = path/'test_img_info.pkl'\n",
    "\n",
    "if test_img_file in path.ls():\n",
    "    with open('test_img_info.pkl','rb') as f:\n",
    "        test_img=pickle.load(f)\n",
    "else:\n",
    "    test_img=[test_data_img.valid_ds[i][0].data for i in range(len(test_data_img.valid_ds))]\n",
    "    with open('test_img_info.pkl','wb') as f:\n",
    "        pickle.dump(test_img,f)"
   ]
  },
  {
   "cell_type": "code",
   "execution_count": 29,
   "metadata": {},
   "outputs": [],
   "source": [
    "# train_img=[data_img.train_ds[i][0].data for i in range(len(data_img.train_ds))]"
   ]
  },
  {
   "cell_type": "code",
   "execution_count": 30,
   "metadata": {},
   "outputs": [],
   "source": [
    "# valid_img = [data_img.valid_ds[i][0].data for i in range(len(data_img.valid_ds))]"
   ]
  },
  {
   "cell_type": "code",
   "execution_count": 31,
   "metadata": {},
   "outputs": [],
   "source": [
    "# creating combined dataset class for image for concatenated model\n",
    "class ConcatDataset(Dataset):\n",
    "    def __init__(self, x1, x2, y): \n",
    "        self.x1,self.x2,self.y,self.c = x1,x2,y,len(y.classes)\n",
    "        \n",
    "    def __len__(self): \n",
    "        return len(self.y)\n",
    "    \n",
    "    def __getitem__(self, i): \n",
    "        return (self.x1[i], self.x2[i]), self.y[i]"
   ]
  },
  {
   "cell_type": "code",
   "execution_count": 32,
   "metadata": {},
   "outputs": [],
   "source": [
    "#creating dataset object of ConcatDataset Class\n",
    "train_ds = ConcatDataset(train_img, data_clas.train_ds.x, data_clas.train_ds.y)\n",
    "valid_ds = ConcatDataset(valid_img, data_clas.valid_ds.x, data_clas.valid_ds.y)"
   ]
  },
  {
   "cell_type": "code",
   "execution_count": 33,
   "metadata": {},
   "outputs": [],
   "source": [
    "#creating test dataset object of ConcatDataset Class\n",
    "test_train_ds = ConcatDataset(train_img, test_data_clas.train_ds.x, test_data_clas.train_ds.y)\n",
    "test_ds = ConcatDataset(test_img, test_data_clas.valid_ds.x, test_data_clas.valid_ds.y)"
   ]
  },
  {
   "cell_type": "code",
   "execution_count": 34,
   "metadata": {},
   "outputs": [],
   "source": [
    "# creating function for data loader to pick samples accordingly\n",
    "def my_collate(batch):    \n",
    "    x,y = list(zip(*batch))\n",
    "    x1,x2 = list(zip(*x))\n",
    "    bs=len(x1)\n",
    "    x1 =[x1[i].unsqueeze(dim=0) for i in range(bs)]\n",
    "    x1 = torch.cat(x1,dim=0)\n",
    "    x1 = x1.unsqueeze(dim=0)\n",
    "    x2, y = pad_collate(list(zip(x2, y)), pad_idx=1, pad_first=True)\n",
    "    return (x1,x2),y"
   ]
  },
  {
   "cell_type": "code",
   "execution_count": 35,
   "metadata": {},
   "outputs": [],
   "source": [
    "# creating data sampler object\n",
    "bs = 32\n",
    "train_sampler = SortishSampler(data_clas.train_ds.x, key=lambda t: len(data_clas.train_ds[t][0].data), bs=bs//2)\n",
    "valid_sampler = SortSampler(data_clas.valid_ds.x, key=lambda t: len(data_clas.valid_ds[t][0].data))"
   ]
  },
  {
   "cell_type": "code",
   "execution_count": 36,
   "metadata": {},
   "outputs": [],
   "source": [
    "# creating test data sampler object\n",
    "bs = 32\n",
    "test_train_sampler = SortishSampler(test_data_clas.train_ds.x, key=lambda t: len(test_data_clas.train_ds[t][0].data), bs=bs//2)\n",
    "test_sampler = SortSampler(test_data_clas.valid_ds.x, key=lambda t: len(test_data_clas.valid_ds[t][0].data))"
   ]
  },
  {
   "cell_type": "code",
   "execution_count": 37,
   "metadata": {},
   "outputs": [],
   "source": [
    "# creating dataloader object of databuch\n",
    "train_dl = DataLoader(train_ds, bs, sampler=train_sampler)\n",
    "valid_dl = DataLoader(valid_ds, bs, sampler=valid_sampler)"
   ]
  },
  {
   "cell_type": "code",
   "execution_count": 38,
   "metadata": {},
   "outputs": [],
   "source": [
    "# creating test dataloader object of databuch\n",
    "test_train_dl = DataLoader(test_train_ds, bs, sampler=test_train_sampler)\n",
    "test_dl = DataLoader(test_ds, bs, sampler=test_sampler)"
   ]
  },
  {
   "cell_type": "code",
   "execution_count": 39,
   "metadata": {},
   "outputs": [],
   "source": [
    "#creating databuch object to use it in learner for training \n",
    "data = DataBunch(train_dl=train_dl,valid_dl=valid_dl,test_dl=test_dl, device=defaults.device, \n",
    "                 collate_fn=my_collate, path=path)"
   ]
  },
  {
   "cell_type": "code",
   "execution_count": 40,
   "metadata": {},
   "outputs": [
    {
     "name": "stdout",
     "output_type": "stream",
     "text": [
      "Shape image batch : torch.Size([1, 32, 3, 224, 224])\n",
      "Shape text batch: torch.Size([32, 26])\n",
      "Shape dependent var: torch.Size([32])\n"
     ]
    }
   ],
   "source": [
    "(x1,x2),y = next(iter(data.valid_dl))\n",
    "print(f'Shape image batch : {(x1.shape)}')\n",
    "print(f'Shape text batch: {x2.shape}')\n",
    "print(f'Shape dependent var: {y.shape}')"
   ]
  },
  {
   "cell_type": "code",
   "execution_count": 41,
   "metadata": {},
   "outputs": [],
   "source": [
    "# creating concatenate model class using resenet50 and awd-lstm model\n",
    "class ConcatModel(nn.Module):\n",
    "    def __init__(self, mod_img, mod_clas, layers, drops): \n",
    "        super().__init__()\n",
    "        self.mod_img = mod_img\n",
    "        self.mod_clas = mod_clas\n",
    "        lst_layers = []\n",
    "        activs = [nn.ReLU(inplace=True),] * (len(layers)-2) + [None]\n",
    "        for n_in,n_out,p,actn in zip(layers[:-1], layers[1:], drops, activs):\n",
    "            lst_layers += bn_drop_lin(n_in, n_out, p=p, actn=actn)\n",
    "        self.layers = nn.Sequential(*lst_layers)\n",
    "\n",
    "    def forward(self,*x):\n",
    "        x[0][0].view(-1,3,224,224)\n",
    "        x_img = self.mod_img(x[0][0])\n",
    "        x_clas = self.mod_clas(x[1])[0]\n",
    "        x = torch.cat([x_img, x_clas], dim=1)\n",
    "        x = self.layers(x)\n",
    "        return x "
   ]
  },
  {
   "cell_type": "code",
   "execution_count": 42,
   "metadata": {},
   "outputs": [],
   "source": [
    "lin_layers = [512+50, 2]\n",
    "ps = [0.8]\n",
    "model = ConcatModel(learn_img.model, learn_clas.model, lin_layers, ps)"
   ]
  },
  {
   "cell_type": "code",
   "execution_count": 44,
   "metadata": {},
   "outputs": [],
   "source": [
    "#making layer groupes and creating learner object for training\n",
    "\n",
    "loss_func = nn.CrossEntropyLoss()\n",
    "layer_groups = [nn.Sequential(*flatten_model(learn_clas.layer_groups[0])),\n",
    "                nn.Sequential(*flatten_model(learn_clas.layer_groups[1])),\n",
    "                nn.Sequential(*flatten_model(learn_clas.layer_groups[2])),\n",
    "                nn.Sequential(*flatten_model(learn_clas.layer_groups[3])),\n",
    "                nn.Sequential(*(flatten_model(learn_clas.layer_groups[4]) + \n",
    "                                flatten_model(model.mod_img) +\n",
    "                                flatten_model(model.layers)))]\n",
    "# layer_groups=layer_groups\n",
    "\n",
    "\n",
    "model.eval()\n",
    "learn = Learner(data, model, loss_func=loss_func, metrics=[accuracy,Precision1(average='macro'),\n",
    "                Precision1(average='weighted'),Recall(average='macro'),Recall(average='weighted'),\n",
    "               FBeta(average='macro',beta=1.),FBeta(average='weighted',beta=1.)],\n",
    "            callback_fns=[ShowGraph,partial(EarlyStoppingCallback, monitor='valid_loss', min_delta=0.01, patience=3),\n",
    "               partial(ReduceLROnPlateauCallback,monitor='valid_loss', mode='auto', patience=0,\n",
    "                       factor=0.2, min_delta=0, min_lr=0.000001)],layer_groups=layer_groups)"
   ]
  },
  {
   "cell_type": "code",
   "execution_count": 45,
   "metadata": {},
   "outputs": [],
   "source": [
    "learn.freeze()"
   ]
  },
  {
   "cell_type": "code",
   "execution_count": 46,
   "metadata": {},
   "outputs": [],
   "source": [
    "learn.lr_find()"
   ]
  },
  {
   "cell_type": "code",
   "execution_count": 47,
   "metadata": {},
   "outputs": [],
   "source": [
    "learn.recorder.plot()"
   ]
  },
  {
   "cell_type": "code",
   "execution_count": 48,
   "metadata": {},
   "outputs": [
    {
     "data": {
      "text/html": [
       "<table border=\"1\" class=\"dataframe\">\n",
       "  <thead>\n",
       "    <tr style=\"text-align: left;\">\n",
       "      <th>epoch</th>\n",
       "      <th>train_loss</th>\n",
       "      <th>valid_loss</th>\n",
       "      <th>accuracy</th>\n",
       "      <th>precision1</th>\n",
       "      <th>precision1</th>\n",
       "      <th>recall</th>\n",
       "      <th>recall</th>\n",
       "      <th>f_beta</th>\n",
       "      <th>f_beta</th>\n",
       "      <th>time</th>\n",
       "    </tr>\n",
       "  </thead>\n",
       "  <tbody>\n",
       "    <tr>\n",
       "      <td>0</td>\n",
       "      <td>0.626375</td>\n",
       "      <td>0.365581</td>\n",
       "      <td>0.846790</td>\n",
       "      <td>0.825212</td>\n",
       "      <td>0.848426</td>\n",
       "      <td>0.831097</td>\n",
       "      <td>0.846790</td>\n",
       "      <td>0.827992</td>\n",
       "      <td>0.847476</td>\n",
       "      <td>01:29</td>\n",
       "    </tr>\n",
       "    <tr>\n",
       "      <td>1</td>\n",
       "      <td>0.461913</td>\n",
       "      <td>0.337847</td>\n",
       "      <td>0.859504</td>\n",
       "      <td>0.839118</td>\n",
       "      <td>0.861406</td>\n",
       "      <td>0.846490</td>\n",
       "      <td>0.859504</td>\n",
       "      <td>0.842563</td>\n",
       "      <td>0.860259</td>\n",
       "      <td>01:27</td>\n",
       "    </tr>\n",
       "    <tr>\n",
       "      <td>2</td>\n",
       "      <td>0.269312</td>\n",
       "      <td>0.328957</td>\n",
       "      <td>0.857597</td>\n",
       "      <td>0.840019</td>\n",
       "      <td>0.856729</td>\n",
       "      <td>0.835197</td>\n",
       "      <td>0.857597</td>\n",
       "      <td>0.837515</td>\n",
       "      <td>0.857089</td>\n",
       "      <td>01:27</td>\n",
       "    </tr>\n",
       "  </tbody>\n",
       "</table>"
      ],
      "text/plain": [
       "<IPython.core.display.HTML object>"
      ]
     },
     "metadata": {},
     "output_type": "display_data"
    },
    {
     "data": {
      "image/png": "[encoded data removed]",
      "text/plain": [
       "<Figure size 432x288 with 1 Axes>"
      ]
     },
     "metadata": {},
     "output_type": "display_data"
    },
    {
     "name": "stdout",
     "output_type": "stream",
     "text": [
      "Better model found at epoch 0 with valid_loss value: 0.36558088660240173.\n",
      "Better model found at epoch 1 with valid_loss value: 0.33784717321395874.\n",
      "Better model found at epoch 2 with valid_loss value: 0.32895728945732117.\n"
     ]
    }
   ],
   "source": [
    "# training the model's top layer's keeping keep other layer's in freezing mode, all the metrics shown here, have been\n",
    "# evaluted on validation set\n",
    "learn.fit_one_cycle(3,8e-5, moms=(0.8, 0.7),wd=1e-1)"
   ]
  },
  {
   "cell_type": "code",
   "execution_count": 49,
   "metadata": {},
   "outputs": [
    {
     "data": {
      "text/html": [
       "<table border=\"1\" class=\"dataframe\">\n",
       "  <thead>\n",
       "    <tr style=\"text-align: left;\">\n",
       "      <th>epoch</th>\n",
       "      <th>train_loss</th>\n",
       "      <th>valid_loss</th>\n",
       "      <th>accuracy</th>\n",
       "      <th>precision1</th>\n",
       "      <th>precision1</th>\n",
       "      <th>recall</th>\n",
       "      <th>recall</th>\n",
       "      <th>f_beta</th>\n",
       "      <th>f_beta</th>\n",
       "      <th>time</th>\n",
       "    </tr>\n",
       "  </thead>\n",
       "  <tbody>\n",
       "    <tr>\n",
       "      <td>0</td>\n",
       "      <td>0.736844</td>\n",
       "      <td>0.708334</td>\n",
       "      <td>0.762238</td>\n",
       "      <td>0.805382</td>\n",
       "      <td>0.785658</td>\n",
       "      <td>0.651626</td>\n",
       "      <td>0.762238</td>\n",
       "      <td>0.661204</td>\n",
       "      <td>0.724600</td>\n",
       "      <td>01:28</td>\n",
       "    </tr>\n",
       "    <tr>\n",
       "      <td>1</td>\n",
       "      <td>0.595337</td>\n",
       "      <td>0.392328</td>\n",
       "      <td>0.827718</td>\n",
       "      <td>0.818307</td>\n",
       "      <td>0.825079</td>\n",
       "      <td>0.778883</td>\n",
       "      <td>0.827718</td>\n",
       "      <td>0.793026</td>\n",
       "      <td>0.822061</td>\n",
       "      <td>01:27</td>\n",
       "    </tr>\n",
       "  </tbody>\n",
       "</table>"
      ],
      "text/plain": [
       "<IPython.core.display.HTML object>"
      ]
     },
     "metadata": {},
     "output_type": "display_data"
    },
    {
     "data": {
      "image/png": "[encoded data removed]",
      "text/plain": [
       "<Figure size 432x288 with 1 Axes>"
      ]
     },
     "metadata": {},
     "output_type": "display_data"
    },
    {
     "name": "stdout",
     "output_type": "stream",
     "text": [
      "Better model found at epoch 0 with valid_loss value: 0.7083343863487244.\n",
      "Better model found at epoch 1 with valid_loss value: 0.39232808351516724.\n"
     ]
    }
   ],
   "source": [
    "learn.freeze_to(-2)\n",
    "learn.fit_one_cycle(2, slice(5e-3/(2.6**4), 5e-3), moms=(0.8, 0.7))"
   ]
  },
  {
   "cell_type": "code",
   "execution_count": 50,
   "metadata": {},
   "outputs": [
    {
     "data": {
      "text/html": [
       "<table border=\"1\" class=\"dataframe\">\n",
       "  <thead>\n",
       "    <tr style=\"text-align: left;\">\n",
       "      <th>epoch</th>\n",
       "      <th>train_loss</th>\n",
       "      <th>valid_loss</th>\n",
       "      <th>accuracy</th>\n",
       "      <th>precision1</th>\n",
       "      <th>precision1</th>\n",
       "      <th>recall</th>\n",
       "      <th>recall</th>\n",
       "      <th>f_beta</th>\n",
       "      <th>f_beta</th>\n",
       "      <th>time</th>\n",
       "    </tr>\n",
       "  </thead>\n",
       "  <tbody>\n",
       "    <tr>\n",
       "      <td>0</td>\n",
       "      <td>0.558243</td>\n",
       "      <td>1.601727</td>\n",
       "      <td>0.799110</td>\n",
       "      <td>0.801449</td>\n",
       "      <td>0.800071</td>\n",
       "      <td>0.725983</td>\n",
       "      <td>0.799110</td>\n",
       "      <td>0.744543</td>\n",
       "      <td>0.784999</td>\n",
       "      <td>01:30</td>\n",
       "    </tr>\n",
       "    <tr>\n",
       "      <td>1</td>\n",
       "      <td>0.532646</td>\n",
       "      <td>0.388410</td>\n",
       "      <td>0.831532</td>\n",
       "      <td>0.816091</td>\n",
       "      <td>0.828458</td>\n",
       "      <td>0.792583</td>\n",
       "      <td>0.831532</td>\n",
       "      <td>0.802171</td>\n",
       "      <td>0.828286</td>\n",
       "      <td>01:30</td>\n",
       "    </tr>\n",
       "    <tr>\n",
       "      <td>2</td>\n",
       "      <td>0.406312</td>\n",
       "      <td>0.386304</td>\n",
       "      <td>0.837254</td>\n",
       "      <td>0.817937</td>\n",
       "      <td>0.835436</td>\n",
       "      <td>0.808692</td>\n",
       "      <td>0.837254</td>\n",
       "      <td>0.812950</td>\n",
       "      <td>0.836053</td>\n",
       "      <td>01:30</td>\n",
       "    </tr>\n",
       "  </tbody>\n",
       "</table>"
      ],
      "text/plain": [
       "<IPython.core.display.HTML object>"
      ]
     },
     "metadata": {},
     "output_type": "display_data"
    },
    {
     "data": {
      "image/png": "[encoded data removed]",
      "text/plain": [
       "<Figure size 432x288 with 1 Axes>"
      ]
     },
     "metadata": {},
     "output_type": "display_data"
    },
    {
     "name": "stdout",
     "output_type": "stream",
     "text": [
      "Better model found at epoch 0 with valid_loss value: 1.6017268896102905.\n",
      "Better model found at epoch 1 with valid_loss value: 0.38841041922569275.\n",
      "Better model found at epoch 2 with valid_loss value: 0.38630446791648865.\n"
     ]
    }
   ],
   "source": [
    "learn.freeze_to(-3)\n",
    "learn.fit_one_cycle(3, slice(2e-3/(2.6**4), 2e-3), moms=(0.8, 0.7))"
   ]
  },
  {
   "cell_type": "code",
   "execution_count": 51,
   "metadata": {},
   "outputs": [],
   "source": [
    "learn.unfreeze()\n",
    "learn.lr_find()"
   ]
  },
  {
   "cell_type": "code",
   "execution_count": 52,
   "metadata": {},
   "outputs": [
    {
     "data": {
      "image/png": "[encoded data removed]",
      "text/plain": [
       "<Figure size 432x288 with 1 Axes>"
      ]
     },
     "metadata": {
      "needs_background": "light"
     },
     "output_type": "display_data"
    }
   ],
   "source": [
    "learn.recorder.plot()"
   ]
  },
  {
   "cell_type": "code",
   "execution_count": 53,
   "metadata": {},
   "outputs": [
    {
     "data": {
      "text/html": [
       "<table border=\"1\" class=\"dataframe\">\n",
       "  <thead>\n",
       "    <tr style=\"text-align: left;\">\n",
       "      <th>epoch</th>\n",
       "      <th>train_loss</th>\n",
       "      <th>valid_loss</th>\n",
       "      <th>accuracy</th>\n",
       "      <th>precision1</th>\n",
       "      <th>precision1</th>\n",
       "      <th>recall</th>\n",
       "      <th>recall</th>\n",
       "      <th>f_beta</th>\n",
       "      <th>f_beta</th>\n",
       "      <th>time</th>\n",
       "    </tr>\n",
       "  </thead>\n",
       "  <tbody>\n",
       "    <tr>\n",
       "      <td>0</td>\n",
       "      <td>0.346041</td>\n",
       "      <td>0.393448</td>\n",
       "      <td>0.838525</td>\n",
       "      <td>0.819633</td>\n",
       "      <td>0.836633</td>\n",
       "      <td>0.809639</td>\n",
       "      <td>0.838525</td>\n",
       "      <td>0.814216</td>\n",
       "      <td>0.837243</td>\n",
       "      <td>01:32</td>\n",
       "    </tr>\n",
       "    <tr>\n",
       "      <td>1</td>\n",
       "      <td>0.311589</td>\n",
       "      <td>0.384408</td>\n",
       "      <td>0.835982</td>\n",
       "      <td>0.815176</td>\n",
       "      <td>0.834955</td>\n",
       "      <td>0.810707</td>\n",
       "      <td>0.835982</td>\n",
       "      <td>0.812852</td>\n",
       "      <td>0.835397</td>\n",
       "      <td>01:32</td>\n",
       "    </tr>\n",
       "  </tbody>\n",
       "</table>"
      ],
      "text/plain": [
       "<IPython.core.display.HTML object>"
      ]
     },
     "metadata": {},
     "output_type": "display_data"
    },
    {
     "data": {
      "image/png": "[encoded data removed]",
      "text/plain": [
       "<Figure size 432x288 with 1 Axes>"
      ]
     },
     "metadata": {},
     "output_type": "display_data"
    },
    {
     "name": "stdout",
     "output_type": "stream",
     "text": [
      "Better model found at epoch 0 with valid_loss value: 0.3934476375579834.\n",
      "Better model found at epoch 1 with valid_loss value: 0.3844076693058014.\n"
     ]
    }
   ],
   "source": [
    "learn.fit_one_cycle(2, slice(5e-4/(2.6**4), 5e-4), moms=(0.8, 0.7))"
   ]
  },
  {
   "cell_type": "code",
   "execution_count": 54,
   "metadata": {},
   "outputs": [
    {
     "data": {
      "text/html": [
       "<table border=\"1\" class=\"dataframe\">\n",
       "  <thead>\n",
       "    <tr style=\"text-align: left;\">\n",
       "      <th>epoch</th>\n",
       "      <th>train_loss</th>\n",
       "      <th>valid_loss</th>\n",
       "      <th>accuracy</th>\n",
       "      <th>precision1</th>\n",
       "      <th>precision1</th>\n",
       "      <th>recall</th>\n",
       "      <th>recall</th>\n",
       "      <th>f_beta</th>\n",
       "      <th>f_beta</th>\n",
       "      <th>time</th>\n",
       "    </tr>\n",
       "  </thead>\n",
       "  <tbody>\n",
       "    <tr>\n",
       "      <td>0</td>\n",
       "      <td>0.306382</td>\n",
       "      <td>0.449285</td>\n",
       "      <td>0.824539</td>\n",
       "      <td>0.802162</td>\n",
       "      <td>0.823285</td>\n",
       "      <td>0.797248</td>\n",
       "      <td>0.824539</td>\n",
       "      <td>0.799590</td>\n",
       "      <td>0.823820</td>\n",
       "      <td>01:32</td>\n",
       "    </tr>\n",
       "    <tr>\n",
       "      <td>1</td>\n",
       "      <td>0.317887</td>\n",
       "      <td>0.404030</td>\n",
       "      <td>0.832168</td>\n",
       "      <td>0.817667</td>\n",
       "      <td>0.829111</td>\n",
       "      <td>0.792070</td>\n",
       "      <td>0.832168</td>\n",
       "      <td>0.802346</td>\n",
       "      <td>0.828654</td>\n",
       "      <td>01:32</td>\n",
       "    </tr>\n",
       "    <tr>\n",
       "      <td>2</td>\n",
       "      <td>0.269322</td>\n",
       "      <td>0.413796</td>\n",
       "      <td>0.828353</td>\n",
       "      <td>0.815705</td>\n",
       "      <td>0.825240</td>\n",
       "      <td>0.783799</td>\n",
       "      <td>0.828353</td>\n",
       "      <td>0.795930</td>\n",
       "      <td>0.823803</td>\n",
       "      <td>01:32</td>\n",
       "    </tr>\n",
       "    <tr>\n",
       "      <td>3</td>\n",
       "      <td>0.255527</td>\n",
       "      <td>0.414430</td>\n",
       "      <td>0.833439</td>\n",
       "      <td>0.814313</td>\n",
       "      <td>0.831185</td>\n",
       "      <td>0.802396</td>\n",
       "      <td>0.833439</td>\n",
       "      <td>0.807751</td>\n",
       "      <td>0.831831</td>\n",
       "      <td>01:32</td>\n",
       "    </tr>\n",
       "    <tr>\n",
       "      <td>4</td>\n",
       "      <td>0.266667</td>\n",
       "      <td>0.432976</td>\n",
       "      <td>0.835346</td>\n",
       "      <td>0.817377</td>\n",
       "      <td>0.832874</td>\n",
       "      <td>0.802829</td>\n",
       "      <td>0.835346</td>\n",
       "      <td>0.809231</td>\n",
       "      <td>0.833417</td>\n",
       "      <td>01:32</td>\n",
       "    </tr>\n",
       "  </tbody>\n",
       "</table>"
      ],
      "text/plain": [
       "<IPython.core.display.HTML object>"
      ]
     },
     "metadata": {},
     "output_type": "display_data"
    },
    {
     "data": {
      "image/png": "[encoded data removed]",
      "text/plain": [
       "<Figure size 432x288 with 1 Axes>"
      ]
     },
     "metadata": {},
     "output_type": "display_data"
    },
    {
     "name": "stdout",
     "output_type": "stream",
     "text": [
      "Better model found at epoch 0 with valid_loss value: 0.4492846429347992.\n",
      "Better model found at epoch 1 with valid_loss value: 0.4040304720401764.\n",
      "Epoch 2: reducing lr to 6.112620219362892e-05\n",
      "Epoch 3: reducing lr to 1.88258346050237e-05\n"
     ]
    }
   ],
   "source": [
    "# training all layer's of the model and saving the best one \n",
    "learn.fit_one_cycle(10, slice(5e-4/(2.6**4), 5e-4), moms=(0.8, 0.7), wd=1e-1,\n",
    "                    callbacks=[SaveModelCallback(learn_img,every='improvement', monitor='accuracy', name='best')])"
   ]
  },
  {
   "cell_type": "code",
   "execution_count": 55,
   "metadata": {},
   "outputs": [
    {
     "data": {
      "image/png": "[encoded data removed]",
      "text/plain": [
       "<Figure size 432x288 with 1 Axes>"
      ]
     },
     "metadata": {
      "needs_background": "light"
     },
     "output_type": "display_data"
    }
   ],
   "source": [
    "learn.recorder.plot_losses()"
   ]
  },
  {
   "cell_type": "code",
   "execution_count": 56,
   "metadata": {},
   "outputs": [
    {
     "data": {
      "text/html": [],
      "text/plain": [
       "<IPython.core.display.HTML object>"
      ]
     },
     "metadata": {},
     "output_type": "display_data"
    }
   ],
   "source": [
    "interp = ClassificationInterpretation.from_learner(learn)"
   ]
  },
  {
   "cell_type": "code",
   "execution_count": 57,
   "metadata": {},
   "outputs": [
    {
     "data": {
      "image/png": "[encoded data removed]",
      "text/plain": [
       "<Figure size 1000x1000 with 1 Axes>"
      ]
     },
     "metadata": {
      "needs_background": "light"
     },
     "output_type": "display_data"
    }
   ],
   "source": [
    "#plotting the confusion matrix\n",
    "interp.plot_confusion_matrix(figsize=(10,10), dpi=100)"
   ]
  },
  {
   "cell_type": "code",
   "execution_count": 59,
   "metadata": {},
   "outputs": [
    {
     "data": {
      "text/html": [],
      "text/plain": [
       "<IPython.core.display.HTML object>"
      ]
     },
     "metadata": {},
     "output_type": "display_data"
    },
    {
     "data": {
      "text/plain": [
       "[0.40403047,\n",
       " tensor(0.8322),\n",
       " tensor(0.8177),\n",
       " tensor(0.8291),\n",
       " tensor(0.7921),\n",
       " tensor(0.8322),\n",
       " tensor(0.8023),\n",
       " tensor(0.8287)]"
      ]
     },
     "execution_count": 59,
     "metadata": {},
     "output_type": "execute_result"
    }
   ],
   "source": [
    "learn.validate(data.valid_dl,metrics=[accuracy,Precision1(average='macro'),Precision1(average='weighted'),\n",
    "                                                 Recall(average='macro'),Recall(average='weighted'),\n",
    "                                                 FBeta(average='macro',beta=1.),FBeta(average='weighted',beta=1.)])"
   ]
  },
  {
   "cell_type": "code",
   "execution_count": 60,
   "metadata": {},
   "outputs": [
    {
     "data": {
      "text/html": [],
      "text/plain": [
       "<IPython.core.display.HTML object>"
      ]
     },
     "metadata": {},
     "output_type": "display_data"
    },
    {
     "name": "stdout",
     "output_type": "stream",
     "text": [
      "                 precision    recall  f1-score   support\n",
      "\n",
      "    informative       0.85      0.91      0.88      1056\n",
      "not_informative       0.78      0.68      0.73       517\n",
      "\n",
      "       accuracy                           0.83      1573\n",
      "      macro avg       0.82      0.79      0.80      1573\n",
      "   weighted avg       0.83      0.83      0.83      1573\n",
      "\n"
     ]
    }
   ],
   "source": [
    "#making on validation set to use it classification report\n",
    "valid_preds,valid_y,losses = learn.get_preds(ds_type=DatasetType.Valid,with_loss=True)\n",
    "valid_y_preds = valid_preds.argmax(1)\n",
    "\n",
    "target_names = ['informative','not_informative']\n",
    "\n",
    "print(classification_report(valid_y, valid_y_preds, target_names=target_names))"
   ]
  },
  {
   "cell_type": "code",
   "execution_count": 61,
   "metadata": {},
   "outputs": [
    {
     "data": {
      "text/html": [],
      "text/plain": [
       "<IPython.core.display.HTML object>"
      ]
     },
     "metadata": {},
     "output_type": "display_data"
    },
    {
     "data": {
      "text/plain": [
       "[0.40403047,\n",
       " tensor(0.8322),\n",
       " tensor(0.8177),\n",
       " tensor(0.8291),\n",
       " tensor(0.7921),\n",
       " tensor(0.8322),\n",
       " tensor(0.8023),\n",
       " tensor(0.8287)]"
      ]
     },
     "execution_count": 61,
     "metadata": {},
     "output_type": "execute_result"
    }
   ],
   "source": [
    "learn.validate(data.valid_dl,metrics=[accuracy,Precision1(average='macro'),Precision1(average='weighted'),\n",
    "                                                 Recall(average='macro'),Recall(average='weighted'),\n",
    "                                                 FBeta(average='macro',beta=1.),FBeta(average='weighted',beta=1.)])"
   ]
  },
  {
   "cell_type": "code",
   "execution_count": 62,
   "metadata": {},
   "outputs": [
    {
     "data": {
      "text/html": [],
      "text/plain": [
       "<IPython.core.display.HTML object>"
      ]
     },
     "metadata": {},
     "output_type": "display_data"
    },
    {
     "name": "stdout",
     "output_type": "stream",
     "text": [
      "                 precision    recall  f1-score   support\n",
      "\n",
      "    informative       0.86      0.93      0.90      1030\n",
      "not_informative       0.83      0.69      0.76       504\n",
      "\n",
      "       accuracy                           0.85      1534\n",
      "      macro avg       0.85      0.81      0.83      1534\n",
      "   weighted avg       0.85      0.85      0.85      1534\n",
      "\n"
     ]
    }
   ],
   "source": [
    "#making on test set to use it classification report\n",
    "test_preds,test_y,losses = learn.get_preds(ds_type=DatasetType.Test,with_loss=True)\n",
    "test_y_preds = test_preds.argmax(1)\n",
    "\n",
    "target_names = ['informative','not_informative']\n",
    "\n",
    "print(classification_report(test_y, test_y_preds, target_names=target_names))"
   ]
  },
  {
   "cell_type": "code",
   "execution_count": null,
   "metadata": {},
   "outputs": [],
   "source": []
  }
 ],
 "metadata": {
  "kernelspec": {
   "display_name": "Python 3",
   "language": "python",
   "name": "python3"
  },
  "language_info": {
   "codemirror_mode": {
    "name": "ipython",
    "version": 3
   },
   "file_extension": ".py",
   "mimetype": "text/x-python",
   "name": "python",
   "nbconvert_exporter": "python",
   "pygments_lexer": "ipython3",
   "version": "3.7.6"
  }
 },
 "nbformat": 4,
 "nbformat_minor": 4
}
