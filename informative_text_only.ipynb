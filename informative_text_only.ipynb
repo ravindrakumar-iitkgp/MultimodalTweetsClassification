{
 "cells": [
  {
   "cell_type": "code",
   "execution_count": 1,
   "metadata": {},
   "outputs": [],
   "source": [
    "# cd CrisisMMD_Dataset"
   ]
  },
  {
   "cell_type": "code",
   "execution_count": 2,
   "metadata": {},
   "outputs": [],
   "source": [
    "%reload_ext autoreload # ensuring that any edits to libraries you make are reloaded here automatically\n",
    "%autoreload 2\n",
    "%matplotlib inline #to ensuere charts or images displayed are shown in this notebook"
   ]
  },
  {
   "cell_type": "code",
   "execution_count": 3,
   "metadata": {},
   "outputs": [],
   "source": [
    "# importing necessary packages\n",
    "from fastai import *\n",
    "from fastai.text import *\n",
    "from fastai.callbacks import *\n",
    "from Precision_Module import Precision1"
   ]
  },
  {
   "cell_type": "code",
   "execution_count": 4,
   "metadata": {},
   "outputs": [],
   "source": [
    "import numpy as np\n",
    "import pandas as pd\n",
    "import matplotlib.pyplot as plt\n",
    "import pickle\n",
    "import aidrtokenize\n",
    "from sklearn.metrics import classification_report"
   ]
  },
  {
   "cell_type": "code",
   "execution_count": 5,
   "metadata": {},
   "outputs": [],
   "source": [
    "path = Path('/notebooks/CrisisMMD_Dataset')\n",
    "# path.ls()"
   ]
  },
  {
   "cell_type": "code",
   "execution_count": 6,
   "metadata": {},
   "outputs": [],
   "source": [
    "path_img = path/'data_image'"
   ]
  },
  {
   "cell_type": "code",
   "execution_count": 7,
   "metadata": {},
   "outputs": [],
   "source": [
    "def clean_ascii(text):\n",
    "    # function to remove non-ASCII chars from data\n",
    "    return ''.join(i for i in text if ord(i) < 128)"
   ]
  },
  {
   "cell_type": "code",
   "execution_count": 8,
   "metadata": {},
   "outputs": [],
   "source": [
    "data_info_text_file = 'new_task_informative_text_img_agreed_lab_info_data.tsv'\n",
    "test_data_info_text_file = 'new_task_informative_text_img_agreed_lab_test_data.tsv' "
   ]
  },
  {
   "cell_type": "code",
   "execution_count": 9,
   "metadata": {},
   "outputs": [],
   "source": [
    "# reading the required data from various file and saving it with necessary changes in order to avoid repetition \n",
    "\n",
    "if data_info_text_file and test_data_info_text_file in path.ls():\n",
    "    data_info_text_file = pd.read_csv('new_task_informative_text_img_agreed_lab_info_data.tsv',delimiter='\\t',encoding='utf-8')\n",
    "    test_info_text_file = pd.read_csv('task_informative_text_img_agreed_lab_test_data.tsv',delimiter='\\t',encoding='utf-8')\n",
    "else:\n",
    "    train_info_text=pd.read_csv('task_informative_text_img_agreed_lab_train.tsv',delimiter='\\t',encoding='utf-8')\n",
    "    test_info_text=pd.read_csv('task_informative_text_img_agreed_lab_test.tsv',delimiter='\\t',encoding='utf-8')\n",
    "    dev_info_text=pd.read_csv('task_informative_text_img_agreed_lab_dev.tsv',delimiter='\\t',encoding='utf-8')\n",
    "    \n",
    "    # applying tokenizer\n",
    "    train_info_text['tweet_text']=train_info_text['tweet_text'].apply(lambda x:aidrtokenize.tokenize(x))\n",
    "    dev_info_text['tweet_text']=dev_info_text['tweet_text'].apply(lambda x:aidrtokenize.tokenize(x))\n",
    "    test_info_text['tweet_text']=test_info_text['tweet_text'].apply(lambda x:aidrtokenize.tokenize(x))\n",
    "    \n",
    "    train_info_text['tweet_text'] = train_info_text['tweet_text'].apply(lambda x:clean_ascii(x))\n",
    "    dev_info_text['tweet_text'] = dev_info_text['tweet_text'].apply(lambda x:clean_ascii(x))\n",
    "    test_info_text['tweet_text'] = test_info_text['tweet_text'].apply(lambda x:clean_ascii(x))\n",
    "    \n",
    "    train_info_text['is_valid'] = False\n",
    "    dev_info_text['is_valid'] = True\n",
    "    test_info_text['is_valid'] = False \n",
    "\n",
    "    train_info_text['is_test'] = False\n",
    "    dev_info_text['is_test'] = False\n",
    "    test_info_text['is_test'] = True\n",
    "    \n",
    "    data_info_text = pd.concat([train_info_text,dev_info_text],axis=0).reset_index()\n",
    "    data_info_text = data_info_text.drop(['index'],axis=1)\n",
    "    \n",
    "    test_data_info_text = pd.concat([train_info_text,test_info_text],axis=0).reset_index()\n",
    "    test_data_info_text = test_data_info_text.drop(['index'],axis=1)\n",
    "    \n",
    "    data_info_text.to_csv('new_task_informative_text_img_agreed_lab_info_data.tsv',encoding='utf-8')\n",
    "    test_data_info_text.to_csv('new_task_informative_text_img_agreed_lab_test_data.tsv',encoding='utf-8')"
   ]
  },
  {
   "cell_type": "code",
   "execution_count": 10,
   "metadata": {},
   "outputs": [],
   "source": [
    "# import zipfile\n",
    "# zf = zipfile.ZipFile(\"crisismmd_datasplit_agreed_label.zip\")\n",
    "# zf.extractall()"
   ]
  },
  {
   "cell_type": "code",
   "execution_count": 11,
   "metadata": {},
   "outputs": [
    {
     "name": "stdout",
     "output_type": "stream",
     "text": [
      "shape of data: (11174, 11)\n",
      "\n",
      "False    9601\n",
      "True     1573\n",
      "Name: is_valid, dtype: int64\n",
      "==================================================\n",
      "shape of test data: (11135, 11)\n",
      "\n",
      "False    9601\n",
      "True     1534\n",
      "Name: is_test, dtype: int64\n"
     ]
    }
   ],
   "source": [
    "print(f\"shape of data: {data_info_text.shape}\\n\")\n",
    "print(data_info_text['is_valid'].value_counts())\n",
    "print(\"=\"*50)\n",
    "print(f\"shape of test data: {test_data_info_text.shape}\\n\")\n",
    "print(test_data_info_text['is_test'].value_counts())"
   ]
  },
  {
   "cell_type": "code",
   "execution_count": 12,
   "metadata": {},
   "outputs": [
    {
     "data": {
      "text/html": [
       "<div>\n",
       "<style scoped>\n",
       "    .dataframe tbody tr th:only-of-type {\n",
       "        vertical-align: middle;\n",
       "    }\n",
       "\n",
       "    .dataframe tbody tr th {\n",
       "        vertical-align: top;\n",
       "    }\n",
       "\n",
       "    .dataframe thead th {\n",
       "        text-align: right;\n",
       "    }\n",
       "</style>\n",
       "<table border=\"1\" class=\"dataframe\">\n",
       "  <thead>\n",
       "    <tr style=\"text-align: right;\">\n",
       "      <th></th>\n",
       "      <th>event_name</th>\n",
       "      <th>tweet_id</th>\n",
       "      <th>image_id</th>\n",
       "      <th>tweet_text</th>\n",
       "      <th>image</th>\n",
       "      <th>label</th>\n",
       "      <th>label_text</th>\n",
       "      <th>label_image</th>\n",
       "      <th>label_text_image</th>\n",
       "      <th>is_valid</th>\n",
       "      <th>is_test</th>\n",
       "    </tr>\n",
       "  </thead>\n",
       "  <tbody>\n",
       "    <tr>\n",
       "      <th>0</th>\n",
       "      <td>california_wildfires</td>\n",
       "      <td>917791291823591425</td>\n",
       "      <td>917791291823591425_0</td>\n",
       "      <td>pls share were capturing wildfire response rec...</td>\n",
       "      <td>data_image/california_wildfires/10_10_2017/917...</td>\n",
       "      <td>informative</td>\n",
       "      <td>informative</td>\n",
       "      <td>informative</td>\n",
       "      <td>Positive</td>\n",
       "      <td>False</td>\n",
       "      <td>False</td>\n",
       "    </tr>\n",
       "    <tr>\n",
       "      <th>1</th>\n",
       "      <td>california_wildfires</td>\n",
       "      <td>917793137925459968</td>\n",
       "      <td>917793137925459968_0</td>\n",
       "      <td>california wildfires destroy more than structu...</td>\n",
       "      <td>data_image/california_wildfires/10_10_2017/917...</td>\n",
       "      <td>informative</td>\n",
       "      <td>informative</td>\n",
       "      <td>informative</td>\n",
       "      <td>Positive</td>\n",
       "      <td>False</td>\n",
       "      <td>False</td>\n",
       "    </tr>\n",
       "    <tr>\n",
       "      <th>2</th>\n",
       "      <td>california_wildfires</td>\n",
       "      <td>917793137925459968</td>\n",
       "      <td>917793137925459968_1</td>\n",
       "      <td>california wildfires destroy more than structu...</td>\n",
       "      <td>data_image/california_wildfires/10_10_2017/917...</td>\n",
       "      <td>informative</td>\n",
       "      <td>informative</td>\n",
       "      <td>informative</td>\n",
       "      <td>Positive</td>\n",
       "      <td>False</td>\n",
       "      <td>False</td>\n",
       "    </tr>\n",
       "    <tr>\n",
       "      <th>3</th>\n",
       "      <td>california_wildfires</td>\n",
       "      <td>917793137925459968</td>\n",
       "      <td>917793137925459968_2</td>\n",
       "      <td>california wildfires destroy more than structu...</td>\n",
       "      <td>data_image/california_wildfires/10_10_2017/917...</td>\n",
       "      <td>informative</td>\n",
       "      <td>informative</td>\n",
       "      <td>informative</td>\n",
       "      <td>Positive</td>\n",
       "      <td>False</td>\n",
       "      <td>False</td>\n",
       "    </tr>\n",
       "    <tr>\n",
       "      <th>4</th>\n",
       "      <td>california_wildfires</td>\n",
       "      <td>917815040962695168</td>\n",
       "      <td>917815040962695168_0</td>\n",
       "      <td>photos of california destructive wildfires via</td>\n",
       "      <td>data_image/california_wildfires/10_10_2017/917...</td>\n",
       "      <td>informative</td>\n",
       "      <td>informative</td>\n",
       "      <td>informative</td>\n",
       "      <td>Positive</td>\n",
       "      <td>False</td>\n",
       "      <td>False</td>\n",
       "    </tr>\n",
       "  </tbody>\n",
       "</table>\n",
       "</div>"
      ],
      "text/plain": [
       "             event_name            tweet_id              image_id  \\\n",
       "0  california_wildfires  917791291823591425  917791291823591425_0   \n",
       "1  california_wildfires  917793137925459968  917793137925459968_0   \n",
       "2  california_wildfires  917793137925459968  917793137925459968_1   \n",
       "3  california_wildfires  917793137925459968  917793137925459968_2   \n",
       "4  california_wildfires  917815040962695168  917815040962695168_0   \n",
       "\n",
       "                                          tweet_text  \\\n",
       "0  pls share were capturing wildfire response rec...   \n",
       "1  california wildfires destroy more than structu...   \n",
       "2  california wildfires destroy more than structu...   \n",
       "3  california wildfires destroy more than structu...   \n",
       "4     photos of california destructive wildfires via   \n",
       "\n",
       "                                               image        label  \\\n",
       "0  data_image/california_wildfires/10_10_2017/917...  informative   \n",
       "1  data_image/california_wildfires/10_10_2017/917...  informative   \n",
       "2  data_image/california_wildfires/10_10_2017/917...  informative   \n",
       "3  data_image/california_wildfires/10_10_2017/917...  informative   \n",
       "4  data_image/california_wildfires/10_10_2017/917...  informative   \n",
       "\n",
       "    label_text  label_image label_text_image  is_valid  is_test  \n",
       "0  informative  informative         Positive     False    False  \n",
       "1  informative  informative         Positive     False    False  \n",
       "2  informative  informative         Positive     False    False  \n",
       "3  informative  informative         Positive     False    False  \n",
       "4  informative  informative         Positive     False    False  "
      ]
     },
     "execution_count": 12,
     "metadata": {},
     "output_type": "execute_result"
    }
   ],
   "source": [
    "data_info_text.head()"
   ]
  },
  {
   "cell_type": "code",
   "execution_count": 13,
   "metadata": {},
   "outputs": [
    {
     "data": {
      "text/html": [
       "<div>\n",
       "<style scoped>\n",
       "    .dataframe tbody tr th:only-of-type {\n",
       "        vertical-align: middle;\n",
       "    }\n",
       "\n",
       "    .dataframe tbody tr th {\n",
       "        vertical-align: top;\n",
       "    }\n",
       "\n",
       "    .dataframe thead th {\n",
       "        text-align: right;\n",
       "    }\n",
       "</style>\n",
       "<table border=\"1\" class=\"dataframe\">\n",
       "  <thead>\n",
       "    <tr style=\"text-align: right;\">\n",
       "      <th></th>\n",
       "      <th>event_name</th>\n",
       "      <th>tweet_id</th>\n",
       "      <th>image_id</th>\n",
       "      <th>tweet_text</th>\n",
       "      <th>image</th>\n",
       "      <th>label</th>\n",
       "      <th>label_text</th>\n",
       "      <th>label_image</th>\n",
       "      <th>label_text_image</th>\n",
       "      <th>is_valid</th>\n",
       "      <th>is_test</th>\n",
       "    </tr>\n",
       "  </thead>\n",
       "  <tbody>\n",
       "    <tr>\n",
       "      <th>0</th>\n",
       "      <td>california_wildfires</td>\n",
       "      <td>917791291823591425</td>\n",
       "      <td>917791291823591425_0</td>\n",
       "      <td>pls share were capturing wildfire response rec...</td>\n",
       "      <td>data_image/california_wildfires/10_10_2017/917...</td>\n",
       "      <td>informative</td>\n",
       "      <td>informative</td>\n",
       "      <td>informative</td>\n",
       "      <td>Positive</td>\n",
       "      <td>False</td>\n",
       "      <td>False</td>\n",
       "    </tr>\n",
       "    <tr>\n",
       "      <th>1</th>\n",
       "      <td>california_wildfires</td>\n",
       "      <td>917793137925459968</td>\n",
       "      <td>917793137925459968_0</td>\n",
       "      <td>california wildfires destroy more than structu...</td>\n",
       "      <td>data_image/california_wildfires/10_10_2017/917...</td>\n",
       "      <td>informative</td>\n",
       "      <td>informative</td>\n",
       "      <td>informative</td>\n",
       "      <td>Positive</td>\n",
       "      <td>False</td>\n",
       "      <td>False</td>\n",
       "    </tr>\n",
       "    <tr>\n",
       "      <th>2</th>\n",
       "      <td>california_wildfires</td>\n",
       "      <td>917793137925459968</td>\n",
       "      <td>917793137925459968_1</td>\n",
       "      <td>california wildfires destroy more than structu...</td>\n",
       "      <td>data_image/california_wildfires/10_10_2017/917...</td>\n",
       "      <td>informative</td>\n",
       "      <td>informative</td>\n",
       "      <td>informative</td>\n",
       "      <td>Positive</td>\n",
       "      <td>False</td>\n",
       "      <td>False</td>\n",
       "    </tr>\n",
       "    <tr>\n",
       "      <th>3</th>\n",
       "      <td>california_wildfires</td>\n",
       "      <td>917793137925459968</td>\n",
       "      <td>917793137925459968_2</td>\n",
       "      <td>california wildfires destroy more than structu...</td>\n",
       "      <td>data_image/california_wildfires/10_10_2017/917...</td>\n",
       "      <td>informative</td>\n",
       "      <td>informative</td>\n",
       "      <td>informative</td>\n",
       "      <td>Positive</td>\n",
       "      <td>False</td>\n",
       "      <td>False</td>\n",
       "    </tr>\n",
       "    <tr>\n",
       "      <th>4</th>\n",
       "      <td>california_wildfires</td>\n",
       "      <td>917815040962695168</td>\n",
       "      <td>917815040962695168_0</td>\n",
       "      <td>photos of california destructive wildfires via</td>\n",
       "      <td>data_image/california_wildfires/10_10_2017/917...</td>\n",
       "      <td>informative</td>\n",
       "      <td>informative</td>\n",
       "      <td>informative</td>\n",
       "      <td>Positive</td>\n",
       "      <td>False</td>\n",
       "      <td>False</td>\n",
       "    </tr>\n",
       "  </tbody>\n",
       "</table>\n",
       "</div>"
      ],
      "text/plain": [
       "             event_name            tweet_id              image_id  \\\n",
       "0  california_wildfires  917791291823591425  917791291823591425_0   \n",
       "1  california_wildfires  917793137925459968  917793137925459968_0   \n",
       "2  california_wildfires  917793137925459968  917793137925459968_1   \n",
       "3  california_wildfires  917793137925459968  917793137925459968_2   \n",
       "4  california_wildfires  917815040962695168  917815040962695168_0   \n",
       "\n",
       "                                          tweet_text  \\\n",
       "0  pls share were capturing wildfire response rec...   \n",
       "1  california wildfires destroy more than structu...   \n",
       "2  california wildfires destroy more than structu...   \n",
       "3  california wildfires destroy more than structu...   \n",
       "4     photos of california destructive wildfires via   \n",
       "\n",
       "                                               image        label  \\\n",
       "0  data_image/california_wildfires/10_10_2017/917...  informative   \n",
       "1  data_image/california_wildfires/10_10_2017/917...  informative   \n",
       "2  data_image/california_wildfires/10_10_2017/917...  informative   \n",
       "3  data_image/california_wildfires/10_10_2017/917...  informative   \n",
       "4  data_image/california_wildfires/10_10_2017/917...  informative   \n",
       "\n",
       "    label_text  label_image label_text_image  is_valid  is_test  \n",
       "0  informative  informative         Positive     False    False  \n",
       "1  informative  informative         Positive     False    False  \n",
       "2  informative  informative         Positive     False    False  \n",
       "3  informative  informative         Positive     False    False  \n",
       "4  informative  informative         Positive     False    False  "
      ]
     },
     "execution_count": 13,
     "metadata": {},
     "output_type": "execute_result"
    }
   ],
   "source": [
    "test_data_info_text.head()"
   ]
  },
  {
   "cell_type": "code",
   "execution_count": 14,
   "metadata": {},
   "outputs": [
    {
     "data": {
      "text/plain": [
       "'pls share were capturing wildfire response recovery info here'"
      ]
     },
     "execution_count": 14,
     "metadata": {},
     "output_type": "execute_result"
    }
   ],
   "source": [
    "data_info_text['tweet_text'][0]"
   ]
  },
  {
   "cell_type": "code",
   "execution_count": 15,
   "metadata": {},
   "outputs": [
    {
     "data": {
      "text/html": [],
      "text/plain": [
       "<IPython.core.display.HTML object>"
      ]
     },
     "metadata": {},
     "output_type": "display_data"
    },
    {
     "data": {
      "text/html": [],
      "text/plain": [
       "<IPython.core.display.HTML object>"
      ]
     },
     "metadata": {},
     "output_type": "display_data"
    }
   ],
   "source": [
    "# preparing data for language model in order to get encoder and word embedding vocab for text classification model\n",
    "data_lm = (TextList\n",
    "           .from_df(data_info_text,path, cols='tweet_text')\n",
    "           #Where are the text? Column 'text' of texts.csv\n",
    "           .split_from_df(col='is_valid')\n",
    "           #How to split it? using is_valid columns of dataframe\n",
    "           .label_for_lm()\n",
    "           #Label it for a language model\n",
    "           .databunch())\n",
    "           #Finally we convert to a DataBunch"
   ]
  },
  {
   "cell_type": "code",
   "execution_count": 16,
   "metadata": {},
   "outputs": [
    {
     "data": {
      "text/plain": [
       "TextLMDataBunch;\n",
       "\n",
       "Train: LabelList (9601 items)\n",
       "x: LMTextList\n",
       "xxbos pls share were xxunk wildfire response recovery info here,xxbos california wildfires destroy more than structures kakenews,xxbos california wildfires destroy more than structures kakenews,xxbos california wildfires destroy more than structures kakenews,xxbos photos of california destructive wildfires via\n",
       "y: LMLabelList\n",
       ",,,,\n",
       "Path: /notebooks/CrisisMMD_Dataset;\n",
       "\n",
       "Valid: LabelList (1573 items)\n",
       "x: LMTextList\n",
       "xxbos we ve lost track of how many xxunk teams have helped so proud of our church harvey,xxbos the xxunk above xxunk got destroyed the xxunk wall got blown out hurricanemaria,xxbos californias xxunk fire in xxunk captured in pictures and videos xxunk,xxbos one of the first solar storage tesla energy projects in puerto rico has come online,xxbos tornado warning including xxunk wa xxunk river wa deep river wa until pm xxunk\n",
       "y: LMLabelList\n",
       ",,,,\n",
       "Path: /notebooks/CrisisMMD_Dataset;\n",
       "\n",
       "Test: None"
      ]
     },
     "execution_count": 16,
     "metadata": {},
     "output_type": "execute_result"
    }
   ],
   "source": [
    "data_lm"
   ]
  },
  {
   "cell_type": "code",
   "execution_count": 17,
   "metadata": {},
   "outputs": [
    {
     "data": {
      "text/html": [
       "<table border=\"1\" class=\"dataframe\">\n",
       "  <thead>\n",
       "    <tr style=\"text-align: right;\">\n",
       "      <th>idx</th>\n",
       "      <th>text</th>\n",
       "    </tr>\n",
       "  </thead>\n",
       "  <tbody>\n",
       "    <tr>\n",
       "      <td>0</td>\n",
       "      <td>in the fall xxbos why california wildfires are worse in the fall xxbos playing with my new friend chai she california fire evacuee starting with us for few days her xxbos playing with my new friend chai she california fire evacuee starting with us for few days her xxbos playing with my new friend chai she california fire evacuee starting with us for few days her xxbos playing with my</td>\n",
       "    </tr>\n",
       "    <tr>\n",
       "      <td>1</td>\n",
       "      <td>xxbos weather forecast stjune slfloods floodsl lka dmclk english and sinhala xxbos weather forecast stjune slfloods floodsl lka dmclk english and sinhala xxbos what does dignity kit xxunk check it out floodsl xxunk xxbos what does dignity kit xxunk check it out floodsl xxunk xxbos visiting flood victimes in bullathsinhala floodsl srilanka namalrajapaksa xxbos visiting flood victimes in bullathsinhala floodsl srilanka namalrajapaksa xxbos visiting flood victimes in bullathsinhala floodsl srilanka</td>\n",
       "    </tr>\n",
       "    <tr>\n",
       "      <td>2</td>\n",
       "      <td>stainless knife xxbos jewelry fashion buy now mora wood carving knives stainless knife xxbos jewelry fashion buy now mora wood carving knives stainless knife xxbos big saturday is coming up we are ready for the nd phase of contribution floodsl a xxbos big saturday is coming up we are ready for the nd phase of contribution floodsl a xxbos big saturday is coming up we are ready for the nd</td>\n",
       "    </tr>\n",
       "    <tr>\n",
       "      <td>3</td>\n",
       "      <td>great talent tomorrow at in support of sismomx please come xxbos xxunk families in mexico bought xxunk to help peoples after earthquake xxrep 4 d xxunk xxbos this is shocking and very fearful thirteen year mexico earthquake prophecy by prophetdrowuor fulfilled xxbos this is shocking and very fearful thirteen year mexico earthquake prophecy by prophetdrowuor fulfilled xxbos this is shocking and very fearful thirteen year mexico earthquake prophecy by prophetdrowuor</td>\n",
       "    </tr>\n",
       "    <tr>\n",
       "      <td>4</td>\n",
       "      <td>red crescent cooperates with iraqi red crescent in order to alleviate needs of earthquake victims in iraq xxbos turkish red crescent cooperates with iraqi red crescent in order to alleviate needs of earthquake victims in iraq xxbos no action from iran government and other countries to help recent earthquake in iran because they are kurds xxbos no action from iran government and other countries to help recent earthquake in iran</td>\n",
       "    </tr>\n",
       "  </tbody>\n",
       "</table>"
      ],
      "text/plain": [
       "<IPython.core.display.HTML object>"
      ]
     },
     "metadata": {},
     "output_type": "display_data"
    }
   ],
   "source": [
    "# showing the data with corresponding annotations\n",
    "data_lm.show_batch()"
   ]
  },
  {
   "cell_type": "code",
   "execution_count": 18,
   "metadata": {},
   "outputs": [],
   "source": [
    "# importing pretrained AWD_LSTM model and making learner object consist of data,model for training\n",
    "learn_lm = language_model_learner(data_lm, AWD_LSTM, drop_mult=0.3)"
   ]
  },
  {
   "cell_type": "code",
   "execution_count": 19,
   "metadata": {},
   "outputs": [
    {
     "data": {
      "text/html": [
       "\n",
       "    <div>\n",
       "        <style>\n",
       "            /* Turns off some styling */\n",
       "            progress {\n",
       "                /* gets rid of default border in Firefox and Opera. */\n",
       "                border: none;\n",
       "                /* Needs to be in here for Safari polyfill so background images work as expected. */\n",
       "                background-size: auto;\n",
       "            }\n",
       "            .progress-bar-interrupted, .progress-bar-interrupted::-webkit-progress-bar {\n",
       "                background: #F44336;\n",
       "            }\n",
       "        </style>\n",
       "      <progress value='3' class='' max='4', style='width:300px; height:20px; vertical-align: middle;'></progress>\n",
       "      75.00% [3/4 00:07<00:02]\n",
       "    </div>\n",
       "    \n",
       "<table border=\"1\" class=\"dataframe\">\n",
       "  <thead>\n",
       "    <tr style=\"text-align: left;\">\n",
       "      <th>epoch</th>\n",
       "      <th>train_loss</th>\n",
       "      <th>valid_loss</th>\n",
       "      <th>accuracy</th>\n",
       "      <th>time</th>\n",
       "    </tr>\n",
       "  </thead>\n",
       "  <tbody>\n",
       "    <tr>\n",
       "      <td>0</td>\n",
       "      <td>7.716212</td>\n",
       "      <td>#na#</td>\n",
       "      <td>00:02</td>\n",
       "    </tr>\n",
       "    <tr>\n",
       "      <td>1</td>\n",
       "      <td>7.677618</td>\n",
       "      <td>#na#</td>\n",
       "      <td>00:02</td>\n",
       "    </tr>\n",
       "    <tr>\n",
       "      <td>2</td>\n",
       "      <td>6.886827</td>\n",
       "      <td>#na#</td>\n",
       "      <td>00:02</td>\n",
       "    </tr>\n",
       "  </tbody>\n",
       "</table><p>\n",
       "\n",
       "    <div>\n",
       "        <style>\n",
       "            /* Turns off some styling */\n",
       "            progress {\n",
       "                /* gets rid of default border in Firefox and Opera. */\n",
       "                border: none;\n",
       "                /* Needs to be in here for Safari polyfill so background images work as expected. */\n",
       "                background-size: auto;\n",
       "            }\n",
       "            .progress-bar-interrupted, .progress-bar-interrupted::-webkit-progress-bar {\n",
       "                background: #F44336;\n",
       "            }\n",
       "        </style>\n",
       "      <progress value='21' class='' max='26', style='width:300px; height:20px; vertical-align: middle;'></progress>\n",
       "      80.77% [21/26 00:01<00:00 9.8093]\n",
       "    </div>\n",
       "    "
      ],
      "text/plain": [
       "<IPython.core.display.HTML object>"
      ]
     },
     "metadata": {},
     "output_type": "display_data"
    },
    {
     "name": "stdout",
     "output_type": "stream",
     "text": [
      "LR Finder is complete, type {learner_name}.recorder.plot() to see the graph.\n"
     ]
    }
   ],
   "source": [
    "learn_lm.lr_find()"
   ]
  },
  {
   "cell_type": "code",
   "execution_count": 20,
   "metadata": {},
   "outputs": [
    {
     "data": {
      "image/png": "[encoded data removed]",
      "text/plain": [
       "<Figure size 432x288 with 1 Axes>"
      ]
     },
     "metadata": {
      "needs_background": "light"
     },
     "output_type": "display_data"
    }
   ],
   "source": [
    "learn_lm.recorder.plot(skip_end=15)"
   ]
  },
  {
   "cell_type": "code",
   "execution_count": 21,
   "metadata": {},
   "outputs": [
    {
     "data": {
      "text/html": [
       "<table border=\"1\" class=\"dataframe\">\n",
       "  <thead>\n",
       "    <tr style=\"text-align: left;\">\n",
       "      <th>epoch</th>\n",
       "      <th>train_loss</th>\n",
       "      <th>valid_loss</th>\n",
       "      <th>accuracy</th>\n",
       "      <th>time</th>\n",
       "    </tr>\n",
       "  </thead>\n",
       "  <tbody>\n",
       "    <tr>\n",
       "      <td>0</td>\n",
       "      <td>5.784433</td>\n",
       "      <td>4.880468</td>\n",
       "      <td>0.223170</td>\n",
       "      <td>00:02</td>\n",
       "    </tr>\n",
       "    <tr>\n",
       "      <td>1</td>\n",
       "      <td>4.841031</td>\n",
       "      <td>4.773610</td>\n",
       "      <td>0.233170</td>\n",
       "      <td>00:02</td>\n",
       "    </tr>\n",
       "  </tbody>\n",
       "</table>"
      ],
      "text/plain": [
       "<IPython.core.display.HTML object>"
      ]
     },
     "metadata": {},
     "output_type": "display_data"
    }
   ],
   "source": [
    "# training the top layer's while keeping bottom layer's in freeze state\n",
    "learn_lm.fit_one_cycle(2,5e-2,moms=(0.8,0.7))"
   ]
  },
  {
   "cell_type": "code",
   "execution_count": 22,
   "metadata": {},
   "outputs": [],
   "source": [
    "learn_lm.unfreeze()"
   ]
  },
  {
   "cell_type": "code",
   "execution_count": 23,
   "metadata": {},
   "outputs": [
    {
     "data": {
      "text/html": [
       "<table border=\"1\" class=\"dataframe\">\n",
       "  <thead>\n",
       "    <tr style=\"text-align: left;\">\n",
       "      <th>epoch</th>\n",
       "      <th>train_loss</th>\n",
       "      <th>valid_loss</th>\n",
       "      <th>accuracy</th>\n",
       "      <th>time</th>\n",
       "    </tr>\n",
       "  </thead>\n",
       "  <tbody>\n",
       "    <tr>\n",
       "      <td>0</td>\n",
       "      <td>5.229563</td>\n",
       "      <td>4.921773</td>\n",
       "      <td>0.232902</td>\n",
       "      <td>00:02</td>\n",
       "    </tr>\n",
       "  </tbody>\n",
       "</table>"
      ],
      "text/plain": [
       "<IPython.core.display.HTML object>"
      ]
     },
     "metadata": {},
     "output_type": "display_data"
    }
   ],
   "source": [
    "learn_lm.fit_one_cycle(1, 3e-2, moms=(0.8,0.7))"
   ]
  },
  {
   "cell_type": "code",
   "execution_count": 24,
   "metadata": {},
   "outputs": [],
   "source": [
    "# saving encoder for using it in classification model\n",
    "learn_lm.save_encoder('fine_tuned_enc_info')"
   ]
  },
  {
   "cell_type": "code",
   "execution_count": 25,
   "metadata": {},
   "outputs": [
    {
     "data": {
      "text/html": [],
      "text/plain": [
       "<IPython.core.display.HTML object>"
      ]
     },
     "metadata": {},
     "output_type": "display_data"
    },
    {
     "data": {
      "text/html": [],
      "text/plain": [
       "<IPython.core.display.HTML object>"
      ]
     },
     "metadata": {},
     "output_type": "display_data"
    }
   ],
   "source": [
    "# preprocessing and creating test data for classification\n",
    "test_data_clas = (TextList\n",
    "           .from_df(test_data_info_text,path,cols='tweet_text',vocab=data_lm.vocab)\n",
    "           .split_from_df(col='is_test')\n",
    "           .label_from_df(cols='label_text')\n",
    "           .databunch())"
   ]
  },
  {
   "cell_type": "code",
   "execution_count": 26,
   "metadata": {},
   "outputs": [
    {
     "data": {
      "text/html": [],
      "text/plain": [
       "<IPython.core.display.HTML object>"
      ]
     },
     "metadata": {},
     "output_type": "display_data"
    },
    {
     "data": {
      "text/html": [],
      "text/plain": [
       "<IPython.core.display.HTML object>"
      ]
     },
     "metadata": {},
     "output_type": "display_data"
    },
    {
     "data": {
      "text/html": [],
      "text/plain": [
       "<IPython.core.display.HTML object>"
      ]
     },
     "metadata": {},
     "output_type": "display_data"
    }
   ],
   "source": [
    "#preprocessing and creating data for classification\n",
    "data_clas = (TextList.from_df(data_info_text,path,cols='tweet_text',vocab=data_lm.vocab)\n",
    "                   .split_from_df(col='is_valid')\n",
    "                   .label_from_df(cols='label_text')\n",
    "                   .add_test(test_data_clas.valid_ds)\n",
    "                   .databunch())"
   ]
  },
  {
   "cell_type": "code",
   "execution_count": 27,
   "metadata": {},
   "outputs": [
    {
     "data": {
      "text/plain": [
       "TextClasDataBunch;\n",
       "\n",
       "Train: LabelList (9601 items)\n",
       "x: TextList\n",
       "xxbos pls share were xxunk wildfire response recovery info here,xxbos california wildfires destroy more than structures kakenews,xxbos california wildfires destroy more than structures kakenews,xxbos california wildfires destroy more than structures kakenews,xxbos photos of california destructive wildfires via\n",
       "y: CategoryList\n",
       "informative,informative,informative,informative,informative\n",
       "Path: /notebooks/CrisisMMD_Dataset;\n",
       "\n",
       "Valid: LabelList (1573 items)\n",
       "x: TextList\n",
       "xxbos we ve lost track of how many xxunk teams have helped so proud of our church harvey,xxbos the xxunk above xxunk got destroyed the xxunk wall got blown out hurricanemaria,xxbos californias xxunk fire in xxunk captured in pictures and videos xxunk,xxbos one of the first solar storage tesla energy projects in puerto rico has come online,xxbos tornado warning including xxunk wa xxunk river wa deep river wa until pm xxunk\n",
       "y: CategoryList\n",
       "informative,informative,informative,not_informative,informative\n",
       "Path: /notebooks/CrisisMMD_Dataset;\n",
       "\n",
       "Test: LabelList (1534 items)\n",
       "x: TextList\n",
       "xxbos xxbos xxunk xxunk mora now in nd at xxunk xxunk xxunk he xxunk xxunk xxunk,xxbos xxbos hurricane maria batters puerto rico as cat xxunk the track as it nears the xxunk us next week xxunk,xxbos xxbos am maria update holding steady as strong tropical storm offshore of eastern nc xxunk xxunk,xxbos xxbos is hosting puerto rico xxunk concert tonight xxunk,xxbos xxbos vet in puerto rico hurricane worse than war shared from xxunk\n",
       "y: EmptyLabelList\n",
       ",,,,\n",
       "Path: /notebooks/CrisisMMD_Dataset"
      ]
     },
     "execution_count": 27,
     "metadata": {},
     "output_type": "execute_result"
    }
   ],
   "source": [
    "data_clas"
   ]
  },
  {
   "cell_type": "code",
   "execution_count": 28,
   "metadata": {},
   "outputs": [
    {
     "data": {
      "text/html": [
       "<table border=\"1\" class=\"dataframe\">\n",
       "  <thead>\n",
       "    <tr style=\"text-align: right;\">\n",
       "      <th>text</th>\n",
       "      <th>target</th>\n",
       "    </tr>\n",
       "  </thead>\n",
       "  <tbody>\n",
       "    <tr>\n",
       "      <td>xxbos ya ll be sure to get in on this week xxunk ve got to know what you think you know in case need to know</td>\n",
       "      <td>not_informative</td>\n",
       "    </tr>\n",
       "    <tr>\n",
       "      <td>xxbos we did the mickey not so scary halloween at magic kingdom last night it was fun after irma we needed to do so</td>\n",
       "      <td>not_informative</td>\n",
       "    </tr>\n",
       "    <tr>\n",
       "      <td>xxbos ken former london mayor is in my xxunk ken at mora rd xxunk station to vote for to be pm jeremy this morning</td>\n",
       "      <td>not_informative</td>\n",
       "    </tr>\n",
       "    <tr>\n",
       "      <td>xxbos all eyes on maria as it heads over simliar islands that got hit with irma sending fto them as we watch it closely</td>\n",
       "      <td>informative</td>\n",
       "    </tr>\n",
       "    <tr>\n",
       "      <td>xxbos me seeing that xxunk of xxunk fans are going to virginia to see xxunk fisher while i m stuck in fucking puerto rico</td>\n",
       "      <td>not_informative</td>\n",
       "    </tr>\n",
       "  </tbody>\n",
       "</table>"
      ],
      "text/plain": [
       "<IPython.core.display.HTML object>"
      ]
     },
     "metadata": {},
     "output_type": "display_data"
    }
   ],
   "source": [
    "# showing data with labels\n",
    "data_clas.show_batch()"
   ]
  },
  {
   "cell_type": "code",
   "execution_count": 29,
   "metadata": {},
   "outputs": [],
   "source": [
    "# importing pretrained AWD-LSTM model and making learner object consist of data,model,metrics and callbacks for training\n",
    "learn_clas = text_classifier_learner(data_clas, AWD_LSTM, drop_mult=0.5,metrics=[accuracy,Precision(average='macro'),\n",
    "                Precision(average='weighted'),Recall(average='macro'),Recall(average='weighted'),\n",
    "               FBeta(average='macro',beta=1.),FBeta(average='weighted',beta=1.)],\n",
    "            callback_fns=[ShowGraph,partial(EarlyStoppingCallback, monitor='valid_loss', min_delta=0.01, patience=3),\n",
    "               partial(ReduceLROnPlateauCallback,monitor='valid_loss', mode='auto', patience=0,\n",
    "                       factor=0.2, min_delta=0, min_lr=0.000001)]  \n",
    "            )"
   ]
  },
  {
   "cell_type": "code",
   "execution_count": 30,
   "metadata": {},
   "outputs": [
    {
     "data": {
      "text/plain": [
       "RNNLearner(data=TextClasDataBunch;\n",
       "\n",
       "Train: LabelList (9601 items)\n",
       "x: TextList\n",
       "xxbos pls share were xxunk wildfire response recovery info here,xxbos california wildfires destroy more than structures kakenews,xxbos california wildfires destroy more than structures kakenews,xxbos california wildfires destroy more than structures kakenews,xxbos photos of california destructive wildfires via\n",
       "y: CategoryList\n",
       "informative,informative,informative,informative,informative\n",
       "Path: /notebooks/CrisisMMD_Dataset;\n",
       "\n",
       "Valid: LabelList (1573 items)\n",
       "x: TextList\n",
       "xxbos we ve lost track of how many xxunk teams have helped so proud of our church harvey,xxbos the xxunk above xxunk got destroyed the xxunk wall got blown out hurricanemaria,xxbos californias xxunk fire in xxunk captured in pictures and videos xxunk,xxbos one of the first solar storage tesla energy projects in puerto rico has come online,xxbos tornado warning including xxunk wa xxunk river wa deep river wa until pm xxunk\n",
       "y: CategoryList\n",
       "informative,informative,informative,not_informative,informative\n",
       "Path: /notebooks/CrisisMMD_Dataset;\n",
       "\n",
       "Test: LabelList (1534 items)\n",
       "x: TextList\n",
       "xxbos xxbos xxunk xxunk mora now in nd at xxunk xxunk xxunk he xxunk xxunk xxunk,xxbos xxbos hurricane maria batters puerto rico as cat xxunk the track as it nears the xxunk us next week xxunk,xxbos xxbos am maria update holding steady as strong tropical storm offshore of eastern nc xxunk xxunk,xxbos xxbos is hosting puerto rico xxunk concert tonight xxunk,xxbos xxbos vet in puerto rico hurricane worse than war shared from xxunk\n",
       "y: EmptyLabelList\n",
       ",,,,\n",
       "Path: /notebooks/CrisisMMD_Dataset, model=SequentialRNN(\n",
       "  (0): MultiBatchEncoder(\n",
       "    (module): AWD_LSTM(\n",
       "      (encoder): Embedding(4392, 400, padding_idx=1)\n",
       "      (encoder_dp): EmbeddingDropout(\n",
       "        (emb): Embedding(4392, 400, padding_idx=1)\n",
       "      )\n",
       "      (rnns): ModuleList(\n",
       "        (0): WeightDropout(\n",
       "          (module): LSTM(400, 1152, batch_first=True)\n",
       "        )\n",
       "        (1): WeightDropout(\n",
       "          (module): LSTM(1152, 1152, batch_first=True)\n",
       "        )\n",
       "        (2): WeightDropout(\n",
       "          (module): LSTM(1152, 400, batch_first=True)\n",
       "        )\n",
       "      )\n",
       "      (input_dp): RNNDropout()\n",
       "      (hidden_dps): ModuleList(\n",
       "        (0): RNNDropout()\n",
       "        (1): RNNDropout()\n",
       "        (2): RNNDropout()\n",
       "      )\n",
       "    )\n",
       "  )\n",
       "  (1): PoolingLinearClassifier(\n",
       "    (layers): Sequential(\n",
       "      (0): BatchNorm1d(1200, eps=1e-05, momentum=0.1, affine=True, track_running_stats=True)\n",
       "      (1): Dropout(p=0.2, inplace=False)\n",
       "      (2): Linear(in_features=1200, out_features=50, bias=True)\n",
       "      (3): ReLU(inplace=True)\n",
       "      (4): BatchNorm1d(50, eps=1e-05, momentum=0.1, affine=True, track_running_stats=True)\n",
       "      (5): Dropout(p=0.1, inplace=False)\n",
       "      (6): Linear(in_features=50, out_features=2, bias=True)\n",
       "    )\n",
       "  )\n",
       "), opt_func=functools.partial(<class 'torch.optim.adam.Adam'>, betas=(0.9, 0.99)), loss_func=FlattenedLoss of CrossEntropyLoss(), metrics=[<function accuracy at 0x7ff88916ba70>, Precision(average='macro', pos_label=1, eps=1e-09), Precision(average='weighted', pos_label=1, eps=1e-09), Recall(average='macro', pos_label=1, eps=1e-09), Recall(average='weighted', pos_label=1, eps=1e-09), FBeta(average='macro', pos_label=1, eps=1e-09, beta=1.0), FBeta(average='weighted', pos_label=1, eps=1e-09, beta=1.0)], true_wd=True, bn_wd=True, wd=0.01, train_bn=True, path=PosixPath('/notebooks/CrisisMMD_Dataset'), model_dir='models', callback_fns=[functools.partial(<class 'fastai.basic_train.Recorder'>, add_time=True, silent=False), <class 'fastai.train.ShowGraph'>, functools.partial(<class 'fastai.callbacks.tracker.EarlyStoppingCallback'>, monitor='valid_loss', min_delta=0.01, patience=3), functools.partial(<class 'fastai.callbacks.tracker.SaveModelCallback'>, every='improvement', monitor='valid_loss', name='best'), functools.partial(<class 'fastai.callbacks.tracker.ReduceLROnPlateauCallback'>, monitor='valid_loss', mode='auto', patience=0, factor=0.2, min_delta=0, min_lr=1e-06)], callbacks=[RNNTrainer\n",
       "learn: ...\n",
       "alpha: 2.0\n",
       "beta: 1.0], layer_groups=[Sequential(\n",
       "  (0): Embedding(4392, 400, padding_idx=1)\n",
       "  (1): EmbeddingDropout(\n",
       "    (emb): Embedding(4392, 400, padding_idx=1)\n",
       "  )\n",
       "), Sequential(\n",
       "  (0): WeightDropout(\n",
       "    (module): LSTM(400, 1152, batch_first=True)\n",
       "  )\n",
       "  (1): RNNDropout()\n",
       "), Sequential(\n",
       "  (0): WeightDropout(\n",
       "    (module): LSTM(1152, 1152, batch_first=True)\n",
       "  )\n",
       "  (1): RNNDropout()\n",
       "), Sequential(\n",
       "  (0): WeightDropout(\n",
       "    (module): LSTM(1152, 400, batch_first=True)\n",
       "  )\n",
       "  (1): RNNDropout()\n",
       "), Sequential(\n",
       "  (0): PoolingLinearClassifier(\n",
       "    (layers): Sequential(\n",
       "      (0): BatchNorm1d(1200, eps=1e-05, momentum=0.1, affine=True, track_running_stats=True)\n",
       "      (1): Dropout(p=0.2, inplace=False)\n",
       "      (2): Linear(in_features=1200, out_features=50, bias=True)\n",
       "      (3): ReLU(inplace=True)\n",
       "      (4): BatchNorm1d(50, eps=1e-05, momentum=0.1, affine=True, track_running_stats=True)\n",
       "      (5): Dropout(p=0.1, inplace=False)\n",
       "      (6): Linear(in_features=50, out_features=2, bias=True)\n",
       "    )\n",
       "  )\n",
       ")], add_time=True, silent=False)"
      ]
     },
     "execution_count": 30,
     "metadata": {},
     "output_type": "execute_result"
    }
   ],
   "source": [
    "# laoding encoder for classification\n",
    "learn_clas.load_encoder('fine_tuned_enc_info')"
   ]
  },
  {
   "cell_type": "code",
   "execution_count": 31,
   "metadata": {},
   "outputs": [],
   "source": [
    "learn_clas.lr_find()"
   ]
  },
  {
   "cell_type": "code",
   "execution_count": 32,
   "metadata": {},
   "outputs": [],
   "source": [
    "learn_clas.recorder.plot()"
   ]
  },
  {
   "cell_type": "code",
   "execution_count": 33,
   "metadata": {},
   "outputs": [
    {
     "data": {
      "text/html": [
       "<table border=\"1\" class=\"dataframe\">\n",
       "  <thead>\n",
       "    <tr style=\"text-align: left;\">\n",
       "      <th>epoch</th>\n",
       "      <th>train_loss</th>\n",
       "      <th>valid_loss</th>\n",
       "      <th>accuracy</th>\n",
       "      <th>precision</th>\n",
       "      <th>precision</th>\n",
       "      <th>recall</th>\n",
       "      <th>recall</th>\n",
       "      <th>f_beta</th>\n",
       "      <th>f_beta</th>\n",
       "      <th>time</th>\n",
       "    </tr>\n",
       "  </thead>\n",
       "  <tbody>\n",
       "    <tr>\n",
       "      <td>0</td>\n",
       "      <td>0.463159</td>\n",
       "      <td>0.418488</td>\n",
       "      <td>0.813732</td>\n",
       "      <td>0.795916</td>\n",
       "      <td>0.809693</td>\n",
       "      <td>0.769453</td>\n",
       "      <td>0.813732</td>\n",
       "      <td>0.779732</td>\n",
       "      <td>0.809386</td>\n",
       "      <td>00:03</td>\n",
       "    </tr>\n",
       "    <tr>\n",
       "      <td>1</td>\n",
       "      <td>0.425967</td>\n",
       "      <td>0.425557</td>\n",
       "      <td>0.812460</td>\n",
       "      <td>0.788799</td>\n",
       "      <td>0.810452</td>\n",
       "      <td>0.781341</td>\n",
       "      <td>0.812460</td>\n",
       "      <td>0.784794</td>\n",
       "      <td>0.811234</td>\n",
       "      <td>00:03</td>\n",
       "    </tr>\n",
       "  </tbody>\n",
       "</table>"
      ],
      "text/plain": [
       "<IPython.core.display.HTML object>"
      ]
     },
     "metadata": {},
     "output_type": "display_data"
    },
    {
     "data": {
      "image/png": "[encoded data removed]",
      "text/plain": [
       "<Figure size 432x288 with 1 Axes>"
      ]
     },
     "metadata": {},
     "output_type": "display_data"
    },
    {
     "name": "stdout",
     "output_type": "stream",
     "text": [
      "Better model found at epoch 0 with valid_loss value: 0.41848769783973694.\n"
     ]
    }
   ],
   "source": [
    "# training the model's top layer's keeping keep other layer's in freezing mode, all the metrics shown here, have been\n",
    "# evaluted on validation set\n",
    "learn_clas.fit_one_cycle(2,5e-3,moms=(0.8,0.7),wd=1e-1)"
   ]
  },
  {
   "cell_type": "code",
   "execution_count": 34,
   "metadata": {},
   "outputs": [
    {
     "data": {
      "text/html": [
       "<table border=\"1\" class=\"dataframe\">\n",
       "  <thead>\n",
       "    <tr style=\"text-align: left;\">\n",
       "      <th>epoch</th>\n",
       "      <th>train_loss</th>\n",
       "      <th>valid_loss</th>\n",
       "      <th>accuracy</th>\n",
       "      <th>precision</th>\n",
       "      <th>precision</th>\n",
       "      <th>recall</th>\n",
       "      <th>recall</th>\n",
       "      <th>f_beta</th>\n",
       "      <th>f_beta</th>\n",
       "      <th>time</th>\n",
       "    </tr>\n",
       "  </thead>\n",
       "  <tbody>\n",
       "    <tr>\n",
       "      <td>0</td>\n",
       "      <td>0.441931</td>\n",
       "      <td>0.408225</td>\n",
       "      <td>0.825811</td>\n",
       "      <td>0.807089</td>\n",
       "      <td>0.822783</td>\n",
       "      <td>0.789803</td>\n",
       "      <td>0.825811</td>\n",
       "      <td>0.797180</td>\n",
       "      <td>0.823291</td>\n",
       "      <td>00:04</td>\n",
       "    </tr>\n",
       "    <tr>\n",
       "      <td>1</td>\n",
       "      <td>0.409333</td>\n",
       "      <td>0.388842</td>\n",
       "      <td>0.830261</td>\n",
       "      <td>0.808830</td>\n",
       "      <td>0.828989</td>\n",
       "      <td>0.803484</td>\n",
       "      <td>0.830261</td>\n",
       "      <td>0.806026</td>\n",
       "      <td>0.829520</td>\n",
       "      <td>00:04</td>\n",
       "    </tr>\n",
       "    <tr>\n",
       "      <td>2</td>\n",
       "      <td>0.352338</td>\n",
       "      <td>0.382866</td>\n",
       "      <td>0.825175</td>\n",
       "      <td>0.810485</td>\n",
       "      <td>0.821780</td>\n",
       "      <td>0.781925</td>\n",
       "      <td>0.825175</td>\n",
       "      <td>0.793019</td>\n",
       "      <td>0.820974</td>\n",
       "      <td>00:04</td>\n",
       "    </tr>\n",
       "  </tbody>\n",
       "</table>"
      ],
      "text/plain": [
       "<IPython.core.display.HTML object>"
      ]
     },
     "metadata": {},
     "output_type": "display_data"
    },
    {
     "data": {
      "image/png": "[encoded data removed]",
      "text/plain": [
       "<Figure size 432x288 with 1 Axes>"
      ]
     },
     "metadata": {},
     "output_type": "display_data"
    },
    {
     "name": "stdout",
     "output_type": "stream",
     "text": [
      "Better model found at epoch 0 with valid_loss value: 0.40822508931159973.\n",
      "Better model found at epoch 1 with valid_loss value: 0.38884225487709045.\n",
      "Better model found at epoch 2 with valid_loss value: 0.3828662931919098.\n"
     ]
    }
   ],
   "source": [
    "learn_clas.freeze_to(-2)\n",
    "learn_clas.fit_one_cycle(3, slice(1e-2/(2.6**4),1e-2), moms=(0.8,0.7),wd=1e-1)"
   ]
  },
  {
   "cell_type": "code",
   "execution_count": 35,
   "metadata": {},
   "outputs": [],
   "source": [
    "# learn_clas.freeze_to(-3)\n",
    "# learn_clas.fit_one_cycle(1, slice(5e-3/(2.6**4),5e-3), moms=(0.8,0.7))"
   ]
  },
  {
   "cell_type": "code",
   "execution_count": 36,
   "metadata": {},
   "outputs": [
    {
     "data": {
      "text/html": [
       "\n",
       "    <div>\n",
       "        <style>\n",
       "            /* Turns off some styling */\n",
       "            progress {\n",
       "                /* gets rid of default border in Firefox and Opera. */\n",
       "                border: none;\n",
       "                /* Needs to be in here for Safari polyfill so background images work as expected. */\n",
       "                background-size: auto;\n",
       "            }\n",
       "            .progress-bar-interrupted, .progress-bar-interrupted::-webkit-progress-bar {\n",
       "                background: #F44336;\n",
       "            }\n",
       "        </style>\n",
       "      <progress value='4' class='' max='10', style='width:300px; height:20px; vertical-align: middle;'></progress>\n",
       "      40.00% [4/10 00:20<00:30]\n",
       "    </div>\n",
       "    \n",
       "<table border=\"1\" class=\"dataframe\">\n",
       "  <thead>\n",
       "    <tr style=\"text-align: left;\">\n",
       "      <th>epoch</th>\n",
       "      <th>train_loss</th>\n",
       "      <th>valid_loss</th>\n",
       "      <th>accuracy</th>\n",
       "      <th>precision</th>\n",
       "      <th>precision</th>\n",
       "      <th>recall</th>\n",
       "      <th>recall</th>\n",
       "      <th>f_beta</th>\n",
       "      <th>f_beta</th>\n",
       "      <th>time</th>\n",
       "    </tr>\n",
       "  </thead>\n",
       "  <tbody>\n",
       "    <tr>\n",
       "      <td>0</td>\n",
       "      <td>0.334875</td>\n",
       "      <td>0.382986</td>\n",
       "      <td>0.826446</td>\n",
       "      <td>0.810771</td>\n",
       "      <td>0.823105</td>\n",
       "      <td>0.785340</td>\n",
       "      <td>0.826446</td>\n",
       "      <td>0.795489</td>\n",
       "      <td>0.822754</td>\n",
       "      <td>00:04</td>\n",
       "    </tr>\n",
       "    <tr>\n",
       "      <td>1</td>\n",
       "      <td>0.326818</td>\n",
       "      <td>0.384640</td>\n",
       "      <td>0.830261</td>\n",
       "      <td>0.814534</td>\n",
       "      <td>0.827129</td>\n",
       "      <td>0.791143</td>\n",
       "      <td>0.830261</td>\n",
       "      <td>0.800678</td>\n",
       "      <td>0.826990</td>\n",
       "      <td>00:04</td>\n",
       "    </tr>\n",
       "    <tr>\n",
       "      <td>2</td>\n",
       "      <td>0.332545</td>\n",
       "      <td>0.378091</td>\n",
       "      <td>0.832804</td>\n",
       "      <td>0.818953</td>\n",
       "      <td>0.829788</td>\n",
       "      <td>0.792050</td>\n",
       "      <td>0.832804</td>\n",
       "      <td>0.802750</td>\n",
       "      <td>0.829133</td>\n",
       "      <td>00:04</td>\n",
       "    </tr>\n",
       "    <tr>\n",
       "      <td>3</td>\n",
       "      <td>0.301184</td>\n",
       "      <td>0.392260</td>\n",
       "      <td>0.831532</td>\n",
       "      <td>0.829249</td>\n",
       "      <td>0.830793</td>\n",
       "      <td>0.777281</td>\n",
       "      <td>0.831532</td>\n",
       "      <td>0.794466</td>\n",
       "      <td>0.824374</td>\n",
       "      <td>00:04</td>\n",
       "    </tr>\n",
       "  </tbody>\n",
       "</table><p>\n",
       "\n",
       "    <div>\n",
       "        <style>\n",
       "            /* Turns off some styling */\n",
       "            progress {\n",
       "                /* gets rid of default border in Firefox and Opera. */\n",
       "                border: none;\n",
       "                /* Needs to be in here for Safari polyfill so background images work as expected. */\n",
       "                background-size: auto;\n",
       "            }\n",
       "            .progress-bar-interrupted, .progress-bar-interrupted::-webkit-progress-bar {\n",
       "                background: #F44336;\n",
       "            }\n",
       "        </style>\n",
       "      <progress value='25' class='' max='25', style='width:300px; height:20px; vertical-align: middle;'></progress>\n",
       "      100.00% [25/25 00:00<00:00]\n",
       "    </div>\n",
       "    "
      ],
      "text/plain": [
       "<IPython.core.display.HTML object>"
      ]
     },
     "metadata": {},
     "output_type": "display_data"
    },
    {
     "data": {
      "image/png": "[encoded data removed]",
      "text/plain": [
       "<Figure size 432x288 with 1 Axes>"
      ]
     },
     "metadata": {},
     "output_type": "display_data"
    },
    {
     "name": "stdout",
     "output_type": "stream",
     "text": [
      "Better model found at epoch 0 with valid_loss value: 0.38298630714416504.\n",
      "Epoch 1: reducing lr to 0.000152\n",
      "Better model found at epoch 2 with valid_loss value: 0.37809115648269653.\n",
      "Epoch 3: reducing lr to 0.00019009692640269474\n",
      "Epoch 4: early stopping\n",
      "Epoch 4: reducing lr to 0.00016234913078995263\n"
     ]
    },
    {
     "data": {
      "image/png": "[encoded data removed]",
      "text/plain": [
       "<Figure size 432x288 with 1 Axes>"
      ]
     },
     "metadata": {
      "needs_background": "light"
     },
     "output_type": "display_data"
    }
   ],
   "source": [
    "# training all layer's of the model and saving the best one\n",
    "learn_clas.unfreeze()\n",
    "learn_clas.fit_one_cycle(10, slice(1e-3/(2.6**4),1e-3), moms=(0.8,0.7),\n",
    "                    callbacks=[SaveModelCallback(learn_img,every='improvement', monitor='accuracy', name='best')])"
   ]
  },
  {
   "cell_type": "code",
   "execution_count": 37,
   "metadata": {},
   "outputs": [
    {
     "data": {
      "text/html": [],
      "text/plain": [
       "<IPython.core.display.HTML object>"
      ]
     },
     "metadata": {},
     "output_type": "display_data"
    }
   ],
   "source": [
    "interp = ClassificationInterpretation.from_learner(learn_clas)"
   ]
  },
  {
   "cell_type": "code",
   "execution_count": 38,
   "metadata": {},
   "outputs": [
    {
     "data": {
      "image/png": "[encoded data removed]",
      "text/plain": [
       "<Figure size 1000x1000 with 1 Axes>"
      ]
     },
     "metadata": {
      "needs_background": "light"
     },
     "output_type": "display_data"
    }
   ],
   "source": [
    "#plotting the confusion matrix\n",
    "interp.plot_confusion_matrix(figsize=(10,10), dpi=100)"
   ]
  },
  {
   "cell_type": "code",
   "execution_count": 39,
   "metadata": {},
   "outputs": [
    {
     "data": {
      "text/html": [],
      "text/plain": [
       "<IPython.core.display.HTML object>"
      ]
     },
     "metadata": {},
     "output_type": "display_data"
    }
   ],
   "source": [
    "#making on validation set to use it classification report\n",
    "preds,y,losses = learn_clas.get_preds(ds_type=DatasetType.Valid,with_loss=True)\n",
    "\n",
    "y_preds = preds.argmax(1)"
   ]
  },
  {
   "cell_type": "code",
   "execution_count": 40,
   "metadata": {},
   "outputs": [
    {
     "name": "stdout",
     "output_type": "stream",
     "text": [
      "                 precision    recall  f1-score   support\n",
      "\n",
      "    informative       0.85      0.91      0.88      1056\n",
      "non-informative       0.79      0.67      0.73       517\n",
      "\n",
      "       accuracy                           0.83      1573\n",
      "      macro avg       0.82      0.79      0.80      1573\n",
      "   weighted avg       0.83      0.83      0.83      1573\n",
      "\n"
     ]
    }
   ],
   "source": [
    "target_names = ['informative', 'non-informative']\n",
    "print(classification_report(y, y_preds, target_names=target_names))"
   ]
  },
  {
   "cell_type": "code",
   "execution_count": 41,
   "metadata": {},
   "outputs": [
    {
     "data": {
      "text/html": [],
      "text/plain": [
       "<IPython.core.display.HTML object>"
      ]
     },
     "metadata": {},
     "output_type": "display_data"
    },
    {
     "data": {
      "text/plain": [
       "[0.3577842,\n",
       " tensor(0.8540),\n",
       " tensor(0.8471),\n",
       " tensor(0.8523),\n",
       " tensor(0.8137),\n",
       " tensor(0.8540),\n",
       " tensor(0.8268),\n",
       " tensor(0.8503)]"
      ]
     },
     "execution_count": 41,
     "metadata": {},
     "output_type": "execute_result"
    }
   ],
   "source": [
    "learn_clas.validate(test_data_clas.valid_dl,metrics=[accuracy,Precision(average='macro'),Precision(average='weighted'),\n",
    "                                                     Recall(average='macro'),Recall(average='weighted'),\n",
    "                                                    FBeta(average='macro',beta=1),FBeta(average='weighted',beta=1)])"
   ]
  },
  {
   "cell_type": "code",
   "execution_count": 42,
   "metadata": {},
   "outputs": [
    {
     "data": {
      "text/html": [],
      "text/plain": [
       "<IPython.core.display.HTML object>"
      ]
     },
     "metadata": {},
     "output_type": "display_data"
    }
   ],
   "source": [
    "#making on test set to use it classification report\n",
    "preds,y,losses = learn_clas.get_preds(ds_type=DatasetType.Test,with_loss=True)"
   ]
  },
  {
   "cell_type": "code",
   "execution_count": 43,
   "metadata": {},
   "outputs": [],
   "source": [
    "y_preds = preds.argmax(1)"
   ]
  },
  {
   "cell_type": "code",
   "execution_count": 44,
   "metadata": {},
   "outputs": [],
   "source": [
    "y = [test_data_clas.valid_ds[i][1].data for i in range(len(test_data_clas.valid_ds))]"
   ]
  },
  {
   "cell_type": "code",
   "execution_count": 45,
   "metadata": {},
   "outputs": [
    {
     "name": "stdout",
     "output_type": "stream",
     "text": [
      "                 precision    recall  f1-score   support\n",
      "\n",
      "    informative       0.87      0.92      0.89      1030\n",
      "non-informative       0.81      0.72      0.76       504\n",
      "\n",
      "       accuracy                           0.85      1534\n",
      "      macro avg       0.84      0.82      0.83      1534\n",
      "   weighted avg       0.85      0.85      0.85      1534\n",
      "\n"
     ]
    }
   ],
   "source": [
    "print(classification_report(y, y_preds, target_names=target_names))"
   ]
  },
  {
   "cell_type": "code",
   "execution_count": null,
   "metadata": {},
   "outputs": [],
   "source": []
  }
 ],
 "metadata": {
  "kernelspec": {
   "display_name": "Python 3",
   "language": "python",
   "name": "python3"
  },
  "language_info": {
   "codemirror_mode": {
    "name": "ipython",
    "version": 3
   },
   "file_extension": ".py",
   "mimetype": "text/x-python",
   "name": "python",
   "nbconvert_exporter": "python",
   "pygments_lexer": "ipython3",
   "version": "3.7.6"
  }
 },
 "nbformat": 4,
 "nbformat_minor": 4
}
